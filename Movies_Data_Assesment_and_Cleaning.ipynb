{
 "cells": [
  {
   "cell_type": "code",
   "execution_count": 109,
   "id": "0df43846-28f9-4a37-9eba-8a98415aab05",
   "metadata": {},
   "outputs": [],
   "source": [
    "import numpy as np\n",
    "import pandas as pd\n",
    "import matplotlib.pyplot as plt\n",
    "import seaborn as sns\n",
    "import plotly.express as px"
   ]
  },
  {
   "cell_type": "markdown",
   "id": "a6d0d43b-d843-4950-b2c1-bc5ea6b91aa5",
   "metadata": {},
   "source": [
    "### Importing the Movies Dataset which is downloaded from Kaggle. Te actual source of this dataset is IMDB."
   ]
  },
  {
   "cell_type": "code",
   "execution_count": 110,
   "id": "1f83b4a0-ffb7-4715-8d15-a3aef000fbbc",
   "metadata": {},
   "outputs": [],
   "source": [
    "df = pd.read_csv(\"movies_2000_to_2024.csv\")"
   ]
  },
  {
   "cell_type": "code",
   "execution_count": 111,
   "id": "64721bb7-aa08-4424-8b9c-c24c5beb3775",
   "metadata": {},
   "outputs": [
    {
     "data": {
      "text/plain": [
       "(13350, 24)"
      ]
     },
     "execution_count": 111,
     "metadata": {},
     "output_type": "execute_result"
    }
   ],
   "source": [
    "df.shape"
   ]
  },
  {
   "cell_type": "code",
   "execution_count": 112,
   "id": "9456022d-6be8-4217-84e9-461818ad11a3",
   "metadata": {},
   "outputs": [
    {
     "data": {
      "text/plain": [
       "Index(['Unnamed: 0', 'Title', 'Movie Link', 'Year', 'Duration', 'MPA',\n",
       "       'Rating', 'Votes', 'budget', 'grossWorldWide', 'gross_US_Canada',\n",
       "       'opening_weekend_Gross', 'directors', 'writers', 'stars', 'genres',\n",
       "       'countries_origin', 'filming_locations', 'production_companies',\n",
       "       'Languages', 'wins', 'nominations', 'oscars', 'release_date'],\n",
       "      dtype='object')"
      ]
     },
     "execution_count": 112,
     "metadata": {},
     "output_type": "execute_result"
    }
   ],
   "source": [
    "df.columns"
   ]
  },
  {
   "cell_type": "markdown",
   "id": "d93620d6-2439-4e92-89b3-bfc5d353141c",
   "metadata": {},
   "source": [
    "# Column descriptions\n",
    "\n",
    "- `Title`: Movie title.\n",
    "- `Movie Link`: IMDb URL for the movie.\n",
    "- `Year`: Year of release.\n",
    "- `Duration`: Runtime (in minutes).\n",
    "- `MPA`: Motion Picture Association rating (e.g., PG, R).\n",
    "- `Rating`: IMDb rating (scale of 1–10).\n",
    "- `Votes`: Total user votes on IMDb.\n",
    "- `Budget`: Production budget (in USD).\n",
    "- `grossWorldWide`: Global box office revenue.\n",
    "- `gross_US_Canada`: North American box office earnings.\n",
    "- `opening_weekend_Gross`: Opening weekend revenue.\n",
    "- `directors`: List of directors.\n",
    "- `writers`: List of writers.\n",
    "- `stars`: Main cast members.\n",
    "- `genres`: Movie genres.\n",
    "- `countries_origin`: Countries of production.\n",
    "- `filming_locations`: Primary filming locations.\n",
    "- `production_companies`: Associated production companies.\n",
    "- `Languages`: Languages spoken in the movie.\n",
    "- `wins`: Number of awards won.\n",
    "- `nominations`: Total award nominations.\n",
    "- `oscars`: Oscar nominations.\n",
    "- `release_date`: Official release date."
   ]
  },
  {
   "cell_type": "code",
   "execution_count": 113,
   "id": "60ff6df1-972b-4e02-86a8-10f63fb59eec",
   "metadata": {},
   "outputs": [
    {
     "data": {
      "text/html": [
       "<div>\n",
       "<style scoped>\n",
       "    .dataframe tbody tr th:only-of-type {\n",
       "        vertical-align: middle;\n",
       "    }\n",
       "\n",
       "    .dataframe tbody tr th {\n",
       "        vertical-align: top;\n",
       "    }\n",
       "\n",
       "    .dataframe thead th {\n",
       "        text-align: right;\n",
       "    }\n",
       "</style>\n",
       "<table border=\"1\" class=\"dataframe\">\n",
       "  <thead>\n",
       "    <tr style=\"text-align: right;\">\n",
       "      <th></th>\n",
       "      <th>Unnamed: 0</th>\n",
       "      <th>Title</th>\n",
       "      <th>Movie Link</th>\n",
       "      <th>Year</th>\n",
       "      <th>Duration</th>\n",
       "      <th>MPA</th>\n",
       "      <th>Rating</th>\n",
       "      <th>Votes</th>\n",
       "      <th>budget</th>\n",
       "      <th>grossWorldWide</th>\n",
       "      <th>...</th>\n",
       "      <th>stars</th>\n",
       "      <th>genres</th>\n",
       "      <th>countries_origin</th>\n",
       "      <th>filming_locations</th>\n",
       "      <th>production_companies</th>\n",
       "      <th>Languages</th>\n",
       "      <th>wins</th>\n",
       "      <th>nominations</th>\n",
       "      <th>oscars</th>\n",
       "      <th>release_date</th>\n",
       "    </tr>\n",
       "  </thead>\n",
       "  <tbody>\n",
       "    <tr>\n",
       "      <th>2378</th>\n",
       "      <td>2378</td>\n",
       "      <td>329. Dig!</td>\n",
       "      <td>https://www.imdb.com/title/tt0388888/?ref_=sr_...</td>\n",
       "      <td>2004</td>\n",
       "      <td>1h 47m</td>\n",
       "      <td>R</td>\n",
       "      <td>7.7</td>\n",
       "      <td>6.8K</td>\n",
       "      <td>NaN</td>\n",
       "      <td>228828.0</td>\n",
       "      <td>...</td>\n",
       "      <td>['Anton Newcombe', 'Courtney Taylor-Taylor', '...</td>\n",
       "      <td>['Documentary', 'Music']</td>\n",
       "      <td>['United States']</td>\n",
       "      <td>['Los Angeles, California, USA']</td>\n",
       "      <td>['Interloper Films']</td>\n",
       "      <td>['English']</td>\n",
       "      <td>0</td>\n",
       "      <td>0</td>\n",
       "      <td>0</td>\n",
       "      <td>2004.0</td>\n",
       "    </tr>\n",
       "    <tr>\n",
       "      <th>13121</th>\n",
       "      <td>13121</td>\n",
       "      <td>372. The Program</td>\n",
       "      <td>https://www.imdb.com/title/tt33549764/?ref_=sr...</td>\n",
       "      <td>2024</td>\n",
       "      <td>1h 42m</td>\n",
       "      <td>NaN</td>\n",
       "      <td>7.1</td>\n",
       "      <td>443</td>\n",
       "      <td>NaN</td>\n",
       "      <td>NaN</td>\n",
       "      <td>...</td>\n",
       "      <td>['Bryan Bender', 'Scott Bray', 'Tim Burchett']</td>\n",
       "      <td>['Documentary']</td>\n",
       "      <td>['United States']</td>\n",
       "      <td>[]</td>\n",
       "      <td>['Lab 9 Films']</td>\n",
       "      <td>[]</td>\n",
       "      <td>0</td>\n",
       "      <td>0</td>\n",
       "      <td>0</td>\n",
       "      <td>2024.0</td>\n",
       "    </tr>\n",
       "    <tr>\n",
       "      <th>3406</th>\n",
       "      <td>3406</td>\n",
       "      <td>257. I Served the King of England</td>\n",
       "      <td>https://www.imdb.com/title/tt0284363/?ref_=sr_...</td>\n",
       "      <td>2006</td>\n",
       "      <td>1h 53m</td>\n",
       "      <td>R</td>\n",
       "      <td>7.3</td>\n",
       "      <td>8.3K</td>\n",
       "      <td>84450000.0</td>\n",
       "      <td>7354478.0</td>\n",
       "      <td>...</td>\n",
       "      <td>['Ivan Barnev', 'Oldrich Kaiser', 'Julia Jents...</td>\n",
       "      <td>['Satire', 'Comedy', 'Drama', 'Romance', 'War']</td>\n",
       "      <td>['Czech Republic', 'Slovakia']</td>\n",
       "      <td>['Harrachov, Czech Republic']</td>\n",
       "      <td>['AQS', 'Barrandov Studios', 'Bioscop']</td>\n",
       "      <td>['Czech', 'German', 'French', 'English', 'Ital...</td>\n",
       "      <td>0</td>\n",
       "      <td>13</td>\n",
       "      <td>0</td>\n",
       "      <td>2006.0</td>\n",
       "    </tr>\n",
       "    <tr>\n",
       "      <th>11210</th>\n",
       "      <td>11210</td>\n",
       "      <td>111. Pushpa: The Rise - Part 1</td>\n",
       "      <td>https://www.imdb.com/title/tt9389998/?ref_=sr_...</td>\n",
       "      <td>2021</td>\n",
       "      <td>2h 59m</td>\n",
       "      <td>NaN</td>\n",
       "      <td>7.6</td>\n",
       "      <td>94K</td>\n",
       "      <td>NaN</td>\n",
       "      <td>7592374.0</td>\n",
       "      <td>...</td>\n",
       "      <td>['Allu Arjun', 'Fahadh Faasil', 'Rashmika Mand...</td>\n",
       "      <td>['Action Epic', 'One-Person Army Action', 'Act...</td>\n",
       "      <td>['India']</td>\n",
       "      <td>['Rajahmundry, Andhra Pradesh, India']</td>\n",
       "      <td>['Mythri Movie Makers', 'Muttamsetty Media']</td>\n",
       "      <td>['Telugu']</td>\n",
       "      <td>0</td>\n",
       "      <td>13</td>\n",
       "      <td>0</td>\n",
       "      <td>2021.0</td>\n",
       "    </tr>\n",
       "    <tr>\n",
       "      <th>2640</th>\n",
       "      <td>2640</td>\n",
       "      <td>591. Raincoat</td>\n",
       "      <td>https://www.imdb.com/title/tt0405266/?ref_=sr_...</td>\n",
       "      <td>2004</td>\n",
       "      <td>1h 57m</td>\n",
       "      <td>Not Rated</td>\n",
       "      <td>7.7</td>\n",
       "      <td>5.3K</td>\n",
       "      <td>NaN</td>\n",
       "      <td>610056.0</td>\n",
       "      <td>...</td>\n",
       "      <td>['Ajay Devgn', 'Aishwarya Rai Bachchan', 'Annu...</td>\n",
       "      <td>['Drama', 'Romance']</td>\n",
       "      <td>['India']</td>\n",
       "      <td>['Calcutta, West Bengal, India']</td>\n",
       "      <td>['SVF Entertainment']</td>\n",
       "      <td>['Hindi']</td>\n",
       "      <td>0</td>\n",
       "      <td>4</td>\n",
       "      <td>0</td>\n",
       "      <td>2004.0</td>\n",
       "    </tr>\n",
       "  </tbody>\n",
       "</table>\n",
       "<p>5 rows × 24 columns</p>\n",
       "</div>"
      ],
      "text/plain": [
       "       Unnamed: 0                              Title  \\\n",
       "2378         2378                          329. Dig!   \n",
       "13121       13121                   372. The Program   \n",
       "3406         3406  257. I Served the King of England   \n",
       "11210       11210     111. Pushpa: The Rise - Part 1   \n",
       "2640         2640                      591. Raincoat   \n",
       "\n",
       "                                              Movie Link  Year Duration  \\\n",
       "2378   https://www.imdb.com/title/tt0388888/?ref_=sr_...  2004   1h 47m   \n",
       "13121  https://www.imdb.com/title/tt33549764/?ref_=sr...  2024   1h 42m   \n",
       "3406   https://www.imdb.com/title/tt0284363/?ref_=sr_...  2006   1h 53m   \n",
       "11210  https://www.imdb.com/title/tt9389998/?ref_=sr_...  2021   2h 59m   \n",
       "2640   https://www.imdb.com/title/tt0405266/?ref_=sr_...  2004   1h 57m   \n",
       "\n",
       "             MPA  Rating Votes      budget  grossWorldWide  ...  \\\n",
       "2378           R     7.7  6.8K         NaN        228828.0  ...   \n",
       "13121        NaN     7.1   443         NaN             NaN  ...   \n",
       "3406           R     7.3  8.3K  84450000.0       7354478.0  ...   \n",
       "11210        NaN     7.6   94K         NaN       7592374.0  ...   \n",
       "2640   Not Rated     7.7  5.3K         NaN        610056.0  ...   \n",
       "\n",
       "                                                   stars  \\\n",
       "2378   ['Anton Newcombe', 'Courtney Taylor-Taylor', '...   \n",
       "13121     ['Bryan Bender', 'Scott Bray', 'Tim Burchett']   \n",
       "3406   ['Ivan Barnev', 'Oldrich Kaiser', 'Julia Jents...   \n",
       "11210  ['Allu Arjun', 'Fahadh Faasil', 'Rashmika Mand...   \n",
       "2640   ['Ajay Devgn', 'Aishwarya Rai Bachchan', 'Annu...   \n",
       "\n",
       "                                                  genres  \\\n",
       "2378                            ['Documentary', 'Music']   \n",
       "13121                                    ['Documentary']   \n",
       "3406     ['Satire', 'Comedy', 'Drama', 'Romance', 'War']   \n",
       "11210  ['Action Epic', 'One-Person Army Action', 'Act...   \n",
       "2640                                ['Drama', 'Romance']   \n",
       "\n",
       "                     countries_origin                       filming_locations  \\\n",
       "2378                ['United States']        ['Los Angeles, California, USA']   \n",
       "13121               ['United States']                                      []   \n",
       "3406   ['Czech Republic', 'Slovakia']           ['Harrachov, Czech Republic']   \n",
       "11210                       ['India']  ['Rajahmundry, Andhra Pradesh, India']   \n",
       "2640                        ['India']        ['Calcutta, West Bengal, India']   \n",
       "\n",
       "                               production_companies  \\\n",
       "2378                           ['Interloper Films']   \n",
       "13121                               ['Lab 9 Films']   \n",
       "3406        ['AQS', 'Barrandov Studios', 'Bioscop']   \n",
       "11210  ['Mythri Movie Makers', 'Muttamsetty Media']   \n",
       "2640                          ['SVF Entertainment']   \n",
       "\n",
       "                                               Languages wins nominations  \\\n",
       "2378                                         ['English']    0           0   \n",
       "13121                                                 []    0           0   \n",
       "3406   ['Czech', 'German', 'French', 'English', 'Ital...    0          13   \n",
       "11210                                         ['Telugu']    0          13   \n",
       "2640                                           ['Hindi']    0           4   \n",
       "\n",
       "      oscars release_date  \n",
       "2378       0       2004.0  \n",
       "13121      0       2024.0  \n",
       "3406       0       2006.0  \n",
       "11210      0       2021.0  \n",
       "2640       0       2004.0  \n",
       "\n",
       "[5 rows x 24 columns]"
      ]
     },
     "execution_count": 113,
     "metadata": {},
     "output_type": "execute_result"
    }
   ],
   "source": [
    "df.sample(5)"
   ]
  },
  {
   "cell_type": "markdown",
   "id": "e13cf328-1f8c-43cf-80c7-fe97ba712445",
   "metadata": {},
   "source": [
    "# Data Assessment\n",
    "\n",
    "### 1. Dirty data\n",
    "- some values are missing in MPA, votes, duration, rating, grossWorldWide, gross_US_Canada and opening_weekend_Gross columns `completeness`\n",
    "- huge amount of data in budget column is missing `completeness`\n",
    "- In title column, some numbers are also associated with the movie title `accuracy`\n",
    "- In duration column, duration is written in the form hours and minutes. `accuracy`\n",
    "- In the votes column, the letter 'K' is associated with each value. `accuracy`\n",
    "- In the votes column, some values are associated with the letter 'M' instead of 'K'. So, their conversion is required. `consistency`\n",
    "- In the votes column, some values are not associated with any letter. So, their conversion is required. `consistency`\n",
    "- 'MPA', 'Languages' and 'countries_origin' columns' dtype is object instead of category. `validity`\n",
    "- 'Duration' and 'votes' columns' dtype is object instead of int. `validity`\n",
    "\n",
    "### 2. Messy data\n",
    "- values in directors column are in list which are typecasted to string form\n",
    "- there are maximum 3 directors in the above mentioned list\n",
    "- same problems as above in the columns - 'writers', 'stars', 'genres', 'countries_origin', 'filming_locations', 'production_companies' and 'Languages'\n",
    "- some lists in the above columns are empty\n",
    "- Irrelevant columns - 'Unnamed: 0', 'Movie Link' and 'release_date'. 'release_date' col is irrelevant because it is same as 'Year' column\n",
    "- wins, nominations and oscars columns contain inaccurate information."
   ]
  },
  {
   "cell_type": "code",
   "execution_count": 114,
   "id": "37547030-f345-41de-bdff-3c8fa1a79f60",
   "metadata": {},
   "outputs": [
    {
     "data": {
      "text/plain": [
       "Index(['Unnamed: 0', 'Title', 'Movie Link', 'Year', 'Duration', 'MPA',\n",
       "       'Rating', 'Votes', 'budget', 'grossWorldWide', 'gross_US_Canada',\n",
       "       'opening_weekend_Gross', 'directors', 'writers', 'stars', 'genres',\n",
       "       'countries_origin', 'filming_locations', 'production_companies',\n",
       "       'Languages', 'wins', 'nominations', 'oscars', 'release_date'],\n",
       "      dtype='object')"
      ]
     },
     "execution_count": 114,
     "metadata": {},
     "output_type": "execute_result"
    }
   ],
   "source": [
    "df.columns"
   ]
  },
  {
   "cell_type": "code",
   "execution_count": 115,
   "id": "d58cec0c-bb85-4463-8846-45261777b668",
   "metadata": {
    "scrolled": true
   },
   "outputs": [
    {
     "name": "stdout",
     "output_type": "stream",
     "text": [
      "<class 'pandas.core.frame.DataFrame'>\n",
      "RangeIndex: 13350 entries, 0 to 13349\n",
      "Data columns (total 24 columns):\n",
      " #   Column                 Non-Null Count  Dtype  \n",
      "---  ------                 --------------  -----  \n",
      " 0   Unnamed: 0             13350 non-null  int64  \n",
      " 1   Title                  13350 non-null  object \n",
      " 2   Movie Link             13350 non-null  object \n",
      " 3   Year                   13350 non-null  int64  \n",
      " 4   Duration               13319 non-null  object \n",
      " 5   MPA                    11402 non-null  object \n",
      " 6   Rating                 13306 non-null  float64\n",
      " 7   Votes                  13306 non-null  object \n",
      " 8   budget                 6177 non-null   float64\n",
      " 9   grossWorldWide         12261 non-null  float64\n",
      " 10  gross_US_Canada        11707 non-null  float64\n",
      " 11  opening_weekend_Gross  11103 non-null  float64\n",
      " 12  directors              13350 non-null  object \n",
      " 13  writers                13350 non-null  object \n",
      " 14  stars                  13350 non-null  object \n",
      " 15  genres                 13350 non-null  object \n",
      " 16  countries_origin       13350 non-null  object \n",
      " 17  filming_locations      13350 non-null  object \n",
      " 18  production_companies   13350 non-null  object \n",
      " 19  Languages              13350 non-null  object \n",
      " 20  wins                   13350 non-null  int64  \n",
      " 21  nominations            13350 non-null  int64  \n",
      " 22  oscars                 13350 non-null  int64  \n",
      " 23  release_date           13070 non-null  float64\n",
      "dtypes: float64(6), int64(5), object(13)\n",
      "memory usage: 2.4+ MB\n"
     ]
    }
   ],
   "source": [
    "df.info()"
   ]
  },
  {
   "cell_type": "code",
   "execution_count": 116,
   "id": "9d007d1b-7953-4e84-9e94-b7926a4f16f0",
   "metadata": {},
   "outputs": [
    {
     "data": {
      "text/html": [
       "<div>\n",
       "<style scoped>\n",
       "    .dataframe tbody tr th:only-of-type {\n",
       "        vertical-align: middle;\n",
       "    }\n",
       "\n",
       "    .dataframe tbody tr th {\n",
       "        vertical-align: top;\n",
       "    }\n",
       "\n",
       "    .dataframe thead th {\n",
       "        text-align: right;\n",
       "    }\n",
       "</style>\n",
       "<table border=\"1\" class=\"dataframe\">\n",
       "  <thead>\n",
       "    <tr style=\"text-align: right;\">\n",
       "      <th></th>\n",
       "      <th>Unnamed: 0</th>\n",
       "      <th>Year</th>\n",
       "      <th>Rating</th>\n",
       "      <th>budget</th>\n",
       "      <th>grossWorldWide</th>\n",
       "      <th>gross_US_Canada</th>\n",
       "      <th>opening_weekend_Gross</th>\n",
       "      <th>wins</th>\n",
       "      <th>nominations</th>\n",
       "      <th>oscars</th>\n",
       "      <th>release_date</th>\n",
       "    </tr>\n",
       "  </thead>\n",
       "  <tbody>\n",
       "    <tr>\n",
       "      <th>count</th>\n",
       "      <td>13350.000000</td>\n",
       "      <td>13350.000000</td>\n",
       "      <td>13306.000000</td>\n",
       "      <td>6.177000e+03</td>\n",
       "      <td>1.226100e+04</td>\n",
       "      <td>1.170700e+04</td>\n",
       "      <td>1.110300e+04</td>\n",
       "      <td>13350.0</td>\n",
       "      <td>13350.000000</td>\n",
       "      <td>13350.000000</td>\n",
       "      <td>13070.000000</td>\n",
       "    </tr>\n",
       "    <tr>\n",
       "      <th>mean</th>\n",
       "      <td>6674.500000</td>\n",
       "      <td>2012.154082</td>\n",
       "      <td>6.360762</td>\n",
       "      <td>1.384631e+08</td>\n",
       "      <td>4.446064e+07</td>\n",
       "      <td>1.864717e+07</td>\n",
       "      <td>5.778203e+06</td>\n",
       "      <td>0.0</td>\n",
       "      <td>10.123895</td>\n",
       "      <td>0.099476</td>\n",
       "      <td>2012.158761</td>\n",
       "    </tr>\n",
       "    <tr>\n",
       "      <th>std</th>\n",
       "      <td>3853.957382</td>\n",
       "      <td>7.272332</td>\n",
       "      <td>1.060659</td>\n",
       "      <td>3.939041e+09</td>\n",
       "      <td>1.381493e+08</td>\n",
       "      <td>5.419042e+07</td>\n",
       "      <td>1.715864e+07</td>\n",
       "      <td>0.0</td>\n",
       "      <td>26.659478</td>\n",
       "      <td>0.498548</td>\n",
       "      <td>7.348904</td>\n",
       "    </tr>\n",
       "    <tr>\n",
       "      <th>min</th>\n",
       "      <td>0.000000</td>\n",
       "      <td>2000.000000</td>\n",
       "      <td>1.100000</td>\n",
       "      <td>1.000000e+00</td>\n",
       "      <td>9.500000e+01</td>\n",
       "      <td>8.000000e+01</td>\n",
       "      <td>1.100000e+01</td>\n",
       "      <td>0.0</td>\n",
       "      <td>0.000000</td>\n",
       "      <td>0.000000</td>\n",
       "      <td>2000.000000</td>\n",
       "    </tr>\n",
       "    <tr>\n",
       "      <th>25%</th>\n",
       "      <td>3337.250000</td>\n",
       "      <td>2006.000000</td>\n",
       "      <td>5.800000</td>\n",
       "      <td>4.000000e+06</td>\n",
       "      <td>1.444460e+05</td>\n",
       "      <td>5.540350e+04</td>\n",
       "      <td>1.081200e+04</td>\n",
       "      <td>0.0</td>\n",
       "      <td>0.000000</td>\n",
       "      <td>0.000000</td>\n",
       "      <td>2006.000000</td>\n",
       "    </tr>\n",
       "    <tr>\n",
       "      <th>50%</th>\n",
       "      <td>6674.500000</td>\n",
       "      <td>2012.000000</td>\n",
       "      <td>6.500000</td>\n",
       "      <td>1.500000e+07</td>\n",
       "      <td>1.818293e+06</td>\n",
       "      <td>3.805940e+05</td>\n",
       "      <td>5.976100e+04</td>\n",
       "      <td>0.0</td>\n",
       "      <td>0.000000</td>\n",
       "      <td>0.000000</td>\n",
       "      <td>2012.000000</td>\n",
       "    </tr>\n",
       "    <tr>\n",
       "      <th>75%</th>\n",
       "      <td>10011.750000</td>\n",
       "      <td>2019.000000</td>\n",
       "      <td>7.100000</td>\n",
       "      <td>4.200000e+07</td>\n",
       "      <td>2.296370e+07</td>\n",
       "      <td>9.360405e+06</td>\n",
       "      <td>2.546696e+06</td>\n",
       "      <td>0.0</td>\n",
       "      <td>9.000000</td>\n",
       "      <td>0.000000</td>\n",
       "      <td>2019.000000</td>\n",
       "    </tr>\n",
       "    <tr>\n",
       "      <th>max</th>\n",
       "      <td>13349.000000</td>\n",
       "      <td>2024.000000</td>\n",
       "      <td>9.600000</td>\n",
       "      <td>3.000000e+11</td>\n",
       "      <td>2.923706e+09</td>\n",
       "      <td>9.366622e+08</td>\n",
       "      <td>3.571150e+08</td>\n",
       "      <td>0.0</td>\n",
       "      <td>433.000000</td>\n",
       "      <td>10.000000</td>\n",
       "      <td>2024.000000</td>\n",
       "    </tr>\n",
       "  </tbody>\n",
       "</table>\n",
       "</div>"
      ],
      "text/plain": [
       "         Unnamed: 0          Year        Rating        budget  grossWorldWide  \\\n",
       "count  13350.000000  13350.000000  13306.000000  6.177000e+03    1.226100e+04   \n",
       "mean    6674.500000   2012.154082      6.360762  1.384631e+08    4.446064e+07   \n",
       "std     3853.957382      7.272332      1.060659  3.939041e+09    1.381493e+08   \n",
       "min        0.000000   2000.000000      1.100000  1.000000e+00    9.500000e+01   \n",
       "25%     3337.250000   2006.000000      5.800000  4.000000e+06    1.444460e+05   \n",
       "50%     6674.500000   2012.000000      6.500000  1.500000e+07    1.818293e+06   \n",
       "75%    10011.750000   2019.000000      7.100000  4.200000e+07    2.296370e+07   \n",
       "max    13349.000000   2024.000000      9.600000  3.000000e+11    2.923706e+09   \n",
       "\n",
       "       gross_US_Canada  opening_weekend_Gross     wins   nominations  \\\n",
       "count     1.170700e+04           1.110300e+04  13350.0  13350.000000   \n",
       "mean      1.864717e+07           5.778203e+06      0.0     10.123895   \n",
       "std       5.419042e+07           1.715864e+07      0.0     26.659478   \n",
       "min       8.000000e+01           1.100000e+01      0.0      0.000000   \n",
       "25%       5.540350e+04           1.081200e+04      0.0      0.000000   \n",
       "50%       3.805940e+05           5.976100e+04      0.0      0.000000   \n",
       "75%       9.360405e+06           2.546696e+06      0.0      9.000000   \n",
       "max       9.366622e+08           3.571150e+08      0.0    433.000000   \n",
       "\n",
       "             oscars  release_date  \n",
       "count  13350.000000  13070.000000  \n",
       "mean       0.099476   2012.158761  \n",
       "std        0.498548      7.348904  \n",
       "min        0.000000   2000.000000  \n",
       "25%        0.000000   2006.000000  \n",
       "50%        0.000000   2012.000000  \n",
       "75%        0.000000   2019.000000  \n",
       "max       10.000000   2024.000000  "
      ]
     },
     "execution_count": 116,
     "metadata": {},
     "output_type": "execute_result"
    }
   ],
   "source": [
    "df.describe()"
   ]
  },
  {
   "cell_type": "code",
   "execution_count": 117,
   "id": "91fa6e40-9da5-47c2-b56e-f66d2894f779",
   "metadata": {},
   "outputs": [
    {
     "data": {
      "text/plain": [
       "Index(['Unnamed: 0', 'Title', 'Movie Link', 'Year', 'Duration', 'MPA',\n",
       "       'Rating', 'Votes', 'budget', 'grossWorldWide', 'gross_US_Canada',\n",
       "       'opening_weekend_Gross', 'directors', 'writers', 'stars', 'genres',\n",
       "       'countries_origin', 'filming_locations', 'production_companies',\n",
       "       'Languages', 'wins', 'nominations', 'oscars', 'release_date'],\n",
       "      dtype='object')"
      ]
     },
     "execution_count": 117,
     "metadata": {},
     "output_type": "execute_result"
    }
   ],
   "source": [
    "df.columns"
   ]
  },
  {
   "cell_type": "markdown",
   "id": "b7f1ecd2-c84c-406c-997d-fa4664ec19fe",
   "metadata": {},
   "source": [
    "### Converting string representations of lists in multiple columns into actual Python lists using ast.literal_eval()."
   ]
  },
  {
   "cell_type": "code",
   "execution_count": 118,
   "id": "5255ba44-3c52-445d-8320-58c3ee642e6b",
   "metadata": {},
   "outputs": [],
   "source": [
    "import ast\n",
    "df['directors'] = df['directors'].apply(ast.literal_eval)\n",
    "df['writers'] = df['writers'].apply(ast.literal_eval)\n",
    "df['stars'] = df['stars'].apply(ast.literal_eval)\n",
    "df['genres'] = df['genres'].apply(ast.literal_eval)\n",
    "df['countries_origin'] = df['countries_origin'].apply(ast.literal_eval)\n",
    "df['filming_locations'] = df['filming_locations'].apply(ast.literal_eval)\n",
    "df['production_companies'] = df['production_companies'].apply(ast.literal_eval)\n",
    "df['Languages'] = df['Languages'].apply(ast.literal_eval)"
   ]
  },
  {
   "cell_type": "code",
   "execution_count": 119,
   "id": "9facf7ef-7177-4f4c-afb7-2b63c2b58548",
   "metadata": {
    "scrolled": true
   },
   "outputs": [
    {
     "data": {
      "text/plain": [
       "Unnamed: 0                0.000000\n",
       "Title                     0.000000\n",
       "Movie Link                0.000000\n",
       "Year                      0.000000\n",
       "Duration                  0.232210\n",
       "MPA                      14.591760\n",
       "Rating                    0.329588\n",
       "Votes                     0.329588\n",
       "budget                   53.730337\n",
       "grossWorldWide            8.157303\n",
       "gross_US_Canada          12.307116\n",
       "opening_weekend_Gross    16.831461\n",
       "directors                 0.000000\n",
       "writers                   0.000000\n",
       "stars                     0.000000\n",
       "genres                    0.000000\n",
       "countries_origin          0.000000\n",
       "filming_locations         0.000000\n",
       "production_companies      0.000000\n",
       "Languages                 0.000000\n",
       "wins                      0.000000\n",
       "nominations               0.000000\n",
       "oscars                    0.000000\n",
       "release_date              2.097378\n",
       "dtype: float64"
      ]
     },
     "execution_count": 119,
     "metadata": {},
     "output_type": "execute_result"
    }
   ],
   "source": [
    "# Checking the missing values in the dataset\n",
    "df.isnull().mean()*100"
   ]
  },
  {
   "cell_type": "markdown",
   "id": "2f056d18-976d-4f6d-926d-ff78984ffbf9",
   "metadata": {},
   "source": [
    "### After cross checking, it is found that the columns 'wins', 'nominations' and 'oscars' contain inaccurate values in almost all rows\n",
    "### So, dropping irrelevant and inaccurate columns ('release_date' column is irrelevant as it is exactly same as 'Year' column)"
   ]
  },
  {
   "cell_type": "code",
   "execution_count": 120,
   "id": "07a786ba-5c22-4940-a277-9a0886c85d60",
   "metadata": {},
   "outputs": [],
   "source": [
    "df.drop(columns = ['Unnamed: 0', 'Movie Link', 'release_date', 'wins', 'nominations', 'oscars'], inplace = True)"
   ]
  },
  {
   "cell_type": "markdown",
   "id": "e324f473-e8b8-4295-ac7e-47aa5ad0a180",
   "metadata": {},
   "source": [
    "### Dropping rows which have missing values in either duration, rating or votes column"
   ]
  },
  {
   "cell_type": "code",
   "execution_count": 121,
   "id": "c1aaa3d6-b220-4553-9115-470ccf887d07",
   "metadata": {},
   "outputs": [],
   "source": [
    "df.dropna(subset = ['Duration', 'Rating', 'Votes'], inplace = True)"
   ]
  },
  {
   "cell_type": "markdown",
   "id": "326acc30-8855-43d6-92c3-7603716b5b8e",
   "metadata": {},
   "source": [
    "### Identifying columns with high percentage of Missing Values"
   ]
  },
  {
   "cell_type": "code",
   "execution_count": 122,
   "id": "f09f3162-d8b6-4337-9f06-961dc52c46b8",
   "metadata": {},
   "outputs": [
    {
     "data": {
      "text/html": [
       "<div>\n",
       "<style scoped>\n",
       "    .dataframe tbody tr th:only-of-type {\n",
       "        vertical-align: middle;\n",
       "    }\n",
       "\n",
       "    .dataframe tbody tr th {\n",
       "        vertical-align: top;\n",
       "    }\n",
       "\n",
       "    .dataframe thead th {\n",
       "        text-align: right;\n",
       "    }\n",
       "</style>\n",
       "<table border=\"1\" class=\"dataframe\">\n",
       "  <thead>\n",
       "    <tr style=\"text-align: right;\">\n",
       "      <th></th>\n",
       "      <th>Columns</th>\n",
       "      <th>Percentage of Missing Values</th>\n",
       "    </tr>\n",
       "  </thead>\n",
       "  <tbody>\n",
       "    <tr>\n",
       "      <th>0</th>\n",
       "      <td>MPA</td>\n",
       "      <td>14.20</td>\n",
       "    </tr>\n",
       "    <tr>\n",
       "      <th>1</th>\n",
       "      <td>budget</td>\n",
       "      <td>53.54</td>\n",
       "    </tr>\n",
       "    <tr>\n",
       "      <th>2</th>\n",
       "      <td>grossWorldWide</td>\n",
       "      <td>8.16</td>\n",
       "    </tr>\n",
       "    <tr>\n",
       "      <th>3</th>\n",
       "      <td>gross_US_Canada</td>\n",
       "      <td>12.33</td>\n",
       "    </tr>\n",
       "    <tr>\n",
       "      <th>4</th>\n",
       "      <td>opening_weekend_Gross</td>\n",
       "      <td>16.76</td>\n",
       "    </tr>\n",
       "  </tbody>\n",
       "</table>\n",
       "</div>"
      ],
      "text/plain": [
       "                 Columns  Percentage of Missing Values\n",
       "0                    MPA                         14.20\n",
       "1                 budget                         53.54\n",
       "2         grossWorldWide                          8.16\n",
       "3        gross_US_Canada                         12.33\n",
       "4  opening_weekend_Gross                         16.76"
      ]
     },
     "execution_count": 122,
     "metadata": {},
     "output_type": "execute_result"
    }
   ],
   "source": [
    "null_df = df.isnull().mean()*100\n",
    "null_df = null_df[null_df > 0].reset_index(name = 'Percentage of Missing Values').rename(columns = {'index' : 'Columns'})\n",
    "null_df['Percentage of Missing Values'] = null_df['Percentage of Missing Values'].round(2)\n",
    "null_df"
   ]
  },
  {
   "cell_type": "markdown",
   "id": "fc54124d-20bf-49a1-a738-9330fc157f14",
   "metadata": {},
   "source": [
    "# Analysis of Missing MPA Rating Values"
   ]
  },
  {
   "cell_type": "code",
   "execution_count": 123,
   "id": "6b3abd3d-fc85-4b50-993e-2dceb752de1e",
   "metadata": {},
   "outputs": [
    {
     "name": "stderr",
     "output_type": "stream",
     "text": [
      "C:\\Users\\Administrator\\AppData\\Local\\Temp\\ipykernel_23172\\979280981.py:1: DeprecationWarning:\n",
      "\n",
      "DataFrameGroupBy.apply operated on the grouping columns. This behavior is deprecated, and in a future version of pandas the grouping columns will be excluded from the operation. Either pass `include_groups=False` to exclude the groupings or explicitly select the grouping columns after groupby to silence this warning.\n",
      "\n"
     ]
    },
    {
     "data": {
      "application/vnd.plotly.v1+json": {
       "config": {
        "plotlyServerURL": "https://plot.ly"
       },
       "data": [
        {
         "hovertemplate": "Year=%{x}<br>Missing Percentage=%{y}<extra></extra>",
         "legendgroup": "",
         "line": {
          "color": "#636efa",
          "dash": "solid"
         },
         "marker": {
          "symbol": "circle"
         },
         "mode": "lines",
         "name": "",
         "orientation": "v",
         "showlegend": false,
         "type": "scatter",
         "x": [
          2000,
          2001,
          2002,
          2003,
          2004,
          2005,
          2006,
          2007,
          2008,
          2009,
          2010,
          2011,
          2012,
          2013,
          2014,
          2015,
          2016,
          2017,
          2018,
          2019,
          2020,
          2021,
          2022,
          2023,
          2024
         ],
         "xaxis": "x",
         "y": [
          3.7625861155272924,
          3.4976152623211445,
          2.9146793852676205,
          3.1796502384737675,
          4.133545310015898,
          2.3317435082140965,
          1.8018018018018018,
          1.5898251192368837,
          1.6428192898781133,
          1.8547959724430314,
          1.0598834128245893,
          0.7419183889772125,
          0.5299417064122947,
          1.5368309485956544,
          1.0598834128245893,
          1.8018018018018018,
          3.391626921038686,
          5.140434552199258,
          4.3985161632220455,
          7.207207207207207,
          6.889242183359831,
          8.426073131955485,
          10.121886592474828,
          9.167991520932697,
          11.817700052994171
         ],
         "yaxis": "y"
        }
       ],
       "layout": {
        "autosize": true,
        "legend": {
         "tracegroupgap": 0
        },
        "template": {
         "data": {
          "bar": [
           {
            "error_x": {
             "color": "#2a3f5f"
            },
            "error_y": {
             "color": "#2a3f5f"
            },
            "marker": {
             "line": {
              "color": "#E5ECF6",
              "width": 0.5
             },
             "pattern": {
              "fillmode": "overlay",
              "size": 10,
              "solidity": 0.2
             }
            },
            "type": "bar"
           }
          ],
          "barpolar": [
           {
            "marker": {
             "line": {
              "color": "#E5ECF6",
              "width": 0.5
             },
             "pattern": {
              "fillmode": "overlay",
              "size": 10,
              "solidity": 0.2
             }
            },
            "type": "barpolar"
           }
          ],
          "carpet": [
           {
            "aaxis": {
             "endlinecolor": "#2a3f5f",
             "gridcolor": "white",
             "linecolor": "white",
             "minorgridcolor": "white",
             "startlinecolor": "#2a3f5f"
            },
            "baxis": {
             "endlinecolor": "#2a3f5f",
             "gridcolor": "white",
             "linecolor": "white",
             "minorgridcolor": "white",
             "startlinecolor": "#2a3f5f"
            },
            "type": "carpet"
           }
          ],
          "choropleth": [
           {
            "colorbar": {
             "outlinewidth": 0,
             "ticks": ""
            },
            "type": "choropleth"
           }
          ],
          "contour": [
           {
            "colorbar": {
             "outlinewidth": 0,
             "ticks": ""
            },
            "colorscale": [
             [
              0,
              "#0d0887"
             ],
             [
              0.1111111111111111,
              "#46039f"
             ],
             [
              0.2222222222222222,
              "#7201a8"
             ],
             [
              0.3333333333333333,
              "#9c179e"
             ],
             [
              0.4444444444444444,
              "#bd3786"
             ],
             [
              0.5555555555555556,
              "#d8576b"
             ],
             [
              0.6666666666666666,
              "#ed7953"
             ],
             [
              0.7777777777777778,
              "#fb9f3a"
             ],
             [
              0.8888888888888888,
              "#fdca26"
             ],
             [
              1,
              "#f0f921"
             ]
            ],
            "type": "contour"
           }
          ],
          "contourcarpet": [
           {
            "colorbar": {
             "outlinewidth": 0,
             "ticks": ""
            },
            "type": "contourcarpet"
           }
          ],
          "heatmap": [
           {
            "colorbar": {
             "outlinewidth": 0,
             "ticks": ""
            },
            "colorscale": [
             [
              0,
              "#0d0887"
             ],
             [
              0.1111111111111111,
              "#46039f"
             ],
             [
              0.2222222222222222,
              "#7201a8"
             ],
             [
              0.3333333333333333,
              "#9c179e"
             ],
             [
              0.4444444444444444,
              "#bd3786"
             ],
             [
              0.5555555555555556,
              "#d8576b"
             ],
             [
              0.6666666666666666,
              "#ed7953"
             ],
             [
              0.7777777777777778,
              "#fb9f3a"
             ],
             [
              0.8888888888888888,
              "#fdca26"
             ],
             [
              1,
              "#f0f921"
             ]
            ],
            "type": "heatmap"
           }
          ],
          "heatmapgl": [
           {
            "colorbar": {
             "outlinewidth": 0,
             "ticks": ""
            },
            "colorscale": [
             [
              0,
              "#0d0887"
             ],
             [
              0.1111111111111111,
              "#46039f"
             ],
             [
              0.2222222222222222,
              "#7201a8"
             ],
             [
              0.3333333333333333,
              "#9c179e"
             ],
             [
              0.4444444444444444,
              "#bd3786"
             ],
             [
              0.5555555555555556,
              "#d8576b"
             ],
             [
              0.6666666666666666,
              "#ed7953"
             ],
             [
              0.7777777777777778,
              "#fb9f3a"
             ],
             [
              0.8888888888888888,
              "#fdca26"
             ],
             [
              1,
              "#f0f921"
             ]
            ],
            "type": "heatmapgl"
           }
          ],
          "histogram": [
           {
            "marker": {
             "pattern": {
              "fillmode": "overlay",
              "size": 10,
              "solidity": 0.2
             }
            },
            "type": "histogram"
           }
          ],
          "histogram2d": [
           {
            "colorbar": {
             "outlinewidth": 0,
             "ticks": ""
            },
            "colorscale": [
             [
              0,
              "#0d0887"
             ],
             [
              0.1111111111111111,
              "#46039f"
             ],
             [
              0.2222222222222222,
              "#7201a8"
             ],
             [
              0.3333333333333333,
              "#9c179e"
             ],
             [
              0.4444444444444444,
              "#bd3786"
             ],
             [
              0.5555555555555556,
              "#d8576b"
             ],
             [
              0.6666666666666666,
              "#ed7953"
             ],
             [
              0.7777777777777778,
              "#fb9f3a"
             ],
             [
              0.8888888888888888,
              "#fdca26"
             ],
             [
              1,
              "#f0f921"
             ]
            ],
            "type": "histogram2d"
           }
          ],
          "histogram2dcontour": [
           {
            "colorbar": {
             "outlinewidth": 0,
             "ticks": ""
            },
            "colorscale": [
             [
              0,
              "#0d0887"
             ],
             [
              0.1111111111111111,
              "#46039f"
             ],
             [
              0.2222222222222222,
              "#7201a8"
             ],
             [
              0.3333333333333333,
              "#9c179e"
             ],
             [
              0.4444444444444444,
              "#bd3786"
             ],
             [
              0.5555555555555556,
              "#d8576b"
             ],
             [
              0.6666666666666666,
              "#ed7953"
             ],
             [
              0.7777777777777778,
              "#fb9f3a"
             ],
             [
              0.8888888888888888,
              "#fdca26"
             ],
             [
              1,
              "#f0f921"
             ]
            ],
            "type": "histogram2dcontour"
           }
          ],
          "mesh3d": [
           {
            "colorbar": {
             "outlinewidth": 0,
             "ticks": ""
            },
            "type": "mesh3d"
           }
          ],
          "parcoords": [
           {
            "line": {
             "colorbar": {
              "outlinewidth": 0,
              "ticks": ""
             }
            },
            "type": "parcoords"
           }
          ],
          "pie": [
           {
            "automargin": true,
            "type": "pie"
           }
          ],
          "scatter": [
           {
            "fillpattern": {
             "fillmode": "overlay",
             "size": 10,
             "solidity": 0.2
            },
            "type": "scatter"
           }
          ],
          "scatter3d": [
           {
            "line": {
             "colorbar": {
              "outlinewidth": 0,
              "ticks": ""
             }
            },
            "marker": {
             "colorbar": {
              "outlinewidth": 0,
              "ticks": ""
             }
            },
            "type": "scatter3d"
           }
          ],
          "scattercarpet": [
           {
            "marker": {
             "colorbar": {
              "outlinewidth": 0,
              "ticks": ""
             }
            },
            "type": "scattercarpet"
           }
          ],
          "scattergeo": [
           {
            "marker": {
             "colorbar": {
              "outlinewidth": 0,
              "ticks": ""
             }
            },
            "type": "scattergeo"
           }
          ],
          "scattergl": [
           {
            "marker": {
             "colorbar": {
              "outlinewidth": 0,
              "ticks": ""
             }
            },
            "type": "scattergl"
           }
          ],
          "scattermapbox": [
           {
            "marker": {
             "colorbar": {
              "outlinewidth": 0,
              "ticks": ""
             }
            },
            "type": "scattermapbox"
           }
          ],
          "scatterpolar": [
           {
            "marker": {
             "colorbar": {
              "outlinewidth": 0,
              "ticks": ""
             }
            },
            "type": "scatterpolar"
           }
          ],
          "scatterpolargl": [
           {
            "marker": {
             "colorbar": {
              "outlinewidth": 0,
              "ticks": ""
             }
            },
            "type": "scatterpolargl"
           }
          ],
          "scatterternary": [
           {
            "marker": {
             "colorbar": {
              "outlinewidth": 0,
              "ticks": ""
             }
            },
            "type": "scatterternary"
           }
          ],
          "surface": [
           {
            "colorbar": {
             "outlinewidth": 0,
             "ticks": ""
            },
            "colorscale": [
             [
              0,
              "#0d0887"
             ],
             [
              0.1111111111111111,
              "#46039f"
             ],
             [
              0.2222222222222222,
              "#7201a8"
             ],
             [
              0.3333333333333333,
              "#9c179e"
             ],
             [
              0.4444444444444444,
              "#bd3786"
             ],
             [
              0.5555555555555556,
              "#d8576b"
             ],
             [
              0.6666666666666666,
              "#ed7953"
             ],
             [
              0.7777777777777778,
              "#fb9f3a"
             ],
             [
              0.8888888888888888,
              "#fdca26"
             ],
             [
              1,
              "#f0f921"
             ]
            ],
            "type": "surface"
           }
          ],
          "table": [
           {
            "cells": {
             "fill": {
              "color": "#EBF0F8"
             },
             "line": {
              "color": "white"
             }
            },
            "header": {
             "fill": {
              "color": "#C8D4E3"
             },
             "line": {
              "color": "white"
             }
            },
            "type": "table"
           }
          ]
         },
         "layout": {
          "annotationdefaults": {
           "arrowcolor": "#2a3f5f",
           "arrowhead": 0,
           "arrowwidth": 1
          },
          "autotypenumbers": "strict",
          "coloraxis": {
           "colorbar": {
            "outlinewidth": 0,
            "ticks": ""
           }
          },
          "colorscale": {
           "diverging": [
            [
             0,
             "#8e0152"
            ],
            [
             0.1,
             "#c51b7d"
            ],
            [
             0.2,
             "#de77ae"
            ],
            [
             0.3,
             "#f1b6da"
            ],
            [
             0.4,
             "#fde0ef"
            ],
            [
             0.5,
             "#f7f7f7"
            ],
            [
             0.6,
             "#e6f5d0"
            ],
            [
             0.7,
             "#b8e186"
            ],
            [
             0.8,
             "#7fbc41"
            ],
            [
             0.9,
             "#4d9221"
            ],
            [
             1,
             "#276419"
            ]
           ],
           "sequential": [
            [
             0,
             "#0d0887"
            ],
            [
             0.1111111111111111,
             "#46039f"
            ],
            [
             0.2222222222222222,
             "#7201a8"
            ],
            [
             0.3333333333333333,
             "#9c179e"
            ],
            [
             0.4444444444444444,
             "#bd3786"
            ],
            [
             0.5555555555555556,
             "#d8576b"
            ],
            [
             0.6666666666666666,
             "#ed7953"
            ],
            [
             0.7777777777777778,
             "#fb9f3a"
            ],
            [
             0.8888888888888888,
             "#fdca26"
            ],
            [
             1,
             "#f0f921"
            ]
           ],
           "sequentialminus": [
            [
             0,
             "#0d0887"
            ],
            [
             0.1111111111111111,
             "#46039f"
            ],
            [
             0.2222222222222222,
             "#7201a8"
            ],
            [
             0.3333333333333333,
             "#9c179e"
            ],
            [
             0.4444444444444444,
             "#bd3786"
            ],
            [
             0.5555555555555556,
             "#d8576b"
            ],
            [
             0.6666666666666666,
             "#ed7953"
            ],
            [
             0.7777777777777778,
             "#fb9f3a"
            ],
            [
             0.8888888888888888,
             "#fdca26"
            ],
            [
             1,
             "#f0f921"
            ]
           ]
          },
          "colorway": [
           "#636efa",
           "#EF553B",
           "#00cc96",
           "#ab63fa",
           "#FFA15A",
           "#19d3f3",
           "#FF6692",
           "#B6E880",
           "#FF97FF",
           "#FECB52"
          ],
          "font": {
           "color": "#2a3f5f"
          },
          "geo": {
           "bgcolor": "white",
           "lakecolor": "white",
           "landcolor": "#E5ECF6",
           "showlakes": true,
           "showland": true,
           "subunitcolor": "white"
          },
          "hoverlabel": {
           "align": "left"
          },
          "hovermode": "closest",
          "mapbox": {
           "style": "light"
          },
          "paper_bgcolor": "white",
          "plot_bgcolor": "#E5ECF6",
          "polar": {
           "angularaxis": {
            "gridcolor": "white",
            "linecolor": "white",
            "ticks": ""
           },
           "bgcolor": "#E5ECF6",
           "radialaxis": {
            "gridcolor": "white",
            "linecolor": "white",
            "ticks": ""
           }
          },
          "scene": {
           "xaxis": {
            "backgroundcolor": "#E5ECF6",
            "gridcolor": "white",
            "gridwidth": 2,
            "linecolor": "white",
            "showbackground": true,
            "ticks": "",
            "zerolinecolor": "white"
           },
           "yaxis": {
            "backgroundcolor": "#E5ECF6",
            "gridcolor": "white",
            "gridwidth": 2,
            "linecolor": "white",
            "showbackground": true,
            "ticks": "",
            "zerolinecolor": "white"
           },
           "zaxis": {
            "backgroundcolor": "#E5ECF6",
            "gridcolor": "white",
            "gridwidth": 2,
            "linecolor": "white",
            "showbackground": true,
            "ticks": "",
            "zerolinecolor": "white"
           }
          },
          "shapedefaults": {
           "line": {
            "color": "#2a3f5f"
           }
          },
          "ternary": {
           "aaxis": {
            "gridcolor": "white",
            "linecolor": "white",
            "ticks": ""
           },
           "baxis": {
            "gridcolor": "white",
            "linecolor": "white",
            "ticks": ""
           },
           "bgcolor": "#E5ECF6",
           "caxis": {
            "gridcolor": "white",
            "linecolor": "white",
            "ticks": ""
           }
          },
          "title": {
           "x": 0.05
          },
          "xaxis": {
           "automargin": true,
           "gridcolor": "white",
           "linecolor": "white",
           "ticks": "",
           "title": {
            "standoff": 15
           },
           "zerolinecolor": "white",
           "zerolinewidth": 2
          },
          "yaxis": {
           "automargin": true,
           "gridcolor": "white",
           "linecolor": "white",
           "ticks": "",
           "title": {
            "standoff": 15
           },
           "zerolinecolor": "white",
           "zerolinewidth": 2
          }
         }
        },
        "title": {
         "text": "Year-wise Missing MPA Ratings Analysis"
        },
        "xaxis": {
         "anchor": "y",
         "autorange": true,
         "domain": [
          0,
          1
         ],
         "range": [
          2000,
          2024
         ],
         "title": {
          "text": "Year"
         },
         "type": "linear"
        },
        "yaxis": {
         "anchor": "x",
         "autorange": true,
         "domain": [
          0,
          1
         ],
         "range": [
          -0.09715597950892063,
          12.444797738915387
         ],
         "title": {
          "text": "Missing Percentage"
         },
         "type": "linear"
        }
       }
      },
      "text/html": [
       "<div>                            <div id=\"9b1ef7a1-c5b1-4981-af36-8e1203f27330\" class=\"plotly-graph-div\" style=\"height:525px; width:100%;\"></div>            <script type=\"text/javascript\">                require([\"plotly\"], function(Plotly) {                    window.PLOTLYENV=window.PLOTLYENV || {};                                    if (document.getElementById(\"9b1ef7a1-c5b1-4981-af36-8e1203f27330\")) {                    Plotly.newPlot(                        \"9b1ef7a1-c5b1-4981-af36-8e1203f27330\",                        [{\"hovertemplate\":\"Year=%{x}\\u003cbr\\u003eMissing Percentage=%{y}\\u003cextra\\u003e\\u003c\\u002fextra\\u003e\",\"legendgroup\":\"\",\"line\":{\"color\":\"#636efa\",\"dash\":\"solid\"},\"marker\":{\"symbol\":\"circle\"},\"mode\":\"lines\",\"name\":\"\",\"orientation\":\"v\",\"showlegend\":false,\"x\":[2000,2001,2002,2003,2004,2005,2006,2007,2008,2009,2010,2011,2012,2013,2014,2015,2016,2017,2018,2019,2020,2021,2022,2023,2024],\"xaxis\":\"x\",\"y\":[3.7625861155272924,3.4976152623211445,2.9146793852676205,3.1796502384737675,4.133545310015898,2.3317435082140965,1.8018018018018018,1.5898251192368837,1.6428192898781133,1.8547959724430314,1.0598834128245893,0.7419183889772125,0.5299417064122947,1.5368309485956544,1.0598834128245893,1.8018018018018018,3.391626921038686,5.140434552199258,4.3985161632220455,7.207207207207207,6.889242183359831,8.426073131955485,10.121886592474828,9.167991520932697,11.817700052994171],\"yaxis\":\"y\",\"type\":\"scatter\"}],                        {\"template\":{\"data\":{\"histogram2dcontour\":[{\"type\":\"histogram2dcontour\",\"colorbar\":{\"outlinewidth\":0,\"ticks\":\"\"},\"colorscale\":[[0.0,\"#0d0887\"],[0.1111111111111111,\"#46039f\"],[0.2222222222222222,\"#7201a8\"],[0.3333333333333333,\"#9c179e\"],[0.4444444444444444,\"#bd3786\"],[0.5555555555555556,\"#d8576b\"],[0.6666666666666666,\"#ed7953\"],[0.7777777777777778,\"#fb9f3a\"],[0.8888888888888888,\"#fdca26\"],[1.0,\"#f0f921\"]]}],\"choropleth\":[{\"type\":\"choropleth\",\"colorbar\":{\"outlinewidth\":0,\"ticks\":\"\"}}],\"histogram2d\":[{\"type\":\"histogram2d\",\"colorbar\":{\"outlinewidth\":0,\"ticks\":\"\"},\"colorscale\":[[0.0,\"#0d0887\"],[0.1111111111111111,\"#46039f\"],[0.2222222222222222,\"#7201a8\"],[0.3333333333333333,\"#9c179e\"],[0.4444444444444444,\"#bd3786\"],[0.5555555555555556,\"#d8576b\"],[0.6666666666666666,\"#ed7953\"],[0.7777777777777778,\"#fb9f3a\"],[0.8888888888888888,\"#fdca26\"],[1.0,\"#f0f921\"]]}],\"heatmap\":[{\"type\":\"heatmap\",\"colorbar\":{\"outlinewidth\":0,\"ticks\":\"\"},\"colorscale\":[[0.0,\"#0d0887\"],[0.1111111111111111,\"#46039f\"],[0.2222222222222222,\"#7201a8\"],[0.3333333333333333,\"#9c179e\"],[0.4444444444444444,\"#bd3786\"],[0.5555555555555556,\"#d8576b\"],[0.6666666666666666,\"#ed7953\"],[0.7777777777777778,\"#fb9f3a\"],[0.8888888888888888,\"#fdca26\"],[1.0,\"#f0f921\"]]}],\"heatmapgl\":[{\"type\":\"heatmapgl\",\"colorbar\":{\"outlinewidth\":0,\"ticks\":\"\"},\"colorscale\":[[0.0,\"#0d0887\"],[0.1111111111111111,\"#46039f\"],[0.2222222222222222,\"#7201a8\"],[0.3333333333333333,\"#9c179e\"],[0.4444444444444444,\"#bd3786\"],[0.5555555555555556,\"#d8576b\"],[0.6666666666666666,\"#ed7953\"],[0.7777777777777778,\"#fb9f3a\"],[0.8888888888888888,\"#fdca26\"],[1.0,\"#f0f921\"]]}],\"contourcarpet\":[{\"type\":\"contourcarpet\",\"colorbar\":{\"outlinewidth\":0,\"ticks\":\"\"}}],\"contour\":[{\"type\":\"contour\",\"colorbar\":{\"outlinewidth\":0,\"ticks\":\"\"},\"colorscale\":[[0.0,\"#0d0887\"],[0.1111111111111111,\"#46039f\"],[0.2222222222222222,\"#7201a8\"],[0.3333333333333333,\"#9c179e\"],[0.4444444444444444,\"#bd3786\"],[0.5555555555555556,\"#d8576b\"],[0.6666666666666666,\"#ed7953\"],[0.7777777777777778,\"#fb9f3a\"],[0.8888888888888888,\"#fdca26\"],[1.0,\"#f0f921\"]]}],\"surface\":[{\"type\":\"surface\",\"colorbar\":{\"outlinewidth\":0,\"ticks\":\"\"},\"colorscale\":[[0.0,\"#0d0887\"],[0.1111111111111111,\"#46039f\"],[0.2222222222222222,\"#7201a8\"],[0.3333333333333333,\"#9c179e\"],[0.4444444444444444,\"#bd3786\"],[0.5555555555555556,\"#d8576b\"],[0.6666666666666666,\"#ed7953\"],[0.7777777777777778,\"#fb9f3a\"],[0.8888888888888888,\"#fdca26\"],[1.0,\"#f0f921\"]]}],\"mesh3d\":[{\"type\":\"mesh3d\",\"colorbar\":{\"outlinewidth\":0,\"ticks\":\"\"}}],\"scatter\":[{\"fillpattern\":{\"fillmode\":\"overlay\",\"size\":10,\"solidity\":0.2},\"type\":\"scatter\"}],\"parcoords\":[{\"type\":\"parcoords\",\"line\":{\"colorbar\":{\"outlinewidth\":0,\"ticks\":\"\"}}}],\"scatterpolargl\":[{\"type\":\"scatterpolargl\",\"marker\":{\"colorbar\":{\"outlinewidth\":0,\"ticks\":\"\"}}}],\"bar\":[{\"error_x\":{\"color\":\"#2a3f5f\"},\"error_y\":{\"color\":\"#2a3f5f\"},\"marker\":{\"line\":{\"color\":\"#E5ECF6\",\"width\":0.5},\"pattern\":{\"fillmode\":\"overlay\",\"size\":10,\"solidity\":0.2}},\"type\":\"bar\"}],\"scattergeo\":[{\"type\":\"scattergeo\",\"marker\":{\"colorbar\":{\"outlinewidth\":0,\"ticks\":\"\"}}}],\"scatterpolar\":[{\"type\":\"scatterpolar\",\"marker\":{\"colorbar\":{\"outlinewidth\":0,\"ticks\":\"\"}}}],\"histogram\":[{\"marker\":{\"pattern\":{\"fillmode\":\"overlay\",\"size\":10,\"solidity\":0.2}},\"type\":\"histogram\"}],\"scattergl\":[{\"type\":\"scattergl\",\"marker\":{\"colorbar\":{\"outlinewidth\":0,\"ticks\":\"\"}}}],\"scatter3d\":[{\"type\":\"scatter3d\",\"line\":{\"colorbar\":{\"outlinewidth\":0,\"ticks\":\"\"}},\"marker\":{\"colorbar\":{\"outlinewidth\":0,\"ticks\":\"\"}}}],\"scattermapbox\":[{\"type\":\"scattermapbox\",\"marker\":{\"colorbar\":{\"outlinewidth\":0,\"ticks\":\"\"}}}],\"scatterternary\":[{\"type\":\"scatterternary\",\"marker\":{\"colorbar\":{\"outlinewidth\":0,\"ticks\":\"\"}}}],\"scattercarpet\":[{\"type\":\"scattercarpet\",\"marker\":{\"colorbar\":{\"outlinewidth\":0,\"ticks\":\"\"}}}],\"carpet\":[{\"aaxis\":{\"endlinecolor\":\"#2a3f5f\",\"gridcolor\":\"white\",\"linecolor\":\"white\",\"minorgridcolor\":\"white\",\"startlinecolor\":\"#2a3f5f\"},\"baxis\":{\"endlinecolor\":\"#2a3f5f\",\"gridcolor\":\"white\",\"linecolor\":\"white\",\"minorgridcolor\":\"white\",\"startlinecolor\":\"#2a3f5f\"},\"type\":\"carpet\"}],\"table\":[{\"cells\":{\"fill\":{\"color\":\"#EBF0F8\"},\"line\":{\"color\":\"white\"}},\"header\":{\"fill\":{\"color\":\"#C8D4E3\"},\"line\":{\"color\":\"white\"}},\"type\":\"table\"}],\"barpolar\":[{\"marker\":{\"line\":{\"color\":\"#E5ECF6\",\"width\":0.5},\"pattern\":{\"fillmode\":\"overlay\",\"size\":10,\"solidity\":0.2}},\"type\":\"barpolar\"}],\"pie\":[{\"automargin\":true,\"type\":\"pie\"}]},\"layout\":{\"autotypenumbers\":\"strict\",\"colorway\":[\"#636efa\",\"#EF553B\",\"#00cc96\",\"#ab63fa\",\"#FFA15A\",\"#19d3f3\",\"#FF6692\",\"#B6E880\",\"#FF97FF\",\"#FECB52\"],\"font\":{\"color\":\"#2a3f5f\"},\"hovermode\":\"closest\",\"hoverlabel\":{\"align\":\"left\"},\"paper_bgcolor\":\"white\",\"plot_bgcolor\":\"#E5ECF6\",\"polar\":{\"bgcolor\":\"#E5ECF6\",\"angularaxis\":{\"gridcolor\":\"white\",\"linecolor\":\"white\",\"ticks\":\"\"},\"radialaxis\":{\"gridcolor\":\"white\",\"linecolor\":\"white\",\"ticks\":\"\"}},\"ternary\":{\"bgcolor\":\"#E5ECF6\",\"aaxis\":{\"gridcolor\":\"white\",\"linecolor\":\"white\",\"ticks\":\"\"},\"baxis\":{\"gridcolor\":\"white\",\"linecolor\":\"white\",\"ticks\":\"\"},\"caxis\":{\"gridcolor\":\"white\",\"linecolor\":\"white\",\"ticks\":\"\"}},\"coloraxis\":{\"colorbar\":{\"outlinewidth\":0,\"ticks\":\"\"}},\"colorscale\":{\"sequential\":[[0.0,\"#0d0887\"],[0.1111111111111111,\"#46039f\"],[0.2222222222222222,\"#7201a8\"],[0.3333333333333333,\"#9c179e\"],[0.4444444444444444,\"#bd3786\"],[0.5555555555555556,\"#d8576b\"],[0.6666666666666666,\"#ed7953\"],[0.7777777777777778,\"#fb9f3a\"],[0.8888888888888888,\"#fdca26\"],[1.0,\"#f0f921\"]],\"sequentialminus\":[[0.0,\"#0d0887\"],[0.1111111111111111,\"#46039f\"],[0.2222222222222222,\"#7201a8\"],[0.3333333333333333,\"#9c179e\"],[0.4444444444444444,\"#bd3786\"],[0.5555555555555556,\"#d8576b\"],[0.6666666666666666,\"#ed7953\"],[0.7777777777777778,\"#fb9f3a\"],[0.8888888888888888,\"#fdca26\"],[1.0,\"#f0f921\"]],\"diverging\":[[0,\"#8e0152\"],[0.1,\"#c51b7d\"],[0.2,\"#de77ae\"],[0.3,\"#f1b6da\"],[0.4,\"#fde0ef\"],[0.5,\"#f7f7f7\"],[0.6,\"#e6f5d0\"],[0.7,\"#b8e186\"],[0.8,\"#7fbc41\"],[0.9,\"#4d9221\"],[1,\"#276419\"]]},\"xaxis\":{\"gridcolor\":\"white\",\"linecolor\":\"white\",\"ticks\":\"\",\"title\":{\"standoff\":15},\"zerolinecolor\":\"white\",\"automargin\":true,\"zerolinewidth\":2},\"yaxis\":{\"gridcolor\":\"white\",\"linecolor\":\"white\",\"ticks\":\"\",\"title\":{\"standoff\":15},\"zerolinecolor\":\"white\",\"automargin\":true,\"zerolinewidth\":2},\"scene\":{\"xaxis\":{\"backgroundcolor\":\"#E5ECF6\",\"gridcolor\":\"white\",\"linecolor\":\"white\",\"showbackground\":true,\"ticks\":\"\",\"zerolinecolor\":\"white\",\"gridwidth\":2},\"yaxis\":{\"backgroundcolor\":\"#E5ECF6\",\"gridcolor\":\"white\",\"linecolor\":\"white\",\"showbackground\":true,\"ticks\":\"\",\"zerolinecolor\":\"white\",\"gridwidth\":2},\"zaxis\":{\"backgroundcolor\":\"#E5ECF6\",\"gridcolor\":\"white\",\"linecolor\":\"white\",\"showbackground\":true,\"ticks\":\"\",\"zerolinecolor\":\"white\",\"gridwidth\":2}},\"shapedefaults\":{\"line\":{\"color\":\"#2a3f5f\"}},\"annotationdefaults\":{\"arrowcolor\":\"#2a3f5f\",\"arrowhead\":0,\"arrowwidth\":1},\"geo\":{\"bgcolor\":\"white\",\"landcolor\":\"#E5ECF6\",\"subunitcolor\":\"white\",\"showland\":true,\"showlakes\":true,\"lakecolor\":\"white\"},\"title\":{\"x\":0.05},\"mapbox\":{\"style\":\"light\"}}},\"xaxis\":{\"anchor\":\"y\",\"domain\":[0.0,1.0],\"title\":{\"text\":\"Year\"}},\"yaxis\":{\"anchor\":\"x\",\"domain\":[0.0,1.0],\"title\":{\"text\":\"Missing Percentage\"}},\"legend\":{\"tracegroupgap\":0},\"title\":{\"text\":\"Year-wise Missing MPA Ratings Analysis\"}},                        {\"responsive\": true}                    ).then(function(){\n",
       "                            \n",
       "var gd = document.getElementById('9b1ef7a1-c5b1-4981-af36-8e1203f27330');\n",
       "var x = new MutationObserver(function (mutations, observer) {{\n",
       "        var display = window.getComputedStyle(gd).display;\n",
       "        if (!display || display === 'none') {{\n",
       "            console.log([gd, 'removed!']);\n",
       "            Plotly.purge(gd);\n",
       "            observer.disconnect();\n",
       "        }}\n",
       "}});\n",
       "\n",
       "// Listen for the removal of the full notebook cells\n",
       "var notebookContainer = gd.closest('#notebook-container');\n",
       "if (notebookContainer) {{\n",
       "    x.observe(notebookContainer, {childList: true});\n",
       "}}\n",
       "\n",
       "// Listen for the clearing of the current output cell\n",
       "var outputEl = gd.closest('.output');\n",
       "if (outputEl) {{\n",
       "    x.observe(outputEl, {childList: true});\n",
       "}}\n",
       "\n",
       "                        })                };                });            </script>        </div>"
      ]
     },
     "metadata": {},
     "output_type": "display_data"
    }
   ],
   "source": [
    "yearwise_missing_mpa_pct = (df.groupby('Year').apply(lambda x: x.isnull().sum())['MPA'] / df['MPA'].isnull().sum() * 100).reset_index(name = 'Missing Percentage')\n",
    "fig = px.line(\n",
    "    yearwise_missing_mpa_pct,\n",
    "    x = 'Year',\n",
    "    y = 'Missing Percentage',\n",
    "    title = \"Year-wise Missing MPA Ratings Analysis\"\n",
    ")\n",
    "fig.show()"
   ]
  },
  {
   "cell_type": "markdown",
   "id": "f9a9fa07-7dc2-4abb-ba4b-ce8b9fd4e114",
   "metadata": {},
   "source": [
    "- Initially from years 2000 to 2012, there has been a gradual decline in missing MPA rating values with lowest point in year 2012.\n",
    "- But, after year 2012, there has been a sharp increase in missing MPA rating values with highest point in year 2024."
   ]
  },
  {
   "cell_type": "code",
   "execution_count": 124,
   "id": "1c800369-5857-435b-8517-d25629e1dd88",
   "metadata": {},
   "outputs": [
    {
     "data": {
      "application/vnd.plotly.v1+json": {
       "config": {
        "plotlyServerURL": "https://plot.ly"
       },
       "data": [
        {
         "alignmentgroup": "True",
         "hovertemplate": "Genres=%{x}<br>Missing Percentage=%{y}<extra></extra>",
         "legendgroup": "",
         "marker": {
          "color": "#636efa",
          "pattern": {
           "shape": ""
          }
         },
         "name": "",
         "offsetgroup": "",
         "orientation": "v",
         "showlegend": false,
         "textposition": "auto",
         "type": "bar",
         "x": [
          "Reality TV",
          "Sketch Comedy",
          "Sitcom",
          "Slice of Life",
          "Shōjo",
          "Seinen",
          "Documentary",
          "Folk Horror",
          "Holiday Romance",
          "Concert"
         ],
         "xaxis": "x",
         "y": [
          100,
          50,
          50,
          40,
          40,
          28.57142857142857,
          24.798711755233494,
          24.242424242424242,
          22.727272727272727,
          21.052631578947366
         ],
         "yaxis": "y"
        }
       ],
       "layout": {
        "autosize": true,
        "barmode": "relative",
        "legend": {
         "tracegroupgap": 0
        },
        "template": {
         "data": {
          "bar": [
           {
            "error_x": {
             "color": "#2a3f5f"
            },
            "error_y": {
             "color": "#2a3f5f"
            },
            "marker": {
             "line": {
              "color": "#E5ECF6",
              "width": 0.5
             },
             "pattern": {
              "fillmode": "overlay",
              "size": 10,
              "solidity": 0.2
             }
            },
            "type": "bar"
           }
          ],
          "barpolar": [
           {
            "marker": {
             "line": {
              "color": "#E5ECF6",
              "width": 0.5
             },
             "pattern": {
              "fillmode": "overlay",
              "size": 10,
              "solidity": 0.2
             }
            },
            "type": "barpolar"
           }
          ],
          "carpet": [
           {
            "aaxis": {
             "endlinecolor": "#2a3f5f",
             "gridcolor": "white",
             "linecolor": "white",
             "minorgridcolor": "white",
             "startlinecolor": "#2a3f5f"
            },
            "baxis": {
             "endlinecolor": "#2a3f5f",
             "gridcolor": "white",
             "linecolor": "white",
             "minorgridcolor": "white",
             "startlinecolor": "#2a3f5f"
            },
            "type": "carpet"
           }
          ],
          "choropleth": [
           {
            "colorbar": {
             "outlinewidth": 0,
             "ticks": ""
            },
            "type": "choropleth"
           }
          ],
          "contour": [
           {
            "colorbar": {
             "outlinewidth": 0,
             "ticks": ""
            },
            "colorscale": [
             [
              0,
              "#0d0887"
             ],
             [
              0.1111111111111111,
              "#46039f"
             ],
             [
              0.2222222222222222,
              "#7201a8"
             ],
             [
              0.3333333333333333,
              "#9c179e"
             ],
             [
              0.4444444444444444,
              "#bd3786"
             ],
             [
              0.5555555555555556,
              "#d8576b"
             ],
             [
              0.6666666666666666,
              "#ed7953"
             ],
             [
              0.7777777777777778,
              "#fb9f3a"
             ],
             [
              0.8888888888888888,
              "#fdca26"
             ],
             [
              1,
              "#f0f921"
             ]
            ],
            "type": "contour"
           }
          ],
          "contourcarpet": [
           {
            "colorbar": {
             "outlinewidth": 0,
             "ticks": ""
            },
            "type": "contourcarpet"
           }
          ],
          "heatmap": [
           {
            "colorbar": {
             "outlinewidth": 0,
             "ticks": ""
            },
            "colorscale": [
             [
              0,
              "#0d0887"
             ],
             [
              0.1111111111111111,
              "#46039f"
             ],
             [
              0.2222222222222222,
              "#7201a8"
             ],
             [
              0.3333333333333333,
              "#9c179e"
             ],
             [
              0.4444444444444444,
              "#bd3786"
             ],
             [
              0.5555555555555556,
              "#d8576b"
             ],
             [
              0.6666666666666666,
              "#ed7953"
             ],
             [
              0.7777777777777778,
              "#fb9f3a"
             ],
             [
              0.8888888888888888,
              "#fdca26"
             ],
             [
              1,
              "#f0f921"
             ]
            ],
            "type": "heatmap"
           }
          ],
          "heatmapgl": [
           {
            "colorbar": {
             "outlinewidth": 0,
             "ticks": ""
            },
            "colorscale": [
             [
              0,
              "#0d0887"
             ],
             [
              0.1111111111111111,
              "#46039f"
             ],
             [
              0.2222222222222222,
              "#7201a8"
             ],
             [
              0.3333333333333333,
              "#9c179e"
             ],
             [
              0.4444444444444444,
              "#bd3786"
             ],
             [
              0.5555555555555556,
              "#d8576b"
             ],
             [
              0.6666666666666666,
              "#ed7953"
             ],
             [
              0.7777777777777778,
              "#fb9f3a"
             ],
             [
              0.8888888888888888,
              "#fdca26"
             ],
             [
              1,
              "#f0f921"
             ]
            ],
            "type": "heatmapgl"
           }
          ],
          "histogram": [
           {
            "marker": {
             "pattern": {
              "fillmode": "overlay",
              "size": 10,
              "solidity": 0.2
             }
            },
            "type": "histogram"
           }
          ],
          "histogram2d": [
           {
            "colorbar": {
             "outlinewidth": 0,
             "ticks": ""
            },
            "colorscale": [
             [
              0,
              "#0d0887"
             ],
             [
              0.1111111111111111,
              "#46039f"
             ],
             [
              0.2222222222222222,
              "#7201a8"
             ],
             [
              0.3333333333333333,
              "#9c179e"
             ],
             [
              0.4444444444444444,
              "#bd3786"
             ],
             [
              0.5555555555555556,
              "#d8576b"
             ],
             [
              0.6666666666666666,
              "#ed7953"
             ],
             [
              0.7777777777777778,
              "#fb9f3a"
             ],
             [
              0.8888888888888888,
              "#fdca26"
             ],
             [
              1,
              "#f0f921"
             ]
            ],
            "type": "histogram2d"
           }
          ],
          "histogram2dcontour": [
           {
            "colorbar": {
             "outlinewidth": 0,
             "ticks": ""
            },
            "colorscale": [
             [
              0,
              "#0d0887"
             ],
             [
              0.1111111111111111,
              "#46039f"
             ],
             [
              0.2222222222222222,
              "#7201a8"
             ],
             [
              0.3333333333333333,
              "#9c179e"
             ],
             [
              0.4444444444444444,
              "#bd3786"
             ],
             [
              0.5555555555555556,
              "#d8576b"
             ],
             [
              0.6666666666666666,
              "#ed7953"
             ],
             [
              0.7777777777777778,
              "#fb9f3a"
             ],
             [
              0.8888888888888888,
              "#fdca26"
             ],
             [
              1,
              "#f0f921"
             ]
            ],
            "type": "histogram2dcontour"
           }
          ],
          "mesh3d": [
           {
            "colorbar": {
             "outlinewidth": 0,
             "ticks": ""
            },
            "type": "mesh3d"
           }
          ],
          "parcoords": [
           {
            "line": {
             "colorbar": {
              "outlinewidth": 0,
              "ticks": ""
             }
            },
            "type": "parcoords"
           }
          ],
          "pie": [
           {
            "automargin": true,
            "type": "pie"
           }
          ],
          "scatter": [
           {
            "fillpattern": {
             "fillmode": "overlay",
             "size": 10,
             "solidity": 0.2
            },
            "type": "scatter"
           }
          ],
          "scatter3d": [
           {
            "line": {
             "colorbar": {
              "outlinewidth": 0,
              "ticks": ""
             }
            },
            "marker": {
             "colorbar": {
              "outlinewidth": 0,
              "ticks": ""
             }
            },
            "type": "scatter3d"
           }
          ],
          "scattercarpet": [
           {
            "marker": {
             "colorbar": {
              "outlinewidth": 0,
              "ticks": ""
             }
            },
            "type": "scattercarpet"
           }
          ],
          "scattergeo": [
           {
            "marker": {
             "colorbar": {
              "outlinewidth": 0,
              "ticks": ""
             }
            },
            "type": "scattergeo"
           }
          ],
          "scattergl": [
           {
            "marker": {
             "colorbar": {
              "outlinewidth": 0,
              "ticks": ""
             }
            },
            "type": "scattergl"
           }
          ],
          "scattermapbox": [
           {
            "marker": {
             "colorbar": {
              "outlinewidth": 0,
              "ticks": ""
             }
            },
            "type": "scattermapbox"
           }
          ],
          "scatterpolar": [
           {
            "marker": {
             "colorbar": {
              "outlinewidth": 0,
              "ticks": ""
             }
            },
            "type": "scatterpolar"
           }
          ],
          "scatterpolargl": [
           {
            "marker": {
             "colorbar": {
              "outlinewidth": 0,
              "ticks": ""
             }
            },
            "type": "scatterpolargl"
           }
          ],
          "scatterternary": [
           {
            "marker": {
             "colorbar": {
              "outlinewidth": 0,
              "ticks": ""
             }
            },
            "type": "scatterternary"
           }
          ],
          "surface": [
           {
            "colorbar": {
             "outlinewidth": 0,
             "ticks": ""
            },
            "colorscale": [
             [
              0,
              "#0d0887"
             ],
             [
              0.1111111111111111,
              "#46039f"
             ],
             [
              0.2222222222222222,
              "#7201a8"
             ],
             [
              0.3333333333333333,
              "#9c179e"
             ],
             [
              0.4444444444444444,
              "#bd3786"
             ],
             [
              0.5555555555555556,
              "#d8576b"
             ],
             [
              0.6666666666666666,
              "#ed7953"
             ],
             [
              0.7777777777777778,
              "#fb9f3a"
             ],
             [
              0.8888888888888888,
              "#fdca26"
             ],
             [
              1,
              "#f0f921"
             ]
            ],
            "type": "surface"
           }
          ],
          "table": [
           {
            "cells": {
             "fill": {
              "color": "#EBF0F8"
             },
             "line": {
              "color": "white"
             }
            },
            "header": {
             "fill": {
              "color": "#C8D4E3"
             },
             "line": {
              "color": "white"
             }
            },
            "type": "table"
           }
          ]
         },
         "layout": {
          "annotationdefaults": {
           "arrowcolor": "#2a3f5f",
           "arrowhead": 0,
           "arrowwidth": 1
          },
          "autotypenumbers": "strict",
          "coloraxis": {
           "colorbar": {
            "outlinewidth": 0,
            "ticks": ""
           }
          },
          "colorscale": {
           "diverging": [
            [
             0,
             "#8e0152"
            ],
            [
             0.1,
             "#c51b7d"
            ],
            [
             0.2,
             "#de77ae"
            ],
            [
             0.3,
             "#f1b6da"
            ],
            [
             0.4,
             "#fde0ef"
            ],
            [
             0.5,
             "#f7f7f7"
            ],
            [
             0.6,
             "#e6f5d0"
            ],
            [
             0.7,
             "#b8e186"
            ],
            [
             0.8,
             "#7fbc41"
            ],
            [
             0.9,
             "#4d9221"
            ],
            [
             1,
             "#276419"
            ]
           ],
           "sequential": [
            [
             0,
             "#0d0887"
            ],
            [
             0.1111111111111111,
             "#46039f"
            ],
            [
             0.2222222222222222,
             "#7201a8"
            ],
            [
             0.3333333333333333,
             "#9c179e"
            ],
            [
             0.4444444444444444,
             "#bd3786"
            ],
            [
             0.5555555555555556,
             "#d8576b"
            ],
            [
             0.6666666666666666,
             "#ed7953"
            ],
            [
             0.7777777777777778,
             "#fb9f3a"
            ],
            [
             0.8888888888888888,
             "#fdca26"
            ],
            [
             1,
             "#f0f921"
            ]
           ],
           "sequentialminus": [
            [
             0,
             "#0d0887"
            ],
            [
             0.1111111111111111,
             "#46039f"
            ],
            [
             0.2222222222222222,
             "#7201a8"
            ],
            [
             0.3333333333333333,
             "#9c179e"
            ],
            [
             0.4444444444444444,
             "#bd3786"
            ],
            [
             0.5555555555555556,
             "#d8576b"
            ],
            [
             0.6666666666666666,
             "#ed7953"
            ],
            [
             0.7777777777777778,
             "#fb9f3a"
            ],
            [
             0.8888888888888888,
             "#fdca26"
            ],
            [
             1,
             "#f0f921"
            ]
           ]
          },
          "colorway": [
           "#636efa",
           "#EF553B",
           "#00cc96",
           "#ab63fa",
           "#FFA15A",
           "#19d3f3",
           "#FF6692",
           "#B6E880",
           "#FF97FF",
           "#FECB52"
          ],
          "font": {
           "color": "#2a3f5f"
          },
          "geo": {
           "bgcolor": "white",
           "lakecolor": "white",
           "landcolor": "#E5ECF6",
           "showlakes": true,
           "showland": true,
           "subunitcolor": "white"
          },
          "hoverlabel": {
           "align": "left"
          },
          "hovermode": "closest",
          "mapbox": {
           "style": "light"
          },
          "paper_bgcolor": "white",
          "plot_bgcolor": "#E5ECF6",
          "polar": {
           "angularaxis": {
            "gridcolor": "white",
            "linecolor": "white",
            "ticks": ""
           },
           "bgcolor": "#E5ECF6",
           "radialaxis": {
            "gridcolor": "white",
            "linecolor": "white",
            "ticks": ""
           }
          },
          "scene": {
           "xaxis": {
            "backgroundcolor": "#E5ECF6",
            "gridcolor": "white",
            "gridwidth": 2,
            "linecolor": "white",
            "showbackground": true,
            "ticks": "",
            "zerolinecolor": "white"
           },
           "yaxis": {
            "backgroundcolor": "#E5ECF6",
            "gridcolor": "white",
            "gridwidth": 2,
            "linecolor": "white",
            "showbackground": true,
            "ticks": "",
            "zerolinecolor": "white"
           },
           "zaxis": {
            "backgroundcolor": "#E5ECF6",
            "gridcolor": "white",
            "gridwidth": 2,
            "linecolor": "white",
            "showbackground": true,
            "ticks": "",
            "zerolinecolor": "white"
           }
          },
          "shapedefaults": {
           "line": {
            "color": "#2a3f5f"
           }
          },
          "ternary": {
           "aaxis": {
            "gridcolor": "white",
            "linecolor": "white",
            "ticks": ""
           },
           "baxis": {
            "gridcolor": "white",
            "linecolor": "white",
            "ticks": ""
           },
           "bgcolor": "#E5ECF6",
           "caxis": {
            "gridcolor": "white",
            "linecolor": "white",
            "ticks": ""
           }
          },
          "title": {
           "x": 0.05
          },
          "xaxis": {
           "automargin": true,
           "gridcolor": "white",
           "linecolor": "white",
           "ticks": "",
           "title": {
            "standoff": 15
           },
           "zerolinecolor": "white",
           "zerolinewidth": 2
          },
          "yaxis": {
           "automargin": true,
           "gridcolor": "white",
           "linecolor": "white",
           "ticks": "",
           "title": {
            "standoff": 15
           },
           "zerolinecolor": "white",
           "zerolinewidth": 2
          }
         }
        },
        "title": {
         "text": "Top 10 Genres with the Highest Percentage of Missing MPA Ratings"
        },
        "xaxis": {
         "anchor": "y",
         "autorange": true,
         "domain": [
          0,
          1
         ],
         "range": [
          -0.5,
          9.5
         ],
         "title": {
          "text": "Genres"
         },
         "type": "category"
        },
        "yaxis": {
         "anchor": "x",
         "autorange": true,
         "domain": [
          0,
          1
         ],
         "range": [
          0,
          105.26315789473685
         ],
         "title": {
          "text": "Missing Percentage"
         },
         "type": "linear"
        }
       }
      },
      "text/html": [
       "<div>                            <div id=\"b3f23878-fd56-4077-a09c-7382e97a0eb5\" class=\"plotly-graph-div\" style=\"height:525px; width:100%;\"></div>            <script type=\"text/javascript\">                require([\"plotly\"], function(Plotly) {                    window.PLOTLYENV=window.PLOTLYENV || {};                                    if (document.getElementById(\"b3f23878-fd56-4077-a09c-7382e97a0eb5\")) {                    Plotly.newPlot(                        \"b3f23878-fd56-4077-a09c-7382e97a0eb5\",                        [{\"alignmentgroup\":\"True\",\"hovertemplate\":\"Genres=%{x}\\u003cbr\\u003eMissing Percentage=%{y}\\u003cextra\\u003e\\u003c\\u002fextra\\u003e\",\"legendgroup\":\"\",\"marker\":{\"color\":\"#636efa\",\"pattern\":{\"shape\":\"\"}},\"name\":\"\",\"offsetgroup\":\"\",\"orientation\":\"v\",\"showlegend\":false,\"textposition\":\"auto\",\"x\":[\"Reality TV\",\"Sketch Comedy\",\"Sitcom\",\"Slice of Life\",\"Sh\\u014djo\",\"Seinen\",\"Documentary\",\"Folk Horror\",\"Holiday Romance\",\"Concert\"],\"xaxis\":\"x\",\"y\":[100.0,50.0,50.0,40.0,40.0,28.57142857142857,24.798711755233494,24.242424242424242,22.727272727272727,21.052631578947366],\"yaxis\":\"y\",\"type\":\"bar\"}],                        {\"template\":{\"data\":{\"histogram2dcontour\":[{\"type\":\"histogram2dcontour\",\"colorbar\":{\"outlinewidth\":0,\"ticks\":\"\"},\"colorscale\":[[0.0,\"#0d0887\"],[0.1111111111111111,\"#46039f\"],[0.2222222222222222,\"#7201a8\"],[0.3333333333333333,\"#9c179e\"],[0.4444444444444444,\"#bd3786\"],[0.5555555555555556,\"#d8576b\"],[0.6666666666666666,\"#ed7953\"],[0.7777777777777778,\"#fb9f3a\"],[0.8888888888888888,\"#fdca26\"],[1.0,\"#f0f921\"]]}],\"choropleth\":[{\"type\":\"choropleth\",\"colorbar\":{\"outlinewidth\":0,\"ticks\":\"\"}}],\"histogram2d\":[{\"type\":\"histogram2d\",\"colorbar\":{\"outlinewidth\":0,\"ticks\":\"\"},\"colorscale\":[[0.0,\"#0d0887\"],[0.1111111111111111,\"#46039f\"],[0.2222222222222222,\"#7201a8\"],[0.3333333333333333,\"#9c179e\"],[0.4444444444444444,\"#bd3786\"],[0.5555555555555556,\"#d8576b\"],[0.6666666666666666,\"#ed7953\"],[0.7777777777777778,\"#fb9f3a\"],[0.8888888888888888,\"#fdca26\"],[1.0,\"#f0f921\"]]}],\"heatmap\":[{\"type\":\"heatmap\",\"colorbar\":{\"outlinewidth\":0,\"ticks\":\"\"},\"colorscale\":[[0.0,\"#0d0887\"],[0.1111111111111111,\"#46039f\"],[0.2222222222222222,\"#7201a8\"],[0.3333333333333333,\"#9c179e\"],[0.4444444444444444,\"#bd3786\"],[0.5555555555555556,\"#d8576b\"],[0.6666666666666666,\"#ed7953\"],[0.7777777777777778,\"#fb9f3a\"],[0.8888888888888888,\"#fdca26\"],[1.0,\"#f0f921\"]]}],\"heatmapgl\":[{\"type\":\"heatmapgl\",\"colorbar\":{\"outlinewidth\":0,\"ticks\":\"\"},\"colorscale\":[[0.0,\"#0d0887\"],[0.1111111111111111,\"#46039f\"],[0.2222222222222222,\"#7201a8\"],[0.3333333333333333,\"#9c179e\"],[0.4444444444444444,\"#bd3786\"],[0.5555555555555556,\"#d8576b\"],[0.6666666666666666,\"#ed7953\"],[0.7777777777777778,\"#fb9f3a\"],[0.8888888888888888,\"#fdca26\"],[1.0,\"#f0f921\"]]}],\"contourcarpet\":[{\"type\":\"contourcarpet\",\"colorbar\":{\"outlinewidth\":0,\"ticks\":\"\"}}],\"contour\":[{\"type\":\"contour\",\"colorbar\":{\"outlinewidth\":0,\"ticks\":\"\"},\"colorscale\":[[0.0,\"#0d0887\"],[0.1111111111111111,\"#46039f\"],[0.2222222222222222,\"#7201a8\"],[0.3333333333333333,\"#9c179e\"],[0.4444444444444444,\"#bd3786\"],[0.5555555555555556,\"#d8576b\"],[0.6666666666666666,\"#ed7953\"],[0.7777777777777778,\"#fb9f3a\"],[0.8888888888888888,\"#fdca26\"],[1.0,\"#f0f921\"]]}],\"surface\":[{\"type\":\"surface\",\"colorbar\":{\"outlinewidth\":0,\"ticks\":\"\"},\"colorscale\":[[0.0,\"#0d0887\"],[0.1111111111111111,\"#46039f\"],[0.2222222222222222,\"#7201a8\"],[0.3333333333333333,\"#9c179e\"],[0.4444444444444444,\"#bd3786\"],[0.5555555555555556,\"#d8576b\"],[0.6666666666666666,\"#ed7953\"],[0.7777777777777778,\"#fb9f3a\"],[0.8888888888888888,\"#fdca26\"],[1.0,\"#f0f921\"]]}],\"mesh3d\":[{\"type\":\"mesh3d\",\"colorbar\":{\"outlinewidth\":0,\"ticks\":\"\"}}],\"scatter\":[{\"fillpattern\":{\"fillmode\":\"overlay\",\"size\":10,\"solidity\":0.2},\"type\":\"scatter\"}],\"parcoords\":[{\"type\":\"parcoords\",\"line\":{\"colorbar\":{\"outlinewidth\":0,\"ticks\":\"\"}}}],\"scatterpolargl\":[{\"type\":\"scatterpolargl\",\"marker\":{\"colorbar\":{\"outlinewidth\":0,\"ticks\":\"\"}}}],\"bar\":[{\"error_x\":{\"color\":\"#2a3f5f\"},\"error_y\":{\"color\":\"#2a3f5f\"},\"marker\":{\"line\":{\"color\":\"#E5ECF6\",\"width\":0.5},\"pattern\":{\"fillmode\":\"overlay\",\"size\":10,\"solidity\":0.2}},\"type\":\"bar\"}],\"scattergeo\":[{\"type\":\"scattergeo\",\"marker\":{\"colorbar\":{\"outlinewidth\":0,\"ticks\":\"\"}}}],\"scatterpolar\":[{\"type\":\"scatterpolar\",\"marker\":{\"colorbar\":{\"outlinewidth\":0,\"ticks\":\"\"}}}],\"histogram\":[{\"marker\":{\"pattern\":{\"fillmode\":\"overlay\",\"size\":10,\"solidity\":0.2}},\"type\":\"histogram\"}],\"scattergl\":[{\"type\":\"scattergl\",\"marker\":{\"colorbar\":{\"outlinewidth\":0,\"ticks\":\"\"}}}],\"scatter3d\":[{\"type\":\"scatter3d\",\"line\":{\"colorbar\":{\"outlinewidth\":0,\"ticks\":\"\"}},\"marker\":{\"colorbar\":{\"outlinewidth\":0,\"ticks\":\"\"}}}],\"scattermapbox\":[{\"type\":\"scattermapbox\",\"marker\":{\"colorbar\":{\"outlinewidth\":0,\"ticks\":\"\"}}}],\"scatterternary\":[{\"type\":\"scatterternary\",\"marker\":{\"colorbar\":{\"outlinewidth\":0,\"ticks\":\"\"}}}],\"scattercarpet\":[{\"type\":\"scattercarpet\",\"marker\":{\"colorbar\":{\"outlinewidth\":0,\"ticks\":\"\"}}}],\"carpet\":[{\"aaxis\":{\"endlinecolor\":\"#2a3f5f\",\"gridcolor\":\"white\",\"linecolor\":\"white\",\"minorgridcolor\":\"white\",\"startlinecolor\":\"#2a3f5f\"},\"baxis\":{\"endlinecolor\":\"#2a3f5f\",\"gridcolor\":\"white\",\"linecolor\":\"white\",\"minorgridcolor\":\"white\",\"startlinecolor\":\"#2a3f5f\"},\"type\":\"carpet\"}],\"table\":[{\"cells\":{\"fill\":{\"color\":\"#EBF0F8\"},\"line\":{\"color\":\"white\"}},\"header\":{\"fill\":{\"color\":\"#C8D4E3\"},\"line\":{\"color\":\"white\"}},\"type\":\"table\"}],\"barpolar\":[{\"marker\":{\"line\":{\"color\":\"#E5ECF6\",\"width\":0.5},\"pattern\":{\"fillmode\":\"overlay\",\"size\":10,\"solidity\":0.2}},\"type\":\"barpolar\"}],\"pie\":[{\"automargin\":true,\"type\":\"pie\"}]},\"layout\":{\"autotypenumbers\":\"strict\",\"colorway\":[\"#636efa\",\"#EF553B\",\"#00cc96\",\"#ab63fa\",\"#FFA15A\",\"#19d3f3\",\"#FF6692\",\"#B6E880\",\"#FF97FF\",\"#FECB52\"],\"font\":{\"color\":\"#2a3f5f\"},\"hovermode\":\"closest\",\"hoverlabel\":{\"align\":\"left\"},\"paper_bgcolor\":\"white\",\"plot_bgcolor\":\"#E5ECF6\",\"polar\":{\"bgcolor\":\"#E5ECF6\",\"angularaxis\":{\"gridcolor\":\"white\",\"linecolor\":\"white\",\"ticks\":\"\"},\"radialaxis\":{\"gridcolor\":\"white\",\"linecolor\":\"white\",\"ticks\":\"\"}},\"ternary\":{\"bgcolor\":\"#E5ECF6\",\"aaxis\":{\"gridcolor\":\"white\",\"linecolor\":\"white\",\"ticks\":\"\"},\"baxis\":{\"gridcolor\":\"white\",\"linecolor\":\"white\",\"ticks\":\"\"},\"caxis\":{\"gridcolor\":\"white\",\"linecolor\":\"white\",\"ticks\":\"\"}},\"coloraxis\":{\"colorbar\":{\"outlinewidth\":0,\"ticks\":\"\"}},\"colorscale\":{\"sequential\":[[0.0,\"#0d0887\"],[0.1111111111111111,\"#46039f\"],[0.2222222222222222,\"#7201a8\"],[0.3333333333333333,\"#9c179e\"],[0.4444444444444444,\"#bd3786\"],[0.5555555555555556,\"#d8576b\"],[0.6666666666666666,\"#ed7953\"],[0.7777777777777778,\"#fb9f3a\"],[0.8888888888888888,\"#fdca26\"],[1.0,\"#f0f921\"]],\"sequentialminus\":[[0.0,\"#0d0887\"],[0.1111111111111111,\"#46039f\"],[0.2222222222222222,\"#7201a8\"],[0.3333333333333333,\"#9c179e\"],[0.4444444444444444,\"#bd3786\"],[0.5555555555555556,\"#d8576b\"],[0.6666666666666666,\"#ed7953\"],[0.7777777777777778,\"#fb9f3a\"],[0.8888888888888888,\"#fdca26\"],[1.0,\"#f0f921\"]],\"diverging\":[[0,\"#8e0152\"],[0.1,\"#c51b7d\"],[0.2,\"#de77ae\"],[0.3,\"#f1b6da\"],[0.4,\"#fde0ef\"],[0.5,\"#f7f7f7\"],[0.6,\"#e6f5d0\"],[0.7,\"#b8e186\"],[0.8,\"#7fbc41\"],[0.9,\"#4d9221\"],[1,\"#276419\"]]},\"xaxis\":{\"gridcolor\":\"white\",\"linecolor\":\"white\",\"ticks\":\"\",\"title\":{\"standoff\":15},\"zerolinecolor\":\"white\",\"automargin\":true,\"zerolinewidth\":2},\"yaxis\":{\"gridcolor\":\"white\",\"linecolor\":\"white\",\"ticks\":\"\",\"title\":{\"standoff\":15},\"zerolinecolor\":\"white\",\"automargin\":true,\"zerolinewidth\":2},\"scene\":{\"xaxis\":{\"backgroundcolor\":\"#E5ECF6\",\"gridcolor\":\"white\",\"linecolor\":\"white\",\"showbackground\":true,\"ticks\":\"\",\"zerolinecolor\":\"white\",\"gridwidth\":2},\"yaxis\":{\"backgroundcolor\":\"#E5ECF6\",\"gridcolor\":\"white\",\"linecolor\":\"white\",\"showbackground\":true,\"ticks\":\"\",\"zerolinecolor\":\"white\",\"gridwidth\":2},\"zaxis\":{\"backgroundcolor\":\"#E5ECF6\",\"gridcolor\":\"white\",\"linecolor\":\"white\",\"showbackground\":true,\"ticks\":\"\",\"zerolinecolor\":\"white\",\"gridwidth\":2}},\"shapedefaults\":{\"line\":{\"color\":\"#2a3f5f\"}},\"annotationdefaults\":{\"arrowcolor\":\"#2a3f5f\",\"arrowhead\":0,\"arrowwidth\":1},\"geo\":{\"bgcolor\":\"white\",\"landcolor\":\"#E5ECF6\",\"subunitcolor\":\"white\",\"showland\":true,\"showlakes\":true,\"lakecolor\":\"white\"},\"title\":{\"x\":0.05},\"mapbox\":{\"style\":\"light\"}}},\"xaxis\":{\"anchor\":\"y\",\"domain\":[0.0,1.0],\"title\":{\"text\":\"Genres\"}},\"yaxis\":{\"anchor\":\"x\",\"domain\":[0.0,1.0],\"title\":{\"text\":\"Missing Percentage\"}},\"legend\":{\"tracegroupgap\":0},\"title\":{\"text\":\"Top 10 Genres with the Highest Percentage of Missing MPA Ratings\"},\"barmode\":\"relative\"},                        {\"responsive\": true}                    ).then(function(){\n",
       "                            \n",
       "var gd = document.getElementById('b3f23878-fd56-4077-a09c-7382e97a0eb5');\n",
       "var x = new MutationObserver(function (mutations, observer) {{\n",
       "        var display = window.getComputedStyle(gd).display;\n",
       "        if (!display || display === 'none') {{\n",
       "            console.log([gd, 'removed!']);\n",
       "            Plotly.purge(gd);\n",
       "            observer.disconnect();\n",
       "        }}\n",
       "}});\n",
       "\n",
       "// Listen for the removal of the full notebook cells\n",
       "var notebookContainer = gd.closest('#notebook-container');\n",
       "if (notebookContainer) {{\n",
       "    x.observe(notebookContainer, {childList: true});\n",
       "}}\n",
       "\n",
       "// Listen for the clearing of the current output cell\n",
       "var outputEl = gd.closest('.output');\n",
       "if (outputEl) {{\n",
       "    x.observe(outputEl, {childList: true});\n",
       "}}\n",
       "\n",
       "                        })                };                });            </script>        </div>"
      ]
     },
     "metadata": {},
     "output_type": "display_data"
    }
   ],
   "source": [
    "mpa_missing_pct = df.explode('genres').groupby('genres')['MPA'].apply(lambda x: x.isnull().mean() * 100).sort_values(ascending = False).head(10).reset_index(name = 'Missing Percentage')\n",
    "fig = px.bar(\n",
    "    mpa_missing_pct, \n",
    "    x = 'genres',\n",
    "    y = 'Missing Percentage',\n",
    "    labels = {'genres' : 'Genres'},\n",
    "    title = 'Top 10 Genres with the Highest Percentage of Missing MPA Ratings'\n",
    ")\n",
    "fig.show()"
   ]
  },
  {
   "cell_type": "code",
   "execution_count": 125,
   "id": "480973a6-c7ff-48bb-a7dd-e50ee9f1b552",
   "metadata": {},
   "outputs": [],
   "source": [
    "def collections(number):\n",
    "    \"\"\"This function is used to convert the box office collection values into more readable format\"\"\"\n",
    "    if number >= 1000:\n",
    "        return '$' + str(round(float(number / 1000), 2)) + ' Billion'\n",
    "    else:\n",
    "        return '$' + str(round(float(number), 2)) + ' Million'"
   ]
  },
  {
   "cell_type": "code",
   "execution_count": 126,
   "id": "75282ee3-4dad-45af-8ad0-0f195d56862e",
   "metadata": {},
   "outputs": [
    {
     "data": {
      "text/html": [
       "<div>\n",
       "<style scoped>\n",
       "    .dataframe tbody tr th:only-of-type {\n",
       "        vertical-align: middle;\n",
       "    }\n",
       "\n",
       "    .dataframe tbody tr th {\n",
       "        vertical-align: top;\n",
       "    }\n",
       "\n",
       "    .dataframe thead th {\n",
       "        text-align: right;\n",
       "    }\n",
       "</style>\n",
       "<table border=\"1\" class=\"dataframe\">\n",
       "  <thead>\n",
       "    <tr style=\"text-align: right;\">\n",
       "      <th></th>\n",
       "      <th>MPA_Missing?</th>\n",
       "      <th>Average Worldwide Collections</th>\n",
       "    </tr>\n",
       "  </thead>\n",
       "  <tbody>\n",
       "    <tr>\n",
       "      <th>0</th>\n",
       "      <td>False</td>\n",
       "      <td>$50.75 Million</td>\n",
       "    </tr>\n",
       "    <tr>\n",
       "      <th>1</th>\n",
       "      <td>True</td>\n",
       "      <td>$7.03 Million</td>\n",
       "    </tr>\n",
       "  </tbody>\n",
       "</table>\n",
       "</div>"
      ],
      "text/plain": [
       "   MPA_Missing? Average Worldwide Collections\n",
       "0         False                $50.75 Million\n",
       "1          True                 $7.03 Million"
      ]
     },
     "execution_count": 126,
     "metadata": {},
     "output_type": "execute_result"
    }
   ],
   "source": [
    "mpa_analysis_df = df.groupby(df['MPA'].isnull())['grossWorldWide'].mean().reset_index().rename(columns = {'MPA' : 'MPA_Missing?', 'grossWorldWide' : 'Average Worldwide Collections'})\n",
    "mpa_analysis_df['Average Worldwide Collections'] = mpa_analysis_df['Average Worldwide Collections'] / 1000000\n",
    "mpa_analysis_df['Average Worldwide Collections'] = mpa_analysis_df['Average Worldwide Collections'].apply(collections)\n",
    "mpa_analysis_df"
   ]
  },
  {
   "cell_type": "code",
   "execution_count": 127,
   "id": "ae1d8868-d609-47a9-be76-400ff4594398",
   "metadata": {},
   "outputs": [
    {
     "data": {
      "text/plain": [
       "MPA\n",
       "False    5.075369e+07\n",
       "True     7.032570e+06\n",
       "Name: grossWorldWide, dtype: float64"
      ]
     },
     "execution_count": 127,
     "metadata": {},
     "output_type": "execute_result"
    }
   ],
   "source": [
    "df.groupby(df['MPA'].isnull())['grossWorldWide'].mean()"
   ]
  },
  {
   "cell_type": "markdown",
   "id": "e69840eb-2d3f-4ff6-9906-eb1fdc1cb658",
   "metadata": {},
   "source": [
    "### Conclusion of Missing MPA Rating Values Analysis\n",
    "-  `Most of the genres which have missing MPA values are Low-Budget or Niche Categories`\n",
    "-  Some of these are - \n",
    "1) Documentary-related genres (like Food Documentary, Music Documentary, etc.)\n",
    "3) Low-production-cost genres (Reality TV, News, Concert, etc.)\n",
    "\n",
    "- Also, movies with no MPA ratings have lesser performance in Box Office than movies with MPA ratings.\n",
    "- So, most of these are small and independent films."
   ]
  },
  {
   "cell_type": "markdown",
   "id": "b310db92-5e9f-4f33-ae42-d2f3407469ec",
   "metadata": {},
   "source": [
    "### Filling missing values in the columns - MPA, 'directors', 'stars', 'writers', 'genres', 'countries_origin', 'filming_locations', 'production_companies' and 'Languages'"
   ]
  },
  {
   "cell_type": "code",
   "execution_count": 128,
   "id": "163c51f1-fa80-4468-adee-b5aa8d96ff8f",
   "metadata": {},
   "outputs": [],
   "source": [
    "df.loc[df['MPA'].isnull(), 'MPA'] = 'Unknown'"
   ]
  },
  {
   "cell_type": "code",
   "execution_count": 129,
   "id": "deff2540-5d48-4d8b-8c3d-3a2414fa35fa",
   "metadata": {},
   "outputs": [
    {
     "data": {
      "text/plain": [
       "2.2956495559235286"
      ]
     },
     "execution_count": 129,
     "metadata": {},
     "output_type": "execute_result"
    }
   ],
   "source": [
    "# Finding percentage of missing values in directors column\n",
    "df[df['directors'].apply(len) == 0].shape[0] / df.shape[0] * 100"
   ]
  },
  {
   "cell_type": "code",
   "execution_count": 130,
   "id": "9ef762f0-4ce5-48bf-adab-092c2723ae6c",
   "metadata": {},
   "outputs": [],
   "source": [
    "# Filling missing values in directors column\n",
    "df.loc[df['directors'].apply(len) == 0, 'directors'] = 'Unknown'"
   ]
  },
  {
   "cell_type": "code",
   "execution_count": 131,
   "id": "9b726d42-af6f-409c-94b5-6937c72b1eea",
   "metadata": {},
   "outputs": [
    {
     "data": {
      "text/plain": [
       "3.1010085804606353"
      ]
     },
     "execution_count": 131,
     "metadata": {},
     "output_type": "execute_result"
    }
   ],
   "source": [
    "# Finding percentage of missing values in stars column\n",
    "df[df['stars'].apply(len) == 0].shape[0] / df.shape[0] * 100"
   ]
  },
  {
   "cell_type": "code",
   "execution_count": 132,
   "id": "49b3dabd-429e-46d3-b047-fa46df77feba",
   "metadata": {},
   "outputs": [],
   "source": [
    "# Filling missing values in stars column\n",
    "df.loc[df['stars'].apply(len) == 0, 'stars'] = 'Unknown'"
   ]
  },
  {
   "cell_type": "code",
   "execution_count": 133,
   "id": "b4a94f35-d469-4b8e-a209-3672cffd6e2d",
   "metadata": {},
   "outputs": [
    {
     "data": {
      "text/plain": [
       "8.279391841035677"
      ]
     },
     "execution_count": 133,
     "metadata": {},
     "output_type": "execute_result"
    }
   ],
   "source": [
    "# Finding percentage of missing values in writers column\n",
    "df[df['writers'].apply(len) == 0].shape[0] / df.shape[0] * 100"
   ]
  },
  {
   "cell_type": "code",
   "execution_count": 134,
   "id": "3f27f072-ca12-4480-9e9e-987bead745aa",
   "metadata": {},
   "outputs": [],
   "source": [
    "# Filling missing values in writers column\n",
    "df.loc[df['writers'].apply(len) == 0, 'writers'] = 'Unknown'"
   ]
  },
  {
   "cell_type": "code",
   "execution_count": 135,
   "id": "2d237bf7-cb83-4ab4-93a8-2bd5dcc2414f",
   "metadata": {},
   "outputs": [
    {
     "data": {
      "text/plain": [
       "2.1827487580912237"
      ]
     },
     "execution_count": 135,
     "metadata": {},
     "output_type": "execute_result"
    }
   ],
   "source": [
    "# Finding percentage of missing values in genres column\n",
    "df[df['genres'].apply(len) == 0].shape[0] / df.shape[0] * 100"
   ]
  },
  {
   "cell_type": "code",
   "execution_count": 136,
   "id": "e4326c6a-7fba-4e03-ad3f-579612387acf",
   "metadata": {},
   "outputs": [],
   "source": [
    "# Filling missing values in genres column\n",
    "df.loc[df['genres'].apply(len) == 0, 'genres'] = 'Unknown'"
   ]
  },
  {
   "cell_type": "code",
   "execution_count": 137,
   "id": "fb6cb800-eea1-4900-8018-71b3ff99e87d",
   "metadata": {},
   "outputs": [
    {
     "data": {
      "text/plain": [
       "2.431130513322294"
      ]
     },
     "execution_count": 137,
     "metadata": {},
     "output_type": "execute_result"
    }
   ],
   "source": [
    "# Finding percentage of missing values in countries_origin column\n",
    "df[df['countries_origin'].apply(len) == 0].shape[0] / df.shape[0] * 100"
   ]
  },
  {
   "cell_type": "code",
   "execution_count": 138,
   "id": "5dab8e5d-a92e-46d7-b7a8-2a4aead9a762",
   "metadata": {},
   "outputs": [],
   "source": [
    "# Filling missing values in countries_origin column\n",
    "df.loc[df['countries_origin'].apply(len) == 0, 'countries_origin'] = 'Unknown'"
   ]
  },
  {
   "cell_type": "code",
   "execution_count": 139,
   "id": "3eb3999c-f669-4692-9f1e-f9b5425da694",
   "metadata": {},
   "outputs": [
    {
     "data": {
      "text/plain": [
       "20.736113201866626"
      ]
     },
     "execution_count": 139,
     "metadata": {},
     "output_type": "execute_result"
    }
   ],
   "source": [
    "# Finding percentage of missing values in filming_locations column\n",
    "df[df['filming_locations'].apply(len) == 0].shape[0] / df.shape[0] * 100"
   ]
  },
  {
   "cell_type": "code",
   "execution_count": 140,
   "id": "bd31b113-e5b0-4128-89b8-e0ea80c9b780",
   "metadata": {},
   "outputs": [],
   "source": [
    "# Filling missing values in filming_locations column\n",
    "df.loc[df['filming_locations'].apply(len) == 0, 'filming_locations'] = 'Unknown'"
   ]
  },
  {
   "cell_type": "code",
   "execution_count": 141,
   "id": "328f5339-d01c-416e-926a-099055f3f888",
   "metadata": {},
   "outputs": [
    {
     "data": {
      "text/plain": [
       "4.455818154448291"
      ]
     },
     "execution_count": 141,
     "metadata": {},
     "output_type": "execute_result"
    }
   ],
   "source": [
    "# Finding percentage of missing values in production_companies column\n",
    "df[df['production_companies'].apply(len) == 0].shape[0] / df.shape[0] * 100"
   ]
  },
  {
   "cell_type": "code",
   "execution_count": 142,
   "id": "a9f6c9f4-4b3c-43ce-b299-8a40dcc9b5b3",
   "metadata": {},
   "outputs": [],
   "source": [
    "# Filling missing values in production_companies column\n",
    "df.loc[df['production_companies'].apply(len) == 0, 'production_companies'] = 'Unknown'"
   ]
  },
  {
   "cell_type": "code",
   "execution_count": 143,
   "id": "1bf4c07e-5b51-44fd-bf25-bb9cf39fde14",
   "metadata": {},
   "outputs": [
    {
     "data": {
      "text/plain": [
       "2.867680264940539"
      ]
     },
     "execution_count": 143,
     "metadata": {},
     "output_type": "execute_result"
    }
   ],
   "source": [
    "# Finding percentage of missing values in Languages column\n",
    "df[df['Languages'].apply(len) == 0].shape[0] / df.shape[0] * 100"
   ]
  },
  {
   "cell_type": "code",
   "execution_count": 144,
   "id": "f2462faf-8ccc-446c-8941-c4a94df37927",
   "metadata": {},
   "outputs": [],
   "source": [
    "# Filling missing values in Languages column\n",
    "df.loc[df['Languages'].apply(len) == 0, 'Languages'] = 'Unknown'"
   ]
  },
  {
   "cell_type": "markdown",
   "id": "a0aace48-6ae7-49f7-a032-c1a543cc2b7d",
   "metadata": {},
   "source": [
    "# Converting values in Votes, Duration, MPA and Title columns to correct format"
   ]
  },
  {
   "cell_type": "code",
   "execution_count": 145,
   "id": "2fe28dcb-d554-45e5-b479-9ead7d03a087",
   "metadata": {},
   "outputs": [],
   "source": [
    "# Changing dtype of MPA column to 'category'\n",
    "df['MPA'] = df['MPA'].astype(\"category\")"
   ]
  },
  {
   "cell_type": "code",
   "execution_count": 146,
   "id": "7f30f3a8-9be1-4389-aed9-fa0fa1bde118",
   "metadata": {},
   "outputs": [],
   "source": [
    "def convert_votes(value):\n",
    "    \"\"\"\n",
    "    This Function is used to convert values in votes column to numerical format\n",
    "    \"\"\"\n",
    "    if 'K' in value:\n",
    "        return float(value.replace('K', '')) * 1000\n",
    "    elif 'M' in value:\n",
    "        return float(value.replace('M', '')) * 1000000\n",
    "    else:\n",
    "        return float(value)"
   ]
  },
  {
   "cell_type": "code",
   "execution_count": 147,
   "id": "3f28b144-bcab-4c23-9086-10cfb5f5e3a4",
   "metadata": {},
   "outputs": [],
   "source": [
    "df['Votes'] = df['Votes'].apply(convert_votes)"
   ]
  },
  {
   "cell_type": "code",
   "execution_count": 148,
   "id": "9b6b8420-2aa7-4320-9c01-42b800ccf1b4",
   "metadata": {},
   "outputs": [],
   "source": [
    "import re  # For extracting numbers from the string\n",
    "\n",
    "def convert_duration(duration):\n",
    "    \"\"\"\n",
    "    Function to convert duration column into correct form (i.e., in minutes)\n",
    "    \"\"\"\n",
    "    match = re.match(r'(?:(\\d+)h)?\\s*(?:(\\d+)m)?', duration)  # Extract hours and minutes\n",
    "    if match:\n",
    "        hours = int(match.group(1)) if match.group(1) else 0  # If hours exist, use them\n",
    "        minutes = int(match.group(2)) if match.group(2) else 0  # If minutes exist, use them\n",
    "        return hours * 60 + minutes\n",
    "    return None  # Handle unexpected formats"
   ]
  },
  {
   "cell_type": "code",
   "execution_count": 149,
   "id": "d6f2eaa0-2bfe-494c-8aad-23debe1419ee",
   "metadata": {},
   "outputs": [],
   "source": [
    "df['Duration'] = df['Duration'].apply(convert_duration).astype(int)"
   ]
  },
  {
   "cell_type": "code",
   "execution_count": 150,
   "id": "ce96571b-bfad-45ce-9af9-5d3a65d9210c",
   "metadata": {},
   "outputs": [],
   "source": [
    "def clean_title(title):\n",
    "    \"\"\"\n",
    "    Function to remove the arbitrary numbers from the movie titles which are present at the start of each value.\n",
    "    \"\"\"\n",
    "    return re.sub(r'^\\d+\\.\\s*', '', title)"
   ]
  },
  {
   "cell_type": "code",
   "execution_count": 151,
   "id": "7934d359-0ac9-44da-93cd-0d0321ad8088",
   "metadata": {},
   "outputs": [],
   "source": [
    "df['Title'] = df['Title'].apply(clean_title)"
   ]
  },
  {
   "cell_type": "markdown",
   "id": "a5f22969-4d0b-48cb-b1cd-8ac9a1045865",
   "metadata": {},
   "source": [
    "# Analysis of Missing Gross Worldwide, US & Canada and Opening weekend collection values"
   ]
  },
  {
   "cell_type": "code",
   "execution_count": 152,
   "id": "ba1a088d-3334-4fb6-92c5-af631585d6ed",
   "metadata": {},
   "outputs": [
    {
     "name": "stdout",
     "output_type": "stream",
     "text": [
      "Percentage of movies with missing grossWorldWide also missing gross_US_Canada: 99.45%\n",
      "\n",
      "Percentage of movies with missing opening_weekend_Gross also missing gross_US_Canada: 73.55%\n",
      "\n",
      "Percentage of movies with missing gross_US_Canada also missing opening_weekend_Gross: 100.00%\n"
     ]
    }
   ],
   "source": [
    "temp = df[df['grossWorldWide'].isnull()]['gross_US_Canada'].isnull().mean()\n",
    "print(f\"Percentage of movies with missing grossWorldWide also missing gross_US_Canada: {temp:.2%}\\n\")\n",
    "\n",
    "temp = df[df['opening_weekend_Gross'].isnull()]['gross_US_Canada'].isnull().mean()\n",
    "print(f\"Percentage of movies with missing opening_weekend_Gross also missing gross_US_Canada: {temp:.2%}\\n\")\n",
    "\n",
    "temp = df[df['gross_US_Canada'].isnull()]['opening_weekend_Gross'].isnull().mean()\n",
    "print(f\"Percentage of movies with missing gross_US_Canada also missing opening_weekend_Gross: {temp:.2%}\")"
   ]
  },
  {
   "cell_type": "markdown",
   "id": "40456ef1-eb84-4394-969a-63dc91b5704c",
   "metadata": {},
   "source": [
    "- So, if a row has a missing collection value, then there is extremely high chance that it's other collection values are also missing."
   ]
  },
  {
   "cell_type": "code",
   "execution_count": 153,
   "id": "7c430ae1-38f8-460c-9bef-8433ac96808b",
   "metadata": {},
   "outputs": [
    {
     "data": {
      "application/vnd.plotly.v1+json": {
       "config": {
        "plotlyServerURL": "https://plot.ly"
       },
       "data": [
        {
         "alignmentgroup": "True",
         "hovertemplate": "Country=%{x}<br>% of contribution=%{y}<extra></extra>",
         "legendgroup": "",
         "marker": {
          "color": "#636efa",
          "pattern": {
           "shape": ""
          }
         },
         "name": "",
         "offsetgroup": "",
         "orientation": "v",
         "showlegend": false,
         "textposition": "auto",
         "type": "bar",
         "x": [
          "United States",
          "United Kingdom",
          "Canada",
          "India",
          "Japan"
         ],
         "xaxis": "x",
         "y": [
          59.55056179775281,
          6.866416978776529,
          5.493133583021224,
          3.870162297128589,
          2.871410736579276
         ],
         "yaxis": "y"
        }
       ],
       "layout": {
        "autosize": true,
        "barmode": "relative",
        "legend": {
         "tracegroupgap": 0
        },
        "template": {
         "data": {
          "bar": [
           {
            "error_x": {
             "color": "#2a3f5f"
            },
            "error_y": {
             "color": "#2a3f5f"
            },
            "marker": {
             "line": {
              "color": "#E5ECF6",
              "width": 0.5
             },
             "pattern": {
              "fillmode": "overlay",
              "size": 10,
              "solidity": 0.2
             }
            },
            "type": "bar"
           }
          ],
          "barpolar": [
           {
            "marker": {
             "line": {
              "color": "#E5ECF6",
              "width": 0.5
             },
             "pattern": {
              "fillmode": "overlay",
              "size": 10,
              "solidity": 0.2
             }
            },
            "type": "barpolar"
           }
          ],
          "carpet": [
           {
            "aaxis": {
             "endlinecolor": "#2a3f5f",
             "gridcolor": "white",
             "linecolor": "white",
             "minorgridcolor": "white",
             "startlinecolor": "#2a3f5f"
            },
            "baxis": {
             "endlinecolor": "#2a3f5f",
             "gridcolor": "white",
             "linecolor": "white",
             "minorgridcolor": "white",
             "startlinecolor": "#2a3f5f"
            },
            "type": "carpet"
           }
          ],
          "choropleth": [
           {
            "colorbar": {
             "outlinewidth": 0,
             "ticks": ""
            },
            "type": "choropleth"
           }
          ],
          "contour": [
           {
            "colorbar": {
             "outlinewidth": 0,
             "ticks": ""
            },
            "colorscale": [
             [
              0,
              "#0d0887"
             ],
             [
              0.1111111111111111,
              "#46039f"
             ],
             [
              0.2222222222222222,
              "#7201a8"
             ],
             [
              0.3333333333333333,
              "#9c179e"
             ],
             [
              0.4444444444444444,
              "#bd3786"
             ],
             [
              0.5555555555555556,
              "#d8576b"
             ],
             [
              0.6666666666666666,
              "#ed7953"
             ],
             [
              0.7777777777777778,
              "#fb9f3a"
             ],
             [
              0.8888888888888888,
              "#fdca26"
             ],
             [
              1,
              "#f0f921"
             ]
            ],
            "type": "contour"
           }
          ],
          "contourcarpet": [
           {
            "colorbar": {
             "outlinewidth": 0,
             "ticks": ""
            },
            "type": "contourcarpet"
           }
          ],
          "heatmap": [
           {
            "colorbar": {
             "outlinewidth": 0,
             "ticks": ""
            },
            "colorscale": [
             [
              0,
              "#0d0887"
             ],
             [
              0.1111111111111111,
              "#46039f"
             ],
             [
              0.2222222222222222,
              "#7201a8"
             ],
             [
              0.3333333333333333,
              "#9c179e"
             ],
             [
              0.4444444444444444,
              "#bd3786"
             ],
             [
              0.5555555555555556,
              "#d8576b"
             ],
             [
              0.6666666666666666,
              "#ed7953"
             ],
             [
              0.7777777777777778,
              "#fb9f3a"
             ],
             [
              0.8888888888888888,
              "#fdca26"
             ],
             [
              1,
              "#f0f921"
             ]
            ],
            "type": "heatmap"
           }
          ],
          "heatmapgl": [
           {
            "colorbar": {
             "outlinewidth": 0,
             "ticks": ""
            },
            "colorscale": [
             [
              0,
              "#0d0887"
             ],
             [
              0.1111111111111111,
              "#46039f"
             ],
             [
              0.2222222222222222,
              "#7201a8"
             ],
             [
              0.3333333333333333,
              "#9c179e"
             ],
             [
              0.4444444444444444,
              "#bd3786"
             ],
             [
              0.5555555555555556,
              "#d8576b"
             ],
             [
              0.6666666666666666,
              "#ed7953"
             ],
             [
              0.7777777777777778,
              "#fb9f3a"
             ],
             [
              0.8888888888888888,
              "#fdca26"
             ],
             [
              1,
              "#f0f921"
             ]
            ],
            "type": "heatmapgl"
           }
          ],
          "histogram": [
           {
            "marker": {
             "pattern": {
              "fillmode": "overlay",
              "size": 10,
              "solidity": 0.2
             }
            },
            "type": "histogram"
           }
          ],
          "histogram2d": [
           {
            "colorbar": {
             "outlinewidth": 0,
             "ticks": ""
            },
            "colorscale": [
             [
              0,
              "#0d0887"
             ],
             [
              0.1111111111111111,
              "#46039f"
             ],
             [
              0.2222222222222222,
              "#7201a8"
             ],
             [
              0.3333333333333333,
              "#9c179e"
             ],
             [
              0.4444444444444444,
              "#bd3786"
             ],
             [
              0.5555555555555556,
              "#d8576b"
             ],
             [
              0.6666666666666666,
              "#ed7953"
             ],
             [
              0.7777777777777778,
              "#fb9f3a"
             ],
             [
              0.8888888888888888,
              "#fdca26"
             ],
             [
              1,
              "#f0f921"
             ]
            ],
            "type": "histogram2d"
           }
          ],
          "histogram2dcontour": [
           {
            "colorbar": {
             "outlinewidth": 0,
             "ticks": ""
            },
            "colorscale": [
             [
              0,
              "#0d0887"
             ],
             [
              0.1111111111111111,
              "#46039f"
             ],
             [
              0.2222222222222222,
              "#7201a8"
             ],
             [
              0.3333333333333333,
              "#9c179e"
             ],
             [
              0.4444444444444444,
              "#bd3786"
             ],
             [
              0.5555555555555556,
              "#d8576b"
             ],
             [
              0.6666666666666666,
              "#ed7953"
             ],
             [
              0.7777777777777778,
              "#fb9f3a"
             ],
             [
              0.8888888888888888,
              "#fdca26"
             ],
             [
              1,
              "#f0f921"
             ]
            ],
            "type": "histogram2dcontour"
           }
          ],
          "mesh3d": [
           {
            "colorbar": {
             "outlinewidth": 0,
             "ticks": ""
            },
            "type": "mesh3d"
           }
          ],
          "parcoords": [
           {
            "line": {
             "colorbar": {
              "outlinewidth": 0,
              "ticks": ""
             }
            },
            "type": "parcoords"
           }
          ],
          "pie": [
           {
            "automargin": true,
            "type": "pie"
           }
          ],
          "scatter": [
           {
            "fillpattern": {
             "fillmode": "overlay",
             "size": 10,
             "solidity": 0.2
            },
            "type": "scatter"
           }
          ],
          "scatter3d": [
           {
            "line": {
             "colorbar": {
              "outlinewidth": 0,
              "ticks": ""
             }
            },
            "marker": {
             "colorbar": {
              "outlinewidth": 0,
              "ticks": ""
             }
            },
            "type": "scatter3d"
           }
          ],
          "scattercarpet": [
           {
            "marker": {
             "colorbar": {
              "outlinewidth": 0,
              "ticks": ""
             }
            },
            "type": "scattercarpet"
           }
          ],
          "scattergeo": [
           {
            "marker": {
             "colorbar": {
              "outlinewidth": 0,
              "ticks": ""
             }
            },
            "type": "scattergeo"
           }
          ],
          "scattergl": [
           {
            "marker": {
             "colorbar": {
              "outlinewidth": 0,
              "ticks": ""
             }
            },
            "type": "scattergl"
           }
          ],
          "scattermapbox": [
           {
            "marker": {
             "colorbar": {
              "outlinewidth": 0,
              "ticks": ""
             }
            },
            "type": "scattermapbox"
           }
          ],
          "scatterpolar": [
           {
            "marker": {
             "colorbar": {
              "outlinewidth": 0,
              "ticks": ""
             }
            },
            "type": "scatterpolar"
           }
          ],
          "scatterpolargl": [
           {
            "marker": {
             "colorbar": {
              "outlinewidth": 0,
              "ticks": ""
             }
            },
            "type": "scatterpolargl"
           }
          ],
          "scatterternary": [
           {
            "marker": {
             "colorbar": {
              "outlinewidth": 0,
              "ticks": ""
             }
            },
            "type": "scatterternary"
           }
          ],
          "surface": [
           {
            "colorbar": {
             "outlinewidth": 0,
             "ticks": ""
            },
            "colorscale": [
             [
              0,
              "#0d0887"
             ],
             [
              0.1111111111111111,
              "#46039f"
             ],
             [
              0.2222222222222222,
              "#7201a8"
             ],
             [
              0.3333333333333333,
              "#9c179e"
             ],
             [
              0.4444444444444444,
              "#bd3786"
             ],
             [
              0.5555555555555556,
              "#d8576b"
             ],
             [
              0.6666666666666666,
              "#ed7953"
             ],
             [
              0.7777777777777778,
              "#fb9f3a"
             ],
             [
              0.8888888888888888,
              "#fdca26"
             ],
             [
              1,
              "#f0f921"
             ]
            ],
            "type": "surface"
           }
          ],
          "table": [
           {
            "cells": {
             "fill": {
              "color": "#EBF0F8"
             },
             "line": {
              "color": "white"
             }
            },
            "header": {
             "fill": {
              "color": "#C8D4E3"
             },
             "line": {
              "color": "white"
             }
            },
            "type": "table"
           }
          ]
         },
         "layout": {
          "annotationdefaults": {
           "arrowcolor": "#2a3f5f",
           "arrowhead": 0,
           "arrowwidth": 1
          },
          "autotypenumbers": "strict",
          "coloraxis": {
           "colorbar": {
            "outlinewidth": 0,
            "ticks": ""
           }
          },
          "colorscale": {
           "diverging": [
            [
             0,
             "#8e0152"
            ],
            [
             0.1,
             "#c51b7d"
            ],
            [
             0.2,
             "#de77ae"
            ],
            [
             0.3,
             "#f1b6da"
            ],
            [
             0.4,
             "#fde0ef"
            ],
            [
             0.5,
             "#f7f7f7"
            ],
            [
             0.6,
             "#e6f5d0"
            ],
            [
             0.7,
             "#b8e186"
            ],
            [
             0.8,
             "#7fbc41"
            ],
            [
             0.9,
             "#4d9221"
            ],
            [
             1,
             "#276419"
            ]
           ],
           "sequential": [
            [
             0,
             "#0d0887"
            ],
            [
             0.1111111111111111,
             "#46039f"
            ],
            [
             0.2222222222222222,
             "#7201a8"
            ],
            [
             0.3333333333333333,
             "#9c179e"
            ],
            [
             0.4444444444444444,
             "#bd3786"
            ],
            [
             0.5555555555555556,
             "#d8576b"
            ],
            [
             0.6666666666666666,
             "#ed7953"
            ],
            [
             0.7777777777777778,
             "#fb9f3a"
            ],
            [
             0.8888888888888888,
             "#fdca26"
            ],
            [
             1,
             "#f0f921"
            ]
           ],
           "sequentialminus": [
            [
             0,
             "#0d0887"
            ],
            [
             0.1111111111111111,
             "#46039f"
            ],
            [
             0.2222222222222222,
             "#7201a8"
            ],
            [
             0.3333333333333333,
             "#9c179e"
            ],
            [
             0.4444444444444444,
             "#bd3786"
            ],
            [
             0.5555555555555556,
             "#d8576b"
            ],
            [
             0.6666666666666666,
             "#ed7953"
            ],
            [
             0.7777777777777778,
             "#fb9f3a"
            ],
            [
             0.8888888888888888,
             "#fdca26"
            ],
            [
             1,
             "#f0f921"
            ]
           ]
          },
          "colorway": [
           "#636efa",
           "#EF553B",
           "#00cc96",
           "#ab63fa",
           "#FFA15A",
           "#19d3f3",
           "#FF6692",
           "#B6E880",
           "#FF97FF",
           "#FECB52"
          ],
          "font": {
           "color": "#2a3f5f"
          },
          "geo": {
           "bgcolor": "white",
           "lakecolor": "white",
           "landcolor": "#E5ECF6",
           "showlakes": true,
           "showland": true,
           "subunitcolor": "white"
          },
          "hoverlabel": {
           "align": "left"
          },
          "hovermode": "closest",
          "mapbox": {
           "style": "light"
          },
          "paper_bgcolor": "white",
          "plot_bgcolor": "#E5ECF6",
          "polar": {
           "angularaxis": {
            "gridcolor": "white",
            "linecolor": "white",
            "ticks": ""
           },
           "bgcolor": "#E5ECF6",
           "radialaxis": {
            "gridcolor": "white",
            "linecolor": "white",
            "ticks": ""
           }
          },
          "scene": {
           "xaxis": {
            "backgroundcolor": "#E5ECF6",
            "gridcolor": "white",
            "gridwidth": 2,
            "linecolor": "white",
            "showbackground": true,
            "ticks": "",
            "zerolinecolor": "white"
           },
           "yaxis": {
            "backgroundcolor": "#E5ECF6",
            "gridcolor": "white",
            "gridwidth": 2,
            "linecolor": "white",
            "showbackground": true,
            "ticks": "",
            "zerolinecolor": "white"
           },
           "zaxis": {
            "backgroundcolor": "#E5ECF6",
            "gridcolor": "white",
            "gridwidth": 2,
            "linecolor": "white",
            "showbackground": true,
            "ticks": "",
            "zerolinecolor": "white"
           }
          },
          "shapedefaults": {
           "line": {
            "color": "#2a3f5f"
           }
          },
          "ternary": {
           "aaxis": {
            "gridcolor": "white",
            "linecolor": "white",
            "ticks": ""
           },
           "baxis": {
            "gridcolor": "white",
            "linecolor": "white",
            "ticks": ""
           },
           "bgcolor": "#E5ECF6",
           "caxis": {
            "gridcolor": "white",
            "linecolor": "white",
            "ticks": ""
           }
          },
          "title": {
           "x": 0.05
          },
          "xaxis": {
           "automargin": true,
           "gridcolor": "white",
           "linecolor": "white",
           "ticks": "",
           "title": {
            "standoff": 15
           },
           "zerolinecolor": "white",
           "zerolinewidth": 2
          },
          "yaxis": {
           "automargin": true,
           "gridcolor": "white",
           "linecolor": "white",
           "ticks": "",
           "title": {
            "standoff": 15
           },
           "zerolinecolor": "white",
           "zerolinewidth": 2
          }
         }
        },
        "title": {
         "text": "Top 5 Countries Contributing to Missing Worldwide Collection Data"
        },
        "xaxis": {
         "anchor": "y",
         "autorange": true,
         "domain": [
          0,
          1
         ],
         "range": [
          -0.5,
          4.5
         ],
         "title": {
          "text": "Country"
         },
         "type": "category"
        },
        "yaxis": {
         "anchor": "x",
         "autorange": true,
         "domain": [
          0,
          1
         ],
         "range": [
          0,
          62.68480189237138
         ],
         "title": {
          "text": "% of contribution"
         },
         "type": "linear"
        }
       }
      },
      "text/html": [
       "<div>                            <div id=\"a0edf879-33ff-46f3-9305-c11548402383\" class=\"plotly-graph-div\" style=\"height:525px; width:100%;\"></div>            <script type=\"text/javascript\">                require([\"plotly\"], function(Plotly) {                    window.PLOTLYENV=window.PLOTLYENV || {};                                    if (document.getElementById(\"a0edf879-33ff-46f3-9305-c11548402383\")) {                    Plotly.newPlot(                        \"a0edf879-33ff-46f3-9305-c11548402383\",                        [{\"alignmentgroup\":\"True\",\"hovertemplate\":\"Country=%{x}\\u003cbr\\u003e% of contribution=%{y}\\u003cextra\\u003e\\u003c\\u002fextra\\u003e\",\"legendgroup\":\"\",\"marker\":{\"color\":\"#636efa\",\"pattern\":{\"shape\":\"\"}},\"name\":\"\",\"offsetgroup\":\"\",\"orientation\":\"v\",\"showlegend\":false,\"textposition\":\"auto\",\"x\":[\"United States\",\"United Kingdom\",\"Canada\",\"India\",\"Japan\"],\"xaxis\":\"x\",\"y\":[59.55056179775281,6.866416978776529,5.493133583021224,3.870162297128589,2.871410736579276],\"yaxis\":\"y\",\"type\":\"bar\"}],                        {\"template\":{\"data\":{\"histogram2dcontour\":[{\"type\":\"histogram2dcontour\",\"colorbar\":{\"outlinewidth\":0,\"ticks\":\"\"},\"colorscale\":[[0.0,\"#0d0887\"],[0.1111111111111111,\"#46039f\"],[0.2222222222222222,\"#7201a8\"],[0.3333333333333333,\"#9c179e\"],[0.4444444444444444,\"#bd3786\"],[0.5555555555555556,\"#d8576b\"],[0.6666666666666666,\"#ed7953\"],[0.7777777777777778,\"#fb9f3a\"],[0.8888888888888888,\"#fdca26\"],[1.0,\"#f0f921\"]]}],\"choropleth\":[{\"type\":\"choropleth\",\"colorbar\":{\"outlinewidth\":0,\"ticks\":\"\"}}],\"histogram2d\":[{\"type\":\"histogram2d\",\"colorbar\":{\"outlinewidth\":0,\"ticks\":\"\"},\"colorscale\":[[0.0,\"#0d0887\"],[0.1111111111111111,\"#46039f\"],[0.2222222222222222,\"#7201a8\"],[0.3333333333333333,\"#9c179e\"],[0.4444444444444444,\"#bd3786\"],[0.5555555555555556,\"#d8576b\"],[0.6666666666666666,\"#ed7953\"],[0.7777777777777778,\"#fb9f3a\"],[0.8888888888888888,\"#fdca26\"],[1.0,\"#f0f921\"]]}],\"heatmap\":[{\"type\":\"heatmap\",\"colorbar\":{\"outlinewidth\":0,\"ticks\":\"\"},\"colorscale\":[[0.0,\"#0d0887\"],[0.1111111111111111,\"#46039f\"],[0.2222222222222222,\"#7201a8\"],[0.3333333333333333,\"#9c179e\"],[0.4444444444444444,\"#bd3786\"],[0.5555555555555556,\"#d8576b\"],[0.6666666666666666,\"#ed7953\"],[0.7777777777777778,\"#fb9f3a\"],[0.8888888888888888,\"#fdca26\"],[1.0,\"#f0f921\"]]}],\"heatmapgl\":[{\"type\":\"heatmapgl\",\"colorbar\":{\"outlinewidth\":0,\"ticks\":\"\"},\"colorscale\":[[0.0,\"#0d0887\"],[0.1111111111111111,\"#46039f\"],[0.2222222222222222,\"#7201a8\"],[0.3333333333333333,\"#9c179e\"],[0.4444444444444444,\"#bd3786\"],[0.5555555555555556,\"#d8576b\"],[0.6666666666666666,\"#ed7953\"],[0.7777777777777778,\"#fb9f3a\"],[0.8888888888888888,\"#fdca26\"],[1.0,\"#f0f921\"]]}],\"contourcarpet\":[{\"type\":\"contourcarpet\",\"colorbar\":{\"outlinewidth\":0,\"ticks\":\"\"}}],\"contour\":[{\"type\":\"contour\",\"colorbar\":{\"outlinewidth\":0,\"ticks\":\"\"},\"colorscale\":[[0.0,\"#0d0887\"],[0.1111111111111111,\"#46039f\"],[0.2222222222222222,\"#7201a8\"],[0.3333333333333333,\"#9c179e\"],[0.4444444444444444,\"#bd3786\"],[0.5555555555555556,\"#d8576b\"],[0.6666666666666666,\"#ed7953\"],[0.7777777777777778,\"#fb9f3a\"],[0.8888888888888888,\"#fdca26\"],[1.0,\"#f0f921\"]]}],\"surface\":[{\"type\":\"surface\",\"colorbar\":{\"outlinewidth\":0,\"ticks\":\"\"},\"colorscale\":[[0.0,\"#0d0887\"],[0.1111111111111111,\"#46039f\"],[0.2222222222222222,\"#7201a8\"],[0.3333333333333333,\"#9c179e\"],[0.4444444444444444,\"#bd3786\"],[0.5555555555555556,\"#d8576b\"],[0.6666666666666666,\"#ed7953\"],[0.7777777777777778,\"#fb9f3a\"],[0.8888888888888888,\"#fdca26\"],[1.0,\"#f0f921\"]]}],\"mesh3d\":[{\"type\":\"mesh3d\",\"colorbar\":{\"outlinewidth\":0,\"ticks\":\"\"}}],\"scatter\":[{\"fillpattern\":{\"fillmode\":\"overlay\",\"size\":10,\"solidity\":0.2},\"type\":\"scatter\"}],\"parcoords\":[{\"type\":\"parcoords\",\"line\":{\"colorbar\":{\"outlinewidth\":0,\"ticks\":\"\"}}}],\"scatterpolargl\":[{\"type\":\"scatterpolargl\",\"marker\":{\"colorbar\":{\"outlinewidth\":0,\"ticks\":\"\"}}}],\"bar\":[{\"error_x\":{\"color\":\"#2a3f5f\"},\"error_y\":{\"color\":\"#2a3f5f\"},\"marker\":{\"line\":{\"color\":\"#E5ECF6\",\"width\":0.5},\"pattern\":{\"fillmode\":\"overlay\",\"size\":10,\"solidity\":0.2}},\"type\":\"bar\"}],\"scattergeo\":[{\"type\":\"scattergeo\",\"marker\":{\"colorbar\":{\"outlinewidth\":0,\"ticks\":\"\"}}}],\"scatterpolar\":[{\"type\":\"scatterpolar\",\"marker\":{\"colorbar\":{\"outlinewidth\":0,\"ticks\":\"\"}}}],\"histogram\":[{\"marker\":{\"pattern\":{\"fillmode\":\"overlay\",\"size\":10,\"solidity\":0.2}},\"type\":\"histogram\"}],\"scattergl\":[{\"type\":\"scattergl\",\"marker\":{\"colorbar\":{\"outlinewidth\":0,\"ticks\":\"\"}}}],\"scatter3d\":[{\"type\":\"scatter3d\",\"line\":{\"colorbar\":{\"outlinewidth\":0,\"ticks\":\"\"}},\"marker\":{\"colorbar\":{\"outlinewidth\":0,\"ticks\":\"\"}}}],\"scattermapbox\":[{\"type\":\"scattermapbox\",\"marker\":{\"colorbar\":{\"outlinewidth\":0,\"ticks\":\"\"}}}],\"scatterternary\":[{\"type\":\"scatterternary\",\"marker\":{\"colorbar\":{\"outlinewidth\":0,\"ticks\":\"\"}}}],\"scattercarpet\":[{\"type\":\"scattercarpet\",\"marker\":{\"colorbar\":{\"outlinewidth\":0,\"ticks\":\"\"}}}],\"carpet\":[{\"aaxis\":{\"endlinecolor\":\"#2a3f5f\",\"gridcolor\":\"white\",\"linecolor\":\"white\",\"minorgridcolor\":\"white\",\"startlinecolor\":\"#2a3f5f\"},\"baxis\":{\"endlinecolor\":\"#2a3f5f\",\"gridcolor\":\"white\",\"linecolor\":\"white\",\"minorgridcolor\":\"white\",\"startlinecolor\":\"#2a3f5f\"},\"type\":\"carpet\"}],\"table\":[{\"cells\":{\"fill\":{\"color\":\"#EBF0F8\"},\"line\":{\"color\":\"white\"}},\"header\":{\"fill\":{\"color\":\"#C8D4E3\"},\"line\":{\"color\":\"white\"}},\"type\":\"table\"}],\"barpolar\":[{\"marker\":{\"line\":{\"color\":\"#E5ECF6\",\"width\":0.5},\"pattern\":{\"fillmode\":\"overlay\",\"size\":10,\"solidity\":0.2}},\"type\":\"barpolar\"}],\"pie\":[{\"automargin\":true,\"type\":\"pie\"}]},\"layout\":{\"autotypenumbers\":\"strict\",\"colorway\":[\"#636efa\",\"#EF553B\",\"#00cc96\",\"#ab63fa\",\"#FFA15A\",\"#19d3f3\",\"#FF6692\",\"#B6E880\",\"#FF97FF\",\"#FECB52\"],\"font\":{\"color\":\"#2a3f5f\"},\"hovermode\":\"closest\",\"hoverlabel\":{\"align\":\"left\"},\"paper_bgcolor\":\"white\",\"plot_bgcolor\":\"#E5ECF6\",\"polar\":{\"bgcolor\":\"#E5ECF6\",\"angularaxis\":{\"gridcolor\":\"white\",\"linecolor\":\"white\",\"ticks\":\"\"},\"radialaxis\":{\"gridcolor\":\"white\",\"linecolor\":\"white\",\"ticks\":\"\"}},\"ternary\":{\"bgcolor\":\"#E5ECF6\",\"aaxis\":{\"gridcolor\":\"white\",\"linecolor\":\"white\",\"ticks\":\"\"},\"baxis\":{\"gridcolor\":\"white\",\"linecolor\":\"white\",\"ticks\":\"\"},\"caxis\":{\"gridcolor\":\"white\",\"linecolor\":\"white\",\"ticks\":\"\"}},\"coloraxis\":{\"colorbar\":{\"outlinewidth\":0,\"ticks\":\"\"}},\"colorscale\":{\"sequential\":[[0.0,\"#0d0887\"],[0.1111111111111111,\"#46039f\"],[0.2222222222222222,\"#7201a8\"],[0.3333333333333333,\"#9c179e\"],[0.4444444444444444,\"#bd3786\"],[0.5555555555555556,\"#d8576b\"],[0.6666666666666666,\"#ed7953\"],[0.7777777777777778,\"#fb9f3a\"],[0.8888888888888888,\"#fdca26\"],[1.0,\"#f0f921\"]],\"sequentialminus\":[[0.0,\"#0d0887\"],[0.1111111111111111,\"#46039f\"],[0.2222222222222222,\"#7201a8\"],[0.3333333333333333,\"#9c179e\"],[0.4444444444444444,\"#bd3786\"],[0.5555555555555556,\"#d8576b\"],[0.6666666666666666,\"#ed7953\"],[0.7777777777777778,\"#fb9f3a\"],[0.8888888888888888,\"#fdca26\"],[1.0,\"#f0f921\"]],\"diverging\":[[0,\"#8e0152\"],[0.1,\"#c51b7d\"],[0.2,\"#de77ae\"],[0.3,\"#f1b6da\"],[0.4,\"#fde0ef\"],[0.5,\"#f7f7f7\"],[0.6,\"#e6f5d0\"],[0.7,\"#b8e186\"],[0.8,\"#7fbc41\"],[0.9,\"#4d9221\"],[1,\"#276419\"]]},\"xaxis\":{\"gridcolor\":\"white\",\"linecolor\":\"white\",\"ticks\":\"\",\"title\":{\"standoff\":15},\"zerolinecolor\":\"white\",\"automargin\":true,\"zerolinewidth\":2},\"yaxis\":{\"gridcolor\":\"white\",\"linecolor\":\"white\",\"ticks\":\"\",\"title\":{\"standoff\":15},\"zerolinecolor\":\"white\",\"automargin\":true,\"zerolinewidth\":2},\"scene\":{\"xaxis\":{\"backgroundcolor\":\"#E5ECF6\",\"gridcolor\":\"white\",\"linecolor\":\"white\",\"showbackground\":true,\"ticks\":\"\",\"zerolinecolor\":\"white\",\"gridwidth\":2},\"yaxis\":{\"backgroundcolor\":\"#E5ECF6\",\"gridcolor\":\"white\",\"linecolor\":\"white\",\"showbackground\":true,\"ticks\":\"\",\"zerolinecolor\":\"white\",\"gridwidth\":2},\"zaxis\":{\"backgroundcolor\":\"#E5ECF6\",\"gridcolor\":\"white\",\"linecolor\":\"white\",\"showbackground\":true,\"ticks\":\"\",\"zerolinecolor\":\"white\",\"gridwidth\":2}},\"shapedefaults\":{\"line\":{\"color\":\"#2a3f5f\"}},\"annotationdefaults\":{\"arrowcolor\":\"#2a3f5f\",\"arrowhead\":0,\"arrowwidth\":1},\"geo\":{\"bgcolor\":\"white\",\"landcolor\":\"#E5ECF6\",\"subunitcolor\":\"white\",\"showland\":true,\"showlakes\":true,\"lakecolor\":\"white\"},\"title\":{\"x\":0.05},\"mapbox\":{\"style\":\"light\"}}},\"xaxis\":{\"anchor\":\"y\",\"domain\":[0.0,1.0],\"title\":{\"text\":\"Country\"}},\"yaxis\":{\"anchor\":\"x\",\"domain\":[0.0,1.0],\"title\":{\"text\":\"% of contribution\"}},\"legend\":{\"tracegroupgap\":0},\"title\":{\"text\":\"Top 5 Countries Contributing to Missing Worldwide Collection Data\"},\"barmode\":\"relative\"},                        {\"responsive\": true}                    ).then(function(){\n",
       "                            \n",
       "var gd = document.getElementById('a0edf879-33ff-46f3-9305-c11548402383');\n",
       "var x = new MutationObserver(function (mutations, observer) {{\n",
       "        var display = window.getComputedStyle(gd).display;\n",
       "        if (!display || display === 'none') {{\n",
       "            console.log([gd, 'removed!']);\n",
       "            Plotly.purge(gd);\n",
       "            observer.disconnect();\n",
       "        }}\n",
       "}});\n",
       "\n",
       "// Listen for the removal of the full notebook cells\n",
       "var notebookContainer = gd.closest('#notebook-container');\n",
       "if (notebookContainer) {{\n",
       "    x.observe(notebookContainer, {childList: true});\n",
       "}}\n",
       "\n",
       "// Listen for the clearing of the current output cell\n",
       "var outputEl = gd.closest('.output');\n",
       "if (outputEl) {{\n",
       "    x.observe(outputEl, {childList: true});\n",
       "}}\n",
       "\n",
       "                        })                };                });            </script>        </div>"
      ]
     },
     "metadata": {},
     "output_type": "display_data"
    }
   ],
   "source": [
    "country_df = df.explode(\"countries_origin\")\n",
    "country_df.drop_duplicates(subset=['Title','Year','Duration','MPA','Rating','Votes'],\n",
    "                                keep='first', inplace=True)\n",
    "country_df = country_df[country_df['countries_origin'] != 'Unknown']\n",
    "missing_collection_df = country_df[country_df['grossWorldWide'].isnull()]\n",
    "# missing_gross_pct = missing_collection_df.dropna(subset=['countries_origin'])\n",
    "missing_gross_pct = (missing_collection_df.groupby(\"countries_origin\").size() / missing_collection_df.shape[0] * 100).sort_values(ascending = False).reset_index(name = 'missing_pct').head(5)\n",
    "fig = px.bar(\n",
    "    missing_gross_pct,\n",
    "    x = 'countries_origin',\n",
    "    y = 'missing_pct',\n",
    "    labels = {'countries_origin' : 'Country', 'missing_pct' : '% of contribution'},\n",
    "    title = 'Top 5 Countries Contributing to Missing Worldwide Collection Data'\n",
    ")\n",
    "fig.show()"
   ]
  },
  {
   "cell_type": "code",
   "execution_count": 154,
   "id": "d80ccffe-d78f-4440-951c-f00faf0000fd",
   "metadata": {},
   "outputs": [
    {
     "data": {
      "application/vnd.plotly.v1+json": {
       "config": {
        "plotlyServerURL": "https://plot.ly"
       },
       "data": [
        {
         "alignmentgroup": "True",
         "hovertemplate": "Country=%{x}<br>% of Missing Worldwide Collections=%{y}<extra></extra>",
         "legendgroup": "",
         "marker": {
          "color": "#636efa",
          "pattern": {
           "shape": ""
          }
         },
         "name": "",
         "offsetgroup": "",
         "orientation": "v",
         "showlegend": false,
         "textposition": "auto",
         "type": "bar",
         "x": [
          "Australia",
          "Canada",
          "Spain",
          "Japan",
          "United States"
         ],
         "xaxis": "x",
         "y": [
          10.588235294117647,
          10.208816705336426,
          8.552631578947368,
          8.12720848056537,
          6.758288466987815
         ],
         "yaxis": "y"
        }
       ],
       "layout": {
        "autosize": true,
        "barmode": "relative",
        "legend": {
         "tracegroupgap": 0
        },
        "template": {
         "data": {
          "bar": [
           {
            "error_x": {
             "color": "#2a3f5f"
            },
            "error_y": {
             "color": "#2a3f5f"
            },
            "marker": {
             "line": {
              "color": "#E5ECF6",
              "width": 0.5
             },
             "pattern": {
              "fillmode": "overlay",
              "size": 10,
              "solidity": 0.2
             }
            },
            "type": "bar"
           }
          ],
          "barpolar": [
           {
            "marker": {
             "line": {
              "color": "#E5ECF6",
              "width": 0.5
             },
             "pattern": {
              "fillmode": "overlay",
              "size": 10,
              "solidity": 0.2
             }
            },
            "type": "barpolar"
           }
          ],
          "carpet": [
           {
            "aaxis": {
             "endlinecolor": "#2a3f5f",
             "gridcolor": "white",
             "linecolor": "white",
             "minorgridcolor": "white",
             "startlinecolor": "#2a3f5f"
            },
            "baxis": {
             "endlinecolor": "#2a3f5f",
             "gridcolor": "white",
             "linecolor": "white",
             "minorgridcolor": "white",
             "startlinecolor": "#2a3f5f"
            },
            "type": "carpet"
           }
          ],
          "choropleth": [
           {
            "colorbar": {
             "outlinewidth": 0,
             "ticks": ""
            },
            "type": "choropleth"
           }
          ],
          "contour": [
           {
            "colorbar": {
             "outlinewidth": 0,
             "ticks": ""
            },
            "colorscale": [
             [
              0,
              "#0d0887"
             ],
             [
              0.1111111111111111,
              "#46039f"
             ],
             [
              0.2222222222222222,
              "#7201a8"
             ],
             [
              0.3333333333333333,
              "#9c179e"
             ],
             [
              0.4444444444444444,
              "#bd3786"
             ],
             [
              0.5555555555555556,
              "#d8576b"
             ],
             [
              0.6666666666666666,
              "#ed7953"
             ],
             [
              0.7777777777777778,
              "#fb9f3a"
             ],
             [
              0.8888888888888888,
              "#fdca26"
             ],
             [
              1,
              "#f0f921"
             ]
            ],
            "type": "contour"
           }
          ],
          "contourcarpet": [
           {
            "colorbar": {
             "outlinewidth": 0,
             "ticks": ""
            },
            "type": "contourcarpet"
           }
          ],
          "heatmap": [
           {
            "colorbar": {
             "outlinewidth": 0,
             "ticks": ""
            },
            "colorscale": [
             [
              0,
              "#0d0887"
             ],
             [
              0.1111111111111111,
              "#46039f"
             ],
             [
              0.2222222222222222,
              "#7201a8"
             ],
             [
              0.3333333333333333,
              "#9c179e"
             ],
             [
              0.4444444444444444,
              "#bd3786"
             ],
             [
              0.5555555555555556,
              "#d8576b"
             ],
             [
              0.6666666666666666,
              "#ed7953"
             ],
             [
              0.7777777777777778,
              "#fb9f3a"
             ],
             [
              0.8888888888888888,
              "#fdca26"
             ],
             [
              1,
              "#f0f921"
             ]
            ],
            "type": "heatmap"
           }
          ],
          "heatmapgl": [
           {
            "colorbar": {
             "outlinewidth": 0,
             "ticks": ""
            },
            "colorscale": [
             [
              0,
              "#0d0887"
             ],
             [
              0.1111111111111111,
              "#46039f"
             ],
             [
              0.2222222222222222,
              "#7201a8"
             ],
             [
              0.3333333333333333,
              "#9c179e"
             ],
             [
              0.4444444444444444,
              "#bd3786"
             ],
             [
              0.5555555555555556,
              "#d8576b"
             ],
             [
              0.6666666666666666,
              "#ed7953"
             ],
             [
              0.7777777777777778,
              "#fb9f3a"
             ],
             [
              0.8888888888888888,
              "#fdca26"
             ],
             [
              1,
              "#f0f921"
             ]
            ],
            "type": "heatmapgl"
           }
          ],
          "histogram": [
           {
            "marker": {
             "pattern": {
              "fillmode": "overlay",
              "size": 10,
              "solidity": 0.2
             }
            },
            "type": "histogram"
           }
          ],
          "histogram2d": [
           {
            "colorbar": {
             "outlinewidth": 0,
             "ticks": ""
            },
            "colorscale": [
             [
              0,
              "#0d0887"
             ],
             [
              0.1111111111111111,
              "#46039f"
             ],
             [
              0.2222222222222222,
              "#7201a8"
             ],
             [
              0.3333333333333333,
              "#9c179e"
             ],
             [
              0.4444444444444444,
              "#bd3786"
             ],
             [
              0.5555555555555556,
              "#d8576b"
             ],
             [
              0.6666666666666666,
              "#ed7953"
             ],
             [
              0.7777777777777778,
              "#fb9f3a"
             ],
             [
              0.8888888888888888,
              "#fdca26"
             ],
             [
              1,
              "#f0f921"
             ]
            ],
            "type": "histogram2d"
           }
          ],
          "histogram2dcontour": [
           {
            "colorbar": {
             "outlinewidth": 0,
             "ticks": ""
            },
            "colorscale": [
             [
              0,
              "#0d0887"
             ],
             [
              0.1111111111111111,
              "#46039f"
             ],
             [
              0.2222222222222222,
              "#7201a8"
             ],
             [
              0.3333333333333333,
              "#9c179e"
             ],
             [
              0.4444444444444444,
              "#bd3786"
             ],
             [
              0.5555555555555556,
              "#d8576b"
             ],
             [
              0.6666666666666666,
              "#ed7953"
             ],
             [
              0.7777777777777778,
              "#fb9f3a"
             ],
             [
              0.8888888888888888,
              "#fdca26"
             ],
             [
              1,
              "#f0f921"
             ]
            ],
            "type": "histogram2dcontour"
           }
          ],
          "mesh3d": [
           {
            "colorbar": {
             "outlinewidth": 0,
             "ticks": ""
            },
            "type": "mesh3d"
           }
          ],
          "parcoords": [
           {
            "line": {
             "colorbar": {
              "outlinewidth": 0,
              "ticks": ""
             }
            },
            "type": "parcoords"
           }
          ],
          "pie": [
           {
            "automargin": true,
            "type": "pie"
           }
          ],
          "scatter": [
           {
            "fillpattern": {
             "fillmode": "overlay",
             "size": 10,
             "solidity": 0.2
            },
            "type": "scatter"
           }
          ],
          "scatter3d": [
           {
            "line": {
             "colorbar": {
              "outlinewidth": 0,
              "ticks": ""
             }
            },
            "marker": {
             "colorbar": {
              "outlinewidth": 0,
              "ticks": ""
             }
            },
            "type": "scatter3d"
           }
          ],
          "scattercarpet": [
           {
            "marker": {
             "colorbar": {
              "outlinewidth": 0,
              "ticks": ""
             }
            },
            "type": "scattercarpet"
           }
          ],
          "scattergeo": [
           {
            "marker": {
             "colorbar": {
              "outlinewidth": 0,
              "ticks": ""
             }
            },
            "type": "scattergeo"
           }
          ],
          "scattergl": [
           {
            "marker": {
             "colorbar": {
              "outlinewidth": 0,
              "ticks": ""
             }
            },
            "type": "scattergl"
           }
          ],
          "scattermapbox": [
           {
            "marker": {
             "colorbar": {
              "outlinewidth": 0,
              "ticks": ""
             }
            },
            "type": "scattermapbox"
           }
          ],
          "scatterpolar": [
           {
            "marker": {
             "colorbar": {
              "outlinewidth": 0,
              "ticks": ""
             }
            },
            "type": "scatterpolar"
           }
          ],
          "scatterpolargl": [
           {
            "marker": {
             "colorbar": {
              "outlinewidth": 0,
              "ticks": ""
             }
            },
            "type": "scatterpolargl"
           }
          ],
          "scatterternary": [
           {
            "marker": {
             "colorbar": {
              "outlinewidth": 0,
              "ticks": ""
             }
            },
            "type": "scatterternary"
           }
          ],
          "surface": [
           {
            "colorbar": {
             "outlinewidth": 0,
             "ticks": ""
            },
            "colorscale": [
             [
              0,
              "#0d0887"
             ],
             [
              0.1111111111111111,
              "#46039f"
             ],
             [
              0.2222222222222222,
              "#7201a8"
             ],
             [
              0.3333333333333333,
              "#9c179e"
             ],
             [
              0.4444444444444444,
              "#bd3786"
             ],
             [
              0.5555555555555556,
              "#d8576b"
             ],
             [
              0.6666666666666666,
              "#ed7953"
             ],
             [
              0.7777777777777778,
              "#fb9f3a"
             ],
             [
              0.8888888888888888,
              "#fdca26"
             ],
             [
              1,
              "#f0f921"
             ]
            ],
            "type": "surface"
           }
          ],
          "table": [
           {
            "cells": {
             "fill": {
              "color": "#EBF0F8"
             },
             "line": {
              "color": "white"
             }
            },
            "header": {
             "fill": {
              "color": "#C8D4E3"
             },
             "line": {
              "color": "white"
             }
            },
            "type": "table"
           }
          ]
         },
         "layout": {
          "annotationdefaults": {
           "arrowcolor": "#2a3f5f",
           "arrowhead": 0,
           "arrowwidth": 1
          },
          "autotypenumbers": "strict",
          "coloraxis": {
           "colorbar": {
            "outlinewidth": 0,
            "ticks": ""
           }
          },
          "colorscale": {
           "diverging": [
            [
             0,
             "#8e0152"
            ],
            [
             0.1,
             "#c51b7d"
            ],
            [
             0.2,
             "#de77ae"
            ],
            [
             0.3,
             "#f1b6da"
            ],
            [
             0.4,
             "#fde0ef"
            ],
            [
             0.5,
             "#f7f7f7"
            ],
            [
             0.6,
             "#e6f5d0"
            ],
            [
             0.7,
             "#b8e186"
            ],
            [
             0.8,
             "#7fbc41"
            ],
            [
             0.9,
             "#4d9221"
            ],
            [
             1,
             "#276419"
            ]
           ],
           "sequential": [
            [
             0,
             "#0d0887"
            ],
            [
             0.1111111111111111,
             "#46039f"
            ],
            [
             0.2222222222222222,
             "#7201a8"
            ],
            [
             0.3333333333333333,
             "#9c179e"
            ],
            [
             0.4444444444444444,
             "#bd3786"
            ],
            [
             0.5555555555555556,
             "#d8576b"
            ],
            [
             0.6666666666666666,
             "#ed7953"
            ],
            [
             0.7777777777777778,
             "#fb9f3a"
            ],
            [
             0.8888888888888888,
             "#fdca26"
            ],
            [
             1,
             "#f0f921"
            ]
           ],
           "sequentialminus": [
            [
             0,
             "#0d0887"
            ],
            [
             0.1111111111111111,
             "#46039f"
            ],
            [
             0.2222222222222222,
             "#7201a8"
            ],
            [
             0.3333333333333333,
             "#9c179e"
            ],
            [
             0.4444444444444444,
             "#bd3786"
            ],
            [
             0.5555555555555556,
             "#d8576b"
            ],
            [
             0.6666666666666666,
             "#ed7953"
            ],
            [
             0.7777777777777778,
             "#fb9f3a"
            ],
            [
             0.8888888888888888,
             "#fdca26"
            ],
            [
             1,
             "#f0f921"
            ]
           ]
          },
          "colorway": [
           "#636efa",
           "#EF553B",
           "#00cc96",
           "#ab63fa",
           "#FFA15A",
           "#19d3f3",
           "#FF6692",
           "#B6E880",
           "#FF97FF",
           "#FECB52"
          ],
          "font": {
           "color": "#2a3f5f"
          },
          "geo": {
           "bgcolor": "white",
           "lakecolor": "white",
           "landcolor": "#E5ECF6",
           "showlakes": true,
           "showland": true,
           "subunitcolor": "white"
          },
          "hoverlabel": {
           "align": "left"
          },
          "hovermode": "closest",
          "mapbox": {
           "style": "light"
          },
          "paper_bgcolor": "white",
          "plot_bgcolor": "#E5ECF6",
          "polar": {
           "angularaxis": {
            "gridcolor": "white",
            "linecolor": "white",
            "ticks": ""
           },
           "bgcolor": "#E5ECF6",
           "radialaxis": {
            "gridcolor": "white",
            "linecolor": "white",
            "ticks": ""
           }
          },
          "scene": {
           "xaxis": {
            "backgroundcolor": "#E5ECF6",
            "gridcolor": "white",
            "gridwidth": 2,
            "linecolor": "white",
            "showbackground": true,
            "ticks": "",
            "zerolinecolor": "white"
           },
           "yaxis": {
            "backgroundcolor": "#E5ECF6",
            "gridcolor": "white",
            "gridwidth": 2,
            "linecolor": "white",
            "showbackground": true,
            "ticks": "",
            "zerolinecolor": "white"
           },
           "zaxis": {
            "backgroundcolor": "#E5ECF6",
            "gridcolor": "white",
            "gridwidth": 2,
            "linecolor": "white",
            "showbackground": true,
            "ticks": "",
            "zerolinecolor": "white"
           }
          },
          "shapedefaults": {
           "line": {
            "color": "#2a3f5f"
           }
          },
          "ternary": {
           "aaxis": {
            "gridcolor": "white",
            "linecolor": "white",
            "ticks": ""
           },
           "baxis": {
            "gridcolor": "white",
            "linecolor": "white",
            "ticks": ""
           },
           "bgcolor": "#E5ECF6",
           "caxis": {
            "gridcolor": "white",
            "linecolor": "white",
            "ticks": ""
           }
          },
          "title": {
           "x": 0.05
          },
          "xaxis": {
           "automargin": true,
           "gridcolor": "white",
           "linecolor": "white",
           "ticks": "",
           "title": {
            "standoff": 15
           },
           "zerolinecolor": "white",
           "zerolinewidth": 2
          },
          "yaxis": {
           "automargin": true,
           "gridcolor": "white",
           "linecolor": "white",
           "ticks": "",
           "title": {
            "standoff": 15
           },
           "zerolinecolor": "white",
           "zerolinewidth": 2
          }
         }
        },
        "title": {
         "text": "Top 5 Countries with the Highest Percentage of Missing Worldwide Collection Data"
        },
        "xaxis": {
         "anchor": "y",
         "autorange": true,
         "domain": [
          0,
          1
         ],
         "range": [
          -0.5,
          4.5
         ],
         "title": {
          "text": "Country"
         },
         "type": "category"
        },
        "yaxis": {
         "anchor": "x",
         "autorange": true,
         "domain": [
          0,
          1
         ],
         "range": [
          0,
          11.145510835913312
         ],
         "title": {
          "text": "% of Missing Worldwide Collections"
         },
         "type": "linear"
        }
       }
      },
      "text/html": [
       "<div>                            <div id=\"f1b5ed65-a961-484f-b72c-b88ab1b8301f\" class=\"plotly-graph-div\" style=\"height:525px; width:100%;\"></div>            <script type=\"text/javascript\">                require([\"plotly\"], function(Plotly) {                    window.PLOTLYENV=window.PLOTLYENV || {};                                    if (document.getElementById(\"f1b5ed65-a961-484f-b72c-b88ab1b8301f\")) {                    Plotly.newPlot(                        \"f1b5ed65-a961-484f-b72c-b88ab1b8301f\",                        [{\"alignmentgroup\":\"True\",\"hovertemplate\":\"Country=%{x}\\u003cbr\\u003e% of Missing Worldwide Collections=%{y}\\u003cextra\\u003e\\u003c\\u002fextra\\u003e\",\"legendgroup\":\"\",\"marker\":{\"color\":\"#636efa\",\"pattern\":{\"shape\":\"\"}},\"name\":\"\",\"offsetgroup\":\"\",\"orientation\":\"v\",\"showlegend\":false,\"textposition\":\"auto\",\"x\":[\"Australia\",\"Canada\",\"Spain\",\"Japan\",\"United States\"],\"xaxis\":\"x\",\"y\":[10.588235294117647,10.208816705336426,8.552631578947368,8.12720848056537,6.758288466987815],\"yaxis\":\"y\",\"type\":\"bar\"}],                        {\"template\":{\"data\":{\"histogram2dcontour\":[{\"type\":\"histogram2dcontour\",\"colorbar\":{\"outlinewidth\":0,\"ticks\":\"\"},\"colorscale\":[[0.0,\"#0d0887\"],[0.1111111111111111,\"#46039f\"],[0.2222222222222222,\"#7201a8\"],[0.3333333333333333,\"#9c179e\"],[0.4444444444444444,\"#bd3786\"],[0.5555555555555556,\"#d8576b\"],[0.6666666666666666,\"#ed7953\"],[0.7777777777777778,\"#fb9f3a\"],[0.8888888888888888,\"#fdca26\"],[1.0,\"#f0f921\"]]}],\"choropleth\":[{\"type\":\"choropleth\",\"colorbar\":{\"outlinewidth\":0,\"ticks\":\"\"}}],\"histogram2d\":[{\"type\":\"histogram2d\",\"colorbar\":{\"outlinewidth\":0,\"ticks\":\"\"},\"colorscale\":[[0.0,\"#0d0887\"],[0.1111111111111111,\"#46039f\"],[0.2222222222222222,\"#7201a8\"],[0.3333333333333333,\"#9c179e\"],[0.4444444444444444,\"#bd3786\"],[0.5555555555555556,\"#d8576b\"],[0.6666666666666666,\"#ed7953\"],[0.7777777777777778,\"#fb9f3a\"],[0.8888888888888888,\"#fdca26\"],[1.0,\"#f0f921\"]]}],\"heatmap\":[{\"type\":\"heatmap\",\"colorbar\":{\"outlinewidth\":0,\"ticks\":\"\"},\"colorscale\":[[0.0,\"#0d0887\"],[0.1111111111111111,\"#46039f\"],[0.2222222222222222,\"#7201a8\"],[0.3333333333333333,\"#9c179e\"],[0.4444444444444444,\"#bd3786\"],[0.5555555555555556,\"#d8576b\"],[0.6666666666666666,\"#ed7953\"],[0.7777777777777778,\"#fb9f3a\"],[0.8888888888888888,\"#fdca26\"],[1.0,\"#f0f921\"]]}],\"heatmapgl\":[{\"type\":\"heatmapgl\",\"colorbar\":{\"outlinewidth\":0,\"ticks\":\"\"},\"colorscale\":[[0.0,\"#0d0887\"],[0.1111111111111111,\"#46039f\"],[0.2222222222222222,\"#7201a8\"],[0.3333333333333333,\"#9c179e\"],[0.4444444444444444,\"#bd3786\"],[0.5555555555555556,\"#d8576b\"],[0.6666666666666666,\"#ed7953\"],[0.7777777777777778,\"#fb9f3a\"],[0.8888888888888888,\"#fdca26\"],[1.0,\"#f0f921\"]]}],\"contourcarpet\":[{\"type\":\"contourcarpet\",\"colorbar\":{\"outlinewidth\":0,\"ticks\":\"\"}}],\"contour\":[{\"type\":\"contour\",\"colorbar\":{\"outlinewidth\":0,\"ticks\":\"\"},\"colorscale\":[[0.0,\"#0d0887\"],[0.1111111111111111,\"#46039f\"],[0.2222222222222222,\"#7201a8\"],[0.3333333333333333,\"#9c179e\"],[0.4444444444444444,\"#bd3786\"],[0.5555555555555556,\"#d8576b\"],[0.6666666666666666,\"#ed7953\"],[0.7777777777777778,\"#fb9f3a\"],[0.8888888888888888,\"#fdca26\"],[1.0,\"#f0f921\"]]}],\"surface\":[{\"type\":\"surface\",\"colorbar\":{\"outlinewidth\":0,\"ticks\":\"\"},\"colorscale\":[[0.0,\"#0d0887\"],[0.1111111111111111,\"#46039f\"],[0.2222222222222222,\"#7201a8\"],[0.3333333333333333,\"#9c179e\"],[0.4444444444444444,\"#bd3786\"],[0.5555555555555556,\"#d8576b\"],[0.6666666666666666,\"#ed7953\"],[0.7777777777777778,\"#fb9f3a\"],[0.8888888888888888,\"#fdca26\"],[1.0,\"#f0f921\"]]}],\"mesh3d\":[{\"type\":\"mesh3d\",\"colorbar\":{\"outlinewidth\":0,\"ticks\":\"\"}}],\"scatter\":[{\"fillpattern\":{\"fillmode\":\"overlay\",\"size\":10,\"solidity\":0.2},\"type\":\"scatter\"}],\"parcoords\":[{\"type\":\"parcoords\",\"line\":{\"colorbar\":{\"outlinewidth\":0,\"ticks\":\"\"}}}],\"scatterpolargl\":[{\"type\":\"scatterpolargl\",\"marker\":{\"colorbar\":{\"outlinewidth\":0,\"ticks\":\"\"}}}],\"bar\":[{\"error_x\":{\"color\":\"#2a3f5f\"},\"error_y\":{\"color\":\"#2a3f5f\"},\"marker\":{\"line\":{\"color\":\"#E5ECF6\",\"width\":0.5},\"pattern\":{\"fillmode\":\"overlay\",\"size\":10,\"solidity\":0.2}},\"type\":\"bar\"}],\"scattergeo\":[{\"type\":\"scattergeo\",\"marker\":{\"colorbar\":{\"outlinewidth\":0,\"ticks\":\"\"}}}],\"scatterpolar\":[{\"type\":\"scatterpolar\",\"marker\":{\"colorbar\":{\"outlinewidth\":0,\"ticks\":\"\"}}}],\"histogram\":[{\"marker\":{\"pattern\":{\"fillmode\":\"overlay\",\"size\":10,\"solidity\":0.2}},\"type\":\"histogram\"}],\"scattergl\":[{\"type\":\"scattergl\",\"marker\":{\"colorbar\":{\"outlinewidth\":0,\"ticks\":\"\"}}}],\"scatter3d\":[{\"type\":\"scatter3d\",\"line\":{\"colorbar\":{\"outlinewidth\":0,\"ticks\":\"\"}},\"marker\":{\"colorbar\":{\"outlinewidth\":0,\"ticks\":\"\"}}}],\"scattermapbox\":[{\"type\":\"scattermapbox\",\"marker\":{\"colorbar\":{\"outlinewidth\":0,\"ticks\":\"\"}}}],\"scatterternary\":[{\"type\":\"scatterternary\",\"marker\":{\"colorbar\":{\"outlinewidth\":0,\"ticks\":\"\"}}}],\"scattercarpet\":[{\"type\":\"scattercarpet\",\"marker\":{\"colorbar\":{\"outlinewidth\":0,\"ticks\":\"\"}}}],\"carpet\":[{\"aaxis\":{\"endlinecolor\":\"#2a3f5f\",\"gridcolor\":\"white\",\"linecolor\":\"white\",\"minorgridcolor\":\"white\",\"startlinecolor\":\"#2a3f5f\"},\"baxis\":{\"endlinecolor\":\"#2a3f5f\",\"gridcolor\":\"white\",\"linecolor\":\"white\",\"minorgridcolor\":\"white\",\"startlinecolor\":\"#2a3f5f\"},\"type\":\"carpet\"}],\"table\":[{\"cells\":{\"fill\":{\"color\":\"#EBF0F8\"},\"line\":{\"color\":\"white\"}},\"header\":{\"fill\":{\"color\":\"#C8D4E3\"},\"line\":{\"color\":\"white\"}},\"type\":\"table\"}],\"barpolar\":[{\"marker\":{\"line\":{\"color\":\"#E5ECF6\",\"width\":0.5},\"pattern\":{\"fillmode\":\"overlay\",\"size\":10,\"solidity\":0.2}},\"type\":\"barpolar\"}],\"pie\":[{\"automargin\":true,\"type\":\"pie\"}]},\"layout\":{\"autotypenumbers\":\"strict\",\"colorway\":[\"#636efa\",\"#EF553B\",\"#00cc96\",\"#ab63fa\",\"#FFA15A\",\"#19d3f3\",\"#FF6692\",\"#B6E880\",\"#FF97FF\",\"#FECB52\"],\"font\":{\"color\":\"#2a3f5f\"},\"hovermode\":\"closest\",\"hoverlabel\":{\"align\":\"left\"},\"paper_bgcolor\":\"white\",\"plot_bgcolor\":\"#E5ECF6\",\"polar\":{\"bgcolor\":\"#E5ECF6\",\"angularaxis\":{\"gridcolor\":\"white\",\"linecolor\":\"white\",\"ticks\":\"\"},\"radialaxis\":{\"gridcolor\":\"white\",\"linecolor\":\"white\",\"ticks\":\"\"}},\"ternary\":{\"bgcolor\":\"#E5ECF6\",\"aaxis\":{\"gridcolor\":\"white\",\"linecolor\":\"white\",\"ticks\":\"\"},\"baxis\":{\"gridcolor\":\"white\",\"linecolor\":\"white\",\"ticks\":\"\"},\"caxis\":{\"gridcolor\":\"white\",\"linecolor\":\"white\",\"ticks\":\"\"}},\"coloraxis\":{\"colorbar\":{\"outlinewidth\":0,\"ticks\":\"\"}},\"colorscale\":{\"sequential\":[[0.0,\"#0d0887\"],[0.1111111111111111,\"#46039f\"],[0.2222222222222222,\"#7201a8\"],[0.3333333333333333,\"#9c179e\"],[0.4444444444444444,\"#bd3786\"],[0.5555555555555556,\"#d8576b\"],[0.6666666666666666,\"#ed7953\"],[0.7777777777777778,\"#fb9f3a\"],[0.8888888888888888,\"#fdca26\"],[1.0,\"#f0f921\"]],\"sequentialminus\":[[0.0,\"#0d0887\"],[0.1111111111111111,\"#46039f\"],[0.2222222222222222,\"#7201a8\"],[0.3333333333333333,\"#9c179e\"],[0.4444444444444444,\"#bd3786\"],[0.5555555555555556,\"#d8576b\"],[0.6666666666666666,\"#ed7953\"],[0.7777777777777778,\"#fb9f3a\"],[0.8888888888888888,\"#fdca26\"],[1.0,\"#f0f921\"]],\"diverging\":[[0,\"#8e0152\"],[0.1,\"#c51b7d\"],[0.2,\"#de77ae\"],[0.3,\"#f1b6da\"],[0.4,\"#fde0ef\"],[0.5,\"#f7f7f7\"],[0.6,\"#e6f5d0\"],[0.7,\"#b8e186\"],[0.8,\"#7fbc41\"],[0.9,\"#4d9221\"],[1,\"#276419\"]]},\"xaxis\":{\"gridcolor\":\"white\",\"linecolor\":\"white\",\"ticks\":\"\",\"title\":{\"standoff\":15},\"zerolinecolor\":\"white\",\"automargin\":true,\"zerolinewidth\":2},\"yaxis\":{\"gridcolor\":\"white\",\"linecolor\":\"white\",\"ticks\":\"\",\"title\":{\"standoff\":15},\"zerolinecolor\":\"white\",\"automargin\":true,\"zerolinewidth\":2},\"scene\":{\"xaxis\":{\"backgroundcolor\":\"#E5ECF6\",\"gridcolor\":\"white\",\"linecolor\":\"white\",\"showbackground\":true,\"ticks\":\"\",\"zerolinecolor\":\"white\",\"gridwidth\":2},\"yaxis\":{\"backgroundcolor\":\"#E5ECF6\",\"gridcolor\":\"white\",\"linecolor\":\"white\",\"showbackground\":true,\"ticks\":\"\",\"zerolinecolor\":\"white\",\"gridwidth\":2},\"zaxis\":{\"backgroundcolor\":\"#E5ECF6\",\"gridcolor\":\"white\",\"linecolor\":\"white\",\"showbackground\":true,\"ticks\":\"\",\"zerolinecolor\":\"white\",\"gridwidth\":2}},\"shapedefaults\":{\"line\":{\"color\":\"#2a3f5f\"}},\"annotationdefaults\":{\"arrowcolor\":\"#2a3f5f\",\"arrowhead\":0,\"arrowwidth\":1},\"geo\":{\"bgcolor\":\"white\",\"landcolor\":\"#E5ECF6\",\"subunitcolor\":\"white\",\"showland\":true,\"showlakes\":true,\"lakecolor\":\"white\"},\"title\":{\"x\":0.05},\"mapbox\":{\"style\":\"light\"}}},\"xaxis\":{\"anchor\":\"y\",\"domain\":[0.0,1.0],\"title\":{\"text\":\"Country\"}},\"yaxis\":{\"anchor\":\"x\",\"domain\":[0.0,1.0],\"title\":{\"text\":\"% of Missing Worldwide Collections\"}},\"legend\":{\"tracegroupgap\":0},\"title\":{\"text\":\"Top 5 Countries with the Highest Percentage of Missing Worldwide Collection Data\"},\"barmode\":\"relative\"},                        {\"responsive\": true}                    ).then(function(){\n",
       "                            \n",
       "var gd = document.getElementById('f1b5ed65-a961-484f-b72c-b88ab1b8301f');\n",
       "var x = new MutationObserver(function (mutations, observer) {{\n",
       "        var display = window.getComputedStyle(gd).display;\n",
       "        if (!display || display === 'none') {{\n",
       "            console.log([gd, 'removed!']);\n",
       "            Plotly.purge(gd);\n",
       "            observer.disconnect();\n",
       "        }}\n",
       "}});\n",
       "\n",
       "// Listen for the removal of the full notebook cells\n",
       "var notebookContainer = gd.closest('#notebook-container');\n",
       "if (notebookContainer) {{\n",
       "    x.observe(notebookContainer, {childList: true});\n",
       "}}\n",
       "\n",
       "// Listen for the clearing of the current output cell\n",
       "var outputEl = gd.closest('.output');\n",
       "if (outputEl) {{\n",
       "    x.observe(outputEl, {childList: true});\n",
       "}}\n",
       "\n",
       "                        })                };                });            </script>        </div>"
      ]
     },
     "metadata": {},
     "output_type": "display_data"
    }
   ],
   "source": [
    "countries_grouped = country_df.groupby(\"countries_origin\").filter(lambda x: len(x) > 100).groupby(\"countries_origin\")\n",
    "missing_collection_pct = (countries_grouped.apply(lambda x: x['grossWorldWide'].isnull().mean(), include_groups = False) * 100).sort_values(ascending = False).reset_index(name = 'Missing Percentage').head(5)\n",
    "fig = px.bar(\n",
    "    missing_collection_pct,\n",
    "    x = 'countries_origin',\n",
    "    y = 'Missing Percentage',\n",
    "    labels = {'countries_origin' : 'Country', 'Missing Percentage' : '% of Missing Worldwide Collections'},\n",
    "    title = 'Top 5 Countries with the Highest Percentage of Missing Worldwide Collection Data'\n",
    ")\n",
    "fig.show()"
   ]
  },
  {
   "cell_type": "code",
   "execution_count": 155,
   "id": "9b2911fc-513f-46d1-b3c2-3743b516bb58",
   "metadata": {},
   "outputs": [
    {
     "data": {
      "application/vnd.plotly.v1+json": {
       "config": {
        "plotlyServerURL": "https://plot.ly"
       },
       "data": [
        {
         "alignmentgroup": "True",
         "hovertemplate": "Genre=%{x}<br>% of contribution=%{y}<extra></extra>",
         "legendgroup": "",
         "marker": {
          "color": "#636efa",
          "pattern": {
           "shape": ""
          }
         },
         "name": "",
         "offsetgroup": "",
         "orientation": "v",
         "showlegend": false,
         "textposition": "auto",
         "type": "bar",
         "x": [
          "Holiday Romance",
          "Holiday Family",
          "Erotic Thriller",
          "Holiday Animation",
          "Holiday",
          "Cozy Mystery",
          "Holiday Comedy",
          "Hard-boiled Detective",
          "Werewolf Horror",
          "Steamy Romance"
         ],
         "xaxis": "x",
         "y": [
          56.81818181818182,
          48.275862068965516,
          44.230769230769226,
          33.33333333333333,
          33.33333333333333,
          33.33333333333333,
          28.8135593220339,
          25,
          16.666666666666664,
          16.3265306122449
         ],
         "yaxis": "y"
        }
       ],
       "layout": {
        "autosize": true,
        "barmode": "relative",
        "legend": {
         "tracegroupgap": 0
        },
        "template": {
         "data": {
          "bar": [
           {
            "error_x": {
             "color": "#2a3f5f"
            },
            "error_y": {
             "color": "#2a3f5f"
            },
            "marker": {
             "line": {
              "color": "#E5ECF6",
              "width": 0.5
             },
             "pattern": {
              "fillmode": "overlay",
              "size": 10,
              "solidity": 0.2
             }
            },
            "type": "bar"
           }
          ],
          "barpolar": [
           {
            "marker": {
             "line": {
              "color": "#E5ECF6",
              "width": 0.5
             },
             "pattern": {
              "fillmode": "overlay",
              "size": 10,
              "solidity": 0.2
             }
            },
            "type": "barpolar"
           }
          ],
          "carpet": [
           {
            "aaxis": {
             "endlinecolor": "#2a3f5f",
             "gridcolor": "white",
             "linecolor": "white",
             "minorgridcolor": "white",
             "startlinecolor": "#2a3f5f"
            },
            "baxis": {
             "endlinecolor": "#2a3f5f",
             "gridcolor": "white",
             "linecolor": "white",
             "minorgridcolor": "white",
             "startlinecolor": "#2a3f5f"
            },
            "type": "carpet"
           }
          ],
          "choropleth": [
           {
            "colorbar": {
             "outlinewidth": 0,
             "ticks": ""
            },
            "type": "choropleth"
           }
          ],
          "contour": [
           {
            "colorbar": {
             "outlinewidth": 0,
             "ticks": ""
            },
            "colorscale": [
             [
              0,
              "#0d0887"
             ],
             [
              0.1111111111111111,
              "#46039f"
             ],
             [
              0.2222222222222222,
              "#7201a8"
             ],
             [
              0.3333333333333333,
              "#9c179e"
             ],
             [
              0.4444444444444444,
              "#bd3786"
             ],
             [
              0.5555555555555556,
              "#d8576b"
             ],
             [
              0.6666666666666666,
              "#ed7953"
             ],
             [
              0.7777777777777778,
              "#fb9f3a"
             ],
             [
              0.8888888888888888,
              "#fdca26"
             ],
             [
              1,
              "#f0f921"
             ]
            ],
            "type": "contour"
           }
          ],
          "contourcarpet": [
           {
            "colorbar": {
             "outlinewidth": 0,
             "ticks": ""
            },
            "type": "contourcarpet"
           }
          ],
          "heatmap": [
           {
            "colorbar": {
             "outlinewidth": 0,
             "ticks": ""
            },
            "colorscale": [
             [
              0,
              "#0d0887"
             ],
             [
              0.1111111111111111,
              "#46039f"
             ],
             [
              0.2222222222222222,
              "#7201a8"
             ],
             [
              0.3333333333333333,
              "#9c179e"
             ],
             [
              0.4444444444444444,
              "#bd3786"
             ],
             [
              0.5555555555555556,
              "#d8576b"
             ],
             [
              0.6666666666666666,
              "#ed7953"
             ],
             [
              0.7777777777777778,
              "#fb9f3a"
             ],
             [
              0.8888888888888888,
              "#fdca26"
             ],
             [
              1,
              "#f0f921"
             ]
            ],
            "type": "heatmap"
           }
          ],
          "heatmapgl": [
           {
            "colorbar": {
             "outlinewidth": 0,
             "ticks": ""
            },
            "colorscale": [
             [
              0,
              "#0d0887"
             ],
             [
              0.1111111111111111,
              "#46039f"
             ],
             [
              0.2222222222222222,
              "#7201a8"
             ],
             [
              0.3333333333333333,
              "#9c179e"
             ],
             [
              0.4444444444444444,
              "#bd3786"
             ],
             [
              0.5555555555555556,
              "#d8576b"
             ],
             [
              0.6666666666666666,
              "#ed7953"
             ],
             [
              0.7777777777777778,
              "#fb9f3a"
             ],
             [
              0.8888888888888888,
              "#fdca26"
             ],
             [
              1,
              "#f0f921"
             ]
            ],
            "type": "heatmapgl"
           }
          ],
          "histogram": [
           {
            "marker": {
             "pattern": {
              "fillmode": "overlay",
              "size": 10,
              "solidity": 0.2
             }
            },
            "type": "histogram"
           }
          ],
          "histogram2d": [
           {
            "colorbar": {
             "outlinewidth": 0,
             "ticks": ""
            },
            "colorscale": [
             [
              0,
              "#0d0887"
             ],
             [
              0.1111111111111111,
              "#46039f"
             ],
             [
              0.2222222222222222,
              "#7201a8"
             ],
             [
              0.3333333333333333,
              "#9c179e"
             ],
             [
              0.4444444444444444,
              "#bd3786"
             ],
             [
              0.5555555555555556,
              "#d8576b"
             ],
             [
              0.6666666666666666,
              "#ed7953"
             ],
             [
              0.7777777777777778,
              "#fb9f3a"
             ],
             [
              0.8888888888888888,
              "#fdca26"
             ],
             [
              1,
              "#f0f921"
             ]
            ],
            "type": "histogram2d"
           }
          ],
          "histogram2dcontour": [
           {
            "colorbar": {
             "outlinewidth": 0,
             "ticks": ""
            },
            "colorscale": [
             [
              0,
              "#0d0887"
             ],
             [
              0.1111111111111111,
              "#46039f"
             ],
             [
              0.2222222222222222,
              "#7201a8"
             ],
             [
              0.3333333333333333,
              "#9c179e"
             ],
             [
              0.4444444444444444,
              "#bd3786"
             ],
             [
              0.5555555555555556,
              "#d8576b"
             ],
             [
              0.6666666666666666,
              "#ed7953"
             ],
             [
              0.7777777777777778,
              "#fb9f3a"
             ],
             [
              0.8888888888888888,
              "#fdca26"
             ],
             [
              1,
              "#f0f921"
             ]
            ],
            "type": "histogram2dcontour"
           }
          ],
          "mesh3d": [
           {
            "colorbar": {
             "outlinewidth": 0,
             "ticks": ""
            },
            "type": "mesh3d"
           }
          ],
          "parcoords": [
           {
            "line": {
             "colorbar": {
              "outlinewidth": 0,
              "ticks": ""
             }
            },
            "type": "parcoords"
           }
          ],
          "pie": [
           {
            "automargin": true,
            "type": "pie"
           }
          ],
          "scatter": [
           {
            "fillpattern": {
             "fillmode": "overlay",
             "size": 10,
             "solidity": 0.2
            },
            "type": "scatter"
           }
          ],
          "scatter3d": [
           {
            "line": {
             "colorbar": {
              "outlinewidth": 0,
              "ticks": ""
             }
            },
            "marker": {
             "colorbar": {
              "outlinewidth": 0,
              "ticks": ""
             }
            },
            "type": "scatter3d"
           }
          ],
          "scattercarpet": [
           {
            "marker": {
             "colorbar": {
              "outlinewidth": 0,
              "ticks": ""
             }
            },
            "type": "scattercarpet"
           }
          ],
          "scattergeo": [
           {
            "marker": {
             "colorbar": {
              "outlinewidth": 0,
              "ticks": ""
             }
            },
            "type": "scattergeo"
           }
          ],
          "scattergl": [
           {
            "marker": {
             "colorbar": {
              "outlinewidth": 0,
              "ticks": ""
             }
            },
            "type": "scattergl"
           }
          ],
          "scattermapbox": [
           {
            "marker": {
             "colorbar": {
              "outlinewidth": 0,
              "ticks": ""
             }
            },
            "type": "scattermapbox"
           }
          ],
          "scatterpolar": [
           {
            "marker": {
             "colorbar": {
              "outlinewidth": 0,
              "ticks": ""
             }
            },
            "type": "scatterpolar"
           }
          ],
          "scatterpolargl": [
           {
            "marker": {
             "colorbar": {
              "outlinewidth": 0,
              "ticks": ""
             }
            },
            "type": "scatterpolargl"
           }
          ],
          "scatterternary": [
           {
            "marker": {
             "colorbar": {
              "outlinewidth": 0,
              "ticks": ""
             }
            },
            "type": "scatterternary"
           }
          ],
          "surface": [
           {
            "colorbar": {
             "outlinewidth": 0,
             "ticks": ""
            },
            "colorscale": [
             [
              0,
              "#0d0887"
             ],
             [
              0.1111111111111111,
              "#46039f"
             ],
             [
              0.2222222222222222,
              "#7201a8"
             ],
             [
              0.3333333333333333,
              "#9c179e"
             ],
             [
              0.4444444444444444,
              "#bd3786"
             ],
             [
              0.5555555555555556,
              "#d8576b"
             ],
             [
              0.6666666666666666,
              "#ed7953"
             ],
             [
              0.7777777777777778,
              "#fb9f3a"
             ],
             [
              0.8888888888888888,
              "#fdca26"
             ],
             [
              1,
              "#f0f921"
             ]
            ],
            "type": "surface"
           }
          ],
          "table": [
           {
            "cells": {
             "fill": {
              "color": "#EBF0F8"
             },
             "line": {
              "color": "white"
             }
            },
            "header": {
             "fill": {
              "color": "#C8D4E3"
             },
             "line": {
              "color": "white"
             }
            },
            "type": "table"
           }
          ]
         },
         "layout": {
          "annotationdefaults": {
           "arrowcolor": "#2a3f5f",
           "arrowhead": 0,
           "arrowwidth": 1
          },
          "autotypenumbers": "strict",
          "coloraxis": {
           "colorbar": {
            "outlinewidth": 0,
            "ticks": ""
           }
          },
          "colorscale": {
           "diverging": [
            [
             0,
             "#8e0152"
            ],
            [
             0.1,
             "#c51b7d"
            ],
            [
             0.2,
             "#de77ae"
            ],
            [
             0.3,
             "#f1b6da"
            ],
            [
             0.4,
             "#fde0ef"
            ],
            [
             0.5,
             "#f7f7f7"
            ],
            [
             0.6,
             "#e6f5d0"
            ],
            [
             0.7,
             "#b8e186"
            ],
            [
             0.8,
             "#7fbc41"
            ],
            [
             0.9,
             "#4d9221"
            ],
            [
             1,
             "#276419"
            ]
           ],
           "sequential": [
            [
             0,
             "#0d0887"
            ],
            [
             0.1111111111111111,
             "#46039f"
            ],
            [
             0.2222222222222222,
             "#7201a8"
            ],
            [
             0.3333333333333333,
             "#9c179e"
            ],
            [
             0.4444444444444444,
             "#bd3786"
            ],
            [
             0.5555555555555556,
             "#d8576b"
            ],
            [
             0.6666666666666666,
             "#ed7953"
            ],
            [
             0.7777777777777778,
             "#fb9f3a"
            ],
            [
             0.8888888888888888,
             "#fdca26"
            ],
            [
             1,
             "#f0f921"
            ]
           ],
           "sequentialminus": [
            [
             0,
             "#0d0887"
            ],
            [
             0.1111111111111111,
             "#46039f"
            ],
            [
             0.2222222222222222,
             "#7201a8"
            ],
            [
             0.3333333333333333,
             "#9c179e"
            ],
            [
             0.4444444444444444,
             "#bd3786"
            ],
            [
             0.5555555555555556,
             "#d8576b"
            ],
            [
             0.6666666666666666,
             "#ed7953"
            ],
            [
             0.7777777777777778,
             "#fb9f3a"
            ],
            [
             0.8888888888888888,
             "#fdca26"
            ],
            [
             1,
             "#f0f921"
            ]
           ]
          },
          "colorway": [
           "#636efa",
           "#EF553B",
           "#00cc96",
           "#ab63fa",
           "#FFA15A",
           "#19d3f3",
           "#FF6692",
           "#B6E880",
           "#FF97FF",
           "#FECB52"
          ],
          "font": {
           "color": "#2a3f5f"
          },
          "geo": {
           "bgcolor": "white",
           "lakecolor": "white",
           "landcolor": "#E5ECF6",
           "showlakes": true,
           "showland": true,
           "subunitcolor": "white"
          },
          "hoverlabel": {
           "align": "left"
          },
          "hovermode": "closest",
          "mapbox": {
           "style": "light"
          },
          "paper_bgcolor": "white",
          "plot_bgcolor": "#E5ECF6",
          "polar": {
           "angularaxis": {
            "gridcolor": "white",
            "linecolor": "white",
            "ticks": ""
           },
           "bgcolor": "#E5ECF6",
           "radialaxis": {
            "gridcolor": "white",
            "linecolor": "white",
            "ticks": ""
           }
          },
          "scene": {
           "xaxis": {
            "backgroundcolor": "#E5ECF6",
            "gridcolor": "white",
            "gridwidth": 2,
            "linecolor": "white",
            "showbackground": true,
            "ticks": "",
            "zerolinecolor": "white"
           },
           "yaxis": {
            "backgroundcolor": "#E5ECF6",
            "gridcolor": "white",
            "gridwidth": 2,
            "linecolor": "white",
            "showbackground": true,
            "ticks": "",
            "zerolinecolor": "white"
           },
           "zaxis": {
            "backgroundcolor": "#E5ECF6",
            "gridcolor": "white",
            "gridwidth": 2,
            "linecolor": "white",
            "showbackground": true,
            "ticks": "",
            "zerolinecolor": "white"
           }
          },
          "shapedefaults": {
           "line": {
            "color": "#2a3f5f"
           }
          },
          "ternary": {
           "aaxis": {
            "gridcolor": "white",
            "linecolor": "white",
            "ticks": ""
           },
           "baxis": {
            "gridcolor": "white",
            "linecolor": "white",
            "ticks": ""
           },
           "bgcolor": "#E5ECF6",
           "caxis": {
            "gridcolor": "white",
            "linecolor": "white",
            "ticks": ""
           }
          },
          "title": {
           "x": 0.05
          },
          "xaxis": {
           "automargin": true,
           "gridcolor": "white",
           "linecolor": "white",
           "ticks": "",
           "title": {
            "standoff": 15
           },
           "zerolinecolor": "white",
           "zerolinewidth": 2
          },
          "yaxis": {
           "automargin": true,
           "gridcolor": "white",
           "linecolor": "white",
           "ticks": "",
           "title": {
            "standoff": 15
           },
           "zerolinecolor": "white",
           "zerolinewidth": 2
          }
         }
        },
        "title": {
         "text": "Top 10 Genres with the Highest Percentage of missing Gross Worldwide values"
        },
        "xaxis": {
         "anchor": "y",
         "autorange": true,
         "domain": [
          0,
          1
         ],
         "range": [
          -0.5,
          9.5
         ],
         "title": {
          "text": "Genre"
         },
         "type": "category"
        },
        "yaxis": {
         "anchor": "x",
         "autorange": true,
         "domain": [
          0,
          1
         ],
         "range": [
          0,
          59.80861244019139
         ],
         "title": {
          "text": "% of contribution"
         },
         "type": "linear"
        }
       }
      },
      "text/html": [
       "<div>                            <div id=\"87e8a485-e3c6-4c82-94bd-47335996afd3\" class=\"plotly-graph-div\" style=\"height:525px; width:100%;\"></div>            <script type=\"text/javascript\">                require([\"plotly\"], function(Plotly) {                    window.PLOTLYENV=window.PLOTLYENV || {};                                    if (document.getElementById(\"87e8a485-e3c6-4c82-94bd-47335996afd3\")) {                    Plotly.newPlot(                        \"87e8a485-e3c6-4c82-94bd-47335996afd3\",                        [{\"alignmentgroup\":\"True\",\"hovertemplate\":\"Genre=%{x}\\u003cbr\\u003e% of contribution=%{y}\\u003cextra\\u003e\\u003c\\u002fextra\\u003e\",\"legendgroup\":\"\",\"marker\":{\"color\":\"#636efa\",\"pattern\":{\"shape\":\"\"}},\"name\":\"\",\"offsetgroup\":\"\",\"orientation\":\"v\",\"showlegend\":false,\"textposition\":\"auto\",\"x\":[\"Holiday Romance\",\"Holiday Family\",\"Erotic Thriller\",\"Holiday Animation\",\"Holiday\",\"Cozy Mystery\",\"Holiday Comedy\",\"Hard-boiled Detective\",\"Werewolf Horror\",\"Steamy Romance\"],\"xaxis\":\"x\",\"y\":[56.81818181818182,48.275862068965516,44.230769230769226,33.33333333333333,33.33333333333333,33.33333333333333,28.8135593220339,25.0,16.666666666666664,16.3265306122449],\"yaxis\":\"y\",\"type\":\"bar\"}],                        {\"template\":{\"data\":{\"histogram2dcontour\":[{\"type\":\"histogram2dcontour\",\"colorbar\":{\"outlinewidth\":0,\"ticks\":\"\"},\"colorscale\":[[0.0,\"#0d0887\"],[0.1111111111111111,\"#46039f\"],[0.2222222222222222,\"#7201a8\"],[0.3333333333333333,\"#9c179e\"],[0.4444444444444444,\"#bd3786\"],[0.5555555555555556,\"#d8576b\"],[0.6666666666666666,\"#ed7953\"],[0.7777777777777778,\"#fb9f3a\"],[0.8888888888888888,\"#fdca26\"],[1.0,\"#f0f921\"]]}],\"choropleth\":[{\"type\":\"choropleth\",\"colorbar\":{\"outlinewidth\":0,\"ticks\":\"\"}}],\"histogram2d\":[{\"type\":\"histogram2d\",\"colorbar\":{\"outlinewidth\":0,\"ticks\":\"\"},\"colorscale\":[[0.0,\"#0d0887\"],[0.1111111111111111,\"#46039f\"],[0.2222222222222222,\"#7201a8\"],[0.3333333333333333,\"#9c179e\"],[0.4444444444444444,\"#bd3786\"],[0.5555555555555556,\"#d8576b\"],[0.6666666666666666,\"#ed7953\"],[0.7777777777777778,\"#fb9f3a\"],[0.8888888888888888,\"#fdca26\"],[1.0,\"#f0f921\"]]}],\"heatmap\":[{\"type\":\"heatmap\",\"colorbar\":{\"outlinewidth\":0,\"ticks\":\"\"},\"colorscale\":[[0.0,\"#0d0887\"],[0.1111111111111111,\"#46039f\"],[0.2222222222222222,\"#7201a8\"],[0.3333333333333333,\"#9c179e\"],[0.4444444444444444,\"#bd3786\"],[0.5555555555555556,\"#d8576b\"],[0.6666666666666666,\"#ed7953\"],[0.7777777777777778,\"#fb9f3a\"],[0.8888888888888888,\"#fdca26\"],[1.0,\"#f0f921\"]]}],\"heatmapgl\":[{\"type\":\"heatmapgl\",\"colorbar\":{\"outlinewidth\":0,\"ticks\":\"\"},\"colorscale\":[[0.0,\"#0d0887\"],[0.1111111111111111,\"#46039f\"],[0.2222222222222222,\"#7201a8\"],[0.3333333333333333,\"#9c179e\"],[0.4444444444444444,\"#bd3786\"],[0.5555555555555556,\"#d8576b\"],[0.6666666666666666,\"#ed7953\"],[0.7777777777777778,\"#fb9f3a\"],[0.8888888888888888,\"#fdca26\"],[1.0,\"#f0f921\"]]}],\"contourcarpet\":[{\"type\":\"contourcarpet\",\"colorbar\":{\"outlinewidth\":0,\"ticks\":\"\"}}],\"contour\":[{\"type\":\"contour\",\"colorbar\":{\"outlinewidth\":0,\"ticks\":\"\"},\"colorscale\":[[0.0,\"#0d0887\"],[0.1111111111111111,\"#46039f\"],[0.2222222222222222,\"#7201a8\"],[0.3333333333333333,\"#9c179e\"],[0.4444444444444444,\"#bd3786\"],[0.5555555555555556,\"#d8576b\"],[0.6666666666666666,\"#ed7953\"],[0.7777777777777778,\"#fb9f3a\"],[0.8888888888888888,\"#fdca26\"],[1.0,\"#f0f921\"]]}],\"surface\":[{\"type\":\"surface\",\"colorbar\":{\"outlinewidth\":0,\"ticks\":\"\"},\"colorscale\":[[0.0,\"#0d0887\"],[0.1111111111111111,\"#46039f\"],[0.2222222222222222,\"#7201a8\"],[0.3333333333333333,\"#9c179e\"],[0.4444444444444444,\"#bd3786\"],[0.5555555555555556,\"#d8576b\"],[0.6666666666666666,\"#ed7953\"],[0.7777777777777778,\"#fb9f3a\"],[0.8888888888888888,\"#fdca26\"],[1.0,\"#f0f921\"]]}],\"mesh3d\":[{\"type\":\"mesh3d\",\"colorbar\":{\"outlinewidth\":0,\"ticks\":\"\"}}],\"scatter\":[{\"fillpattern\":{\"fillmode\":\"overlay\",\"size\":10,\"solidity\":0.2},\"type\":\"scatter\"}],\"parcoords\":[{\"type\":\"parcoords\",\"line\":{\"colorbar\":{\"outlinewidth\":0,\"ticks\":\"\"}}}],\"scatterpolargl\":[{\"type\":\"scatterpolargl\",\"marker\":{\"colorbar\":{\"outlinewidth\":0,\"ticks\":\"\"}}}],\"bar\":[{\"error_x\":{\"color\":\"#2a3f5f\"},\"error_y\":{\"color\":\"#2a3f5f\"},\"marker\":{\"line\":{\"color\":\"#E5ECF6\",\"width\":0.5},\"pattern\":{\"fillmode\":\"overlay\",\"size\":10,\"solidity\":0.2}},\"type\":\"bar\"}],\"scattergeo\":[{\"type\":\"scattergeo\",\"marker\":{\"colorbar\":{\"outlinewidth\":0,\"ticks\":\"\"}}}],\"scatterpolar\":[{\"type\":\"scatterpolar\",\"marker\":{\"colorbar\":{\"outlinewidth\":0,\"ticks\":\"\"}}}],\"histogram\":[{\"marker\":{\"pattern\":{\"fillmode\":\"overlay\",\"size\":10,\"solidity\":0.2}},\"type\":\"histogram\"}],\"scattergl\":[{\"type\":\"scattergl\",\"marker\":{\"colorbar\":{\"outlinewidth\":0,\"ticks\":\"\"}}}],\"scatter3d\":[{\"type\":\"scatter3d\",\"line\":{\"colorbar\":{\"outlinewidth\":0,\"ticks\":\"\"}},\"marker\":{\"colorbar\":{\"outlinewidth\":0,\"ticks\":\"\"}}}],\"scattermapbox\":[{\"type\":\"scattermapbox\",\"marker\":{\"colorbar\":{\"outlinewidth\":0,\"ticks\":\"\"}}}],\"scatterternary\":[{\"type\":\"scatterternary\",\"marker\":{\"colorbar\":{\"outlinewidth\":0,\"ticks\":\"\"}}}],\"scattercarpet\":[{\"type\":\"scattercarpet\",\"marker\":{\"colorbar\":{\"outlinewidth\":0,\"ticks\":\"\"}}}],\"carpet\":[{\"aaxis\":{\"endlinecolor\":\"#2a3f5f\",\"gridcolor\":\"white\",\"linecolor\":\"white\",\"minorgridcolor\":\"white\",\"startlinecolor\":\"#2a3f5f\"},\"baxis\":{\"endlinecolor\":\"#2a3f5f\",\"gridcolor\":\"white\",\"linecolor\":\"white\",\"minorgridcolor\":\"white\",\"startlinecolor\":\"#2a3f5f\"},\"type\":\"carpet\"}],\"table\":[{\"cells\":{\"fill\":{\"color\":\"#EBF0F8\"},\"line\":{\"color\":\"white\"}},\"header\":{\"fill\":{\"color\":\"#C8D4E3\"},\"line\":{\"color\":\"white\"}},\"type\":\"table\"}],\"barpolar\":[{\"marker\":{\"line\":{\"color\":\"#E5ECF6\",\"width\":0.5},\"pattern\":{\"fillmode\":\"overlay\",\"size\":10,\"solidity\":0.2}},\"type\":\"barpolar\"}],\"pie\":[{\"automargin\":true,\"type\":\"pie\"}]},\"layout\":{\"autotypenumbers\":\"strict\",\"colorway\":[\"#636efa\",\"#EF553B\",\"#00cc96\",\"#ab63fa\",\"#FFA15A\",\"#19d3f3\",\"#FF6692\",\"#B6E880\",\"#FF97FF\",\"#FECB52\"],\"font\":{\"color\":\"#2a3f5f\"},\"hovermode\":\"closest\",\"hoverlabel\":{\"align\":\"left\"},\"paper_bgcolor\":\"white\",\"plot_bgcolor\":\"#E5ECF6\",\"polar\":{\"bgcolor\":\"#E5ECF6\",\"angularaxis\":{\"gridcolor\":\"white\",\"linecolor\":\"white\",\"ticks\":\"\"},\"radialaxis\":{\"gridcolor\":\"white\",\"linecolor\":\"white\",\"ticks\":\"\"}},\"ternary\":{\"bgcolor\":\"#E5ECF6\",\"aaxis\":{\"gridcolor\":\"white\",\"linecolor\":\"white\",\"ticks\":\"\"},\"baxis\":{\"gridcolor\":\"white\",\"linecolor\":\"white\",\"ticks\":\"\"},\"caxis\":{\"gridcolor\":\"white\",\"linecolor\":\"white\",\"ticks\":\"\"}},\"coloraxis\":{\"colorbar\":{\"outlinewidth\":0,\"ticks\":\"\"}},\"colorscale\":{\"sequential\":[[0.0,\"#0d0887\"],[0.1111111111111111,\"#46039f\"],[0.2222222222222222,\"#7201a8\"],[0.3333333333333333,\"#9c179e\"],[0.4444444444444444,\"#bd3786\"],[0.5555555555555556,\"#d8576b\"],[0.6666666666666666,\"#ed7953\"],[0.7777777777777778,\"#fb9f3a\"],[0.8888888888888888,\"#fdca26\"],[1.0,\"#f0f921\"]],\"sequentialminus\":[[0.0,\"#0d0887\"],[0.1111111111111111,\"#46039f\"],[0.2222222222222222,\"#7201a8\"],[0.3333333333333333,\"#9c179e\"],[0.4444444444444444,\"#bd3786\"],[0.5555555555555556,\"#d8576b\"],[0.6666666666666666,\"#ed7953\"],[0.7777777777777778,\"#fb9f3a\"],[0.8888888888888888,\"#fdca26\"],[1.0,\"#f0f921\"]],\"diverging\":[[0,\"#8e0152\"],[0.1,\"#c51b7d\"],[0.2,\"#de77ae\"],[0.3,\"#f1b6da\"],[0.4,\"#fde0ef\"],[0.5,\"#f7f7f7\"],[0.6,\"#e6f5d0\"],[0.7,\"#b8e186\"],[0.8,\"#7fbc41\"],[0.9,\"#4d9221\"],[1,\"#276419\"]]},\"xaxis\":{\"gridcolor\":\"white\",\"linecolor\":\"white\",\"ticks\":\"\",\"title\":{\"standoff\":15},\"zerolinecolor\":\"white\",\"automargin\":true,\"zerolinewidth\":2},\"yaxis\":{\"gridcolor\":\"white\",\"linecolor\":\"white\",\"ticks\":\"\",\"title\":{\"standoff\":15},\"zerolinecolor\":\"white\",\"automargin\":true,\"zerolinewidth\":2},\"scene\":{\"xaxis\":{\"backgroundcolor\":\"#E5ECF6\",\"gridcolor\":\"white\",\"linecolor\":\"white\",\"showbackground\":true,\"ticks\":\"\",\"zerolinecolor\":\"white\",\"gridwidth\":2},\"yaxis\":{\"backgroundcolor\":\"#E5ECF6\",\"gridcolor\":\"white\",\"linecolor\":\"white\",\"showbackground\":true,\"ticks\":\"\",\"zerolinecolor\":\"white\",\"gridwidth\":2},\"zaxis\":{\"backgroundcolor\":\"#E5ECF6\",\"gridcolor\":\"white\",\"linecolor\":\"white\",\"showbackground\":true,\"ticks\":\"\",\"zerolinecolor\":\"white\",\"gridwidth\":2}},\"shapedefaults\":{\"line\":{\"color\":\"#2a3f5f\"}},\"annotationdefaults\":{\"arrowcolor\":\"#2a3f5f\",\"arrowhead\":0,\"arrowwidth\":1},\"geo\":{\"bgcolor\":\"white\",\"landcolor\":\"#E5ECF6\",\"subunitcolor\":\"white\",\"showland\":true,\"showlakes\":true,\"lakecolor\":\"white\"},\"title\":{\"x\":0.05},\"mapbox\":{\"style\":\"light\"}}},\"xaxis\":{\"anchor\":\"y\",\"domain\":[0.0,1.0],\"title\":{\"text\":\"Genre\"}},\"yaxis\":{\"anchor\":\"x\",\"domain\":[0.0,1.0],\"title\":{\"text\":\"% of contribution\"}},\"legend\":{\"tracegroupgap\":0},\"title\":{\"text\":\"Top 10 Genres with the Highest Percentage of missing Gross Worldwide values\"},\"barmode\":\"relative\"},                        {\"responsive\": true}                    ).then(function(){\n",
       "                            \n",
       "var gd = document.getElementById('87e8a485-e3c6-4c82-94bd-47335996afd3');\n",
       "var x = new MutationObserver(function (mutations, observer) {{\n",
       "        var display = window.getComputedStyle(gd).display;\n",
       "        if (!display || display === 'none') {{\n",
       "            console.log([gd, 'removed!']);\n",
       "            Plotly.purge(gd);\n",
       "            observer.disconnect();\n",
       "        }}\n",
       "}});\n",
       "\n",
       "// Listen for the removal of the full notebook cells\n",
       "var notebookContainer = gd.closest('#notebook-container');\n",
       "if (notebookContainer) {{\n",
       "    x.observe(notebookContainer, {childList: true});\n",
       "}}\n",
       "\n",
       "// Listen for the clearing of the current output cell\n",
       "var outputEl = gd.closest('.output');\n",
       "if (outputEl) {{\n",
       "    x.observe(outputEl, {childList: true});\n",
       "}}\n",
       "\n",
       "                        })                };                });            </script>        </div>"
      ]
     },
     "metadata": {},
     "output_type": "display_data"
    }
   ],
   "source": [
    "missing_gross_pct = (df.explode('genres').groupby('genres')['grossWorldWide'].apply(lambda x: x.isnull().mean()).sort_values(ascending = False) * 100).reset_index(name = 'missing_pct')\n",
    "missing_gross_pct = missing_gross_pct[missing_gross_pct['genres'] != 'Unknown'].head(10)\n",
    "fig = px.bar(\n",
    "    missing_gross_pct,\n",
    "    x = 'genres',\n",
    "    y = 'missing_pct',\n",
    "    labels = {'genres' : 'Genre', 'missing_pct' : '% of contribution'},\n",
    "    title = \"Top 10 Genres with the Highest Percentage of missing Gross Worldwide values\"\n",
    ")\n",
    "fig.show()"
   ]
  },
  {
   "cell_type": "code",
   "execution_count": 156,
   "id": "df0a4730-0161-4ad9-96ff-25e4f8ea9898",
   "metadata": {},
   "outputs": [
    {
     "data": {
      "application/vnd.plotly.v1+json": {
       "config": {
        "plotlyServerURL": "https://plot.ly"
       },
       "data": [
        {
         "hovertemplate": "Year=%{x}<br>Missing Percentage=%{y}<extra></extra>",
         "legendgroup": "",
         "line": {
          "color": "#636efa",
          "dash": "solid"
         },
         "marker": {
          "symbol": "circle"
         },
         "mode": "lines",
         "name": "",
         "orientation": "v",
         "showlegend": false,
         "type": "scatter",
         "x": [
          2000,
          2001,
          2002,
          2003,
          2004,
          2005,
          2006,
          2007,
          2008,
          2009,
          2010,
          2011,
          2012,
          2013,
          2014,
          2015,
          2016,
          2017,
          2018,
          2019,
          2020,
          2021,
          2022,
          2023,
          2024
         ],
         "xaxis": "x",
         "y": [
          15.060240963855422,
          13.661202185792352,
          1.402805611222445,
          1.6032064128256511,
          5.676126878130217,
          0.2004008016032064,
          0,
          0,
          3.005008347245409,
          0.5454545454545455,
          0,
          18.236472945891784,
          23.246492985971944,
          13.248638838475499,
          0,
          0,
          0,
          0,
          0,
          0,
          32.83082077051927,
          9.879032258064516,
          19.495798319327733,
          9.007352941176471,
          29.222972972972972
         ],
         "yaxis": "y"
        }
       ],
       "layout": {
        "autosize": true,
        "legend": {
         "tracegroupgap": 0
        },
        "template": {
         "data": {
          "bar": [
           {
            "error_x": {
             "color": "#2a3f5f"
            },
            "error_y": {
             "color": "#2a3f5f"
            },
            "marker": {
             "line": {
              "color": "#E5ECF6",
              "width": 0.5
             },
             "pattern": {
              "fillmode": "overlay",
              "size": 10,
              "solidity": 0.2
             }
            },
            "type": "bar"
           }
          ],
          "barpolar": [
           {
            "marker": {
             "line": {
              "color": "#E5ECF6",
              "width": 0.5
             },
             "pattern": {
              "fillmode": "overlay",
              "size": 10,
              "solidity": 0.2
             }
            },
            "type": "barpolar"
           }
          ],
          "carpet": [
           {
            "aaxis": {
             "endlinecolor": "#2a3f5f",
             "gridcolor": "white",
             "linecolor": "white",
             "minorgridcolor": "white",
             "startlinecolor": "#2a3f5f"
            },
            "baxis": {
             "endlinecolor": "#2a3f5f",
             "gridcolor": "white",
             "linecolor": "white",
             "minorgridcolor": "white",
             "startlinecolor": "#2a3f5f"
            },
            "type": "carpet"
           }
          ],
          "choropleth": [
           {
            "colorbar": {
             "outlinewidth": 0,
             "ticks": ""
            },
            "type": "choropleth"
           }
          ],
          "contour": [
           {
            "colorbar": {
             "outlinewidth": 0,
             "ticks": ""
            },
            "colorscale": [
             [
              0,
              "#0d0887"
             ],
             [
              0.1111111111111111,
              "#46039f"
             ],
             [
              0.2222222222222222,
              "#7201a8"
             ],
             [
              0.3333333333333333,
              "#9c179e"
             ],
             [
              0.4444444444444444,
              "#bd3786"
             ],
             [
              0.5555555555555556,
              "#d8576b"
             ],
             [
              0.6666666666666666,
              "#ed7953"
             ],
             [
              0.7777777777777778,
              "#fb9f3a"
             ],
             [
              0.8888888888888888,
              "#fdca26"
             ],
             [
              1,
              "#f0f921"
             ]
            ],
            "type": "contour"
           }
          ],
          "contourcarpet": [
           {
            "colorbar": {
             "outlinewidth": 0,
             "ticks": ""
            },
            "type": "contourcarpet"
           }
          ],
          "heatmap": [
           {
            "colorbar": {
             "outlinewidth": 0,
             "ticks": ""
            },
            "colorscale": [
             [
              0,
              "#0d0887"
             ],
             [
              0.1111111111111111,
              "#46039f"
             ],
             [
              0.2222222222222222,
              "#7201a8"
             ],
             [
              0.3333333333333333,
              "#9c179e"
             ],
             [
              0.4444444444444444,
              "#bd3786"
             ],
             [
              0.5555555555555556,
              "#d8576b"
             ],
             [
              0.6666666666666666,
              "#ed7953"
             ],
             [
              0.7777777777777778,
              "#fb9f3a"
             ],
             [
              0.8888888888888888,
              "#fdca26"
             ],
             [
              1,
              "#f0f921"
             ]
            ],
            "type": "heatmap"
           }
          ],
          "heatmapgl": [
           {
            "colorbar": {
             "outlinewidth": 0,
             "ticks": ""
            },
            "colorscale": [
             [
              0,
              "#0d0887"
             ],
             [
              0.1111111111111111,
              "#46039f"
             ],
             [
              0.2222222222222222,
              "#7201a8"
             ],
             [
              0.3333333333333333,
              "#9c179e"
             ],
             [
              0.4444444444444444,
              "#bd3786"
             ],
             [
              0.5555555555555556,
              "#d8576b"
             ],
             [
              0.6666666666666666,
              "#ed7953"
             ],
             [
              0.7777777777777778,
              "#fb9f3a"
             ],
             [
              0.8888888888888888,
              "#fdca26"
             ],
             [
              1,
              "#f0f921"
             ]
            ],
            "type": "heatmapgl"
           }
          ],
          "histogram": [
           {
            "marker": {
             "pattern": {
              "fillmode": "overlay",
              "size": 10,
              "solidity": 0.2
             }
            },
            "type": "histogram"
           }
          ],
          "histogram2d": [
           {
            "colorbar": {
             "outlinewidth": 0,
             "ticks": ""
            },
            "colorscale": [
             [
              0,
              "#0d0887"
             ],
             [
              0.1111111111111111,
              "#46039f"
             ],
             [
              0.2222222222222222,
              "#7201a8"
             ],
             [
              0.3333333333333333,
              "#9c179e"
             ],
             [
              0.4444444444444444,
              "#bd3786"
             ],
             [
              0.5555555555555556,
              "#d8576b"
             ],
             [
              0.6666666666666666,
              "#ed7953"
             ],
             [
              0.7777777777777778,
              "#fb9f3a"
             ],
             [
              0.8888888888888888,
              "#fdca26"
             ],
             [
              1,
              "#f0f921"
             ]
            ],
            "type": "histogram2d"
           }
          ],
          "histogram2dcontour": [
           {
            "colorbar": {
             "outlinewidth": 0,
             "ticks": ""
            },
            "colorscale": [
             [
              0,
              "#0d0887"
             ],
             [
              0.1111111111111111,
              "#46039f"
             ],
             [
              0.2222222222222222,
              "#7201a8"
             ],
             [
              0.3333333333333333,
              "#9c179e"
             ],
             [
              0.4444444444444444,
              "#bd3786"
             ],
             [
              0.5555555555555556,
              "#d8576b"
             ],
             [
              0.6666666666666666,
              "#ed7953"
             ],
             [
              0.7777777777777778,
              "#fb9f3a"
             ],
             [
              0.8888888888888888,
              "#fdca26"
             ],
             [
              1,
              "#f0f921"
             ]
            ],
            "type": "histogram2dcontour"
           }
          ],
          "mesh3d": [
           {
            "colorbar": {
             "outlinewidth": 0,
             "ticks": ""
            },
            "type": "mesh3d"
           }
          ],
          "parcoords": [
           {
            "line": {
             "colorbar": {
              "outlinewidth": 0,
              "ticks": ""
             }
            },
            "type": "parcoords"
           }
          ],
          "pie": [
           {
            "automargin": true,
            "type": "pie"
           }
          ],
          "scatter": [
           {
            "fillpattern": {
             "fillmode": "overlay",
             "size": 10,
             "solidity": 0.2
            },
            "type": "scatter"
           }
          ],
          "scatter3d": [
           {
            "line": {
             "colorbar": {
              "outlinewidth": 0,
              "ticks": ""
             }
            },
            "marker": {
             "colorbar": {
              "outlinewidth": 0,
              "ticks": ""
             }
            },
            "type": "scatter3d"
           }
          ],
          "scattercarpet": [
           {
            "marker": {
             "colorbar": {
              "outlinewidth": 0,
              "ticks": ""
             }
            },
            "type": "scattercarpet"
           }
          ],
          "scattergeo": [
           {
            "marker": {
             "colorbar": {
              "outlinewidth": 0,
              "ticks": ""
             }
            },
            "type": "scattergeo"
           }
          ],
          "scattergl": [
           {
            "marker": {
             "colorbar": {
              "outlinewidth": 0,
              "ticks": ""
             }
            },
            "type": "scattergl"
           }
          ],
          "scattermapbox": [
           {
            "marker": {
             "colorbar": {
              "outlinewidth": 0,
              "ticks": ""
             }
            },
            "type": "scattermapbox"
           }
          ],
          "scatterpolar": [
           {
            "marker": {
             "colorbar": {
              "outlinewidth": 0,
              "ticks": ""
             }
            },
            "type": "scatterpolar"
           }
          ],
          "scatterpolargl": [
           {
            "marker": {
             "colorbar": {
              "outlinewidth": 0,
              "ticks": ""
             }
            },
            "type": "scatterpolargl"
           }
          ],
          "scatterternary": [
           {
            "marker": {
             "colorbar": {
              "outlinewidth": 0,
              "ticks": ""
             }
            },
            "type": "scatterternary"
           }
          ],
          "surface": [
           {
            "colorbar": {
             "outlinewidth": 0,
             "ticks": ""
            },
            "colorscale": [
             [
              0,
              "#0d0887"
             ],
             [
              0.1111111111111111,
              "#46039f"
             ],
             [
              0.2222222222222222,
              "#7201a8"
             ],
             [
              0.3333333333333333,
              "#9c179e"
             ],
             [
              0.4444444444444444,
              "#bd3786"
             ],
             [
              0.5555555555555556,
              "#d8576b"
             ],
             [
              0.6666666666666666,
              "#ed7953"
             ],
             [
              0.7777777777777778,
              "#fb9f3a"
             ],
             [
              0.8888888888888888,
              "#fdca26"
             ],
             [
              1,
              "#f0f921"
             ]
            ],
            "type": "surface"
           }
          ],
          "table": [
           {
            "cells": {
             "fill": {
              "color": "#EBF0F8"
             },
             "line": {
              "color": "white"
             }
            },
            "header": {
             "fill": {
              "color": "#C8D4E3"
             },
             "line": {
              "color": "white"
             }
            },
            "type": "table"
           }
          ]
         },
         "layout": {
          "annotationdefaults": {
           "arrowcolor": "#2a3f5f",
           "arrowhead": 0,
           "arrowwidth": 1
          },
          "autotypenumbers": "strict",
          "coloraxis": {
           "colorbar": {
            "outlinewidth": 0,
            "ticks": ""
           }
          },
          "colorscale": {
           "diverging": [
            [
             0,
             "#8e0152"
            ],
            [
             0.1,
             "#c51b7d"
            ],
            [
             0.2,
             "#de77ae"
            ],
            [
             0.3,
             "#f1b6da"
            ],
            [
             0.4,
             "#fde0ef"
            ],
            [
             0.5,
             "#f7f7f7"
            ],
            [
             0.6,
             "#e6f5d0"
            ],
            [
             0.7,
             "#b8e186"
            ],
            [
             0.8,
             "#7fbc41"
            ],
            [
             0.9,
             "#4d9221"
            ],
            [
             1,
             "#276419"
            ]
           ],
           "sequential": [
            [
             0,
             "#0d0887"
            ],
            [
             0.1111111111111111,
             "#46039f"
            ],
            [
             0.2222222222222222,
             "#7201a8"
            ],
            [
             0.3333333333333333,
             "#9c179e"
            ],
            [
             0.4444444444444444,
             "#bd3786"
            ],
            [
             0.5555555555555556,
             "#d8576b"
            ],
            [
             0.6666666666666666,
             "#ed7953"
            ],
            [
             0.7777777777777778,
             "#fb9f3a"
            ],
            [
             0.8888888888888888,
             "#fdca26"
            ],
            [
             1,
             "#f0f921"
            ]
           ],
           "sequentialminus": [
            [
             0,
             "#0d0887"
            ],
            [
             0.1111111111111111,
             "#46039f"
            ],
            [
             0.2222222222222222,
             "#7201a8"
            ],
            [
             0.3333333333333333,
             "#9c179e"
            ],
            [
             0.4444444444444444,
             "#bd3786"
            ],
            [
             0.5555555555555556,
             "#d8576b"
            ],
            [
             0.6666666666666666,
             "#ed7953"
            ],
            [
             0.7777777777777778,
             "#fb9f3a"
            ],
            [
             0.8888888888888888,
             "#fdca26"
            ],
            [
             1,
             "#f0f921"
            ]
           ]
          },
          "colorway": [
           "#636efa",
           "#EF553B",
           "#00cc96",
           "#ab63fa",
           "#FFA15A",
           "#19d3f3",
           "#FF6692",
           "#B6E880",
           "#FF97FF",
           "#FECB52"
          ],
          "font": {
           "color": "#2a3f5f"
          },
          "geo": {
           "bgcolor": "white",
           "lakecolor": "white",
           "landcolor": "#E5ECF6",
           "showlakes": true,
           "showland": true,
           "subunitcolor": "white"
          },
          "hoverlabel": {
           "align": "left"
          },
          "hovermode": "closest",
          "mapbox": {
           "style": "light"
          },
          "paper_bgcolor": "white",
          "plot_bgcolor": "#E5ECF6",
          "polar": {
           "angularaxis": {
            "gridcolor": "white",
            "linecolor": "white",
            "ticks": ""
           },
           "bgcolor": "#E5ECF6",
           "radialaxis": {
            "gridcolor": "white",
            "linecolor": "white",
            "ticks": ""
           }
          },
          "scene": {
           "xaxis": {
            "backgroundcolor": "#E5ECF6",
            "gridcolor": "white",
            "gridwidth": 2,
            "linecolor": "white",
            "showbackground": true,
            "ticks": "",
            "zerolinecolor": "white"
           },
           "yaxis": {
            "backgroundcolor": "#E5ECF6",
            "gridcolor": "white",
            "gridwidth": 2,
            "linecolor": "white",
            "showbackground": true,
            "ticks": "",
            "zerolinecolor": "white"
           },
           "zaxis": {
            "backgroundcolor": "#E5ECF6",
            "gridcolor": "white",
            "gridwidth": 2,
            "linecolor": "white",
            "showbackground": true,
            "ticks": "",
            "zerolinecolor": "white"
           }
          },
          "shapedefaults": {
           "line": {
            "color": "#2a3f5f"
           }
          },
          "ternary": {
           "aaxis": {
            "gridcolor": "white",
            "linecolor": "white",
            "ticks": ""
           },
           "baxis": {
            "gridcolor": "white",
            "linecolor": "white",
            "ticks": ""
           },
           "bgcolor": "#E5ECF6",
           "caxis": {
            "gridcolor": "white",
            "linecolor": "white",
            "ticks": ""
           }
          },
          "title": {
           "x": 0.05
          },
          "xaxis": {
           "automargin": true,
           "gridcolor": "white",
           "linecolor": "white",
           "ticks": "",
           "title": {
            "standoff": 15
           },
           "zerolinecolor": "white",
           "zerolinewidth": 2
          },
          "yaxis": {
           "automargin": true,
           "gridcolor": "white",
           "linecolor": "white",
           "ticks": "",
           "title": {
            "standoff": 15
           },
           "zerolinecolor": "white",
           "zerolinewidth": 2
          }
         }
        },
        "title": {
         "text": "Missing Percentage by Year"
        },
        "xaxis": {
         "anchor": "y",
         "autorange": true,
         "domain": [
          0,
          1
         ],
         "range": [
          2000,
          2024
         ],
         "title": {
          "text": "Year"
         },
         "type": "linear"
        },
        "yaxis": {
         "anchor": "x",
         "autorange": true,
         "domain": [
          0,
          1
         ],
         "range": [
          -1.8239344872510705,
          34.65475525777034
         ],
         "title": {
          "text": "Missing Percentage"
         },
         "type": "linear"
        }
       }
      },
      "text/html": [
       "<div>                            <div id=\"e608f63e-eb9e-4b9e-a359-309bcf1a6a73\" class=\"plotly-graph-div\" style=\"height:525px; width:100%;\"></div>            <script type=\"text/javascript\">                require([\"plotly\"], function(Plotly) {                    window.PLOTLYENV=window.PLOTLYENV || {};                                    if (document.getElementById(\"e608f63e-eb9e-4b9e-a359-309bcf1a6a73\")) {                    Plotly.newPlot(                        \"e608f63e-eb9e-4b9e-a359-309bcf1a6a73\",                        [{\"hovertemplate\":\"Year=%{x}\\u003cbr\\u003eMissing Percentage=%{y}\\u003cextra\\u003e\\u003c\\u002fextra\\u003e\",\"legendgroup\":\"\",\"line\":{\"color\":\"#636efa\",\"dash\":\"solid\"},\"marker\":{\"symbol\":\"circle\"},\"mode\":\"lines\",\"name\":\"\",\"orientation\":\"v\",\"showlegend\":false,\"x\":[2000,2001,2002,2003,2004,2005,2006,2007,2008,2009,2010,2011,2012,2013,2014,2015,2016,2017,2018,2019,2020,2021,2022,2023,2024],\"xaxis\":\"x\",\"y\":[15.060240963855422,13.661202185792352,1.402805611222445,1.6032064128256511,5.676126878130217,0.2004008016032064,0.0,0.0,3.005008347245409,0.5454545454545455,0.0,18.236472945891784,23.246492985971944,13.248638838475499,0.0,0.0,0.0,0.0,0.0,0.0,32.83082077051927,9.879032258064516,19.495798319327733,9.007352941176471,29.222972972972972],\"yaxis\":\"y\",\"type\":\"scatter\"}],                        {\"template\":{\"data\":{\"histogram2dcontour\":[{\"type\":\"histogram2dcontour\",\"colorbar\":{\"outlinewidth\":0,\"ticks\":\"\"},\"colorscale\":[[0.0,\"#0d0887\"],[0.1111111111111111,\"#46039f\"],[0.2222222222222222,\"#7201a8\"],[0.3333333333333333,\"#9c179e\"],[0.4444444444444444,\"#bd3786\"],[0.5555555555555556,\"#d8576b\"],[0.6666666666666666,\"#ed7953\"],[0.7777777777777778,\"#fb9f3a\"],[0.8888888888888888,\"#fdca26\"],[1.0,\"#f0f921\"]]}],\"choropleth\":[{\"type\":\"choropleth\",\"colorbar\":{\"outlinewidth\":0,\"ticks\":\"\"}}],\"histogram2d\":[{\"type\":\"histogram2d\",\"colorbar\":{\"outlinewidth\":0,\"ticks\":\"\"},\"colorscale\":[[0.0,\"#0d0887\"],[0.1111111111111111,\"#46039f\"],[0.2222222222222222,\"#7201a8\"],[0.3333333333333333,\"#9c179e\"],[0.4444444444444444,\"#bd3786\"],[0.5555555555555556,\"#d8576b\"],[0.6666666666666666,\"#ed7953\"],[0.7777777777777778,\"#fb9f3a\"],[0.8888888888888888,\"#fdca26\"],[1.0,\"#f0f921\"]]}],\"heatmap\":[{\"type\":\"heatmap\",\"colorbar\":{\"outlinewidth\":0,\"ticks\":\"\"},\"colorscale\":[[0.0,\"#0d0887\"],[0.1111111111111111,\"#46039f\"],[0.2222222222222222,\"#7201a8\"],[0.3333333333333333,\"#9c179e\"],[0.4444444444444444,\"#bd3786\"],[0.5555555555555556,\"#d8576b\"],[0.6666666666666666,\"#ed7953\"],[0.7777777777777778,\"#fb9f3a\"],[0.8888888888888888,\"#fdca26\"],[1.0,\"#f0f921\"]]}],\"heatmapgl\":[{\"type\":\"heatmapgl\",\"colorbar\":{\"outlinewidth\":0,\"ticks\":\"\"},\"colorscale\":[[0.0,\"#0d0887\"],[0.1111111111111111,\"#46039f\"],[0.2222222222222222,\"#7201a8\"],[0.3333333333333333,\"#9c179e\"],[0.4444444444444444,\"#bd3786\"],[0.5555555555555556,\"#d8576b\"],[0.6666666666666666,\"#ed7953\"],[0.7777777777777778,\"#fb9f3a\"],[0.8888888888888888,\"#fdca26\"],[1.0,\"#f0f921\"]]}],\"contourcarpet\":[{\"type\":\"contourcarpet\",\"colorbar\":{\"outlinewidth\":0,\"ticks\":\"\"}}],\"contour\":[{\"type\":\"contour\",\"colorbar\":{\"outlinewidth\":0,\"ticks\":\"\"},\"colorscale\":[[0.0,\"#0d0887\"],[0.1111111111111111,\"#46039f\"],[0.2222222222222222,\"#7201a8\"],[0.3333333333333333,\"#9c179e\"],[0.4444444444444444,\"#bd3786\"],[0.5555555555555556,\"#d8576b\"],[0.6666666666666666,\"#ed7953\"],[0.7777777777777778,\"#fb9f3a\"],[0.8888888888888888,\"#fdca26\"],[1.0,\"#f0f921\"]]}],\"surface\":[{\"type\":\"surface\",\"colorbar\":{\"outlinewidth\":0,\"ticks\":\"\"},\"colorscale\":[[0.0,\"#0d0887\"],[0.1111111111111111,\"#46039f\"],[0.2222222222222222,\"#7201a8\"],[0.3333333333333333,\"#9c179e\"],[0.4444444444444444,\"#bd3786\"],[0.5555555555555556,\"#d8576b\"],[0.6666666666666666,\"#ed7953\"],[0.7777777777777778,\"#fb9f3a\"],[0.8888888888888888,\"#fdca26\"],[1.0,\"#f0f921\"]]}],\"mesh3d\":[{\"type\":\"mesh3d\",\"colorbar\":{\"outlinewidth\":0,\"ticks\":\"\"}}],\"scatter\":[{\"fillpattern\":{\"fillmode\":\"overlay\",\"size\":10,\"solidity\":0.2},\"type\":\"scatter\"}],\"parcoords\":[{\"type\":\"parcoords\",\"line\":{\"colorbar\":{\"outlinewidth\":0,\"ticks\":\"\"}}}],\"scatterpolargl\":[{\"type\":\"scatterpolargl\",\"marker\":{\"colorbar\":{\"outlinewidth\":0,\"ticks\":\"\"}}}],\"bar\":[{\"error_x\":{\"color\":\"#2a3f5f\"},\"error_y\":{\"color\":\"#2a3f5f\"},\"marker\":{\"line\":{\"color\":\"#E5ECF6\",\"width\":0.5},\"pattern\":{\"fillmode\":\"overlay\",\"size\":10,\"solidity\":0.2}},\"type\":\"bar\"}],\"scattergeo\":[{\"type\":\"scattergeo\",\"marker\":{\"colorbar\":{\"outlinewidth\":0,\"ticks\":\"\"}}}],\"scatterpolar\":[{\"type\":\"scatterpolar\",\"marker\":{\"colorbar\":{\"outlinewidth\":0,\"ticks\":\"\"}}}],\"histogram\":[{\"marker\":{\"pattern\":{\"fillmode\":\"overlay\",\"size\":10,\"solidity\":0.2}},\"type\":\"histogram\"}],\"scattergl\":[{\"type\":\"scattergl\",\"marker\":{\"colorbar\":{\"outlinewidth\":0,\"ticks\":\"\"}}}],\"scatter3d\":[{\"type\":\"scatter3d\",\"line\":{\"colorbar\":{\"outlinewidth\":0,\"ticks\":\"\"}},\"marker\":{\"colorbar\":{\"outlinewidth\":0,\"ticks\":\"\"}}}],\"scattermapbox\":[{\"type\":\"scattermapbox\",\"marker\":{\"colorbar\":{\"outlinewidth\":0,\"ticks\":\"\"}}}],\"scatterternary\":[{\"type\":\"scatterternary\",\"marker\":{\"colorbar\":{\"outlinewidth\":0,\"ticks\":\"\"}}}],\"scattercarpet\":[{\"type\":\"scattercarpet\",\"marker\":{\"colorbar\":{\"outlinewidth\":0,\"ticks\":\"\"}}}],\"carpet\":[{\"aaxis\":{\"endlinecolor\":\"#2a3f5f\",\"gridcolor\":\"white\",\"linecolor\":\"white\",\"minorgridcolor\":\"white\",\"startlinecolor\":\"#2a3f5f\"},\"baxis\":{\"endlinecolor\":\"#2a3f5f\",\"gridcolor\":\"white\",\"linecolor\":\"white\",\"minorgridcolor\":\"white\",\"startlinecolor\":\"#2a3f5f\"},\"type\":\"carpet\"}],\"table\":[{\"cells\":{\"fill\":{\"color\":\"#EBF0F8\"},\"line\":{\"color\":\"white\"}},\"header\":{\"fill\":{\"color\":\"#C8D4E3\"},\"line\":{\"color\":\"white\"}},\"type\":\"table\"}],\"barpolar\":[{\"marker\":{\"line\":{\"color\":\"#E5ECF6\",\"width\":0.5},\"pattern\":{\"fillmode\":\"overlay\",\"size\":10,\"solidity\":0.2}},\"type\":\"barpolar\"}],\"pie\":[{\"automargin\":true,\"type\":\"pie\"}]},\"layout\":{\"autotypenumbers\":\"strict\",\"colorway\":[\"#636efa\",\"#EF553B\",\"#00cc96\",\"#ab63fa\",\"#FFA15A\",\"#19d3f3\",\"#FF6692\",\"#B6E880\",\"#FF97FF\",\"#FECB52\"],\"font\":{\"color\":\"#2a3f5f\"},\"hovermode\":\"closest\",\"hoverlabel\":{\"align\":\"left\"},\"paper_bgcolor\":\"white\",\"plot_bgcolor\":\"#E5ECF6\",\"polar\":{\"bgcolor\":\"#E5ECF6\",\"angularaxis\":{\"gridcolor\":\"white\",\"linecolor\":\"white\",\"ticks\":\"\"},\"radialaxis\":{\"gridcolor\":\"white\",\"linecolor\":\"white\",\"ticks\":\"\"}},\"ternary\":{\"bgcolor\":\"#E5ECF6\",\"aaxis\":{\"gridcolor\":\"white\",\"linecolor\":\"white\",\"ticks\":\"\"},\"baxis\":{\"gridcolor\":\"white\",\"linecolor\":\"white\",\"ticks\":\"\"},\"caxis\":{\"gridcolor\":\"white\",\"linecolor\":\"white\",\"ticks\":\"\"}},\"coloraxis\":{\"colorbar\":{\"outlinewidth\":0,\"ticks\":\"\"}},\"colorscale\":{\"sequential\":[[0.0,\"#0d0887\"],[0.1111111111111111,\"#46039f\"],[0.2222222222222222,\"#7201a8\"],[0.3333333333333333,\"#9c179e\"],[0.4444444444444444,\"#bd3786\"],[0.5555555555555556,\"#d8576b\"],[0.6666666666666666,\"#ed7953\"],[0.7777777777777778,\"#fb9f3a\"],[0.8888888888888888,\"#fdca26\"],[1.0,\"#f0f921\"]],\"sequentialminus\":[[0.0,\"#0d0887\"],[0.1111111111111111,\"#46039f\"],[0.2222222222222222,\"#7201a8\"],[0.3333333333333333,\"#9c179e\"],[0.4444444444444444,\"#bd3786\"],[0.5555555555555556,\"#d8576b\"],[0.6666666666666666,\"#ed7953\"],[0.7777777777777778,\"#fb9f3a\"],[0.8888888888888888,\"#fdca26\"],[1.0,\"#f0f921\"]],\"diverging\":[[0,\"#8e0152\"],[0.1,\"#c51b7d\"],[0.2,\"#de77ae\"],[0.3,\"#f1b6da\"],[0.4,\"#fde0ef\"],[0.5,\"#f7f7f7\"],[0.6,\"#e6f5d0\"],[0.7,\"#b8e186\"],[0.8,\"#7fbc41\"],[0.9,\"#4d9221\"],[1,\"#276419\"]]},\"xaxis\":{\"gridcolor\":\"white\",\"linecolor\":\"white\",\"ticks\":\"\",\"title\":{\"standoff\":15},\"zerolinecolor\":\"white\",\"automargin\":true,\"zerolinewidth\":2},\"yaxis\":{\"gridcolor\":\"white\",\"linecolor\":\"white\",\"ticks\":\"\",\"title\":{\"standoff\":15},\"zerolinecolor\":\"white\",\"automargin\":true,\"zerolinewidth\":2},\"scene\":{\"xaxis\":{\"backgroundcolor\":\"#E5ECF6\",\"gridcolor\":\"white\",\"linecolor\":\"white\",\"showbackground\":true,\"ticks\":\"\",\"zerolinecolor\":\"white\",\"gridwidth\":2},\"yaxis\":{\"backgroundcolor\":\"#E5ECF6\",\"gridcolor\":\"white\",\"linecolor\":\"white\",\"showbackground\":true,\"ticks\":\"\",\"zerolinecolor\":\"white\",\"gridwidth\":2},\"zaxis\":{\"backgroundcolor\":\"#E5ECF6\",\"gridcolor\":\"white\",\"linecolor\":\"white\",\"showbackground\":true,\"ticks\":\"\",\"zerolinecolor\":\"white\",\"gridwidth\":2}},\"shapedefaults\":{\"line\":{\"color\":\"#2a3f5f\"}},\"annotationdefaults\":{\"arrowcolor\":\"#2a3f5f\",\"arrowhead\":0,\"arrowwidth\":1},\"geo\":{\"bgcolor\":\"white\",\"landcolor\":\"#E5ECF6\",\"subunitcolor\":\"white\",\"showland\":true,\"showlakes\":true,\"lakecolor\":\"white\"},\"title\":{\"x\":0.05},\"mapbox\":{\"style\":\"light\"}}},\"xaxis\":{\"anchor\":\"y\",\"domain\":[0.0,1.0],\"title\":{\"text\":\"Year\"}},\"yaxis\":{\"anchor\":\"x\",\"domain\":[0.0,1.0],\"title\":{\"text\":\"Missing Percentage\"}},\"legend\":{\"tracegroupgap\":0},\"title\":{\"text\":\"Missing Percentage by Year\"}},                        {\"responsive\": true}                    ).then(function(){\n",
       "                            \n",
       "var gd = document.getElementById('e608f63e-eb9e-4b9e-a359-309bcf1a6a73');\n",
       "var x = new MutationObserver(function (mutations, observer) {{\n",
       "        var display = window.getComputedStyle(gd).display;\n",
       "        if (!display || display === 'none') {{\n",
       "            console.log([gd, 'removed!']);\n",
       "            Plotly.purge(gd);\n",
       "            observer.disconnect();\n",
       "        }}\n",
       "}});\n",
       "\n",
       "// Listen for the removal of the full notebook cells\n",
       "var notebookContainer = gd.closest('#notebook-container');\n",
       "if (notebookContainer) {{\n",
       "    x.observe(notebookContainer, {childList: true});\n",
       "}}\n",
       "\n",
       "// Listen for the clearing of the current output cell\n",
       "var outputEl = gd.closest('.output');\n",
       "if (outputEl) {{\n",
       "    x.observe(outputEl, {childList: true});\n",
       "}}\n",
       "\n",
       "                        })                };                });            </script>        </div>"
      ]
     },
     "metadata": {},
     "output_type": "display_data"
    }
   ],
   "source": [
    "missing_collection_df = df[df['grossWorldWide'].isnull()]\n",
    "missing_pct_by_year = ((missing_collection_df.groupby(\"Year\").size() / df.groupby(\"Year\").size()).fillna(0) * 100).reset_index(name = 'missing_pct')\n",
    "fig = px.line(\n",
    "    missing_pct_by_year,\n",
    "    x = 'Year',\n",
    "    y = 'missing_pct',\n",
    "    labels = {'missing_pct' : 'Missing Percentage'},\n",
    "    title = \"Missing Percentage by Year\"\n",
    ")\n",
    "fig.show()"
   ]
  },
  {
   "cell_type": "markdown",
   "id": "659e1c57-5042-4b73-85e6-9453a81b3520",
   "metadata": {},
   "source": [
    "### Potential Reasons for Missing Worldwide Collection Values\n",
    "- United States is the biggest contributor to missing collection values. The main reason for it is that United States is the dominant country in our dataset.\n",
    "- Genres which have highest percentage of missing collection values are Niche Genres like 'Holiday Animation', 'Cozy Mystery', 'Erotic Thriller', etc. which are less popular and less produced genres.\n",
    "- Percentage of missing values were lower in years from 2001 to 2010 but high in years from 2000 to 2001, 2011 to 2013 and 2020 to 2024.\n",
    "- There were no missing wordwide collection values from years 2014 to 2019\n",
    "- Percentage of missing values were all time high in the year 2020 probably because of Covid."
   ]
  },
  {
   "cell_type": "markdown",
   "id": "fea52cd2-842a-44b8-91cd-ea5e8cbd94c3",
   "metadata": {},
   "source": [
    "# Imputing the missing values in 'opening_weekend_Gross', 'gross_US_Canada' and 'grossWorldWide' columns"
   ]
  },
  {
   "cell_type": "code",
   "execution_count": 157,
   "id": "73fe89b2-5022-4849-9665-00e474caab3e",
   "metadata": {},
   "outputs": [
    {
     "data": {
      "text/plain": [
       "<Axes: >"
      ]
     },
     "execution_count": 157,
     "metadata": {},
     "output_type": "execute_result"
    },
    {
     "data": {
      "image/png": "[encoded data removed]",
      "text/plain": [
       "<Figure size 640x480 with 2 Axes>"
      ]
     },
     "metadata": {},
     "output_type": "display_data"
    }
   ],
   "source": [
    "sns.heatmap(df.corr(numeric_only = True))"
   ]
  },
  {
   "cell_type": "code",
   "execution_count": 158,
   "id": "51118509-6e20-4c0d-9d18-e581ab1e22ee",
   "metadata": {},
   "outputs": [
    {
     "data": {
      "text/plain": [
       "opening_weekend_Gross    1.000000\n",
       "gross_US_Canada          0.942629\n",
       "grossWorldWide           0.896206\n",
       "Votes                    0.632565\n",
       "Duration                 0.170159\n",
       "Rating                   0.054916\n",
       "Year                     0.030618\n",
       "budget                  -0.004730\n",
       "Name: opening_weekend_Gross, dtype: float64"
      ]
     },
     "execution_count": 158,
     "metadata": {},
     "output_type": "execute_result"
    }
   ],
   "source": [
    "df.corr(numeric_only = True)['opening_weekend_Gross'].sort_values(ascending = False)"
   ]
  },
  {
   "cell_type": "markdown",
   "id": "107d8f03-0e16-476c-b0e5-1361cf049c33",
   "metadata": {},
   "source": [
    "* There is a high correlation between the columns 'opening_weekend_Gross', 'gross_US_Canada' and 'grossWorldWide'"
   ]
  },
  {
   "cell_type": "code",
   "execution_count": 159,
   "id": "e81a2f4b-6aa2-4a99-92aa-796d366e02e4",
   "metadata": {},
   "outputs": [],
   "source": [
    "from sklearn.impute import KNNImputer"
   ]
  },
  {
   "cell_type": "code",
   "execution_count": 160,
   "id": "2a3115d6-8525-4e04-8e41-9c0cf909ec6b",
   "metadata": {},
   "outputs": [
    {
     "data": {
      "text/plain": [
       "Index(['Title', 'Year', 'Duration', 'MPA', 'Rating', 'Votes', 'budget',\n",
       "       'grossWorldWide', 'gross_US_Canada', 'opening_weekend_Gross',\n",
       "       'directors', 'writers', 'stars', 'genres', 'countries_origin',\n",
       "       'filming_locations', 'production_companies', 'Languages'],\n",
       "      dtype='object')"
      ]
     },
     "execution_count": 160,
     "metadata": {},
     "output_type": "execute_result"
    }
   ],
   "source": [
    "df.columns"
   ]
  },
  {
   "cell_type": "code",
   "execution_count": 161,
   "id": "87532be7-8bab-4ae9-8f0c-ed7450954200",
   "metadata": {},
   "outputs": [],
   "source": [
    "numerical_cols = ['opening_weekend_Gross', 'gross_US_Canada', 'grossWorldWide'] # These columns are highly correlated\n",
    "\n",
    "knn_imputer = KNNImputer(n_neighbors=5)\n",
    "df_imputed = pd.DataFrame(knn_imputer.fit_transform(df[numerical_cols]), columns = numerical_cols)"
   ]
  },
  {
   "cell_type": "code",
   "execution_count": 162,
   "id": "6936da6f-a826-45eb-a348-b4f160849ea2",
   "metadata": {},
   "outputs": [
    {
     "data": {
      "text/plain": [
       "0        3.466761e+08\n",
       "1        4.296321e+08\n",
       "2        5.463881e+08\n",
       "3        4.655162e+08\n",
       "4        3.741117e+08\n",
       "             ...     \n",
       "13281    2.397623e+06\n",
       "13282    3.301976e+06\n",
       "13283    4.467315e+07\n",
       "13284    4.467315e+07\n",
       "13285    1.300170e+05\n",
       "Name: grossWorldWide, Length: 13286, dtype: float64"
      ]
     },
     "execution_count": 162,
     "metadata": {},
     "output_type": "execute_result"
    }
   ],
   "source": [
    "df_imputed['grossWorldWide']"
   ]
  },
  {
   "cell_type": "code",
   "execution_count": 163,
   "id": "2f20bfa1-75ce-45ea-99ab-ea94a7a1c364",
   "metadata": {
    "scrolled": true
   },
   "outputs": [],
   "source": [
    "df.reset_index(inplace = True)"
   ]
  },
  {
   "cell_type": "code",
   "execution_count": 164,
   "id": "845fb2e0-cf65-4e79-bc76-388ee62d2e8b",
   "metadata": {},
   "outputs": [],
   "source": [
    "df['grossWorldWide'] = df_imputed['grossWorldWide']\n",
    "df['gross_US_Canada'] = df_imputed['gross_US_Canada']\n",
    "df['opening_weekend_Gross'] = df_imputed['opening_weekend_Gross']"
   ]
  },
  {
   "cell_type": "code",
   "execution_count": 165,
   "id": "92379029-2306-457e-8db2-b22be8b7ef67",
   "metadata": {},
   "outputs": [],
   "source": [
    "df.drop(columns = ['index'], inplace = True)"
   ]
  },
  {
   "cell_type": "code",
   "execution_count": 166,
   "id": "16d93799-f0f3-4269-b6f7-ed6953b82804",
   "metadata": {},
   "outputs": [
    {
     "data": {
      "text/html": [
       "<div>\n",
       "<style scoped>\n",
       "    .dataframe tbody tr th:only-of-type {\n",
       "        vertical-align: middle;\n",
       "    }\n",
       "\n",
       "    .dataframe tbody tr th {\n",
       "        vertical-align: top;\n",
       "    }\n",
       "\n",
       "    .dataframe thead th {\n",
       "        text-align: right;\n",
       "    }\n",
       "</style>\n",
       "<table border=\"1\" class=\"dataframe\">\n",
       "  <thead>\n",
       "    <tr style=\"text-align: right;\">\n",
       "      <th></th>\n",
       "      <th>Year</th>\n",
       "      <th>Duration</th>\n",
       "      <th>Rating</th>\n",
       "      <th>Votes</th>\n",
       "      <th>budget</th>\n",
       "      <th>grossWorldWide</th>\n",
       "      <th>gross_US_Canada</th>\n",
       "      <th>opening_weekend_Gross</th>\n",
       "    </tr>\n",
       "  </thead>\n",
       "  <tbody>\n",
       "    <tr>\n",
       "      <th>count</th>\n",
       "      <td>13286.000000</td>\n",
       "      <td>13286.000000</td>\n",
       "      <td>13286.000000</td>\n",
       "      <td>1.328600e+04</td>\n",
       "      <td>6.173000e+03</td>\n",
       "      <td>1.328600e+04</td>\n",
       "      <td>1.328600e+04</td>\n",
       "      <td>1.328600e+04</td>\n",
       "    </tr>\n",
       "    <tr>\n",
       "      <th>mean</th>\n",
       "      <td>2012.126524</td>\n",
       "      <td>105.546289</td>\n",
       "      <td>6.359980</td>\n",
       "      <td>5.388789e+04</td>\n",
       "      <td>1.385510e+08</td>\n",
       "      <td>4.465359e+07</td>\n",
       "      <td>1.803175e+07</td>\n",
       "      <td>5.332111e+06</td>\n",
       "    </tr>\n",
       "    <tr>\n",
       "      <th>std</th>\n",
       "      <td>7.266062</td>\n",
       "      <td>20.847654</td>\n",
       "      <td>1.059198</td>\n",
       "      <td>1.387050e+05</td>\n",
       "      <td>3.940316e+09</td>\n",
       "      <td>1.326836e+08</td>\n",
       "      <td>5.098098e+07</td>\n",
       "      <td>1.576300e+07</td>\n",
       "    </tr>\n",
       "    <tr>\n",
       "      <th>min</th>\n",
       "      <td>2000.000000</td>\n",
       "      <td>0.000000</td>\n",
       "      <td>1.100000</td>\n",
       "      <td>7.000000e+00</td>\n",
       "      <td>1.000000e+00</td>\n",
       "      <td>9.500000e+01</td>\n",
       "      <td>8.000000e+01</td>\n",
       "      <td>1.100000e+01</td>\n",
       "    </tr>\n",
       "    <tr>\n",
       "      <th>25%</th>\n",
       "      <td>2006.000000</td>\n",
       "      <td>92.000000</td>\n",
       "      <td>5.800000</td>\n",
       "      <td>1.400000e+03</td>\n",
       "      <td>4.000000e+06</td>\n",
       "      <td>1.822745e+05</td>\n",
       "      <td>6.617200e+04</td>\n",
       "      <td>1.236225e+04</td>\n",
       "    </tr>\n",
       "    <tr>\n",
       "      <th>50%</th>\n",
       "      <td>2012.000000</td>\n",
       "      <td>101.000000</td>\n",
       "      <td>6.500000</td>\n",
       "      <td>7.600000e+03</td>\n",
       "      <td>1.500000e+07</td>\n",
       "      <td>3.025410e+06</td>\n",
       "      <td>5.634820e+05</td>\n",
       "      <td>8.028200e+04</td>\n",
       "    </tr>\n",
       "    <tr>\n",
       "      <th>75%</th>\n",
       "      <td>2019.000000</td>\n",
       "      <td>115.000000</td>\n",
       "      <td>7.100000</td>\n",
       "      <td>4.100000e+04</td>\n",
       "      <td>4.200000e+07</td>\n",
       "      <td>4.467315e+07</td>\n",
       "      <td>1.874013e+07</td>\n",
       "      <td>5.800534e+06</td>\n",
       "    </tr>\n",
       "    <tr>\n",
       "      <th>max</th>\n",
       "      <td>2024.000000</td>\n",
       "      <td>398.000000</td>\n",
       "      <td>9.600000</td>\n",
       "      <td>3.000000e+06</td>\n",
       "      <td>3.000000e+11</td>\n",
       "      <td>2.923706e+09</td>\n",
       "      <td>9.366622e+08</td>\n",
       "      <td>3.571150e+08</td>\n",
       "    </tr>\n",
       "  </tbody>\n",
       "</table>\n",
       "</div>"
      ],
      "text/plain": [
       "               Year      Duration        Rating         Votes        budget  \\\n",
       "count  13286.000000  13286.000000  13286.000000  1.328600e+04  6.173000e+03   \n",
       "mean    2012.126524    105.546289      6.359980  5.388789e+04  1.385510e+08   \n",
       "std        7.266062     20.847654      1.059198  1.387050e+05  3.940316e+09   \n",
       "min     2000.000000      0.000000      1.100000  7.000000e+00  1.000000e+00   \n",
       "25%     2006.000000     92.000000      5.800000  1.400000e+03  4.000000e+06   \n",
       "50%     2012.000000    101.000000      6.500000  7.600000e+03  1.500000e+07   \n",
       "75%     2019.000000    115.000000      7.100000  4.100000e+04  4.200000e+07   \n",
       "max     2024.000000    398.000000      9.600000  3.000000e+06  3.000000e+11   \n",
       "\n",
       "       grossWorldWide  gross_US_Canada  opening_weekend_Gross  \n",
       "count    1.328600e+04     1.328600e+04           1.328600e+04  \n",
       "mean     4.465359e+07     1.803175e+07           5.332111e+06  \n",
       "std      1.326836e+08     5.098098e+07           1.576300e+07  \n",
       "min      9.500000e+01     8.000000e+01           1.100000e+01  \n",
       "25%      1.822745e+05     6.617200e+04           1.236225e+04  \n",
       "50%      3.025410e+06     5.634820e+05           8.028200e+04  \n",
       "75%      4.467315e+07     1.874013e+07           5.800534e+06  \n",
       "max      2.923706e+09     9.366622e+08           3.571150e+08  "
      ]
     },
     "execution_count": 166,
     "metadata": {},
     "output_type": "execute_result"
    }
   ],
   "source": [
    "df.describe()"
   ]
  },
  {
   "cell_type": "markdown",
   "id": "83aa3c15-ac97-478e-a004-e8ccf6cce5ff",
   "metadata": {},
   "source": [
    "# Analysis of Missing Budget Values"
   ]
  },
  {
   "cell_type": "code",
   "execution_count": 167,
   "id": "ef402e6f-71e2-4357-89c0-0d1d26192ea2",
   "metadata": {},
   "outputs": [
    {
     "name": "stdout",
     "output_type": "stream",
     "text": [
      "Percentage of Missing Budget Values in the Dataset: 53.54%\n"
     ]
    }
   ],
   "source": [
    "temp = (df['budget'].isnull().mean() * 100).round(2)\n",
    "print(f\"Percentage of Missing Budget Values in the Dataset: {temp}%\")\n",
    "# Approx half of the budget values are missing"
   ]
  },
  {
   "cell_type": "code",
   "execution_count": 168,
   "id": "8b63a267-b4a4-414e-8f4a-8f2e0cbde7a5",
   "metadata": {},
   "outputs": [],
   "source": [
    "missing_budget_df = df[df['budget'].isnull()]"
   ]
  },
  {
   "cell_type": "code",
   "execution_count": 169,
   "id": "c05e2d3a-e20c-4c21-b458-44a224781315",
   "metadata": {},
   "outputs": [
    {
     "data": {
      "application/vnd.plotly.v1+json": {
       "config": {
        "plotlyServerURL": "https://plot.ly"
       },
       "data": [
        {
         "hovertemplate": "Year=%{x}<br>Missing Percentage=%{y}<extra></extra>",
         "legendgroup": "",
         "line": {
          "color": "#636efa",
          "dash": "solid"
         },
         "marker": {
          "symbol": "circle"
         },
         "mode": "lines",
         "name": "",
         "orientation": "v",
         "showlegend": false,
         "type": "scatter",
         "x": [
          2024,
          2020,
          2022,
          2023,
          2019,
          2021,
          2013,
          2012,
          2017,
          2011,
          2004,
          2018,
          2008,
          2003,
          2001,
          2014,
          2015,
          2000,
          2007,
          2009,
          2016,
          2002,
          2010,
          2005,
          2006
         ],
         "xaxis": "x",
         "y": [
          3.3343368959807314,
          3.2816498569923227,
          3.085955140749661,
          2.830046665663104,
          2.6418786692759295,
          2.634351949420443,
          2.423603793466807,
          2.4010236339003463,
          2.3558633147674244,
          2.1752220382357366,
          2.1752220382357366,
          2.0246876411259973,
          1.9644738822821015,
          1.8139394851723618,
          1.8139394851723618,
          1.8139394851723618,
          1.7913593256059008,
          1.783832605750414,
          1.7537257263284662,
          1.746199006472979,
          1.708565407195544,
          1.5730844497967786,
          1.5580310100858046,
          1.5203974108083698,
          1.3322294144211952
         ],
         "yaxis": "y"
        }
       ],
       "layout": {
        "autosize": true,
        "legend": {
         "tracegroupgap": 0
        },
        "template": {
         "data": {
          "bar": [
           {
            "error_x": {
             "color": "#2a3f5f"
            },
            "error_y": {
             "color": "#2a3f5f"
            },
            "marker": {
             "line": {
              "color": "#E5ECF6",
              "width": 0.5
             },
             "pattern": {
              "fillmode": "overlay",
              "size": 10,
              "solidity": 0.2
             }
            },
            "type": "bar"
           }
          ],
          "barpolar": [
           {
            "marker": {
             "line": {
              "color": "#E5ECF6",
              "width": 0.5
             },
             "pattern": {
              "fillmode": "overlay",
              "size": 10,
              "solidity": 0.2
             }
            },
            "type": "barpolar"
           }
          ],
          "carpet": [
           {
            "aaxis": {
             "endlinecolor": "#2a3f5f",
             "gridcolor": "white",
             "linecolor": "white",
             "minorgridcolor": "white",
             "startlinecolor": "#2a3f5f"
            },
            "baxis": {
             "endlinecolor": "#2a3f5f",
             "gridcolor": "white",
             "linecolor": "white",
             "minorgridcolor": "white",
             "startlinecolor": "#2a3f5f"
            },
            "type": "carpet"
           }
          ],
          "choropleth": [
           {
            "colorbar": {
             "outlinewidth": 0,
             "ticks": ""
            },
            "type": "choropleth"
           }
          ],
          "contour": [
           {
            "colorbar": {
             "outlinewidth": 0,
             "ticks": ""
            },
            "colorscale": [
             [
              0,
              "#0d0887"
             ],
             [
              0.1111111111111111,
              "#46039f"
             ],
             [
              0.2222222222222222,
              "#7201a8"
             ],
             [
              0.3333333333333333,
              "#9c179e"
             ],
             [
              0.4444444444444444,
              "#bd3786"
             ],
             [
              0.5555555555555556,
              "#d8576b"
             ],
             [
              0.6666666666666666,
              "#ed7953"
             ],
             [
              0.7777777777777778,
              "#fb9f3a"
             ],
             [
              0.8888888888888888,
              "#fdca26"
             ],
             [
              1,
              "#f0f921"
             ]
            ],
            "type": "contour"
           }
          ],
          "contourcarpet": [
           {
            "colorbar": {
             "outlinewidth": 0,
             "ticks": ""
            },
            "type": "contourcarpet"
           }
          ],
          "heatmap": [
           {
            "colorbar": {
             "outlinewidth": 0,
             "ticks": ""
            },
            "colorscale": [
             [
              0,
              "#0d0887"
             ],
             [
              0.1111111111111111,
              "#46039f"
             ],
             [
              0.2222222222222222,
              "#7201a8"
             ],
             [
              0.3333333333333333,
              "#9c179e"
             ],
             [
              0.4444444444444444,
              "#bd3786"
             ],
             [
              0.5555555555555556,
              "#d8576b"
             ],
             [
              0.6666666666666666,
              "#ed7953"
             ],
             [
              0.7777777777777778,
              "#fb9f3a"
             ],
             [
              0.8888888888888888,
              "#fdca26"
             ],
             [
              1,
              "#f0f921"
             ]
            ],
            "type": "heatmap"
           }
          ],
          "heatmapgl": [
           {
            "colorbar": {
             "outlinewidth": 0,
             "ticks": ""
            },
            "colorscale": [
             [
              0,
              "#0d0887"
             ],
             [
              0.1111111111111111,
              "#46039f"
             ],
             [
              0.2222222222222222,
              "#7201a8"
             ],
             [
              0.3333333333333333,
              "#9c179e"
             ],
             [
              0.4444444444444444,
              "#bd3786"
             ],
             [
              0.5555555555555556,
              "#d8576b"
             ],
             [
              0.6666666666666666,
              "#ed7953"
             ],
             [
              0.7777777777777778,
              "#fb9f3a"
             ],
             [
              0.8888888888888888,
              "#fdca26"
             ],
             [
              1,
              "#f0f921"
             ]
            ],
            "type": "heatmapgl"
           }
          ],
          "histogram": [
           {
            "marker": {
             "pattern": {
              "fillmode": "overlay",
              "size": 10,
              "solidity": 0.2
             }
            },
            "type": "histogram"
           }
          ],
          "histogram2d": [
           {
            "colorbar": {
             "outlinewidth": 0,
             "ticks": ""
            },
            "colorscale": [
             [
              0,
              "#0d0887"
             ],
             [
              0.1111111111111111,
              "#46039f"
             ],
             [
              0.2222222222222222,
              "#7201a8"
             ],
             [
              0.3333333333333333,
              "#9c179e"
             ],
             [
              0.4444444444444444,
              "#bd3786"
             ],
             [
              0.5555555555555556,
              "#d8576b"
             ],
             [
              0.6666666666666666,
              "#ed7953"
             ],
             [
              0.7777777777777778,
              "#fb9f3a"
             ],
             [
              0.8888888888888888,
              "#fdca26"
             ],
             [
              1,
              "#f0f921"
             ]
            ],
            "type": "histogram2d"
           }
          ],
          "histogram2dcontour": [
           {
            "colorbar": {
             "outlinewidth": 0,
             "ticks": ""
            },
            "colorscale": [
             [
              0,
              "#0d0887"
             ],
             [
              0.1111111111111111,
              "#46039f"
             ],
             [
              0.2222222222222222,
              "#7201a8"
             ],
             [
              0.3333333333333333,
              "#9c179e"
             ],
             [
              0.4444444444444444,
              "#bd3786"
             ],
             [
              0.5555555555555556,
              "#d8576b"
             ],
             [
              0.6666666666666666,
              "#ed7953"
             ],
             [
              0.7777777777777778,
              "#fb9f3a"
             ],
             [
              0.8888888888888888,
              "#fdca26"
             ],
             [
              1,
              "#f0f921"
             ]
            ],
            "type": "histogram2dcontour"
           }
          ],
          "mesh3d": [
           {
            "colorbar": {
             "outlinewidth": 0,
             "ticks": ""
            },
            "type": "mesh3d"
           }
          ],
          "parcoords": [
           {
            "line": {
             "colorbar": {
              "outlinewidth": 0,
              "ticks": ""
             }
            },
            "type": "parcoords"
           }
          ],
          "pie": [
           {
            "automargin": true,
            "type": "pie"
           }
          ],
          "scatter": [
           {
            "fillpattern": {
             "fillmode": "overlay",
             "size": 10,
             "solidity": 0.2
            },
            "type": "scatter"
           }
          ],
          "scatter3d": [
           {
            "line": {
             "colorbar": {
              "outlinewidth": 0,
              "ticks": ""
             }
            },
            "marker": {
             "colorbar": {
              "outlinewidth": 0,
              "ticks": ""
             }
            },
            "type": "scatter3d"
           }
          ],
          "scattercarpet": [
           {
            "marker": {
             "colorbar": {
              "outlinewidth": 0,
              "ticks": ""
             }
            },
            "type": "scattercarpet"
           }
          ],
          "scattergeo": [
           {
            "marker": {
             "colorbar": {
              "outlinewidth": 0,
              "ticks": ""
             }
            },
            "type": "scattergeo"
           }
          ],
          "scattergl": [
           {
            "marker": {
             "colorbar": {
              "outlinewidth": 0,
              "ticks": ""
             }
            },
            "type": "scattergl"
           }
          ],
          "scattermapbox": [
           {
            "marker": {
             "colorbar": {
              "outlinewidth": 0,
              "ticks": ""
             }
            },
            "type": "scattermapbox"
           }
          ],
          "scatterpolar": [
           {
            "marker": {
             "colorbar": {
              "outlinewidth": 0,
              "ticks": ""
             }
            },
            "type": "scatterpolar"
           }
          ],
          "scatterpolargl": [
           {
            "marker": {
             "colorbar": {
              "outlinewidth": 0,
              "ticks": ""
             }
            },
            "type": "scatterpolargl"
           }
          ],
          "scatterternary": [
           {
            "marker": {
             "colorbar": {
              "outlinewidth": 0,
              "ticks": ""
             }
            },
            "type": "scatterternary"
           }
          ],
          "surface": [
           {
            "colorbar": {
             "outlinewidth": 0,
             "ticks": ""
            },
            "colorscale": [
             [
              0,
              "#0d0887"
             ],
             [
              0.1111111111111111,
              "#46039f"
             ],
             [
              0.2222222222222222,
              "#7201a8"
             ],
             [
              0.3333333333333333,
              "#9c179e"
             ],
             [
              0.4444444444444444,
              "#bd3786"
             ],
             [
              0.5555555555555556,
              "#d8576b"
             ],
             [
              0.6666666666666666,
              "#ed7953"
             ],
             [
              0.7777777777777778,
              "#fb9f3a"
             ],
             [
              0.8888888888888888,
              "#fdca26"
             ],
             [
              1,
              "#f0f921"
             ]
            ],
            "type": "surface"
           }
          ],
          "table": [
           {
            "cells": {
             "fill": {
              "color": "#EBF0F8"
             },
             "line": {
              "color": "white"
             }
            },
            "header": {
             "fill": {
              "color": "#C8D4E3"
             },
             "line": {
              "color": "white"
             }
            },
            "type": "table"
           }
          ]
         },
         "layout": {
          "annotationdefaults": {
           "arrowcolor": "#2a3f5f",
           "arrowhead": 0,
           "arrowwidth": 1
          },
          "autotypenumbers": "strict",
          "coloraxis": {
           "colorbar": {
            "outlinewidth": 0,
            "ticks": ""
           }
          },
          "colorscale": {
           "diverging": [
            [
             0,
             "#8e0152"
            ],
            [
             0.1,
             "#c51b7d"
            ],
            [
             0.2,
             "#de77ae"
            ],
            [
             0.3,
             "#f1b6da"
            ],
            [
             0.4,
             "#fde0ef"
            ],
            [
             0.5,
             "#f7f7f7"
            ],
            [
             0.6,
             "#e6f5d0"
            ],
            [
             0.7,
             "#b8e186"
            ],
            [
             0.8,
             "#7fbc41"
            ],
            [
             0.9,
             "#4d9221"
            ],
            [
             1,
             "#276419"
            ]
           ],
           "sequential": [
            [
             0,
             "#0d0887"
            ],
            [
             0.1111111111111111,
             "#46039f"
            ],
            [
             0.2222222222222222,
             "#7201a8"
            ],
            [
             0.3333333333333333,
             "#9c179e"
            ],
            [
             0.4444444444444444,
             "#bd3786"
            ],
            [
             0.5555555555555556,
             "#d8576b"
            ],
            [
             0.6666666666666666,
             "#ed7953"
            ],
            [
             0.7777777777777778,
             "#fb9f3a"
            ],
            [
             0.8888888888888888,
             "#fdca26"
            ],
            [
             1,
             "#f0f921"
            ]
           ],
           "sequentialminus": [
            [
             0,
             "#0d0887"
            ],
            [
             0.1111111111111111,
             "#46039f"
            ],
            [
             0.2222222222222222,
             "#7201a8"
            ],
            [
             0.3333333333333333,
             "#9c179e"
            ],
            [
             0.4444444444444444,
             "#bd3786"
            ],
            [
             0.5555555555555556,
             "#d8576b"
            ],
            [
             0.6666666666666666,
             "#ed7953"
            ],
            [
             0.7777777777777778,
             "#fb9f3a"
            ],
            [
             0.8888888888888888,
             "#fdca26"
            ],
            [
             1,
             "#f0f921"
            ]
           ]
          },
          "colorway": [
           "#636efa",
           "#EF553B",
           "#00cc96",
           "#ab63fa",
           "#FFA15A",
           "#19d3f3",
           "#FF6692",
           "#B6E880",
           "#FF97FF",
           "#FECB52"
          ],
          "font": {
           "color": "#2a3f5f"
          },
          "geo": {
           "bgcolor": "white",
           "lakecolor": "white",
           "landcolor": "#E5ECF6",
           "showlakes": true,
           "showland": true,
           "subunitcolor": "white"
          },
          "hoverlabel": {
           "align": "left"
          },
          "hovermode": "closest",
          "mapbox": {
           "style": "light"
          },
          "paper_bgcolor": "white",
          "plot_bgcolor": "#E5ECF6",
          "polar": {
           "angularaxis": {
            "gridcolor": "white",
            "linecolor": "white",
            "ticks": ""
           },
           "bgcolor": "#E5ECF6",
           "radialaxis": {
            "gridcolor": "white",
            "linecolor": "white",
            "ticks": ""
           }
          },
          "scene": {
           "xaxis": {
            "backgroundcolor": "#E5ECF6",
            "gridcolor": "white",
            "gridwidth": 2,
            "linecolor": "white",
            "showbackground": true,
            "ticks": "",
            "zerolinecolor": "white"
           },
           "yaxis": {
            "backgroundcolor": "#E5ECF6",
            "gridcolor": "white",
            "gridwidth": 2,
            "linecolor": "white",
            "showbackground": true,
            "ticks": "",
            "zerolinecolor": "white"
           },
           "zaxis": {
            "backgroundcolor": "#E5ECF6",
            "gridcolor": "white",
            "gridwidth": 2,
            "linecolor": "white",
            "showbackground": true,
            "ticks": "",
            "zerolinecolor": "white"
           }
          },
          "shapedefaults": {
           "line": {
            "color": "#2a3f5f"
           }
          },
          "ternary": {
           "aaxis": {
            "gridcolor": "white",
            "linecolor": "white",
            "ticks": ""
           },
           "baxis": {
            "gridcolor": "white",
            "linecolor": "white",
            "ticks": ""
           },
           "bgcolor": "#E5ECF6",
           "caxis": {
            "gridcolor": "white",
            "linecolor": "white",
            "ticks": ""
           }
          },
          "title": {
           "x": 0.05
          },
          "xaxis": {
           "automargin": true,
           "gridcolor": "white",
           "linecolor": "white",
           "ticks": "",
           "title": {
            "standoff": 15
           },
           "zerolinecolor": "white",
           "zerolinewidth": 2
          },
          "yaxis": {
           "automargin": true,
           "gridcolor": "white",
           "linecolor": "white",
           "ticks": "",
           "title": {
            "standoff": 15
           },
           "zerolinecolor": "white",
           "zerolinewidth": 2
          }
         }
        },
        "title": {
         "text": "Yearly Analysis of Missing Budget Percentages"
        },
        "xaxis": {
         "anchor": "y",
         "autorange": true,
         "domain": [
          0,
          1
         ],
         "range": [
          2000,
          2024
         ],
         "title": {
          "text": "Year"
         },
         "type": "linear"
        },
        "yaxis": {
         "anchor": "x",
         "autorange": true,
         "domain": [
          0,
          1
         ],
         "range": [
          1.221001221001221,
          3.4455650894007057
         ],
         "title": {
          "text": "Missing Percentage"
         },
         "type": "linear"
        }
       }
      },
      "text/html": [
       "<div>                            <div id=\"b56baca2-46fc-4665-a295-f03f0f65ecc1\" class=\"plotly-graph-div\" style=\"height:525px; width:100%;\"></div>            <script type=\"text/javascript\">                require([\"plotly\"], function(Plotly) {                    window.PLOTLYENV=window.PLOTLYENV || {};                                    if (document.getElementById(\"b56baca2-46fc-4665-a295-f03f0f65ecc1\")) {                    Plotly.newPlot(                        \"b56baca2-46fc-4665-a295-f03f0f65ecc1\",                        [{\"hovertemplate\":\"Year=%{x}\\u003cbr\\u003eMissing Percentage=%{y}\\u003cextra\\u003e\\u003c\\u002fextra\\u003e\",\"legendgroup\":\"\",\"line\":{\"color\":\"#636efa\",\"dash\":\"solid\"},\"marker\":{\"symbol\":\"circle\"},\"mode\":\"lines\",\"name\":\"\",\"orientation\":\"v\",\"showlegend\":false,\"x\":[2024,2020,2022,2023,2019,2021,2013,2012,2017,2011,2004,2018,2008,2003,2001,2014,2015,2000,2007,2009,2016,2002,2010,2005,2006],\"xaxis\":\"x\",\"y\":[3.3343368959807314,3.2816498569923227,3.085955140749661,2.830046665663104,2.6418786692759295,2.634351949420443,2.423603793466807,2.4010236339003463,2.3558633147674244,2.1752220382357366,2.1752220382357366,2.0246876411259973,1.9644738822821015,1.8139394851723618,1.8139394851723618,1.8139394851723618,1.7913593256059008,1.783832605750414,1.7537257263284662,1.746199006472979,1.708565407195544,1.5730844497967786,1.5580310100858046,1.5203974108083698,1.3322294144211952],\"yaxis\":\"y\",\"type\":\"scatter\"}],                        {\"template\":{\"data\":{\"histogram2dcontour\":[{\"type\":\"histogram2dcontour\",\"colorbar\":{\"outlinewidth\":0,\"ticks\":\"\"},\"colorscale\":[[0.0,\"#0d0887\"],[0.1111111111111111,\"#46039f\"],[0.2222222222222222,\"#7201a8\"],[0.3333333333333333,\"#9c179e\"],[0.4444444444444444,\"#bd3786\"],[0.5555555555555556,\"#d8576b\"],[0.6666666666666666,\"#ed7953\"],[0.7777777777777778,\"#fb9f3a\"],[0.8888888888888888,\"#fdca26\"],[1.0,\"#f0f921\"]]}],\"choropleth\":[{\"type\":\"choropleth\",\"colorbar\":{\"outlinewidth\":0,\"ticks\":\"\"}}],\"histogram2d\":[{\"type\":\"histogram2d\",\"colorbar\":{\"outlinewidth\":0,\"ticks\":\"\"},\"colorscale\":[[0.0,\"#0d0887\"],[0.1111111111111111,\"#46039f\"],[0.2222222222222222,\"#7201a8\"],[0.3333333333333333,\"#9c179e\"],[0.4444444444444444,\"#bd3786\"],[0.5555555555555556,\"#d8576b\"],[0.6666666666666666,\"#ed7953\"],[0.7777777777777778,\"#fb9f3a\"],[0.8888888888888888,\"#fdca26\"],[1.0,\"#f0f921\"]]}],\"heatmap\":[{\"type\":\"heatmap\",\"colorbar\":{\"outlinewidth\":0,\"ticks\":\"\"},\"colorscale\":[[0.0,\"#0d0887\"],[0.1111111111111111,\"#46039f\"],[0.2222222222222222,\"#7201a8\"],[0.3333333333333333,\"#9c179e\"],[0.4444444444444444,\"#bd3786\"],[0.5555555555555556,\"#d8576b\"],[0.6666666666666666,\"#ed7953\"],[0.7777777777777778,\"#fb9f3a\"],[0.8888888888888888,\"#fdca26\"],[1.0,\"#f0f921\"]]}],\"heatmapgl\":[{\"type\":\"heatmapgl\",\"colorbar\":{\"outlinewidth\":0,\"ticks\":\"\"},\"colorscale\":[[0.0,\"#0d0887\"],[0.1111111111111111,\"#46039f\"],[0.2222222222222222,\"#7201a8\"],[0.3333333333333333,\"#9c179e\"],[0.4444444444444444,\"#bd3786\"],[0.5555555555555556,\"#d8576b\"],[0.6666666666666666,\"#ed7953\"],[0.7777777777777778,\"#fb9f3a\"],[0.8888888888888888,\"#fdca26\"],[1.0,\"#f0f921\"]]}],\"contourcarpet\":[{\"type\":\"contourcarpet\",\"colorbar\":{\"outlinewidth\":0,\"ticks\":\"\"}}],\"contour\":[{\"type\":\"contour\",\"colorbar\":{\"outlinewidth\":0,\"ticks\":\"\"},\"colorscale\":[[0.0,\"#0d0887\"],[0.1111111111111111,\"#46039f\"],[0.2222222222222222,\"#7201a8\"],[0.3333333333333333,\"#9c179e\"],[0.4444444444444444,\"#bd3786\"],[0.5555555555555556,\"#d8576b\"],[0.6666666666666666,\"#ed7953\"],[0.7777777777777778,\"#fb9f3a\"],[0.8888888888888888,\"#fdca26\"],[1.0,\"#f0f921\"]]}],\"surface\":[{\"type\":\"surface\",\"colorbar\":{\"outlinewidth\":0,\"ticks\":\"\"},\"colorscale\":[[0.0,\"#0d0887\"],[0.1111111111111111,\"#46039f\"],[0.2222222222222222,\"#7201a8\"],[0.3333333333333333,\"#9c179e\"],[0.4444444444444444,\"#bd3786\"],[0.5555555555555556,\"#d8576b\"],[0.6666666666666666,\"#ed7953\"],[0.7777777777777778,\"#fb9f3a\"],[0.8888888888888888,\"#fdca26\"],[1.0,\"#f0f921\"]]}],\"mesh3d\":[{\"type\":\"mesh3d\",\"colorbar\":{\"outlinewidth\":0,\"ticks\":\"\"}}],\"scatter\":[{\"fillpattern\":{\"fillmode\":\"overlay\",\"size\":10,\"solidity\":0.2},\"type\":\"scatter\"}],\"parcoords\":[{\"type\":\"parcoords\",\"line\":{\"colorbar\":{\"outlinewidth\":0,\"ticks\":\"\"}}}],\"scatterpolargl\":[{\"type\":\"scatterpolargl\",\"marker\":{\"colorbar\":{\"outlinewidth\":0,\"ticks\":\"\"}}}],\"bar\":[{\"error_x\":{\"color\":\"#2a3f5f\"},\"error_y\":{\"color\":\"#2a3f5f\"},\"marker\":{\"line\":{\"color\":\"#E5ECF6\",\"width\":0.5},\"pattern\":{\"fillmode\":\"overlay\",\"size\":10,\"solidity\":0.2}},\"type\":\"bar\"}],\"scattergeo\":[{\"type\":\"scattergeo\",\"marker\":{\"colorbar\":{\"outlinewidth\":0,\"ticks\":\"\"}}}],\"scatterpolar\":[{\"type\":\"scatterpolar\",\"marker\":{\"colorbar\":{\"outlinewidth\":0,\"ticks\":\"\"}}}],\"histogram\":[{\"marker\":{\"pattern\":{\"fillmode\":\"overlay\",\"size\":10,\"solidity\":0.2}},\"type\":\"histogram\"}],\"scattergl\":[{\"type\":\"scattergl\",\"marker\":{\"colorbar\":{\"outlinewidth\":0,\"ticks\":\"\"}}}],\"scatter3d\":[{\"type\":\"scatter3d\",\"line\":{\"colorbar\":{\"outlinewidth\":0,\"ticks\":\"\"}},\"marker\":{\"colorbar\":{\"outlinewidth\":0,\"ticks\":\"\"}}}],\"scattermapbox\":[{\"type\":\"scattermapbox\",\"marker\":{\"colorbar\":{\"outlinewidth\":0,\"ticks\":\"\"}}}],\"scatterternary\":[{\"type\":\"scatterternary\",\"marker\":{\"colorbar\":{\"outlinewidth\":0,\"ticks\":\"\"}}}],\"scattercarpet\":[{\"type\":\"scattercarpet\",\"marker\":{\"colorbar\":{\"outlinewidth\":0,\"ticks\":\"\"}}}],\"carpet\":[{\"aaxis\":{\"endlinecolor\":\"#2a3f5f\",\"gridcolor\":\"white\",\"linecolor\":\"white\",\"minorgridcolor\":\"white\",\"startlinecolor\":\"#2a3f5f\"},\"baxis\":{\"endlinecolor\":\"#2a3f5f\",\"gridcolor\":\"white\",\"linecolor\":\"white\",\"minorgridcolor\":\"white\",\"startlinecolor\":\"#2a3f5f\"},\"type\":\"carpet\"}],\"table\":[{\"cells\":{\"fill\":{\"color\":\"#EBF0F8\"},\"line\":{\"color\":\"white\"}},\"header\":{\"fill\":{\"color\":\"#C8D4E3\"},\"line\":{\"color\":\"white\"}},\"type\":\"table\"}],\"barpolar\":[{\"marker\":{\"line\":{\"color\":\"#E5ECF6\",\"width\":0.5},\"pattern\":{\"fillmode\":\"overlay\",\"size\":10,\"solidity\":0.2}},\"type\":\"barpolar\"}],\"pie\":[{\"automargin\":true,\"type\":\"pie\"}]},\"layout\":{\"autotypenumbers\":\"strict\",\"colorway\":[\"#636efa\",\"#EF553B\",\"#00cc96\",\"#ab63fa\",\"#FFA15A\",\"#19d3f3\",\"#FF6692\",\"#B6E880\",\"#FF97FF\",\"#FECB52\"],\"font\":{\"color\":\"#2a3f5f\"},\"hovermode\":\"closest\",\"hoverlabel\":{\"align\":\"left\"},\"paper_bgcolor\":\"white\",\"plot_bgcolor\":\"#E5ECF6\",\"polar\":{\"bgcolor\":\"#E5ECF6\",\"angularaxis\":{\"gridcolor\":\"white\",\"linecolor\":\"white\",\"ticks\":\"\"},\"radialaxis\":{\"gridcolor\":\"white\",\"linecolor\":\"white\",\"ticks\":\"\"}},\"ternary\":{\"bgcolor\":\"#E5ECF6\",\"aaxis\":{\"gridcolor\":\"white\",\"linecolor\":\"white\",\"ticks\":\"\"},\"baxis\":{\"gridcolor\":\"white\",\"linecolor\":\"white\",\"ticks\":\"\"},\"caxis\":{\"gridcolor\":\"white\",\"linecolor\":\"white\",\"ticks\":\"\"}},\"coloraxis\":{\"colorbar\":{\"outlinewidth\":0,\"ticks\":\"\"}},\"colorscale\":{\"sequential\":[[0.0,\"#0d0887\"],[0.1111111111111111,\"#46039f\"],[0.2222222222222222,\"#7201a8\"],[0.3333333333333333,\"#9c179e\"],[0.4444444444444444,\"#bd3786\"],[0.5555555555555556,\"#d8576b\"],[0.6666666666666666,\"#ed7953\"],[0.7777777777777778,\"#fb9f3a\"],[0.8888888888888888,\"#fdca26\"],[1.0,\"#f0f921\"]],\"sequentialminus\":[[0.0,\"#0d0887\"],[0.1111111111111111,\"#46039f\"],[0.2222222222222222,\"#7201a8\"],[0.3333333333333333,\"#9c179e\"],[0.4444444444444444,\"#bd3786\"],[0.5555555555555556,\"#d8576b\"],[0.6666666666666666,\"#ed7953\"],[0.7777777777777778,\"#fb9f3a\"],[0.8888888888888888,\"#fdca26\"],[1.0,\"#f0f921\"]],\"diverging\":[[0,\"#8e0152\"],[0.1,\"#c51b7d\"],[0.2,\"#de77ae\"],[0.3,\"#f1b6da\"],[0.4,\"#fde0ef\"],[0.5,\"#f7f7f7\"],[0.6,\"#e6f5d0\"],[0.7,\"#b8e186\"],[0.8,\"#7fbc41\"],[0.9,\"#4d9221\"],[1,\"#276419\"]]},\"xaxis\":{\"gridcolor\":\"white\",\"linecolor\":\"white\",\"ticks\":\"\",\"title\":{\"standoff\":15},\"zerolinecolor\":\"white\",\"automargin\":true,\"zerolinewidth\":2},\"yaxis\":{\"gridcolor\":\"white\",\"linecolor\":\"white\",\"ticks\":\"\",\"title\":{\"standoff\":15},\"zerolinecolor\":\"white\",\"automargin\":true,\"zerolinewidth\":2},\"scene\":{\"xaxis\":{\"backgroundcolor\":\"#E5ECF6\",\"gridcolor\":\"white\",\"linecolor\":\"white\",\"showbackground\":true,\"ticks\":\"\",\"zerolinecolor\":\"white\",\"gridwidth\":2},\"yaxis\":{\"backgroundcolor\":\"#E5ECF6\",\"gridcolor\":\"white\",\"linecolor\":\"white\",\"showbackground\":true,\"ticks\":\"\",\"zerolinecolor\":\"white\",\"gridwidth\":2},\"zaxis\":{\"backgroundcolor\":\"#E5ECF6\",\"gridcolor\":\"white\",\"linecolor\":\"white\",\"showbackground\":true,\"ticks\":\"\",\"zerolinecolor\":\"white\",\"gridwidth\":2}},\"shapedefaults\":{\"line\":{\"color\":\"#2a3f5f\"}},\"annotationdefaults\":{\"arrowcolor\":\"#2a3f5f\",\"arrowhead\":0,\"arrowwidth\":1},\"geo\":{\"bgcolor\":\"white\",\"landcolor\":\"#E5ECF6\",\"subunitcolor\":\"white\",\"showland\":true,\"showlakes\":true,\"lakecolor\":\"white\"},\"title\":{\"x\":0.05},\"mapbox\":{\"style\":\"light\"}}},\"xaxis\":{\"anchor\":\"y\",\"domain\":[0.0,1.0],\"title\":{\"text\":\"Year\"}},\"yaxis\":{\"anchor\":\"x\",\"domain\":[0.0,1.0],\"title\":{\"text\":\"Missing Percentage\"}},\"legend\":{\"tracegroupgap\":0},\"title\":{\"text\":\"Yearly Analysis of Missing Budget Percentages\"}},                        {\"responsive\": true}                    ).then(function(){\n",
       "                            \n",
       "var gd = document.getElementById('b56baca2-46fc-4665-a295-f03f0f65ecc1');\n",
       "var x = new MutationObserver(function (mutations, observer) {{\n",
       "        var display = window.getComputedStyle(gd).display;\n",
       "        if (!display || display === 'none') {{\n",
       "            console.log([gd, 'removed!']);\n",
       "            Plotly.purge(gd);\n",
       "            observer.disconnect();\n",
       "        }}\n",
       "}});\n",
       "\n",
       "// Listen for the removal of the full notebook cells\n",
       "var notebookContainer = gd.closest('#notebook-container');\n",
       "if (notebookContainer) {{\n",
       "    x.observe(notebookContainer, {childList: true});\n",
       "}}\n",
       "\n",
       "// Listen for the clearing of the current output cell\n",
       "var outputEl = gd.closest('.output');\n",
       "if (outputEl) {{\n",
       "    x.observe(outputEl, {childList: true});\n",
       "}}\n",
       "\n",
       "                        })                };                });            </script>        </div>"
      ]
     },
     "metadata": {},
     "output_type": "display_data"
    },
    {
     "data": {
      "text/plain": [
       "<Figure size 500x500 with 0 Axes>"
      ]
     },
     "metadata": {},
     "output_type": "display_data"
    }
   ],
   "source": [
    "plt.figure(figsize = (5, 5))\n",
    "budget_missing_df = (missing_budget_df.groupby(\"Year\").size() / df.shape[0] * 100).sort_values(ascending = False).reset_index(name = 'Missing Percentage')\n",
    "fig = px.line(\n",
    "    budget_missing_df,\n",
    "    x = 'Year',\n",
    "    y = 'Missing Percentage',\n",
    "    title = 'Yearly Analysis of Missing Budget Percentages'\n",
    ")\n",
    "fig.show()"
   ]
  },
  {
   "cell_type": "markdown",
   "id": "f20c2a83-6626-4c67-ba80-b4f1ef56bf75",
   "metadata": {},
   "source": [
    "* There is no specific relation between year and missing budget values but year 2024 has most percentage of missing budget values."
   ]
  },
  {
   "cell_type": "code",
   "execution_count": 170,
   "id": "eefe8241-4caf-4008-a639-2d8f4a68ffbc",
   "metadata": {},
   "outputs": [
    {
     "data": {
      "text/html": [
       "<div>\n",
       "<style scoped>\n",
       "    .dataframe tbody tr th:only-of-type {\n",
       "        vertical-align: middle;\n",
       "    }\n",
       "\n",
       "    .dataframe tbody tr th {\n",
       "        vertical-align: top;\n",
       "    }\n",
       "\n",
       "    .dataframe thead th {\n",
       "        text-align: right;\n",
       "    }\n",
       "</style>\n",
       "<table border=\"1\" class=\"dataframe\">\n",
       "  <thead>\n",
       "    <tr style=\"text-align: right;\">\n",
       "      <th></th>\n",
       "      <th>Avg. Worldwide Collections</th>\n",
       "      <th>Avg. US &amp; Canada Collections</th>\n",
       "      <th>Avg. Opening Weekend Collections</th>\n",
       "    </tr>\n",
       "    <tr>\n",
       "      <th>Missing Budget?</th>\n",
       "      <th></th>\n",
       "      <th></th>\n",
       "      <th></th>\n",
       "    </tr>\n",
       "  </thead>\n",
       "  <tbody>\n",
       "    <tr>\n",
       "      <th>False</th>\n",
       "      <td>$83.95 Million</td>\n",
       "      <td>$34.97 Million</td>\n",
       "      <td>$10.31 Million</td>\n",
       "    </tr>\n",
       "    <tr>\n",
       "      <th>True</th>\n",
       "      <td>$10.55 Million</td>\n",
       "      <td>$3.34 Million</td>\n",
       "      <td>$1.01 Million</td>\n",
       "    </tr>\n",
       "  </tbody>\n",
       "</table>\n",
       "</div>"
      ],
      "text/plain": [
       "                Avg. Worldwide Collections Avg. US & Canada Collections  \\\n",
       "Missing Budget?                                                           \n",
       "False                       $83.95 Million               $34.97 Million   \n",
       "True                        $10.55 Million                $3.34 Million   \n",
       "\n",
       "                Avg. Opening Weekend Collections  \n",
       "Missing Budget?                                   \n",
       "False                             $10.31 Million  \n",
       "True                               $1.01 Million  "
      ]
     },
     "execution_count": 170,
     "metadata": {},
     "output_type": "execute_result"
    }
   ],
   "source": [
    "budget_collection_relation = df.groupby(df['budget'].isnull()).agg(\n",
    "    grossWorldWide = ('grossWorldWide', 'mean'),\n",
    "    gross_US_Canada = ('gross_US_Canada', 'mean'),\n",
    "    opening_weekend_Gross = ('opening_weekend_Gross', 'mean')\n",
    ")\n",
    "budget_collection_relation['grossWorldWide'] = (budget_collection_relation['grossWorldWide'] / 1000000).apply(collections)\n",
    "budget_collection_relation['gross_US_Canada'] = (budget_collection_relation['gross_US_Canada'] / 1000000).apply(collections)\n",
    "budget_collection_relation['opening_weekend_Gross'] = (budget_collection_relation['opening_weekend_Gross'] / 1000000).apply(collections)\n",
    "budget_collection_relation.rename(columns = {'grossWorldWide' : 'Avg. Worldwide Collections', 'gross_US_Canada' : 'Avg. US & Canada Collections', 'opening_weekend_Gross' : 'Avg. Opening Weekend Collections'}, inplace = True)\n",
    "budget_collection_relation.rename_axis(\"Missing Budget?\", inplace = True)\n",
    "budget_collection_relation"
   ]
  },
  {
   "cell_type": "code",
   "execution_count": 171,
   "id": "a20865b1-59ad-4a2c-a510-80acb0755569",
   "metadata": {
    "scrolled": true
   },
   "outputs": [
    {
     "data": {
      "application/vnd.plotly.v1+json": {
       "config": {
        "plotlyServerURL": "https://plot.ly"
       },
       "data": [
        {
         "alignmentgroup": "True",
         "hovertemplate": "Genres=%{x}<br>Missing Percentage=%{y}<extra></extra>",
         "legendgroup": "",
         "marker": {
          "color": "#636efa",
          "pattern": {
           "shape": ""
          }
         },
         "name": "",
         "offsetgroup": "",
         "orientation": "v",
         "showlegend": false,
         "textposition": "auto",
         "type": "bar",
         "x": [
          "Reality TV",
          "Mecha",
          "Food Documentary",
          "Music Documentary",
          "Sports Documentary",
          "Shōnen",
          "Isekai",
          "News",
          "Crime Documentary",
          "History Documentary"
         ],
         "xaxis": "x",
         "y": [
          100,
          100,
          95.45454545454545,
          94.73684210526315,
          92.3076923076923,
          91.66666666666666,
          90,
          89.36170212765957,
          88,
          87.5
         ],
         "yaxis": "y"
        }
       ],
       "layout": {
        "autosize": true,
        "barmode": "relative",
        "legend": {
         "tracegroupgap": 0
        },
        "template": {
         "data": {
          "bar": [
           {
            "error_x": {
             "color": "#2a3f5f"
            },
            "error_y": {
             "color": "#2a3f5f"
            },
            "marker": {
             "line": {
              "color": "#E5ECF6",
              "width": 0.5
             },
             "pattern": {
              "fillmode": "overlay",
              "size": 10,
              "solidity": 0.2
             }
            },
            "type": "bar"
           }
          ],
          "barpolar": [
           {
            "marker": {
             "line": {
              "color": "#E5ECF6",
              "width": 0.5
             },
             "pattern": {
              "fillmode": "overlay",
              "size": 10,
              "solidity": 0.2
             }
            },
            "type": "barpolar"
           }
          ],
          "carpet": [
           {
            "aaxis": {
             "endlinecolor": "#2a3f5f",
             "gridcolor": "white",
             "linecolor": "white",
             "minorgridcolor": "white",
             "startlinecolor": "#2a3f5f"
            },
            "baxis": {
             "endlinecolor": "#2a3f5f",
             "gridcolor": "white",
             "linecolor": "white",
             "minorgridcolor": "white",
             "startlinecolor": "#2a3f5f"
            },
            "type": "carpet"
           }
          ],
          "choropleth": [
           {
            "colorbar": {
             "outlinewidth": 0,
             "ticks": ""
            },
            "type": "choropleth"
           }
          ],
          "contour": [
           {
            "colorbar": {
             "outlinewidth": 0,
             "ticks": ""
            },
            "colorscale": [
             [
              0,
              "#0d0887"
             ],
             [
              0.1111111111111111,
              "#46039f"
             ],
             [
              0.2222222222222222,
              "#7201a8"
             ],
             [
              0.3333333333333333,
              "#9c179e"
             ],
             [
              0.4444444444444444,
              "#bd3786"
             ],
             [
              0.5555555555555556,
              "#d8576b"
             ],
             [
              0.6666666666666666,
              "#ed7953"
             ],
             [
              0.7777777777777778,
              "#fb9f3a"
             ],
             [
              0.8888888888888888,
              "#fdca26"
             ],
             [
              1,
              "#f0f921"
             ]
            ],
            "type": "contour"
           }
          ],
          "contourcarpet": [
           {
            "colorbar": {
             "outlinewidth": 0,
             "ticks": ""
            },
            "type": "contourcarpet"
           }
          ],
          "heatmap": [
           {
            "colorbar": {
             "outlinewidth": 0,
             "ticks": ""
            },
            "colorscale": [
             [
              0,
              "#0d0887"
             ],
             [
              0.1111111111111111,
              "#46039f"
             ],
             [
              0.2222222222222222,
              "#7201a8"
             ],
             [
              0.3333333333333333,
              "#9c179e"
             ],
             [
              0.4444444444444444,
              "#bd3786"
             ],
             [
              0.5555555555555556,
              "#d8576b"
             ],
             [
              0.6666666666666666,
              "#ed7953"
             ],
             [
              0.7777777777777778,
              "#fb9f3a"
             ],
             [
              0.8888888888888888,
              "#fdca26"
             ],
             [
              1,
              "#f0f921"
             ]
            ],
            "type": "heatmap"
           }
          ],
          "heatmapgl": [
           {
            "colorbar": {
             "outlinewidth": 0,
             "ticks": ""
            },
            "colorscale": [
             [
              0,
              "#0d0887"
             ],
             [
              0.1111111111111111,
              "#46039f"
             ],
             [
              0.2222222222222222,
              "#7201a8"
             ],
             [
              0.3333333333333333,
              "#9c179e"
             ],
             [
              0.4444444444444444,
              "#bd3786"
             ],
             [
              0.5555555555555556,
              "#d8576b"
             ],
             [
              0.6666666666666666,
              "#ed7953"
             ],
             [
              0.7777777777777778,
              "#fb9f3a"
             ],
             [
              0.8888888888888888,
              "#fdca26"
             ],
             [
              1,
              "#f0f921"
             ]
            ],
            "type": "heatmapgl"
           }
          ],
          "histogram": [
           {
            "marker": {
             "pattern": {
              "fillmode": "overlay",
              "size": 10,
              "solidity": 0.2
             }
            },
            "type": "histogram"
           }
          ],
          "histogram2d": [
           {
            "colorbar": {
             "outlinewidth": 0,
             "ticks": ""
            },
            "colorscale": [
             [
              0,
              "#0d0887"
             ],
             [
              0.1111111111111111,
              "#46039f"
             ],
             [
              0.2222222222222222,
              "#7201a8"
             ],
             [
              0.3333333333333333,
              "#9c179e"
             ],
             [
              0.4444444444444444,
              "#bd3786"
             ],
             [
              0.5555555555555556,
              "#d8576b"
             ],
             [
              0.6666666666666666,
              "#ed7953"
             ],
             [
              0.7777777777777778,
              "#fb9f3a"
             ],
             [
              0.8888888888888888,
              "#fdca26"
             ],
             [
              1,
              "#f0f921"
             ]
            ],
            "type": "histogram2d"
           }
          ],
          "histogram2dcontour": [
           {
            "colorbar": {
             "outlinewidth": 0,
             "ticks": ""
            },
            "colorscale": [
             [
              0,
              "#0d0887"
             ],
             [
              0.1111111111111111,
              "#46039f"
             ],
             [
              0.2222222222222222,
              "#7201a8"
             ],
             [
              0.3333333333333333,
              "#9c179e"
             ],
             [
              0.4444444444444444,
              "#bd3786"
             ],
             [
              0.5555555555555556,
              "#d8576b"
             ],
             [
              0.6666666666666666,
              "#ed7953"
             ],
             [
              0.7777777777777778,
              "#fb9f3a"
             ],
             [
              0.8888888888888888,
              "#fdca26"
             ],
             [
              1,
              "#f0f921"
             ]
            ],
            "type": "histogram2dcontour"
           }
          ],
          "mesh3d": [
           {
            "colorbar": {
             "outlinewidth": 0,
             "ticks": ""
            },
            "type": "mesh3d"
           }
          ],
          "parcoords": [
           {
            "line": {
             "colorbar": {
              "outlinewidth": 0,
              "ticks": ""
             }
            },
            "type": "parcoords"
           }
          ],
          "pie": [
           {
            "automargin": true,
            "type": "pie"
           }
          ],
          "scatter": [
           {
            "fillpattern": {
             "fillmode": "overlay",
             "size": 10,
             "solidity": 0.2
            },
            "type": "scatter"
           }
          ],
          "scatter3d": [
           {
            "line": {
             "colorbar": {
              "outlinewidth": 0,
              "ticks": ""
             }
            },
            "marker": {
             "colorbar": {
              "outlinewidth": 0,
              "ticks": ""
             }
            },
            "type": "scatter3d"
           }
          ],
          "scattercarpet": [
           {
            "marker": {
             "colorbar": {
              "outlinewidth": 0,
              "ticks": ""
             }
            },
            "type": "scattercarpet"
           }
          ],
          "scattergeo": [
           {
            "marker": {
             "colorbar": {
              "outlinewidth": 0,
              "ticks": ""
             }
            },
            "type": "scattergeo"
           }
          ],
          "scattergl": [
           {
            "marker": {
             "colorbar": {
              "outlinewidth": 0,
              "ticks": ""
             }
            },
            "type": "scattergl"
           }
          ],
          "scattermapbox": [
           {
            "marker": {
             "colorbar": {
              "outlinewidth": 0,
              "ticks": ""
             }
            },
            "type": "scattermapbox"
           }
          ],
          "scatterpolar": [
           {
            "marker": {
             "colorbar": {
              "outlinewidth": 0,
              "ticks": ""
             }
            },
            "type": "scatterpolar"
           }
          ],
          "scatterpolargl": [
           {
            "marker": {
             "colorbar": {
              "outlinewidth": 0,
              "ticks": ""
             }
            },
            "type": "scatterpolargl"
           }
          ],
          "scatterternary": [
           {
            "marker": {
             "colorbar": {
              "outlinewidth": 0,
              "ticks": ""
             }
            },
            "type": "scatterternary"
           }
          ],
          "surface": [
           {
            "colorbar": {
             "outlinewidth": 0,
             "ticks": ""
            },
            "colorscale": [
             [
              0,
              "#0d0887"
             ],
             [
              0.1111111111111111,
              "#46039f"
             ],
             [
              0.2222222222222222,
              "#7201a8"
             ],
             [
              0.3333333333333333,
              "#9c179e"
             ],
             [
              0.4444444444444444,
              "#bd3786"
             ],
             [
              0.5555555555555556,
              "#d8576b"
             ],
             [
              0.6666666666666666,
              "#ed7953"
             ],
             [
              0.7777777777777778,
              "#fb9f3a"
             ],
             [
              0.8888888888888888,
              "#fdca26"
             ],
             [
              1,
              "#f0f921"
             ]
            ],
            "type": "surface"
           }
          ],
          "table": [
           {
            "cells": {
             "fill": {
              "color": "#EBF0F8"
             },
             "line": {
              "color": "white"
             }
            },
            "header": {
             "fill": {
              "color": "#C8D4E3"
             },
             "line": {
              "color": "white"
             }
            },
            "type": "table"
           }
          ]
         },
         "layout": {
          "annotationdefaults": {
           "arrowcolor": "#2a3f5f",
           "arrowhead": 0,
           "arrowwidth": 1
          },
          "autotypenumbers": "strict",
          "coloraxis": {
           "colorbar": {
            "outlinewidth": 0,
            "ticks": ""
           }
          },
          "colorscale": {
           "diverging": [
            [
             0,
             "#8e0152"
            ],
            [
             0.1,
             "#c51b7d"
            ],
            [
             0.2,
             "#de77ae"
            ],
            [
             0.3,
             "#f1b6da"
            ],
            [
             0.4,
             "#fde0ef"
            ],
            [
             0.5,
             "#f7f7f7"
            ],
            [
             0.6,
             "#e6f5d0"
            ],
            [
             0.7,
             "#b8e186"
            ],
            [
             0.8,
             "#7fbc41"
            ],
            [
             0.9,
             "#4d9221"
            ],
            [
             1,
             "#276419"
            ]
           ],
           "sequential": [
            [
             0,
             "#0d0887"
            ],
            [
             0.1111111111111111,
             "#46039f"
            ],
            [
             0.2222222222222222,
             "#7201a8"
            ],
            [
             0.3333333333333333,
             "#9c179e"
            ],
            [
             0.4444444444444444,
             "#bd3786"
            ],
            [
             0.5555555555555556,
             "#d8576b"
            ],
            [
             0.6666666666666666,
             "#ed7953"
            ],
            [
             0.7777777777777778,
             "#fb9f3a"
            ],
            [
             0.8888888888888888,
             "#fdca26"
            ],
            [
             1,
             "#f0f921"
            ]
           ],
           "sequentialminus": [
            [
             0,
             "#0d0887"
            ],
            [
             0.1111111111111111,
             "#46039f"
            ],
            [
             0.2222222222222222,
             "#7201a8"
            ],
            [
             0.3333333333333333,
             "#9c179e"
            ],
            [
             0.4444444444444444,
             "#bd3786"
            ],
            [
             0.5555555555555556,
             "#d8576b"
            ],
            [
             0.6666666666666666,
             "#ed7953"
            ],
            [
             0.7777777777777778,
             "#fb9f3a"
            ],
            [
             0.8888888888888888,
             "#fdca26"
            ],
            [
             1,
             "#f0f921"
            ]
           ]
          },
          "colorway": [
           "#636efa",
           "#EF553B",
           "#00cc96",
           "#ab63fa",
           "#FFA15A",
           "#19d3f3",
           "#FF6692",
           "#B6E880",
           "#FF97FF",
           "#FECB52"
          ],
          "font": {
           "color": "#2a3f5f"
          },
          "geo": {
           "bgcolor": "white",
           "lakecolor": "white",
           "landcolor": "#E5ECF6",
           "showlakes": true,
           "showland": true,
           "subunitcolor": "white"
          },
          "hoverlabel": {
           "align": "left"
          },
          "hovermode": "closest",
          "mapbox": {
           "style": "light"
          },
          "paper_bgcolor": "white",
          "plot_bgcolor": "#E5ECF6",
          "polar": {
           "angularaxis": {
            "gridcolor": "white",
            "linecolor": "white",
            "ticks": ""
           },
           "bgcolor": "#E5ECF6",
           "radialaxis": {
            "gridcolor": "white",
            "linecolor": "white",
            "ticks": ""
           }
          },
          "scene": {
           "xaxis": {
            "backgroundcolor": "#E5ECF6",
            "gridcolor": "white",
            "gridwidth": 2,
            "linecolor": "white",
            "showbackground": true,
            "ticks": "",
            "zerolinecolor": "white"
           },
           "yaxis": {
            "backgroundcolor": "#E5ECF6",
            "gridcolor": "white",
            "gridwidth": 2,
            "linecolor": "white",
            "showbackground": true,
            "ticks": "",
            "zerolinecolor": "white"
           },
           "zaxis": {
            "backgroundcolor": "#E5ECF6",
            "gridcolor": "white",
            "gridwidth": 2,
            "linecolor": "white",
            "showbackground": true,
            "ticks": "",
            "zerolinecolor": "white"
           }
          },
          "shapedefaults": {
           "line": {
            "color": "#2a3f5f"
           }
          },
          "ternary": {
           "aaxis": {
            "gridcolor": "white",
            "linecolor": "white",
            "ticks": ""
           },
           "baxis": {
            "gridcolor": "white",
            "linecolor": "white",
            "ticks": ""
           },
           "bgcolor": "#E5ECF6",
           "caxis": {
            "gridcolor": "white",
            "linecolor": "white",
            "ticks": ""
           }
          },
          "title": {
           "x": 0.05
          },
          "xaxis": {
           "automargin": true,
           "gridcolor": "white",
           "linecolor": "white",
           "ticks": "",
           "title": {
            "standoff": 15
           },
           "zerolinecolor": "white",
           "zerolinewidth": 2
          },
          "yaxis": {
           "automargin": true,
           "gridcolor": "white",
           "linecolor": "white",
           "ticks": "",
           "title": {
            "standoff": 15
           },
           "zerolinecolor": "white",
           "zerolinewidth": 2
          }
         }
        },
        "title": {
         "text": "Top 10 Genres with the Highest Percentage of Missing Budget Values"
        },
        "xaxis": {
         "anchor": "y",
         "autorange": true,
         "domain": [
          0,
          1
         ],
         "range": [
          -0.5,
          9.5
         ],
         "title": {
          "text": "Genres"
         },
         "type": "category"
        },
        "yaxis": {
         "anchor": "x",
         "autorange": true,
         "domain": [
          0,
          1
         ],
         "range": [
          0,
          105.26315789473685
         ],
         "title": {
          "text": "Missing Percentage"
         },
         "type": "linear"
        }
       }
      },
      "text/html": [
       "<div>                            <div id=\"364c082a-d7bb-4377-8f84-a5e43473b3a1\" class=\"plotly-graph-div\" style=\"height:525px; width:100%;\"></div>            <script type=\"text/javascript\">                require([\"plotly\"], function(Plotly) {                    window.PLOTLYENV=window.PLOTLYENV || {};                                    if (document.getElementById(\"364c082a-d7bb-4377-8f84-a5e43473b3a1\")) {                    Plotly.newPlot(                        \"364c082a-d7bb-4377-8f84-a5e43473b3a1\",                        [{\"alignmentgroup\":\"True\",\"hovertemplate\":\"Genres=%{x}\\u003cbr\\u003eMissing Percentage=%{y}\\u003cextra\\u003e\\u003c\\u002fextra\\u003e\",\"legendgroup\":\"\",\"marker\":{\"color\":\"#636efa\",\"pattern\":{\"shape\":\"\"}},\"name\":\"\",\"offsetgroup\":\"\",\"orientation\":\"v\",\"showlegend\":false,\"textposition\":\"auto\",\"x\":[\"Reality TV\",\"Mecha\",\"Food Documentary\",\"Music Documentary\",\"Sports Documentary\",\"Sh\\u014dnen\",\"Isekai\",\"News\",\"Crime Documentary\",\"History Documentary\"],\"xaxis\":\"x\",\"y\":[100.0,100.0,95.45454545454545,94.73684210526315,92.3076923076923,91.66666666666666,90.0,89.36170212765957,88.0,87.5],\"yaxis\":\"y\",\"type\":\"bar\"}],                        {\"template\":{\"data\":{\"histogram2dcontour\":[{\"type\":\"histogram2dcontour\",\"colorbar\":{\"outlinewidth\":0,\"ticks\":\"\"},\"colorscale\":[[0.0,\"#0d0887\"],[0.1111111111111111,\"#46039f\"],[0.2222222222222222,\"#7201a8\"],[0.3333333333333333,\"#9c179e\"],[0.4444444444444444,\"#bd3786\"],[0.5555555555555556,\"#d8576b\"],[0.6666666666666666,\"#ed7953\"],[0.7777777777777778,\"#fb9f3a\"],[0.8888888888888888,\"#fdca26\"],[1.0,\"#f0f921\"]]}],\"choropleth\":[{\"type\":\"choropleth\",\"colorbar\":{\"outlinewidth\":0,\"ticks\":\"\"}}],\"histogram2d\":[{\"type\":\"histogram2d\",\"colorbar\":{\"outlinewidth\":0,\"ticks\":\"\"},\"colorscale\":[[0.0,\"#0d0887\"],[0.1111111111111111,\"#46039f\"],[0.2222222222222222,\"#7201a8\"],[0.3333333333333333,\"#9c179e\"],[0.4444444444444444,\"#bd3786\"],[0.5555555555555556,\"#d8576b\"],[0.6666666666666666,\"#ed7953\"],[0.7777777777777778,\"#fb9f3a\"],[0.8888888888888888,\"#fdca26\"],[1.0,\"#f0f921\"]]}],\"heatmap\":[{\"type\":\"heatmap\",\"colorbar\":{\"outlinewidth\":0,\"ticks\":\"\"},\"colorscale\":[[0.0,\"#0d0887\"],[0.1111111111111111,\"#46039f\"],[0.2222222222222222,\"#7201a8\"],[0.3333333333333333,\"#9c179e\"],[0.4444444444444444,\"#bd3786\"],[0.5555555555555556,\"#d8576b\"],[0.6666666666666666,\"#ed7953\"],[0.7777777777777778,\"#fb9f3a\"],[0.8888888888888888,\"#fdca26\"],[1.0,\"#f0f921\"]]}],\"heatmapgl\":[{\"type\":\"heatmapgl\",\"colorbar\":{\"outlinewidth\":0,\"ticks\":\"\"},\"colorscale\":[[0.0,\"#0d0887\"],[0.1111111111111111,\"#46039f\"],[0.2222222222222222,\"#7201a8\"],[0.3333333333333333,\"#9c179e\"],[0.4444444444444444,\"#bd3786\"],[0.5555555555555556,\"#d8576b\"],[0.6666666666666666,\"#ed7953\"],[0.7777777777777778,\"#fb9f3a\"],[0.8888888888888888,\"#fdca26\"],[1.0,\"#f0f921\"]]}],\"contourcarpet\":[{\"type\":\"contourcarpet\",\"colorbar\":{\"outlinewidth\":0,\"ticks\":\"\"}}],\"contour\":[{\"type\":\"contour\",\"colorbar\":{\"outlinewidth\":0,\"ticks\":\"\"},\"colorscale\":[[0.0,\"#0d0887\"],[0.1111111111111111,\"#46039f\"],[0.2222222222222222,\"#7201a8\"],[0.3333333333333333,\"#9c179e\"],[0.4444444444444444,\"#bd3786\"],[0.5555555555555556,\"#d8576b\"],[0.6666666666666666,\"#ed7953\"],[0.7777777777777778,\"#fb9f3a\"],[0.8888888888888888,\"#fdca26\"],[1.0,\"#f0f921\"]]}],\"surface\":[{\"type\":\"surface\",\"colorbar\":{\"outlinewidth\":0,\"ticks\":\"\"},\"colorscale\":[[0.0,\"#0d0887\"],[0.1111111111111111,\"#46039f\"],[0.2222222222222222,\"#7201a8\"],[0.3333333333333333,\"#9c179e\"],[0.4444444444444444,\"#bd3786\"],[0.5555555555555556,\"#d8576b\"],[0.6666666666666666,\"#ed7953\"],[0.7777777777777778,\"#fb9f3a\"],[0.8888888888888888,\"#fdca26\"],[1.0,\"#f0f921\"]]}],\"mesh3d\":[{\"type\":\"mesh3d\",\"colorbar\":{\"outlinewidth\":0,\"ticks\":\"\"}}],\"scatter\":[{\"fillpattern\":{\"fillmode\":\"overlay\",\"size\":10,\"solidity\":0.2},\"type\":\"scatter\"}],\"parcoords\":[{\"type\":\"parcoords\",\"line\":{\"colorbar\":{\"outlinewidth\":0,\"ticks\":\"\"}}}],\"scatterpolargl\":[{\"type\":\"scatterpolargl\",\"marker\":{\"colorbar\":{\"outlinewidth\":0,\"ticks\":\"\"}}}],\"bar\":[{\"error_x\":{\"color\":\"#2a3f5f\"},\"error_y\":{\"color\":\"#2a3f5f\"},\"marker\":{\"line\":{\"color\":\"#E5ECF6\",\"width\":0.5},\"pattern\":{\"fillmode\":\"overlay\",\"size\":10,\"solidity\":0.2}},\"type\":\"bar\"}],\"scattergeo\":[{\"type\":\"scattergeo\",\"marker\":{\"colorbar\":{\"outlinewidth\":0,\"ticks\":\"\"}}}],\"scatterpolar\":[{\"type\":\"scatterpolar\",\"marker\":{\"colorbar\":{\"outlinewidth\":0,\"ticks\":\"\"}}}],\"histogram\":[{\"marker\":{\"pattern\":{\"fillmode\":\"overlay\",\"size\":10,\"solidity\":0.2}},\"type\":\"histogram\"}],\"scattergl\":[{\"type\":\"scattergl\",\"marker\":{\"colorbar\":{\"outlinewidth\":0,\"ticks\":\"\"}}}],\"scatter3d\":[{\"type\":\"scatter3d\",\"line\":{\"colorbar\":{\"outlinewidth\":0,\"ticks\":\"\"}},\"marker\":{\"colorbar\":{\"outlinewidth\":0,\"ticks\":\"\"}}}],\"scattermapbox\":[{\"type\":\"scattermapbox\",\"marker\":{\"colorbar\":{\"outlinewidth\":0,\"ticks\":\"\"}}}],\"scatterternary\":[{\"type\":\"scatterternary\",\"marker\":{\"colorbar\":{\"outlinewidth\":0,\"ticks\":\"\"}}}],\"scattercarpet\":[{\"type\":\"scattercarpet\",\"marker\":{\"colorbar\":{\"outlinewidth\":0,\"ticks\":\"\"}}}],\"carpet\":[{\"aaxis\":{\"endlinecolor\":\"#2a3f5f\",\"gridcolor\":\"white\",\"linecolor\":\"white\",\"minorgridcolor\":\"white\",\"startlinecolor\":\"#2a3f5f\"},\"baxis\":{\"endlinecolor\":\"#2a3f5f\",\"gridcolor\":\"white\",\"linecolor\":\"white\",\"minorgridcolor\":\"white\",\"startlinecolor\":\"#2a3f5f\"},\"type\":\"carpet\"}],\"table\":[{\"cells\":{\"fill\":{\"color\":\"#EBF0F8\"},\"line\":{\"color\":\"white\"}},\"header\":{\"fill\":{\"color\":\"#C8D4E3\"},\"line\":{\"color\":\"white\"}},\"type\":\"table\"}],\"barpolar\":[{\"marker\":{\"line\":{\"color\":\"#E5ECF6\",\"width\":0.5},\"pattern\":{\"fillmode\":\"overlay\",\"size\":10,\"solidity\":0.2}},\"type\":\"barpolar\"}],\"pie\":[{\"automargin\":true,\"type\":\"pie\"}]},\"layout\":{\"autotypenumbers\":\"strict\",\"colorway\":[\"#636efa\",\"#EF553B\",\"#00cc96\",\"#ab63fa\",\"#FFA15A\",\"#19d3f3\",\"#FF6692\",\"#B6E880\",\"#FF97FF\",\"#FECB52\"],\"font\":{\"color\":\"#2a3f5f\"},\"hovermode\":\"closest\",\"hoverlabel\":{\"align\":\"left\"},\"paper_bgcolor\":\"white\",\"plot_bgcolor\":\"#E5ECF6\",\"polar\":{\"bgcolor\":\"#E5ECF6\",\"angularaxis\":{\"gridcolor\":\"white\",\"linecolor\":\"white\",\"ticks\":\"\"},\"radialaxis\":{\"gridcolor\":\"white\",\"linecolor\":\"white\",\"ticks\":\"\"}},\"ternary\":{\"bgcolor\":\"#E5ECF6\",\"aaxis\":{\"gridcolor\":\"white\",\"linecolor\":\"white\",\"ticks\":\"\"},\"baxis\":{\"gridcolor\":\"white\",\"linecolor\":\"white\",\"ticks\":\"\"},\"caxis\":{\"gridcolor\":\"white\",\"linecolor\":\"white\",\"ticks\":\"\"}},\"coloraxis\":{\"colorbar\":{\"outlinewidth\":0,\"ticks\":\"\"}},\"colorscale\":{\"sequential\":[[0.0,\"#0d0887\"],[0.1111111111111111,\"#46039f\"],[0.2222222222222222,\"#7201a8\"],[0.3333333333333333,\"#9c179e\"],[0.4444444444444444,\"#bd3786\"],[0.5555555555555556,\"#d8576b\"],[0.6666666666666666,\"#ed7953\"],[0.7777777777777778,\"#fb9f3a\"],[0.8888888888888888,\"#fdca26\"],[1.0,\"#f0f921\"]],\"sequentialminus\":[[0.0,\"#0d0887\"],[0.1111111111111111,\"#46039f\"],[0.2222222222222222,\"#7201a8\"],[0.3333333333333333,\"#9c179e\"],[0.4444444444444444,\"#bd3786\"],[0.5555555555555556,\"#d8576b\"],[0.6666666666666666,\"#ed7953\"],[0.7777777777777778,\"#fb9f3a\"],[0.8888888888888888,\"#fdca26\"],[1.0,\"#f0f921\"]],\"diverging\":[[0,\"#8e0152\"],[0.1,\"#c51b7d\"],[0.2,\"#de77ae\"],[0.3,\"#f1b6da\"],[0.4,\"#fde0ef\"],[0.5,\"#f7f7f7\"],[0.6,\"#e6f5d0\"],[0.7,\"#b8e186\"],[0.8,\"#7fbc41\"],[0.9,\"#4d9221\"],[1,\"#276419\"]]},\"xaxis\":{\"gridcolor\":\"white\",\"linecolor\":\"white\",\"ticks\":\"\",\"title\":{\"standoff\":15},\"zerolinecolor\":\"white\",\"automargin\":true,\"zerolinewidth\":2},\"yaxis\":{\"gridcolor\":\"white\",\"linecolor\":\"white\",\"ticks\":\"\",\"title\":{\"standoff\":15},\"zerolinecolor\":\"white\",\"automargin\":true,\"zerolinewidth\":2},\"scene\":{\"xaxis\":{\"backgroundcolor\":\"#E5ECF6\",\"gridcolor\":\"white\",\"linecolor\":\"white\",\"showbackground\":true,\"ticks\":\"\",\"zerolinecolor\":\"white\",\"gridwidth\":2},\"yaxis\":{\"backgroundcolor\":\"#E5ECF6\",\"gridcolor\":\"white\",\"linecolor\":\"white\",\"showbackground\":true,\"ticks\":\"\",\"zerolinecolor\":\"white\",\"gridwidth\":2},\"zaxis\":{\"backgroundcolor\":\"#E5ECF6\",\"gridcolor\":\"white\",\"linecolor\":\"white\",\"showbackground\":true,\"ticks\":\"\",\"zerolinecolor\":\"white\",\"gridwidth\":2}},\"shapedefaults\":{\"line\":{\"color\":\"#2a3f5f\"}},\"annotationdefaults\":{\"arrowcolor\":\"#2a3f5f\",\"arrowhead\":0,\"arrowwidth\":1},\"geo\":{\"bgcolor\":\"white\",\"landcolor\":\"#E5ECF6\",\"subunitcolor\":\"white\",\"showland\":true,\"showlakes\":true,\"lakecolor\":\"white\"},\"title\":{\"x\":0.05},\"mapbox\":{\"style\":\"light\"}}},\"xaxis\":{\"anchor\":\"y\",\"domain\":[0.0,1.0],\"title\":{\"text\":\"Genres\"}},\"yaxis\":{\"anchor\":\"x\",\"domain\":[0.0,1.0],\"title\":{\"text\":\"Missing Percentage\"}},\"legend\":{\"tracegroupgap\":0},\"title\":{\"text\":\"Top 10 Genres with the Highest Percentage of Missing Budget Values\"},\"barmode\":\"relative\"},                        {\"responsive\": true}                    ).then(function(){\n",
       "                            \n",
       "var gd = document.getElementById('364c082a-d7bb-4377-8f84-a5e43473b3a1');\n",
       "var x = new MutationObserver(function (mutations, observer) {{\n",
       "        var display = window.getComputedStyle(gd).display;\n",
       "        if (!display || display === 'none') {{\n",
       "            console.log([gd, 'removed!']);\n",
       "            Plotly.purge(gd);\n",
       "            observer.disconnect();\n",
       "        }}\n",
       "}});\n",
       "\n",
       "// Listen for the removal of the full notebook cells\n",
       "var notebookContainer = gd.closest('#notebook-container');\n",
       "if (notebookContainer) {{\n",
       "    x.observe(notebookContainer, {childList: true});\n",
       "}}\n",
       "\n",
       "// Listen for the clearing of the current output cell\n",
       "var outputEl = gd.closest('.output');\n",
       "if (outputEl) {{\n",
       "    x.observe(outputEl, {childList: true});\n",
       "}}\n",
       "\n",
       "                        })                };                });            </script>        </div>"
      ]
     },
     "metadata": {},
     "output_type": "display_data"
    }
   ],
   "source": [
    "budget_missing_pct = (df.explode(\"genres\").groupby(\"genres\")['budget'].apply(lambda x: x.isnull().mean()) * 100).sort_values(ascending = False).reset_index(name = 'Missing Percentage')\n",
    "budget_missing_pct = budget_missing_pct[budget_missing_pct['genres'] != 'Unknown'].head(10)\n",
    "fig = px.bar(\n",
    "    budget_missing_pct, \n",
    "    x = 'genres',\n",
    "    y = 'Missing Percentage',\n",
    "    labels = {'genres' : 'Genres'},\n",
    "    title = 'Top 10 Genres with the Highest Percentage of Missing Budget Values'\n",
    ")\n",
    "fig.show()"
   ]
  },
  {
   "cell_type": "markdown",
   "id": "44da854b-ca1e-4179-9fdb-594a2881401d",
   "metadata": {},
   "source": [
    "### Conclusion about missing budget values\n",
    "- `Budget is missing for less successful movies.`\n",
    "  \n",
    "- `Possible Reasons`:-\n",
    "1) Smaller/Independent Films May Not Report Budgets\n",
    "2) If a movie flopped, studios may not see value in reporting the budget.\n",
    "3) Bias in Data Source - IMDB may not have incomplete budget data for smaller movies.\n",
    "\n",
    "-  `Most of the genres having high percentage of missing budget values are Low-Budget Categories`:- \n",
    "1) Documentary-related genres (like Food Documentary, Music Documentary, etc.)\n",
    "2) Anime-related genres (like Shōnen, Seinen, etc.)\n",
    "3) Low-production-cost genres (Reality TV, News, Concert, etc.)"
   ]
  },
  {
   "cell_type": "markdown",
   "id": "3d77d501-26a4-4d64-858a-d073503a01da",
   "metadata": {},
   "source": [
    "# Analysis of Filming Locations Missing Values"
   ]
  },
  {
   "cell_type": "code",
   "execution_count": 172,
   "id": "e5a8311e-a24b-42ea-b253-052340bf12f8",
   "metadata": {},
   "outputs": [
    {
     "name": "stdout",
     "output_type": "stream",
     "text": [
      "Percentage of Missing Filming Location Values in the Dataset: 20.736113201866626%\n"
     ]
    }
   ],
   "source": [
    "temp = (df[df['filming_locations'] == 'Unknown'].shape[0] / df.shape[0]) * 100\n",
    "print(f\"Percentage of Missing Filming Location Values in the Dataset: {temp}%\")"
   ]
  },
  {
   "cell_type": "code",
   "execution_count": 173,
   "id": "625261f2-21b6-44b3-8925-566c02e52b81",
   "metadata": {},
   "outputs": [
    {
     "data": {
      "text/html": [
       "<div>\n",
       "<style scoped>\n",
       "    .dataframe tbody tr th:only-of-type {\n",
       "        vertical-align: middle;\n",
       "    }\n",
       "\n",
       "    .dataframe tbody tr th {\n",
       "        vertical-align: top;\n",
       "    }\n",
       "\n",
       "    .dataframe thead th {\n",
       "        text-align: right;\n",
       "    }\n",
       "</style>\n",
       "<table border=\"1\" class=\"dataframe\">\n",
       "  <thead>\n",
       "    <tr style=\"text-align: right;\">\n",
       "      <th></th>\n",
       "      <th>Avg. Worldwide Collections</th>\n",
       "      <th>Avg. US &amp; Canada Collections</th>\n",
       "      <th>Avg. Opening Weekend Collections</th>\n",
       "    </tr>\n",
       "    <tr>\n",
       "      <th>Missing Filming Location?</th>\n",
       "      <th></th>\n",
       "      <th></th>\n",
       "      <th></th>\n",
       "    </tr>\n",
       "  </thead>\n",
       "  <tbody>\n",
       "    <tr>\n",
       "      <th>False</th>\n",
       "      <td>$50.23 Million</td>\n",
       "      <td>$20.82 Million</td>\n",
       "      <td>$6.16 Million</td>\n",
       "    </tr>\n",
       "    <tr>\n",
       "      <th>True</th>\n",
       "      <td>$23.32 Million</td>\n",
       "      <td>$7.38 Million</td>\n",
       "      <td>$2.16 Million</td>\n",
       "    </tr>\n",
       "  </tbody>\n",
       "</table>\n",
       "</div>"
      ],
      "text/plain": [
       "                          Avg. Worldwide Collections  \\\n",
       "Missing Filming Location?                              \n",
       "False                                 $50.23 Million   \n",
       "True                                  $23.32 Million   \n",
       "\n",
       "                          Avg. US & Canada Collections  \\\n",
       "Missing Filming Location?                                \n",
       "False                                   $20.82 Million   \n",
       "True                                     $7.38 Million   \n",
       "\n",
       "                          Avg. Opening Weekend Collections  \n",
       "Missing Filming Location?                                   \n",
       "False                                        $6.16 Million  \n",
       "True                                         $2.16 Million  "
      ]
     },
     "execution_count": 173,
     "metadata": {},
     "output_type": "execute_result"
    }
   ],
   "source": [
    "location_collection_relation = df.groupby(df['filming_locations'] == 'Unknown').agg(\n",
    "    grossWorldWide = ('grossWorldWide', 'mean'),\n",
    "    gross_US_Canada = ('gross_US_Canada', 'mean'),\n",
    "    opening_weekend_Gross = ('opening_weekend_Gross', 'mean')\n",
    ")\n",
    "location_collection_relation['grossWorldWide'] = (location_collection_relation['grossWorldWide'] / 1000000).apply(collections)\n",
    "location_collection_relation['gross_US_Canada'] = (location_collection_relation['gross_US_Canada'] / 1000000).apply(collections)\n",
    "location_collection_relation['opening_weekend_Gross'] = (location_collection_relation['opening_weekend_Gross'] / 1000000).apply(collections)\n",
    "location_collection_relation.rename(columns = {'grossWorldWide' : 'Avg. Worldwide Collections', 'gross_US_Canada' : 'Avg. US & Canada Collections', 'opening_weekend_Gross' : 'Avg. Opening Weekend Collections'}, inplace = True)\n",
    "location_collection_relation.rename_axis('Missing Filming Location?', inplace = True)\n",
    "location_collection_relation"
   ]
  },
  {
   "cell_type": "code",
   "execution_count": 174,
   "id": "bb2f153c-675b-4786-b528-b041af8b057f",
   "metadata": {
    "scrolled": true
   },
   "outputs": [
    {
     "data": {
      "application/vnd.plotly.v1+json": {
       "config": {
        "plotlyServerURL": "https://plot.ly"
       },
       "data": [
        {
         "alignmentgroup": "True",
         "hovertemplate": "Genres=%{x}<br>Missing Percentage=%{y}<extra></extra>",
         "legendgroup": "",
         "marker": {
          "color": "#636efa",
          "pattern": {
           "shape": ""
          }
         },
         "name": "",
         "offsetgroup": "",
         "orientation": "v",
         "showlegend": false,
         "textposition": "auto",
         "type": "bar",
         "x": [
          "Reality TV",
          "Isekai",
          "Slice of Life",
          "Shōjo",
          "Talk Show",
          "Iyashikei",
          "Anime",
          "Mecha",
          "Seinen",
          "Shōnen"
         ],
         "xaxis": "x",
         "y": [
          100,
          100,
          100,
          100,
          100,
          100,
          92,
          87.5,
          85.71428571428571,
          83.33333333333334
         ],
         "yaxis": "y"
        }
       ],
       "layout": {
        "autosize": true,
        "barmode": "relative",
        "legend": {
         "tracegroupgap": 0
        },
        "template": {
         "data": {
          "bar": [
           {
            "error_x": {
             "color": "#2a3f5f"
            },
            "error_y": {
             "color": "#2a3f5f"
            },
            "marker": {
             "line": {
              "color": "#E5ECF6",
              "width": 0.5
             },
             "pattern": {
              "fillmode": "overlay",
              "size": 10,
              "solidity": 0.2
             }
            },
            "type": "bar"
           }
          ],
          "barpolar": [
           {
            "marker": {
             "line": {
              "color": "#E5ECF6",
              "width": 0.5
             },
             "pattern": {
              "fillmode": "overlay",
              "size": 10,
              "solidity": 0.2
             }
            },
            "type": "barpolar"
           }
          ],
          "carpet": [
           {
            "aaxis": {
             "endlinecolor": "#2a3f5f",
             "gridcolor": "white",
             "linecolor": "white",
             "minorgridcolor": "white",
             "startlinecolor": "#2a3f5f"
            },
            "baxis": {
             "endlinecolor": "#2a3f5f",
             "gridcolor": "white",
             "linecolor": "white",
             "minorgridcolor": "white",
             "startlinecolor": "#2a3f5f"
            },
            "type": "carpet"
           }
          ],
          "choropleth": [
           {
            "colorbar": {
             "outlinewidth": 0,
             "ticks": ""
            },
            "type": "choropleth"
           }
          ],
          "contour": [
           {
            "colorbar": {
             "outlinewidth": 0,
             "ticks": ""
            },
            "colorscale": [
             [
              0,
              "#0d0887"
             ],
             [
              0.1111111111111111,
              "#46039f"
             ],
             [
              0.2222222222222222,
              "#7201a8"
             ],
             [
              0.3333333333333333,
              "#9c179e"
             ],
             [
              0.4444444444444444,
              "#bd3786"
             ],
             [
              0.5555555555555556,
              "#d8576b"
             ],
             [
              0.6666666666666666,
              "#ed7953"
             ],
             [
              0.7777777777777778,
              "#fb9f3a"
             ],
             [
              0.8888888888888888,
              "#fdca26"
             ],
             [
              1,
              "#f0f921"
             ]
            ],
            "type": "contour"
           }
          ],
          "contourcarpet": [
           {
            "colorbar": {
             "outlinewidth": 0,
             "ticks": ""
            },
            "type": "contourcarpet"
           }
          ],
          "heatmap": [
           {
            "colorbar": {
             "outlinewidth": 0,
             "ticks": ""
            },
            "colorscale": [
             [
              0,
              "#0d0887"
             ],
             [
              0.1111111111111111,
              "#46039f"
             ],
             [
              0.2222222222222222,
              "#7201a8"
             ],
             [
              0.3333333333333333,
              "#9c179e"
             ],
             [
              0.4444444444444444,
              "#bd3786"
             ],
             [
              0.5555555555555556,
              "#d8576b"
             ],
             [
              0.6666666666666666,
              "#ed7953"
             ],
             [
              0.7777777777777778,
              "#fb9f3a"
             ],
             [
              0.8888888888888888,
              "#fdca26"
             ],
             [
              1,
              "#f0f921"
             ]
            ],
            "type": "heatmap"
           }
          ],
          "heatmapgl": [
           {
            "colorbar": {
             "outlinewidth": 0,
             "ticks": ""
            },
            "colorscale": [
             [
              0,
              "#0d0887"
             ],
             [
              0.1111111111111111,
              "#46039f"
             ],
             [
              0.2222222222222222,
              "#7201a8"
             ],
             [
              0.3333333333333333,
              "#9c179e"
             ],
             [
              0.4444444444444444,
              "#bd3786"
             ],
             [
              0.5555555555555556,
              "#d8576b"
             ],
             [
              0.6666666666666666,
              "#ed7953"
             ],
             [
              0.7777777777777778,
              "#fb9f3a"
             ],
             [
              0.8888888888888888,
              "#fdca26"
             ],
             [
              1,
              "#f0f921"
             ]
            ],
            "type": "heatmapgl"
           }
          ],
          "histogram": [
           {
            "marker": {
             "pattern": {
              "fillmode": "overlay",
              "size": 10,
              "solidity": 0.2
             }
            },
            "type": "histogram"
           }
          ],
          "histogram2d": [
           {
            "colorbar": {
             "outlinewidth": 0,
             "ticks": ""
            },
            "colorscale": [
             [
              0,
              "#0d0887"
             ],
             [
              0.1111111111111111,
              "#46039f"
             ],
             [
              0.2222222222222222,
              "#7201a8"
             ],
             [
              0.3333333333333333,
              "#9c179e"
             ],
             [
              0.4444444444444444,
              "#bd3786"
             ],
             [
              0.5555555555555556,
              "#d8576b"
             ],
             [
              0.6666666666666666,
              "#ed7953"
             ],
             [
              0.7777777777777778,
              "#fb9f3a"
             ],
             [
              0.8888888888888888,
              "#fdca26"
             ],
             [
              1,
              "#f0f921"
             ]
            ],
            "type": "histogram2d"
           }
          ],
          "histogram2dcontour": [
           {
            "colorbar": {
             "outlinewidth": 0,
             "ticks": ""
            },
            "colorscale": [
             [
              0,
              "#0d0887"
             ],
             [
              0.1111111111111111,
              "#46039f"
             ],
             [
              0.2222222222222222,
              "#7201a8"
             ],
             [
              0.3333333333333333,
              "#9c179e"
             ],
             [
              0.4444444444444444,
              "#bd3786"
             ],
             [
              0.5555555555555556,
              "#d8576b"
             ],
             [
              0.6666666666666666,
              "#ed7953"
             ],
             [
              0.7777777777777778,
              "#fb9f3a"
             ],
             [
              0.8888888888888888,
              "#fdca26"
             ],
             [
              1,
              "#f0f921"
             ]
            ],
            "type": "histogram2dcontour"
           }
          ],
          "mesh3d": [
           {
            "colorbar": {
             "outlinewidth": 0,
             "ticks": ""
            },
            "type": "mesh3d"
           }
          ],
          "parcoords": [
           {
            "line": {
             "colorbar": {
              "outlinewidth": 0,
              "ticks": ""
             }
            },
            "type": "parcoords"
           }
          ],
          "pie": [
           {
            "automargin": true,
            "type": "pie"
           }
          ],
          "scatter": [
           {
            "fillpattern": {
             "fillmode": "overlay",
             "size": 10,
             "solidity": 0.2
            },
            "type": "scatter"
           }
          ],
          "scatter3d": [
           {
            "line": {
             "colorbar": {
              "outlinewidth": 0,
              "ticks": ""
             }
            },
            "marker": {
             "colorbar": {
              "outlinewidth": 0,
              "ticks": ""
             }
            },
            "type": "scatter3d"
           }
          ],
          "scattercarpet": [
           {
            "marker": {
             "colorbar": {
              "outlinewidth": 0,
              "ticks": ""
             }
            },
            "type": "scattercarpet"
           }
          ],
          "scattergeo": [
           {
            "marker": {
             "colorbar": {
              "outlinewidth": 0,
              "ticks": ""
             }
            },
            "type": "scattergeo"
           }
          ],
          "scattergl": [
           {
            "marker": {
             "colorbar": {
              "outlinewidth": 0,
              "ticks": ""
             }
            },
            "type": "scattergl"
           }
          ],
          "scattermapbox": [
           {
            "marker": {
             "colorbar": {
              "outlinewidth": 0,
              "ticks": ""
             }
            },
            "type": "scattermapbox"
           }
          ],
          "scatterpolar": [
           {
            "marker": {
             "colorbar": {
              "outlinewidth": 0,
              "ticks": ""
             }
            },
            "type": "scatterpolar"
           }
          ],
          "scatterpolargl": [
           {
            "marker": {
             "colorbar": {
              "outlinewidth": 0,
              "ticks": ""
             }
            },
            "type": "scatterpolargl"
           }
          ],
          "scatterternary": [
           {
            "marker": {
             "colorbar": {
              "outlinewidth": 0,
              "ticks": ""
             }
            },
            "type": "scatterternary"
           }
          ],
          "surface": [
           {
            "colorbar": {
             "outlinewidth": 0,
             "ticks": ""
            },
            "colorscale": [
             [
              0,
              "#0d0887"
             ],
             [
              0.1111111111111111,
              "#46039f"
             ],
             [
              0.2222222222222222,
              "#7201a8"
             ],
             [
              0.3333333333333333,
              "#9c179e"
             ],
             [
              0.4444444444444444,
              "#bd3786"
             ],
             [
              0.5555555555555556,
              "#d8576b"
             ],
             [
              0.6666666666666666,
              "#ed7953"
             ],
             [
              0.7777777777777778,
              "#fb9f3a"
             ],
             [
              0.8888888888888888,
              "#fdca26"
             ],
             [
              1,
              "#f0f921"
             ]
            ],
            "type": "surface"
           }
          ],
          "table": [
           {
            "cells": {
             "fill": {
              "color": "#EBF0F8"
             },
             "line": {
              "color": "white"
             }
            },
            "header": {
             "fill": {
              "color": "#C8D4E3"
             },
             "line": {
              "color": "white"
             }
            },
            "type": "table"
           }
          ]
         },
         "layout": {
          "annotationdefaults": {
           "arrowcolor": "#2a3f5f",
           "arrowhead": 0,
           "arrowwidth": 1
          },
          "autotypenumbers": "strict",
          "coloraxis": {
           "colorbar": {
            "outlinewidth": 0,
            "ticks": ""
           }
          },
          "colorscale": {
           "diverging": [
            [
             0,
             "#8e0152"
            ],
            [
             0.1,
             "#c51b7d"
            ],
            [
             0.2,
             "#de77ae"
            ],
            [
             0.3,
             "#f1b6da"
            ],
            [
             0.4,
             "#fde0ef"
            ],
            [
             0.5,
             "#f7f7f7"
            ],
            [
             0.6,
             "#e6f5d0"
            ],
            [
             0.7,
             "#b8e186"
            ],
            [
             0.8,
             "#7fbc41"
            ],
            [
             0.9,
             "#4d9221"
            ],
            [
             1,
             "#276419"
            ]
           ],
           "sequential": [
            [
             0,
             "#0d0887"
            ],
            [
             0.1111111111111111,
             "#46039f"
            ],
            [
             0.2222222222222222,
             "#7201a8"
            ],
            [
             0.3333333333333333,
             "#9c179e"
            ],
            [
             0.4444444444444444,
             "#bd3786"
            ],
            [
             0.5555555555555556,
             "#d8576b"
            ],
            [
             0.6666666666666666,
             "#ed7953"
            ],
            [
             0.7777777777777778,
             "#fb9f3a"
            ],
            [
             0.8888888888888888,
             "#fdca26"
            ],
            [
             1,
             "#f0f921"
            ]
           ],
           "sequentialminus": [
            [
             0,
             "#0d0887"
            ],
            [
             0.1111111111111111,
             "#46039f"
            ],
            [
             0.2222222222222222,
             "#7201a8"
            ],
            [
             0.3333333333333333,
             "#9c179e"
            ],
            [
             0.4444444444444444,
             "#bd3786"
            ],
            [
             0.5555555555555556,
             "#d8576b"
            ],
            [
             0.6666666666666666,
             "#ed7953"
            ],
            [
             0.7777777777777778,
             "#fb9f3a"
            ],
            [
             0.8888888888888888,
             "#fdca26"
            ],
            [
             1,
             "#f0f921"
            ]
           ]
          },
          "colorway": [
           "#636efa",
           "#EF553B",
           "#00cc96",
           "#ab63fa",
           "#FFA15A",
           "#19d3f3",
           "#FF6692",
           "#B6E880",
           "#FF97FF",
           "#FECB52"
          ],
          "font": {
           "color": "#2a3f5f"
          },
          "geo": {
           "bgcolor": "white",
           "lakecolor": "white",
           "landcolor": "#E5ECF6",
           "showlakes": true,
           "showland": true,
           "subunitcolor": "white"
          },
          "hoverlabel": {
           "align": "left"
          },
          "hovermode": "closest",
          "mapbox": {
           "style": "light"
          },
          "paper_bgcolor": "white",
          "plot_bgcolor": "#E5ECF6",
          "polar": {
           "angularaxis": {
            "gridcolor": "white",
            "linecolor": "white",
            "ticks": ""
           },
           "bgcolor": "#E5ECF6",
           "radialaxis": {
            "gridcolor": "white",
            "linecolor": "white",
            "ticks": ""
           }
          },
          "scene": {
           "xaxis": {
            "backgroundcolor": "#E5ECF6",
            "gridcolor": "white",
            "gridwidth": 2,
            "linecolor": "white",
            "showbackground": true,
            "ticks": "",
            "zerolinecolor": "white"
           },
           "yaxis": {
            "backgroundcolor": "#E5ECF6",
            "gridcolor": "white",
            "gridwidth": 2,
            "linecolor": "white",
            "showbackground": true,
            "ticks": "",
            "zerolinecolor": "white"
           },
           "zaxis": {
            "backgroundcolor": "#E5ECF6",
            "gridcolor": "white",
            "gridwidth": 2,
            "linecolor": "white",
            "showbackground": true,
            "ticks": "",
            "zerolinecolor": "white"
           }
          },
          "shapedefaults": {
           "line": {
            "color": "#2a3f5f"
           }
          },
          "ternary": {
           "aaxis": {
            "gridcolor": "white",
            "linecolor": "white",
            "ticks": ""
           },
           "baxis": {
            "gridcolor": "white",
            "linecolor": "white",
            "ticks": ""
           },
           "bgcolor": "#E5ECF6",
           "caxis": {
            "gridcolor": "white",
            "linecolor": "white",
            "ticks": ""
           }
          },
          "title": {
           "x": 0.05
          },
          "xaxis": {
           "automargin": true,
           "gridcolor": "white",
           "linecolor": "white",
           "ticks": "",
           "title": {
            "standoff": 15
           },
           "zerolinecolor": "white",
           "zerolinewidth": 2
          },
          "yaxis": {
           "automargin": true,
           "gridcolor": "white",
           "linecolor": "white",
           "ticks": "",
           "title": {
            "standoff": 15
           },
           "zerolinecolor": "white",
           "zerolinewidth": 2
          }
         }
        },
        "title": {
         "text": "Top 10 Genres with the Highest Percentage of Missing Filming Location Values"
        },
        "xaxis": {
         "anchor": "y",
         "autorange": true,
         "domain": [
          0,
          1
         ],
         "range": [
          -0.5,
          9.5
         ],
         "title": {
          "text": "Genres"
         },
         "type": "category"
        },
        "yaxis": {
         "anchor": "x",
         "autorange": true,
         "domain": [
          0,
          1
         ],
         "range": [
          0,
          105.26315789473685
         ],
         "title": {
          "text": "Missing Percentage"
         },
         "type": "linear"
        }
       }
      },
      "text/html": [
       "<div>                            <div id=\"55e6c45d-a962-40a3-b791-838997c86b43\" class=\"plotly-graph-div\" style=\"height:525px; width:100%;\"></div>            <script type=\"text/javascript\">                require([\"plotly\"], function(Plotly) {                    window.PLOTLYENV=window.PLOTLYENV || {};                                    if (document.getElementById(\"55e6c45d-a962-40a3-b791-838997c86b43\")) {                    Plotly.newPlot(                        \"55e6c45d-a962-40a3-b791-838997c86b43\",                        [{\"alignmentgroup\":\"True\",\"hovertemplate\":\"Genres=%{x}\\u003cbr\\u003eMissing Percentage=%{y}\\u003cextra\\u003e\\u003c\\u002fextra\\u003e\",\"legendgroup\":\"\",\"marker\":{\"color\":\"#636efa\",\"pattern\":{\"shape\":\"\"}},\"name\":\"\",\"offsetgroup\":\"\",\"orientation\":\"v\",\"showlegend\":false,\"textposition\":\"auto\",\"x\":[\"Reality TV\",\"Isekai\",\"Slice of Life\",\"Sh\\u014djo\",\"Talk Show\",\"Iyashikei\",\"Anime\",\"Mecha\",\"Seinen\",\"Sh\\u014dnen\"],\"xaxis\":\"x\",\"y\":[100.0,100.0,100.0,100.0,100.0,100.0,92.0,87.5,85.71428571428571,83.33333333333334],\"yaxis\":\"y\",\"type\":\"bar\"}],                        {\"template\":{\"data\":{\"histogram2dcontour\":[{\"type\":\"histogram2dcontour\",\"colorbar\":{\"outlinewidth\":0,\"ticks\":\"\"},\"colorscale\":[[0.0,\"#0d0887\"],[0.1111111111111111,\"#46039f\"],[0.2222222222222222,\"#7201a8\"],[0.3333333333333333,\"#9c179e\"],[0.4444444444444444,\"#bd3786\"],[0.5555555555555556,\"#d8576b\"],[0.6666666666666666,\"#ed7953\"],[0.7777777777777778,\"#fb9f3a\"],[0.8888888888888888,\"#fdca26\"],[1.0,\"#f0f921\"]]}],\"choropleth\":[{\"type\":\"choropleth\",\"colorbar\":{\"outlinewidth\":0,\"ticks\":\"\"}}],\"histogram2d\":[{\"type\":\"histogram2d\",\"colorbar\":{\"outlinewidth\":0,\"ticks\":\"\"},\"colorscale\":[[0.0,\"#0d0887\"],[0.1111111111111111,\"#46039f\"],[0.2222222222222222,\"#7201a8\"],[0.3333333333333333,\"#9c179e\"],[0.4444444444444444,\"#bd3786\"],[0.5555555555555556,\"#d8576b\"],[0.6666666666666666,\"#ed7953\"],[0.7777777777777778,\"#fb9f3a\"],[0.8888888888888888,\"#fdca26\"],[1.0,\"#f0f921\"]]}],\"heatmap\":[{\"type\":\"heatmap\",\"colorbar\":{\"outlinewidth\":0,\"ticks\":\"\"},\"colorscale\":[[0.0,\"#0d0887\"],[0.1111111111111111,\"#46039f\"],[0.2222222222222222,\"#7201a8\"],[0.3333333333333333,\"#9c179e\"],[0.4444444444444444,\"#bd3786\"],[0.5555555555555556,\"#d8576b\"],[0.6666666666666666,\"#ed7953\"],[0.7777777777777778,\"#fb9f3a\"],[0.8888888888888888,\"#fdca26\"],[1.0,\"#f0f921\"]]}],\"heatmapgl\":[{\"type\":\"heatmapgl\",\"colorbar\":{\"outlinewidth\":0,\"ticks\":\"\"},\"colorscale\":[[0.0,\"#0d0887\"],[0.1111111111111111,\"#46039f\"],[0.2222222222222222,\"#7201a8\"],[0.3333333333333333,\"#9c179e\"],[0.4444444444444444,\"#bd3786\"],[0.5555555555555556,\"#d8576b\"],[0.6666666666666666,\"#ed7953\"],[0.7777777777777778,\"#fb9f3a\"],[0.8888888888888888,\"#fdca26\"],[1.0,\"#f0f921\"]]}],\"contourcarpet\":[{\"type\":\"contourcarpet\",\"colorbar\":{\"outlinewidth\":0,\"ticks\":\"\"}}],\"contour\":[{\"type\":\"contour\",\"colorbar\":{\"outlinewidth\":0,\"ticks\":\"\"},\"colorscale\":[[0.0,\"#0d0887\"],[0.1111111111111111,\"#46039f\"],[0.2222222222222222,\"#7201a8\"],[0.3333333333333333,\"#9c179e\"],[0.4444444444444444,\"#bd3786\"],[0.5555555555555556,\"#d8576b\"],[0.6666666666666666,\"#ed7953\"],[0.7777777777777778,\"#fb9f3a\"],[0.8888888888888888,\"#fdca26\"],[1.0,\"#f0f921\"]]}],\"surface\":[{\"type\":\"surface\",\"colorbar\":{\"outlinewidth\":0,\"ticks\":\"\"},\"colorscale\":[[0.0,\"#0d0887\"],[0.1111111111111111,\"#46039f\"],[0.2222222222222222,\"#7201a8\"],[0.3333333333333333,\"#9c179e\"],[0.4444444444444444,\"#bd3786\"],[0.5555555555555556,\"#d8576b\"],[0.6666666666666666,\"#ed7953\"],[0.7777777777777778,\"#fb9f3a\"],[0.8888888888888888,\"#fdca26\"],[1.0,\"#f0f921\"]]}],\"mesh3d\":[{\"type\":\"mesh3d\",\"colorbar\":{\"outlinewidth\":0,\"ticks\":\"\"}}],\"scatter\":[{\"fillpattern\":{\"fillmode\":\"overlay\",\"size\":10,\"solidity\":0.2},\"type\":\"scatter\"}],\"parcoords\":[{\"type\":\"parcoords\",\"line\":{\"colorbar\":{\"outlinewidth\":0,\"ticks\":\"\"}}}],\"scatterpolargl\":[{\"type\":\"scatterpolargl\",\"marker\":{\"colorbar\":{\"outlinewidth\":0,\"ticks\":\"\"}}}],\"bar\":[{\"error_x\":{\"color\":\"#2a3f5f\"},\"error_y\":{\"color\":\"#2a3f5f\"},\"marker\":{\"line\":{\"color\":\"#E5ECF6\",\"width\":0.5},\"pattern\":{\"fillmode\":\"overlay\",\"size\":10,\"solidity\":0.2}},\"type\":\"bar\"}],\"scattergeo\":[{\"type\":\"scattergeo\",\"marker\":{\"colorbar\":{\"outlinewidth\":0,\"ticks\":\"\"}}}],\"scatterpolar\":[{\"type\":\"scatterpolar\",\"marker\":{\"colorbar\":{\"outlinewidth\":0,\"ticks\":\"\"}}}],\"histogram\":[{\"marker\":{\"pattern\":{\"fillmode\":\"overlay\",\"size\":10,\"solidity\":0.2}},\"type\":\"histogram\"}],\"scattergl\":[{\"type\":\"scattergl\",\"marker\":{\"colorbar\":{\"outlinewidth\":0,\"ticks\":\"\"}}}],\"scatter3d\":[{\"type\":\"scatter3d\",\"line\":{\"colorbar\":{\"outlinewidth\":0,\"ticks\":\"\"}},\"marker\":{\"colorbar\":{\"outlinewidth\":0,\"ticks\":\"\"}}}],\"scattermapbox\":[{\"type\":\"scattermapbox\",\"marker\":{\"colorbar\":{\"outlinewidth\":0,\"ticks\":\"\"}}}],\"scatterternary\":[{\"type\":\"scatterternary\",\"marker\":{\"colorbar\":{\"outlinewidth\":0,\"ticks\":\"\"}}}],\"scattercarpet\":[{\"type\":\"scattercarpet\",\"marker\":{\"colorbar\":{\"outlinewidth\":0,\"ticks\":\"\"}}}],\"carpet\":[{\"aaxis\":{\"endlinecolor\":\"#2a3f5f\",\"gridcolor\":\"white\",\"linecolor\":\"white\",\"minorgridcolor\":\"white\",\"startlinecolor\":\"#2a3f5f\"},\"baxis\":{\"endlinecolor\":\"#2a3f5f\",\"gridcolor\":\"white\",\"linecolor\":\"white\",\"minorgridcolor\":\"white\",\"startlinecolor\":\"#2a3f5f\"},\"type\":\"carpet\"}],\"table\":[{\"cells\":{\"fill\":{\"color\":\"#EBF0F8\"},\"line\":{\"color\":\"white\"}},\"header\":{\"fill\":{\"color\":\"#C8D4E3\"},\"line\":{\"color\":\"white\"}},\"type\":\"table\"}],\"barpolar\":[{\"marker\":{\"line\":{\"color\":\"#E5ECF6\",\"width\":0.5},\"pattern\":{\"fillmode\":\"overlay\",\"size\":10,\"solidity\":0.2}},\"type\":\"barpolar\"}],\"pie\":[{\"automargin\":true,\"type\":\"pie\"}]},\"layout\":{\"autotypenumbers\":\"strict\",\"colorway\":[\"#636efa\",\"#EF553B\",\"#00cc96\",\"#ab63fa\",\"#FFA15A\",\"#19d3f3\",\"#FF6692\",\"#B6E880\",\"#FF97FF\",\"#FECB52\"],\"font\":{\"color\":\"#2a3f5f\"},\"hovermode\":\"closest\",\"hoverlabel\":{\"align\":\"left\"},\"paper_bgcolor\":\"white\",\"plot_bgcolor\":\"#E5ECF6\",\"polar\":{\"bgcolor\":\"#E5ECF6\",\"angularaxis\":{\"gridcolor\":\"white\",\"linecolor\":\"white\",\"ticks\":\"\"},\"radialaxis\":{\"gridcolor\":\"white\",\"linecolor\":\"white\",\"ticks\":\"\"}},\"ternary\":{\"bgcolor\":\"#E5ECF6\",\"aaxis\":{\"gridcolor\":\"white\",\"linecolor\":\"white\",\"ticks\":\"\"},\"baxis\":{\"gridcolor\":\"white\",\"linecolor\":\"white\",\"ticks\":\"\"},\"caxis\":{\"gridcolor\":\"white\",\"linecolor\":\"white\",\"ticks\":\"\"}},\"coloraxis\":{\"colorbar\":{\"outlinewidth\":0,\"ticks\":\"\"}},\"colorscale\":{\"sequential\":[[0.0,\"#0d0887\"],[0.1111111111111111,\"#46039f\"],[0.2222222222222222,\"#7201a8\"],[0.3333333333333333,\"#9c179e\"],[0.4444444444444444,\"#bd3786\"],[0.5555555555555556,\"#d8576b\"],[0.6666666666666666,\"#ed7953\"],[0.7777777777777778,\"#fb9f3a\"],[0.8888888888888888,\"#fdca26\"],[1.0,\"#f0f921\"]],\"sequentialminus\":[[0.0,\"#0d0887\"],[0.1111111111111111,\"#46039f\"],[0.2222222222222222,\"#7201a8\"],[0.3333333333333333,\"#9c179e\"],[0.4444444444444444,\"#bd3786\"],[0.5555555555555556,\"#d8576b\"],[0.6666666666666666,\"#ed7953\"],[0.7777777777777778,\"#fb9f3a\"],[0.8888888888888888,\"#fdca26\"],[1.0,\"#f0f921\"]],\"diverging\":[[0,\"#8e0152\"],[0.1,\"#c51b7d\"],[0.2,\"#de77ae\"],[0.3,\"#f1b6da\"],[0.4,\"#fde0ef\"],[0.5,\"#f7f7f7\"],[0.6,\"#e6f5d0\"],[0.7,\"#b8e186\"],[0.8,\"#7fbc41\"],[0.9,\"#4d9221\"],[1,\"#276419\"]]},\"xaxis\":{\"gridcolor\":\"white\",\"linecolor\":\"white\",\"ticks\":\"\",\"title\":{\"standoff\":15},\"zerolinecolor\":\"white\",\"automargin\":true,\"zerolinewidth\":2},\"yaxis\":{\"gridcolor\":\"white\",\"linecolor\":\"white\",\"ticks\":\"\",\"title\":{\"standoff\":15},\"zerolinecolor\":\"white\",\"automargin\":true,\"zerolinewidth\":2},\"scene\":{\"xaxis\":{\"backgroundcolor\":\"#E5ECF6\",\"gridcolor\":\"white\",\"linecolor\":\"white\",\"showbackground\":true,\"ticks\":\"\",\"zerolinecolor\":\"white\",\"gridwidth\":2},\"yaxis\":{\"backgroundcolor\":\"#E5ECF6\",\"gridcolor\":\"white\",\"linecolor\":\"white\",\"showbackground\":true,\"ticks\":\"\",\"zerolinecolor\":\"white\",\"gridwidth\":2},\"zaxis\":{\"backgroundcolor\":\"#E5ECF6\",\"gridcolor\":\"white\",\"linecolor\":\"white\",\"showbackground\":true,\"ticks\":\"\",\"zerolinecolor\":\"white\",\"gridwidth\":2}},\"shapedefaults\":{\"line\":{\"color\":\"#2a3f5f\"}},\"annotationdefaults\":{\"arrowcolor\":\"#2a3f5f\",\"arrowhead\":0,\"arrowwidth\":1},\"geo\":{\"bgcolor\":\"white\",\"landcolor\":\"#E5ECF6\",\"subunitcolor\":\"white\",\"showland\":true,\"showlakes\":true,\"lakecolor\":\"white\"},\"title\":{\"x\":0.05},\"mapbox\":{\"style\":\"light\"}}},\"xaxis\":{\"anchor\":\"y\",\"domain\":[0.0,1.0],\"title\":{\"text\":\"Genres\"}},\"yaxis\":{\"anchor\":\"x\",\"domain\":[0.0,1.0],\"title\":{\"text\":\"Missing Percentage\"}},\"legend\":{\"tracegroupgap\":0},\"title\":{\"text\":\"Top 10 Genres with the Highest Percentage of Missing Filming Location Values\"},\"barmode\":\"relative\"},                        {\"responsive\": true}                    ).then(function(){\n",
       "                            \n",
       "var gd = document.getElementById('55e6c45d-a962-40a3-b791-838997c86b43');\n",
       "var x = new MutationObserver(function (mutations, observer) {{\n",
       "        var display = window.getComputedStyle(gd).display;\n",
       "        if (!display || display === 'none') {{\n",
       "            console.log([gd, 'removed!']);\n",
       "            Plotly.purge(gd);\n",
       "            observer.disconnect();\n",
       "        }}\n",
       "}});\n",
       "\n",
       "// Listen for the removal of the full notebook cells\n",
       "var notebookContainer = gd.closest('#notebook-container');\n",
       "if (notebookContainer) {{\n",
       "    x.observe(notebookContainer, {childList: true});\n",
       "}}\n",
       "\n",
       "// Listen for the clearing of the current output cell\n",
       "var outputEl = gd.closest('.output');\n",
       "if (outputEl) {{\n",
       "    x.observe(outputEl, {childList: true});\n",
       "}}\n",
       "\n",
       "                        })                };                });            </script>        </div>"
      ]
     },
     "metadata": {},
     "output_type": "display_data"
    }
   ],
   "source": [
    "location_missing_pct = (df.explode(\"genres\").groupby(\"genres\")['filming_locations'].apply(lambda x: (x == 'Unknown').mean()) * 100).sort_values(ascending = False).reset_index(name = 'Missing Percentage')\n",
    "location_missing_pct = location_missing_pct[location_missing_pct['genres'] != 'Unknown'].head(10)\n",
    "fig = px.bar(\n",
    "    location_missing_pct, \n",
    "    x = 'genres',\n",
    "    y = 'Missing Percentage',\n",
    "    labels = {'genres' : 'Genres'},\n",
    "    title = 'Top 10 Genres with the Highest Percentage of Missing Filming Location Values'\n",
    ")\n",
    "fig.show()"
   ]
  },
  {
   "cell_type": "markdown",
   "id": "91e9c1b2-7a0b-4c8a-978d-a16210d083ca",
   "metadata": {},
   "source": [
    "### Conclusion about missing filming_location values\n",
    "- Missing filming_location is not random—it’s highly dependent on genre.\n",
    "-  Genres with most missing values are primarily animation, documentaries, and TV formats, which don’t have clear filming locations.\n",
    "-  Lower worldwide gross earnings suggest these genres have smaller productions and limited releases.\n",
    "-  So it will be good to flag movies as \"Studio-Based\" vs. \"Location-Based\" for better analysis."
   ]
  },
  {
   "cell_type": "code",
   "execution_count": 175,
   "id": "fa0c36aa-e5b5-4f7e-b244-0dbed51740de",
   "metadata": {},
   "outputs": [],
   "source": [
    "studio_based_genres = (df.explode(\"genres\").groupby(\"genres\")['filming_locations'].apply(lambda x: (x == 'Unknown').mean()) * 100).sort_values(ascending = False).head(30)\n",
    "def flag_filming_locations(genres):\n",
    "    \"\"\"\n",
    "    Function to flog movies as \"Studio-Based\" and \"Location-Based\"\n",
    "    \"\"\"\n",
    "    if any(genre in studio_based_genres for genre in genres):\n",
    "        return 'Studio-Based'\n",
    "    else:\n",
    "        return 'Location-Based'"
   ]
  },
  {
   "cell_type": "code",
   "execution_count": 176,
   "id": "464b20a2-83db-4061-8fa1-eb0213de26b3",
   "metadata": {},
   "outputs": [],
   "source": [
    "# Converting the dtype of filming_location_category to category\n",
    "df['filming_location_category'] = df['genres'].apply(flag_filming_locations).astype(\"category\")"
   ]
  },
  {
   "cell_type": "markdown",
   "id": "53a0959e-c2b3-4532-a67a-5394e966f68d",
   "metadata": {},
   "source": [
    "### Converting the units of the columns 'grossWorldWide', 'gross_US_Canada' and 'opening_weekend_Gross' for better readability"
   ]
  },
  {
   "cell_type": "code",
   "execution_count": 177,
   "id": "0859f8c0-2fa3-474c-aef6-3b01a68a7602",
   "metadata": {},
   "outputs": [
    {
     "data": {
      "text/html": [
       "<div>\n",
       "<style scoped>\n",
       "    .dataframe tbody tr th:only-of-type {\n",
       "        vertical-align: middle;\n",
       "    }\n",
       "\n",
       "    .dataframe tbody tr th {\n",
       "        vertical-align: top;\n",
       "    }\n",
       "\n",
       "    .dataframe thead th {\n",
       "        text-align: right;\n",
       "    }\n",
       "</style>\n",
       "<table border=\"1\" class=\"dataframe\">\n",
       "  <thead>\n",
       "    <tr style=\"text-align: right;\">\n",
       "      <th></th>\n",
       "      <th>Title</th>\n",
       "      <th>Year</th>\n",
       "      <th>Duration</th>\n",
       "      <th>MPA</th>\n",
       "      <th>Rating</th>\n",
       "      <th>Votes</th>\n",
       "      <th>budget</th>\n",
       "      <th>grossWorldWide (in Millions)</th>\n",
       "      <th>gross_US_Canada (in Millions)</th>\n",
       "      <th>opening_weekend_Gross (in Millions)</th>\n",
       "      <th>directors</th>\n",
       "      <th>writers</th>\n",
       "      <th>stars</th>\n",
       "      <th>genres</th>\n",
       "      <th>countries_origin</th>\n",
       "      <th>filming_locations</th>\n",
       "      <th>production_companies</th>\n",
       "      <th>Languages</th>\n",
       "      <th>filming_location_category</th>\n",
       "    </tr>\n",
       "  </thead>\n",
       "  <tbody>\n",
       "    <tr>\n",
       "      <th>13070</th>\n",
       "      <td>Spellbound</td>\n",
       "      <td>2024</td>\n",
       "      <td>109</td>\n",
       "      <td>PG</td>\n",
       "      <td>5.7</td>\n",
       "      <td>5200.0</td>\n",
       "      <td>NaN</td>\n",
       "      <td>44.673150</td>\n",
       "      <td>18.740126</td>\n",
       "      <td>5.800534</td>\n",
       "      <td>[Vicky Jenson]</td>\n",
       "      <td>[Vicky Jenson, Lauren Hynek, Elizabeth Martin]</td>\n",
       "      <td>[Rachel Zegler, John Lithgow, Jenifer Lewis]</td>\n",
       "      <td>[Computer Animation, Adventure, Animation, Com...</td>\n",
       "      <td>[Spain, United States]</td>\n",
       "      <td>[Madrid, Spain]</td>\n",
       "      <td>[Ilion Animation Studios, Netflix Animation, S...</td>\n",
       "      <td>[English]</td>\n",
       "      <td>Studio-Based</td>\n",
       "    </tr>\n",
       "    <tr>\n",
       "      <th>2579</th>\n",
       "      <td>Wild Things 2</td>\n",
       "      <td>2004</td>\n",
       "      <td>95</td>\n",
       "      <td>R</td>\n",
       "      <td>4.5</td>\n",
       "      <td>8000.0</td>\n",
       "      <td>2800000.0</td>\n",
       "      <td>44.673150</td>\n",
       "      <td>18.740126</td>\n",
       "      <td>5.800534</td>\n",
       "      <td>[Jack Perez]</td>\n",
       "      <td>[Ross Helford, Andy Hurst, Stephen Peters]</td>\n",
       "      <td>[Susan Ward, Katie Stuart, Leila Arcieri]</td>\n",
       "      <td>[Erotic Thriller, Crime, Drama, Mystery, Thril...</td>\n",
       "      <td>[United States]</td>\n",
       "      <td>[Venice, Los Angeles, California, USA]</td>\n",
       "      <td>[Destination Films, Mandalay Pictures, Magic H...</td>\n",
       "      <td>[English]</td>\n",
       "      <td>Location-Based</td>\n",
       "    </tr>\n",
       "    <tr>\n",
       "      <th>5010</th>\n",
       "      <td>The Secret of Kells</td>\n",
       "      <td>2009</td>\n",
       "      <td>75</td>\n",
       "      <td>Not Rated</td>\n",
       "      <td>7.5</td>\n",
       "      <td>39000.0</td>\n",
       "      <td>8000000.0</td>\n",
       "      <td>1.821949</td>\n",
       "      <td>0.676775</td>\n",
       "      <td>0.039826</td>\n",
       "      <td>[Tomm Moore, Nora Twomey]</td>\n",
       "      <td>[Tomm Moore, Fabrice Ziolkowski]</td>\n",
       "      <td>[Evan McGuire, Brendan Gleeson, Mick Lally]</td>\n",
       "      <td>[Adventure, Animation, Family, Fantasy]</td>\n",
       "      <td>[Ireland, Belgium, France, Luxembourg]</td>\n",
       "      <td>[Cartoon Saloon, The Maltings, Tilbury Place, ...</td>\n",
       "      <td>[Les Armateurs, Vivi Film, Cartoon Saloon]</td>\n",
       "      <td>[Irish Gaelic, Norwegian, Latin, English]</td>\n",
       "      <td>Studio-Based</td>\n",
       "    </tr>\n",
       "    <tr>\n",
       "      <th>56</th>\n",
       "      <td>The Beach</td>\n",
       "      <td>2000</td>\n",
       "      <td>119</td>\n",
       "      <td>R</td>\n",
       "      <td>6.6</td>\n",
       "      <td>259000.0</td>\n",
       "      <td>50000000.0</td>\n",
       "      <td>144.056873</td>\n",
       "      <td>39.785027</td>\n",
       "      <td>15.277921</td>\n",
       "      <td>[Danny Boyle]</td>\n",
       "      <td>[John Hodge, Alex Garland]</td>\n",
       "      <td>[Leonardo DiCaprio, Tilda Swinton, Daniel York]</td>\n",
       "      <td>[Adventure, Drama, Romance, Thriller]</td>\n",
       "      <td>[United Kingdom, United States]</td>\n",
       "      <td>[Maya Bay, Ko Phi Phi Leh, Thailand]</td>\n",
       "      <td>[Figment Films]</td>\n",
       "      <td>[English, Mandingo, French, Swedish, Thai, Ser...</td>\n",
       "      <td>Location-Based</td>\n",
       "    </tr>\n",
       "    <tr>\n",
       "      <th>12311</th>\n",
       "      <td>Creation of the Gods I: Kingdom of Storms</td>\n",
       "      <td>2023</td>\n",
       "      <td>148</td>\n",
       "      <td>Not Rated</td>\n",
       "      <td>6.7</td>\n",
       "      <td>4800.0</td>\n",
       "      <td>800000000.0</td>\n",
       "      <td>373.021923</td>\n",
       "      <td>1.706355</td>\n",
       "      <td>0.931140</td>\n",
       "      <td>[Wuershan]</td>\n",
       "      <td>[Jianan Ran, Ping Ran, Cao Sheng]</td>\n",
       "      <td>[Huang Bo, Kris Phillips, Xuejian Li]</td>\n",
       "      <td>[Fantasy Epic, Martial Arts, Adventure, Drama,...</td>\n",
       "      <td>[China]</td>\n",
       "      <td>[WanDa Studios, Qingdao, China]</td>\n",
       "      <td>[Tencent Pictures, Beijing Culture, Mongketeng...</td>\n",
       "      <td>[Mandarin, Urdu]</td>\n",
       "      <td>Location-Based</td>\n",
       "    </tr>\n",
       "  </tbody>\n",
       "</table>\n",
       "</div>"
      ],
      "text/plain": [
       "                                           Title  Year  Duration        MPA  \\\n",
       "13070                                 Spellbound  2024       109         PG   \n",
       "2579                               Wild Things 2  2004        95          R   \n",
       "5010                         The Secret of Kells  2009        75  Not Rated   \n",
       "56                                     The Beach  2000       119          R   \n",
       "12311  Creation of the Gods I: Kingdom of Storms  2023       148  Not Rated   \n",
       "\n",
       "       Rating     Votes       budget  grossWorldWide (in Millions)  \\\n",
       "13070     5.7    5200.0          NaN                     44.673150   \n",
       "2579      4.5    8000.0    2800000.0                     44.673150   \n",
       "5010      7.5   39000.0    8000000.0                      1.821949   \n",
       "56        6.6  259000.0   50000000.0                    144.056873   \n",
       "12311     6.7    4800.0  800000000.0                    373.021923   \n",
       "\n",
       "       gross_US_Canada (in Millions)  opening_weekend_Gross (in Millions)  \\\n",
       "13070                      18.740126                             5.800534   \n",
       "2579                       18.740126                             5.800534   \n",
       "5010                        0.676775                             0.039826   \n",
       "56                         39.785027                            15.277921   \n",
       "12311                       1.706355                             0.931140   \n",
       "\n",
       "                       directors  \\\n",
       "13070             [Vicky Jenson]   \n",
       "2579                [Jack Perez]   \n",
       "5010   [Tomm Moore, Nora Twomey]   \n",
       "56                 [Danny Boyle]   \n",
       "12311                 [Wuershan]   \n",
       "\n",
       "                                              writers  \\\n",
       "13070  [Vicky Jenson, Lauren Hynek, Elizabeth Martin]   \n",
       "2579       [Ross Helford, Andy Hurst, Stephen Peters]   \n",
       "5010                 [Tomm Moore, Fabrice Ziolkowski]   \n",
       "56                         [John Hodge, Alex Garland]   \n",
       "12311               [Jianan Ran, Ping Ran, Cao Sheng]   \n",
       "\n",
       "                                                 stars  \\\n",
       "13070     [Rachel Zegler, John Lithgow, Jenifer Lewis]   \n",
       "2579         [Susan Ward, Katie Stuart, Leila Arcieri]   \n",
       "5010       [Evan McGuire, Brendan Gleeson, Mick Lally]   \n",
       "56     [Leonardo DiCaprio, Tilda Swinton, Daniel York]   \n",
       "12311            [Huang Bo, Kris Phillips, Xuejian Li]   \n",
       "\n",
       "                                                  genres  \\\n",
       "13070  [Computer Animation, Adventure, Animation, Com...   \n",
       "2579   [Erotic Thriller, Crime, Drama, Mystery, Thril...   \n",
       "5010             [Adventure, Animation, Family, Fantasy]   \n",
       "56                 [Adventure, Drama, Romance, Thriller]   \n",
       "12311  [Fantasy Epic, Martial Arts, Adventure, Drama,...   \n",
       "\n",
       "                             countries_origin  \\\n",
       "13070                  [Spain, United States]   \n",
       "2579                          [United States]   \n",
       "5010   [Ireland, Belgium, France, Luxembourg]   \n",
       "56            [United Kingdom, United States]   \n",
       "12311                                 [China]   \n",
       "\n",
       "                                       filming_locations  \\\n",
       "13070                                    [Madrid, Spain]   \n",
       "2579              [Venice, Los Angeles, California, USA]   \n",
       "5010   [Cartoon Saloon, The Maltings, Tilbury Place, ...   \n",
       "56                  [Maya Bay, Ko Phi Phi Leh, Thailand]   \n",
       "12311                    [WanDa Studios, Qingdao, China]   \n",
       "\n",
       "                                    production_companies  \\\n",
       "13070  [Ilion Animation Studios, Netflix Animation, S...   \n",
       "2579   [Destination Films, Mandalay Pictures, Magic H...   \n",
       "5010          [Les Armateurs, Vivi Film, Cartoon Saloon]   \n",
       "56                                       [Figment Films]   \n",
       "12311  [Tencent Pictures, Beijing Culture, Mongketeng...   \n",
       "\n",
       "                                               Languages  \\\n",
       "13070                                          [English]   \n",
       "2579                                           [English]   \n",
       "5010           [Irish Gaelic, Norwegian, Latin, English]   \n",
       "56     [English, Mandingo, French, Swedish, Thai, Ser...   \n",
       "12311                                   [Mandarin, Urdu]   \n",
       "\n",
       "      filming_location_category  \n",
       "13070              Studio-Based  \n",
       "2579             Location-Based  \n",
       "5010               Studio-Based  \n",
       "56               Location-Based  \n",
       "12311            Location-Based  "
      ]
     },
     "execution_count": 177,
     "metadata": {},
     "output_type": "execute_result"
    }
   ],
   "source": [
    "gross_columns = ['grossWorldWide', 'gross_US_Canada', 'opening_weekend_Gross']\n",
    "\n",
    "# convert values to millions\n",
    "df[gross_columns] = df[gross_columns] / 1000000\n",
    "\n",
    "# rename the columns\n",
    "df.rename(columns = lambda x: x + ' (in Millions)' if x in gross_columns else x, inplace = True)\n",
    "\n",
    "df.sample(5)"
   ]
  },
  {
   "cell_type": "code",
   "execution_count": 178,
   "id": "c2125999-7293-4916-8275-be586984ed83",
   "metadata": {},
   "outputs": [],
   "source": [
    "df.rename(columns = {'Duration' : 'Duration (in Minutes)'}, inplace = True)"
   ]
  },
  {
   "cell_type": "code",
   "execution_count": 179,
   "id": "0022020f-204f-406a-b795-c94cf56de035",
   "metadata": {},
   "outputs": [],
   "source": [
    "df['budget'] = df['budget'] / 1000000\n",
    "df.rename(columns = {'budget' : 'budget (in Millions)'}, inplace = True)"
   ]
  },
  {
   "cell_type": "code",
   "execution_count": 180,
   "id": "11b156af-f295-49bf-8988-6216c57f2638",
   "metadata": {},
   "outputs": [
    {
     "data": {
      "text/html": [
       "<div>\n",
       "<style scoped>\n",
       "    .dataframe tbody tr th:only-of-type {\n",
       "        vertical-align: middle;\n",
       "    }\n",
       "\n",
       "    .dataframe tbody tr th {\n",
       "        vertical-align: top;\n",
       "    }\n",
       "\n",
       "    .dataframe thead th {\n",
       "        text-align: right;\n",
       "    }\n",
       "</style>\n",
       "<table border=\"1\" class=\"dataframe\">\n",
       "  <thead>\n",
       "    <tr style=\"text-align: right;\">\n",
       "      <th></th>\n",
       "      <th>Title</th>\n",
       "      <th>Year</th>\n",
       "      <th>Duration (in Minutes)</th>\n",
       "      <th>MPA</th>\n",
       "      <th>Rating</th>\n",
       "      <th>Votes</th>\n",
       "      <th>budget (in Millions)</th>\n",
       "      <th>grossWorldWide (in Millions)</th>\n",
       "      <th>gross_US_Canada (in Millions)</th>\n",
       "      <th>opening_weekend_Gross (in Millions)</th>\n",
       "      <th>directors</th>\n",
       "      <th>writers</th>\n",
       "      <th>stars</th>\n",
       "      <th>genres</th>\n",
       "      <th>countries_origin</th>\n",
       "      <th>filming_locations</th>\n",
       "      <th>production_companies</th>\n",
       "      <th>Languages</th>\n",
       "      <th>filming_location_category</th>\n",
       "    </tr>\n",
       "  </thead>\n",
       "  <tbody>\n",
       "    <tr>\n",
       "      <th>0</th>\n",
       "      <td>How the Grinch Stole Christmas</td>\n",
       "      <td>2000</td>\n",
       "      <td>104</td>\n",
       "      <td>PG</td>\n",
       "      <td>6.4</td>\n",
       "      <td>308000.0</td>\n",
       "      <td>123.0</td>\n",
       "      <td>346.676095</td>\n",
       "      <td>261.415800</td>\n",
       "      <td>55.082330</td>\n",
       "      <td>[Ron Howard]</td>\n",
       "      <td>[Dr. Seuss, Jeffrey Price, Peter S. Seaman]</td>\n",
       "      <td>[Jim Carrey, Taylor Momsen, Kelley]</td>\n",
       "      <td>[Holiday Comedy, Holiday Family, Quirky Comedy...</td>\n",
       "      <td>[United States, Germany]</td>\n",
       "      <td>[Solitude Mountain Resort, Utah, USA]</td>\n",
       "      <td>[Universal Pictures, Imagine Entertainment, LU...</td>\n",
       "      <td>[English]</td>\n",
       "      <td>Location-Based</td>\n",
       "    </tr>\n",
       "    <tr>\n",
       "      <th>1</th>\n",
       "      <td>Cast Away</td>\n",
       "      <td>2000</td>\n",
       "      <td>143</td>\n",
       "      <td>PG-13</td>\n",
       "      <td>7.8</td>\n",
       "      <td>656000.0</td>\n",
       "      <td>90.0</td>\n",
       "      <td>429.632142</td>\n",
       "      <td>233.632142</td>\n",
       "      <td>28.883406</td>\n",
       "      <td>[Robert Zemeckis]</td>\n",
       "      <td>[William Broyles Jr.]</td>\n",
       "      <td>[Tom Hanks, Helen Hunt, Paul Sanchez]</td>\n",
       "      <td>[Survival, Adventure, Drama, Romance]</td>\n",
       "      <td>[United States]</td>\n",
       "      <td>[Monuriki, Fiji]</td>\n",
       "      <td>[Twentieth Century Fox, Dreamworks Pictures, I...</td>\n",
       "      <td>[English, Russian]</td>\n",
       "      <td>Location-Based</td>\n",
       "    </tr>\n",
       "    <tr>\n",
       "      <th>2</th>\n",
       "      <td>Mission: Impossible II</td>\n",
       "      <td>2000</td>\n",
       "      <td>123</td>\n",
       "      <td>PG-13</td>\n",
       "      <td>6.1</td>\n",
       "      <td>386000.0</td>\n",
       "      <td>125.0</td>\n",
       "      <td>546.388108</td>\n",
       "      <td>215.409889</td>\n",
       "      <td>57.845297</td>\n",
       "      <td>[John Woo]</td>\n",
       "      <td>[Bruce Geller, Ronald D. Moore, Brannon Braga]</td>\n",
       "      <td>[Tom Cruise, Dougray Scott, Thandiwe Newton]</td>\n",
       "      <td>[Action, Adventure, Thriller]</td>\n",
       "      <td>[United States, Germany, Australia]</td>\n",
       "      <td>[Dead Horse Point State Park, Utah, USA]</td>\n",
       "      <td>[Paramount Pictures, Cruise/Wagner Productions...</td>\n",
       "      <td>[English]</td>\n",
       "      <td>Location-Based</td>\n",
       "    </tr>\n",
       "    <tr>\n",
       "      <th>3</th>\n",
       "      <td>Gladiator</td>\n",
       "      <td>2000</td>\n",
       "      <td>155</td>\n",
       "      <td>R</td>\n",
       "      <td>8.5</td>\n",
       "      <td>1700000.0</td>\n",
       "      <td>103.0</td>\n",
       "      <td>465.516248</td>\n",
       "      <td>187.705427</td>\n",
       "      <td>34.819017</td>\n",
       "      <td>[Ridley Scott]</td>\n",
       "      <td>[David Franzoni, John Logan, William Nicholson]</td>\n",
       "      <td>[Russell Crowe, Joaquin Phoenix, Connie Nielsen]</td>\n",
       "      <td>[Action Epic, Adventure Epic, Epic, Period Dra...</td>\n",
       "      <td>[United States, United Kingdom, Malta, Morocco]</td>\n",
       "      <td>[Ouarzazate, Morocco]</td>\n",
       "      <td>[Dreamworks Pictures, Universal Pictures, Scot...</td>\n",
       "      <td>[English]</td>\n",
       "      <td>Location-Based</td>\n",
       "    </tr>\n",
       "    <tr>\n",
       "      <th>4</th>\n",
       "      <td>What Women Want</td>\n",
       "      <td>2000</td>\n",
       "      <td>127</td>\n",
       "      <td>PG-13</td>\n",
       "      <td>6.5</td>\n",
       "      <td>228000.0</td>\n",
       "      <td>70.0</td>\n",
       "      <td>374.111707</td>\n",
       "      <td>182.811707</td>\n",
       "      <td>33.614543</td>\n",
       "      <td>[Nancy Meyers]</td>\n",
       "      <td>[Josh Goldsmith, Cathy Yuspa, Diane Drake]</td>\n",
       "      <td>[Mel Gibson, Helen Hunt, Marisa Tomei]</td>\n",
       "      <td>[High-Concept Comedy, Romantic Comedy, Comedy,...</td>\n",
       "      <td>[United States]</td>\n",
       "      <td>[Dresden Room Restaurant - 1760 N. Vermont Ave...</td>\n",
       "      <td>[Paramount Pictures, Icon Entertainment Intern...</td>\n",
       "      <td>[English]</td>\n",
       "      <td>Location-Based</td>\n",
       "    </tr>\n",
       "  </tbody>\n",
       "</table>\n",
       "</div>"
      ],
      "text/plain": [
       "                            Title  Year  Duration (in Minutes)    MPA  Rating  \\\n",
       "0  How the Grinch Stole Christmas  2000                    104     PG     6.4   \n",
       "1                       Cast Away  2000                    143  PG-13     7.8   \n",
       "2          Mission: Impossible II  2000                    123  PG-13     6.1   \n",
       "3                       Gladiator  2000                    155      R     8.5   \n",
       "4                 What Women Want  2000                    127  PG-13     6.5   \n",
       "\n",
       "       Votes  budget (in Millions)  grossWorldWide (in Millions)  \\\n",
       "0   308000.0                 123.0                    346.676095   \n",
       "1   656000.0                  90.0                    429.632142   \n",
       "2   386000.0                 125.0                    546.388108   \n",
       "3  1700000.0                 103.0                    465.516248   \n",
       "4   228000.0                  70.0                    374.111707   \n",
       "\n",
       "   gross_US_Canada (in Millions)  opening_weekend_Gross (in Millions)  \\\n",
       "0                     261.415800                            55.082330   \n",
       "1                     233.632142                            28.883406   \n",
       "2                     215.409889                            57.845297   \n",
       "3                     187.705427                            34.819017   \n",
       "4                     182.811707                            33.614543   \n",
       "\n",
       "           directors                                          writers  \\\n",
       "0       [Ron Howard]      [Dr. Seuss, Jeffrey Price, Peter S. Seaman]   \n",
       "1  [Robert Zemeckis]                            [William Broyles Jr.]   \n",
       "2         [John Woo]   [Bruce Geller, Ronald D. Moore, Brannon Braga]   \n",
       "3     [Ridley Scott]  [David Franzoni, John Logan, William Nicholson]   \n",
       "4     [Nancy Meyers]       [Josh Goldsmith, Cathy Yuspa, Diane Drake]   \n",
       "\n",
       "                                              stars  \\\n",
       "0               [Jim Carrey, Taylor Momsen, Kelley]   \n",
       "1             [Tom Hanks, Helen Hunt, Paul Sanchez]   \n",
       "2      [Tom Cruise, Dougray Scott, Thandiwe Newton]   \n",
       "3  [Russell Crowe, Joaquin Phoenix, Connie Nielsen]   \n",
       "4            [Mel Gibson, Helen Hunt, Marisa Tomei]   \n",
       "\n",
       "                                              genres  \\\n",
       "0  [Holiday Comedy, Holiday Family, Quirky Comedy...   \n",
       "1              [Survival, Adventure, Drama, Romance]   \n",
       "2                      [Action, Adventure, Thriller]   \n",
       "3  [Action Epic, Adventure Epic, Epic, Period Dra...   \n",
       "4  [High-Concept Comedy, Romantic Comedy, Comedy,...   \n",
       "\n",
       "                                  countries_origin  \\\n",
       "0                         [United States, Germany]   \n",
       "1                                  [United States]   \n",
       "2              [United States, Germany, Australia]   \n",
       "3  [United States, United Kingdom, Malta, Morocco]   \n",
       "4                                  [United States]   \n",
       "\n",
       "                                   filming_locations  \\\n",
       "0              [Solitude Mountain Resort, Utah, USA]   \n",
       "1                                   [Monuriki, Fiji]   \n",
       "2           [Dead Horse Point State Park, Utah, USA]   \n",
       "3                              [Ouarzazate, Morocco]   \n",
       "4  [Dresden Room Restaurant - 1760 N. Vermont Ave...   \n",
       "\n",
       "                                production_companies           Languages  \\\n",
       "0  [Universal Pictures, Imagine Entertainment, LU...           [English]   \n",
       "1  [Twentieth Century Fox, Dreamworks Pictures, I...  [English, Russian]   \n",
       "2  [Paramount Pictures, Cruise/Wagner Productions...           [English]   \n",
       "3  [Dreamworks Pictures, Universal Pictures, Scot...           [English]   \n",
       "4  [Paramount Pictures, Icon Entertainment Intern...           [English]   \n",
       "\n",
       "  filming_location_category  \n",
       "0            Location-Based  \n",
       "1            Location-Based  \n",
       "2            Location-Based  \n",
       "3            Location-Based  \n",
       "4            Location-Based  "
      ]
     },
     "execution_count": 180,
     "metadata": {},
     "output_type": "execute_result"
    }
   ],
   "source": [
    "df.head(5)"
   ]
  },
  {
   "cell_type": "markdown",
   "id": "3b2f742d-931e-44a6-8cf6-5f90159d182b",
   "metadata": {},
   "source": [
    "# Outlier detection"
   ]
  },
  {
   "cell_type": "code",
   "execution_count": 181,
   "id": "1be39c35-32dc-40ca-a715-52f7f00bf507",
   "metadata": {},
   "outputs": [
    {
     "data": {
      "text/html": [
       "<div>\n",
       "<style scoped>\n",
       "    .dataframe tbody tr th:only-of-type {\n",
       "        vertical-align: middle;\n",
       "    }\n",
       "\n",
       "    .dataframe tbody tr th {\n",
       "        vertical-align: top;\n",
       "    }\n",
       "\n",
       "    .dataframe thead th {\n",
       "        text-align: right;\n",
       "    }\n",
       "</style>\n",
       "<table border=\"1\" class=\"dataframe\">\n",
       "  <thead>\n",
       "    <tr style=\"text-align: right;\">\n",
       "      <th></th>\n",
       "      <th>Year</th>\n",
       "      <th>Duration (in Minutes)</th>\n",
       "      <th>Rating</th>\n",
       "      <th>Votes</th>\n",
       "      <th>budget (in Millions)</th>\n",
       "      <th>grossWorldWide (in Millions)</th>\n",
       "      <th>gross_US_Canada (in Millions)</th>\n",
       "      <th>opening_weekend_Gross (in Millions)</th>\n",
       "    </tr>\n",
       "  </thead>\n",
       "  <tbody>\n",
       "    <tr>\n",
       "      <th>count</th>\n",
       "      <td>13286.000000</td>\n",
       "      <td>13286.000000</td>\n",
       "      <td>13286.000000</td>\n",
       "      <td>1.328600e+04</td>\n",
       "      <td>6173.000000</td>\n",
       "      <td>13286.000000</td>\n",
       "      <td>13286.000000</td>\n",
       "      <td>13286.000000</td>\n",
       "    </tr>\n",
       "    <tr>\n",
       "      <th>mean</th>\n",
       "      <td>2012.126524</td>\n",
       "      <td>105.546289</td>\n",
       "      <td>6.359980</td>\n",
       "      <td>5.388789e+04</td>\n",
       "      <td>138.551033</td>\n",
       "      <td>44.653588</td>\n",
       "      <td>18.031746</td>\n",
       "      <td>5.332111</td>\n",
       "    </tr>\n",
       "    <tr>\n",
       "      <th>std</th>\n",
       "      <td>7.266062</td>\n",
       "      <td>20.847654</td>\n",
       "      <td>1.059198</td>\n",
       "      <td>1.387050e+05</td>\n",
       "      <td>3940.315612</td>\n",
       "      <td>132.683598</td>\n",
       "      <td>50.980978</td>\n",
       "      <td>15.763002</td>\n",
       "    </tr>\n",
       "    <tr>\n",
       "      <th>min</th>\n",
       "      <td>2000.000000</td>\n",
       "      <td>0.000000</td>\n",
       "      <td>1.100000</td>\n",
       "      <td>7.000000e+00</td>\n",
       "      <td>0.000001</td>\n",
       "      <td>0.000095</td>\n",
       "      <td>0.000080</td>\n",
       "      <td>0.000011</td>\n",
       "    </tr>\n",
       "    <tr>\n",
       "      <th>25%</th>\n",
       "      <td>2006.000000</td>\n",
       "      <td>92.000000</td>\n",
       "      <td>5.800000</td>\n",
       "      <td>1.400000e+03</td>\n",
       "      <td>4.000000</td>\n",
       "      <td>0.182275</td>\n",
       "      <td>0.066172</td>\n",
       "      <td>0.012362</td>\n",
       "    </tr>\n",
       "    <tr>\n",
       "      <th>50%</th>\n",
       "      <td>2012.000000</td>\n",
       "      <td>101.000000</td>\n",
       "      <td>6.500000</td>\n",
       "      <td>7.600000e+03</td>\n",
       "      <td>15.000000</td>\n",
       "      <td>3.025410</td>\n",
       "      <td>0.563482</td>\n",
       "      <td>0.080282</td>\n",
       "    </tr>\n",
       "    <tr>\n",
       "      <th>75%</th>\n",
       "      <td>2019.000000</td>\n",
       "      <td>115.000000</td>\n",
       "      <td>7.100000</td>\n",
       "      <td>4.100000e+04</td>\n",
       "      <td>42.000000</td>\n",
       "      <td>44.673150</td>\n",
       "      <td>18.740126</td>\n",
       "      <td>5.800534</td>\n",
       "    </tr>\n",
       "    <tr>\n",
       "      <th>max</th>\n",
       "      <td>2024.000000</td>\n",
       "      <td>398.000000</td>\n",
       "      <td>9.600000</td>\n",
       "      <td>3.000000e+06</td>\n",
       "      <td>300000.000000</td>\n",
       "      <td>2923.706026</td>\n",
       "      <td>936.662225</td>\n",
       "      <td>357.115007</td>\n",
       "    </tr>\n",
       "  </tbody>\n",
       "</table>\n",
       "</div>"
      ],
      "text/plain": [
       "               Year  Duration (in Minutes)        Rating         Votes  \\\n",
       "count  13286.000000           13286.000000  13286.000000  1.328600e+04   \n",
       "mean    2012.126524             105.546289      6.359980  5.388789e+04   \n",
       "std        7.266062              20.847654      1.059198  1.387050e+05   \n",
       "min     2000.000000               0.000000      1.100000  7.000000e+00   \n",
       "25%     2006.000000              92.000000      5.800000  1.400000e+03   \n",
       "50%     2012.000000             101.000000      6.500000  7.600000e+03   \n",
       "75%     2019.000000             115.000000      7.100000  4.100000e+04   \n",
       "max     2024.000000             398.000000      9.600000  3.000000e+06   \n",
       "\n",
       "       budget (in Millions)  grossWorldWide (in Millions)  \\\n",
       "count           6173.000000                  13286.000000   \n",
       "mean             138.551033                     44.653588   \n",
       "std             3940.315612                    132.683598   \n",
       "min                0.000001                      0.000095   \n",
       "25%                4.000000                      0.182275   \n",
       "50%               15.000000                      3.025410   \n",
       "75%               42.000000                     44.673150   \n",
       "max           300000.000000                   2923.706026   \n",
       "\n",
       "       gross_US_Canada (in Millions)  opening_weekend_Gross (in Millions)  \n",
       "count                   13286.000000                         13286.000000  \n",
       "mean                       18.031746                             5.332111  \n",
       "std                        50.980978                            15.763002  \n",
       "min                         0.000080                             0.000011  \n",
       "25%                         0.066172                             0.012362  \n",
       "50%                         0.563482                             0.080282  \n",
       "75%                        18.740126                             5.800534  \n",
       "max                       936.662225                           357.115007  "
      ]
     },
     "execution_count": 181,
     "metadata": {},
     "output_type": "execute_result"
    }
   ],
   "source": [
    "df.describe()"
   ]
  },
  {
   "cell_type": "markdown",
   "id": "93b9484a-10df-41e5-a771-9cc19ccd109f",
   "metadata": {},
   "source": [
    "### In the columns grossWorldWide (in Millions), gross_US_Canada (in Millions) and opening_weekend_Gross (in Millions) columns, we can see sudden jumps between - \n",
    "1) 50 percentile and 75 percentile\n",
    "2) 75 percentile and 100 percentile\n",
    "\n",
    "- Also, there is a sudden jump between 75 percentile and 100 percentile in budget and duration columns.\n",
    "- So, let's detect the outliers in these columns."
   ]
  },
  {
   "cell_type": "markdown",
   "id": "0ef5660c-ddea-4233-a8f6-363ab91d2143",
   "metadata": {},
   "source": [
    "# Outlier detection in budget column"
   ]
  },
  {
   "cell_type": "code",
   "execution_count": 182,
   "id": "bc8e8143-d7e8-4f59-be10-c2fd40dccf5d",
   "metadata": {},
   "outputs": [
    {
     "data": {
      "text/html": [
       "<div>\n",
       "<style scoped>\n",
       "    .dataframe tbody tr th:only-of-type {\n",
       "        vertical-align: middle;\n",
       "    }\n",
       "\n",
       "    .dataframe tbody tr th {\n",
       "        vertical-align: top;\n",
       "    }\n",
       "\n",
       "    .dataframe thead th {\n",
       "        text-align: right;\n",
       "    }\n",
       "</style>\n",
       "<table border=\"1\" class=\"dataframe\">\n",
       "  <thead>\n",
       "    <tr style=\"text-align: right;\">\n",
       "      <th></th>\n",
       "      <th>Title</th>\n",
       "      <th>Year</th>\n",
       "      <th>Duration (in Minutes)</th>\n",
       "      <th>MPA</th>\n",
       "      <th>Rating</th>\n",
       "      <th>Votes</th>\n",
       "      <th>budget (in Millions)</th>\n",
       "      <th>grossWorldWide (in Millions)</th>\n",
       "      <th>gross_US_Canada (in Millions)</th>\n",
       "      <th>opening_weekend_Gross (in Millions)</th>\n",
       "      <th>directors</th>\n",
       "      <th>writers</th>\n",
       "      <th>stars</th>\n",
       "      <th>genres</th>\n",
       "      <th>countries_origin</th>\n",
       "      <th>filming_locations</th>\n",
       "      <th>production_companies</th>\n",
       "      <th>Languages</th>\n",
       "      <th>filming_location_category</th>\n",
       "    </tr>\n",
       "  </thead>\n",
       "  <tbody>\n",
       "    <tr>\n",
       "      <th>12938</th>\n",
       "      <td>Harbin</td>\n",
       "      <td>2024</td>\n",
       "      <td>108</td>\n",
       "      <td>Unknown</td>\n",
       "      <td>7.0</td>\n",
       "      <td>175.0</td>\n",
       "      <td>300000.0</td>\n",
       "      <td>15.580789</td>\n",
       "      <td>0.063555</td>\n",
       "      <td>0.027923</td>\n",
       "      <td>[Min-ho Woo]</td>\n",
       "      <td>[Min-Seong Kim, Min-ho Woo]</td>\n",
       "      <td>[Hyun Bin, Lee Dong-wook, Jeon Yeo-been]</td>\n",
       "      <td>[Spy, Action, Biography, Crime, History, Thril...</td>\n",
       "      <td>[South Korea]</td>\n",
       "      <td>[Latvia]</td>\n",
       "      <td>[CJ ENM Co., CJ Entertainment, Film Angels Stu...</td>\n",
       "      <td>[Korean, Japanese]</td>\n",
       "      <td>Location-Based</td>\n",
       "    </tr>\n",
       "  </tbody>\n",
       "</table>\n",
       "</div>"
      ],
      "text/plain": [
       "        Title  Year  Duration (in Minutes)      MPA  Rating  Votes  \\\n",
       "12938  Harbin  2024                    108  Unknown     7.0  175.0   \n",
       "\n",
       "       budget (in Millions)  grossWorldWide (in Millions)  \\\n",
       "12938              300000.0                     15.580789   \n",
       "\n",
       "       gross_US_Canada (in Millions)  opening_weekend_Gross (in Millions)  \\\n",
       "12938                       0.063555                             0.027923   \n",
       "\n",
       "          directors                      writers  \\\n",
       "12938  [Min-ho Woo]  [Min-Seong Kim, Min-ho Woo]   \n",
       "\n",
       "                                          stars  \\\n",
       "12938  [Hyun Bin, Lee Dong-wook, Jeon Yeo-been]   \n",
       "\n",
       "                                                  genres countries_origin  \\\n",
       "12938  [Spy, Action, Biography, Crime, History, Thril...    [South Korea]   \n",
       "\n",
       "      filming_locations                               production_companies  \\\n",
       "12938          [Latvia]  [CJ ENM Co., CJ Entertainment, Film Angels Stu...   \n",
       "\n",
       "                Languages filming_location_category  \n",
       "12938  [Korean, Japanese]            Location-Based  "
      ]
     },
     "execution_count": 182,
     "metadata": {},
     "output_type": "execute_result"
    }
   ],
   "source": [
    "df[df['budget (in Millions)'] == 300000.000000]"
   ]
  },
  {
   "cell_type": "code",
   "execution_count": 183,
   "id": "210713d2-20ea-4eaa-a39c-7c39cd47fe7c",
   "metadata": {},
   "outputs": [
    {
     "data": {
      "text/plain": [
       "<Axes: xlabel='budget (in Millions)', ylabel='Density'>"
      ]
     },
     "execution_count": 183,
     "metadata": {},
     "output_type": "execute_result"
    },
    {
     "data": {
      "image/png": "[encoded data removed]",
      "text/plain": [
       "<Figure size 2000x500 with 1 Axes>"
      ]
     },
     "metadata": {},
     "output_type": "display_data"
    }
   ],
   "source": [
    "plt.figure(figsize = (20, 5))\n",
    "sns.kdeplot(df['budget (in Millions)'])"
   ]
  },
  {
   "cell_type": "code",
   "execution_count": 184,
   "id": "9a0c803d-a0a4-4949-a1a3-64134555ae9b",
   "metadata": {},
   "outputs": [
    {
     "data": {
      "text/plain": [
       "<Axes: ylabel='budget (in Millions)'>"
      ]
     },
     "execution_count": 184,
     "metadata": {},
     "output_type": "execute_result"
    },
    {
     "data": {
      "image/png": "[encoded data removed]",
      "text/plain": [
       "<Figure size 2000x500 with 1 Axes>"
      ]
     },
     "metadata": {},
     "output_type": "display_data"
    }
   ],
   "source": [
    "plt.figure(figsize = (20, 5))\n",
    "sns.boxplot(df['budget (in Millions)'])"
   ]
  },
  {
   "cell_type": "code",
   "execution_count": 185,
   "id": "fbab4f30-4438-4fca-91fa-8c35f343ec0e",
   "metadata": {},
   "outputs": [
    {
     "name": "stdout",
     "output_type": "stream",
     "text": [
      "Percentage of outliers in budget column - 5.125696221586633\n"
     ]
    }
   ],
   "source": [
    "# Calculating percentage of outliers in budgets column\n",
    "q1 = df['budget (in Millions)'].quantile(0.25)\n",
    "q3 = df['budget (in Millions)'].quantile(0.75)\n",
    "\n",
    "iqr = q3 - q1\n",
    "\n",
    "lower_bound = q1 - 1.5*iqr\n",
    "upper_bound = q3 + 1.5*iqr\n",
    "\n",
    "budget_outliers = df[(df['budget (in Millions)'] < lower_bound) | (df['budget (in Millions)'] > upper_bound)]\n",
    "\n",
    "print(\"Percentage of outliers in budget column -\", ((len(budget_outliers) / len(df)) * 100))"
   ]
  },
  {
   "cell_type": "code",
   "execution_count": 186,
   "id": "bad0aac6-df6b-49dd-b6b2-746278612674",
   "metadata": {},
   "outputs": [
    {
     "data": {
      "text/html": [
       "<div>\n",
       "<style scoped>\n",
       "    .dataframe tbody tr th:only-of-type {\n",
       "        vertical-align: middle;\n",
       "    }\n",
       "\n",
       "    .dataframe tbody tr th {\n",
       "        vertical-align: top;\n",
       "    }\n",
       "\n",
       "    .dataframe thead th {\n",
       "        text-align: right;\n",
       "    }\n",
       "</style>\n",
       "<table border=\"1\" class=\"dataframe\">\n",
       "  <thead>\n",
       "    <tr style=\"text-align: right;\">\n",
       "      <th></th>\n",
       "      <th>Title</th>\n",
       "      <th>Year</th>\n",
       "      <th>Duration (in Minutes)</th>\n",
       "      <th>MPA</th>\n",
       "      <th>Rating</th>\n",
       "      <th>Votes</th>\n",
       "      <th>budget (in Millions)</th>\n",
       "      <th>grossWorldWide (in Millions)</th>\n",
       "      <th>gross_US_Canada (in Millions)</th>\n",
       "      <th>opening_weekend_Gross (in Millions)</th>\n",
       "      <th>directors</th>\n",
       "      <th>writers</th>\n",
       "      <th>stars</th>\n",
       "      <th>genres</th>\n",
       "      <th>countries_origin</th>\n",
       "      <th>filming_locations</th>\n",
       "      <th>production_companies</th>\n",
       "      <th>Languages</th>\n",
       "      <th>filming_location_category</th>\n",
       "    </tr>\n",
       "  </thead>\n",
       "  <tbody>\n",
       "    <tr>\n",
       "      <th>460</th>\n",
       "      <td>Ask Me If I'm Happy</td>\n",
       "      <td>2000</td>\n",
       "      <td>100</td>\n",
       "      <td>Unknown</td>\n",
       "      <td>7.1</td>\n",
       "      <td>7900.0</td>\n",
       "      <td>7000.0</td>\n",
       "      <td>44.673150</td>\n",
       "      <td>18.740126</td>\n",
       "      <td>5.800534</td>\n",
       "      <td>[Aldo Baglio, Giacomo Poretti, Giovanni Storti]</td>\n",
       "      <td>[Massimo Venier, Aldo Baglio, Giovanni Storti]</td>\n",
       "      <td>[Aldo Baglio, Giovanni Storti, Giacomo Poretti]</td>\n",
       "      <td>[Comedy, Drama]</td>\n",
       "      <td>[Italy]</td>\n",
       "      <td>[Cremona, Lombardia, Italy]</td>\n",
       "      <td>[Agidi, Kubla Khan, Medusa Film]</td>\n",
       "      <td>[Italian]</td>\n",
       "      <td>Location-Based</td>\n",
       "    </tr>\n",
       "    <tr>\n",
       "      <th>1236</th>\n",
       "      <td>Devdas</td>\n",
       "      <td>2002</td>\n",
       "      <td>185</td>\n",
       "      <td>Unknown</td>\n",
       "      <td>7.5</td>\n",
       "      <td>48000.0</td>\n",
       "      <td>500.0</td>\n",
       "      <td>5.428774</td>\n",
       "      <td>2.745382</td>\n",
       "      <td>0.655733</td>\n",
       "      <td>[Sanjay Leela Bhansali]</td>\n",
       "      <td>[Sarat Chandra Chattopadhyay, Prakash Kapadia,...</td>\n",
       "      <td>[Shah Rukh Khan, Aishwarya Rai Bachchan, Madhu...</td>\n",
       "      <td>[Drama, Musical, Romance]</td>\n",
       "      <td>[India]</td>\n",
       "      <td>[Bikaner, Rajasthan, India]</td>\n",
       "      <td>[Red Chillies Entertainment, Mega Bollywood]</td>\n",
       "      <td>[Hindi]</td>\n",
       "      <td>Location-Based</td>\n",
       "    </tr>\n",
       "    <tr>\n",
       "      <th>1815</th>\n",
       "      <td>The Hero: Love Story of a Spy</td>\n",
       "      <td>2003</td>\n",
       "      <td>160</td>\n",
       "      <td>Not Rated</td>\n",
       "      <td>5.5</td>\n",
       "      <td>2700.0</td>\n",
       "      <td>530.0</td>\n",
       "      <td>5.835846</td>\n",
       "      <td>0.285394</td>\n",
       "      <td>0.130200</td>\n",
       "      <td>[Anil Sharma]</td>\n",
       "      <td>[Shaktimaan Talwar]</td>\n",
       "      <td>[Sunny Deol, Preity G Zinta, Priyanka Chopra J...</td>\n",
       "      <td>[Action, Adventure, Drama, Thriller]</td>\n",
       "      <td>[India]</td>\n",
       "      <td>[Canada]</td>\n",
       "      <td>[Time Films, Time Movies]</td>\n",
       "      <td>[Hindi]</td>\n",
       "      <td>Location-Based</td>\n",
       "    </tr>\n",
       "    <tr>\n",
       "      <th>2252</th>\n",
       "      <td>Ghost in the Shell 2: Innocence</td>\n",
       "      <td>2004</td>\n",
       "      <td>100</td>\n",
       "      <td>PG-13</td>\n",
       "      <td>7.4</td>\n",
       "      <td>41000.0</td>\n",
       "      <td>2000.0</td>\n",
       "      <td>10.123315</td>\n",
       "      <td>1.334074</td>\n",
       "      <td>0.317722</td>\n",
       "      <td>[Mamoru Oshii, Naoko Kusumi, Mizuho Nishikubo]</td>\n",
       "      <td>[Shirow Masamune, Mamoru Oshii]</td>\n",
       "      <td>[Akio Ôtsuka, Atsuko Tanaka, Tamio Ôki]</td>\n",
       "      <td>[Adult Animation, Anime, Artificial Intelligen...</td>\n",
       "      <td>[Japan]</td>\n",
       "      <td>Unknown</td>\n",
       "      <td>[Bandai Visual Company, Buena Vista Home Enter...</td>\n",
       "      <td>[Japanese, Cantonese, English]</td>\n",
       "      <td>Studio-Based</td>\n",
       "    </tr>\n",
       "    <tr>\n",
       "      <th>2632</th>\n",
       "      <td>Swing Girls</td>\n",
       "      <td>2004</td>\n",
       "      <td>104</td>\n",
       "      <td>Unknown</td>\n",
       "      <td>7.5</td>\n",
       "      <td>5000.0</td>\n",
       "      <td>500.0</td>\n",
       "      <td>18.758613</td>\n",
       "      <td>11.740712</td>\n",
       "      <td>3.506129</td>\n",
       "      <td>[Shinobu Yaguchi]</td>\n",
       "      <td>[Shinobu Yaguchi, Junko Yaguchi]</td>\n",
       "      <td>[Juri Ueno, Yûta Hiraoka, Shihori Kanjiya]</td>\n",
       "      <td>[Comedy, Drama, Music]</td>\n",
       "      <td>[Japan]</td>\n",
       "      <td>[Yamagata, Japan]</td>\n",
       "      <td>[Altamira Pictures Inc., DENTSU Music And Ente...</td>\n",
       "      <td>[Japanese]</td>\n",
       "      <td>Location-Based</td>\n",
       "    </tr>\n",
       "    <tr>\n",
       "      <th>...</th>\n",
       "      <td>...</td>\n",
       "      <td>...</td>\n",
       "      <td>...</td>\n",
       "      <td>...</td>\n",
       "      <td>...</td>\n",
       "      <td>...</td>\n",
       "      <td>...</td>\n",
       "      <td>...</td>\n",
       "      <td>...</td>\n",
       "      <td>...</td>\n",
       "      <td>...</td>\n",
       "      <td>...</td>\n",
       "      <td>...</td>\n",
       "      <td>...</td>\n",
       "      <td>...</td>\n",
       "      <td>...</td>\n",
       "      <td>...</td>\n",
       "      <td>...</td>\n",
       "      <td>...</td>\n",
       "    </tr>\n",
       "    <tr>\n",
       "      <th>12496</th>\n",
       "      <td>MR-9: Do or Die</td>\n",
       "      <td>2023</td>\n",
       "      <td>106</td>\n",
       "      <td>Unknown</td>\n",
       "      <td>3.5</td>\n",
       "      <td>1300.0</td>\n",
       "      <td>800.0</td>\n",
       "      <td>0.109706</td>\n",
       "      <td>0.049224</td>\n",
       "      <td>0.031000</td>\n",
       "      <td>[Asif Akbar]</td>\n",
       "      <td>[Asif Akbar, Nazim Ud Daula, Abdul Aziz]</td>\n",
       "      <td>[Frank Grillo, Michael Jai White, Matt Passmore]</td>\n",
       "      <td>[Action, Drama, Thriller]</td>\n",
       "      <td>[United States, Bangladesh]</td>\n",
       "      <td>[Dhaka, Bangladesh]</td>\n",
       "      <td>[Jaaz Multimedia, Al Bravo Films, Avail Entert...</td>\n",
       "      <td>[English, Bengali]</td>\n",
       "      <td>Location-Based</td>\n",
       "    </tr>\n",
       "    <tr>\n",
       "      <th>12759</th>\n",
       "      <td>Kalki 2898 AD</td>\n",
       "      <td>2024</td>\n",
       "      <td>180</td>\n",
       "      <td>Not Rated</td>\n",
       "      <td>7.0</td>\n",
       "      <td>63000.0</td>\n",
       "      <td>6000.0</td>\n",
       "      <td>130.000000</td>\n",
       "      <td>18.289575</td>\n",
       "      <td>5.668275</td>\n",
       "      <td>[Nag Ashwin]</td>\n",
       "      <td>[Nag Ashwin]</td>\n",
       "      <td>[Prabhas, Amitabh Bachchan, Kamal Haasan]</td>\n",
       "      <td>[Action Epic, Desert Adventure, Dystopian Sci-...</td>\n",
       "      <td>[India]</td>\n",
       "      <td>[Ramoji Film City, Hyderabad, Telangana, India]</td>\n",
       "      <td>[Vyjayanthi Movies]</td>\n",
       "      <td>[Telugu]</td>\n",
       "      <td>Location-Based</td>\n",
       "    </tr>\n",
       "    <tr>\n",
       "      <th>12850</th>\n",
       "      <td>Indian 2</td>\n",
       "      <td>2024</td>\n",
       "      <td>180</td>\n",
       "      <td>Unknown</td>\n",
       "      <td>3.9</td>\n",
       "      <td>16000.0</td>\n",
       "      <td>2000.0</td>\n",
       "      <td>1.883599</td>\n",
       "      <td>1.200000</td>\n",
       "      <td>1.200000</td>\n",
       "      <td>[S. Shankar]</td>\n",
       "      <td>[G. Chandrasekhar, Jayamohan, Vamsy Krishna]</td>\n",
       "      <td>[Kamal Haasan, Siddharth, Rakul Preet Singh]</td>\n",
       "      <td>[Action, Drama, Thriller]</td>\n",
       "      <td>[India]</td>\n",
       "      <td>[Andhra Pradesh]</td>\n",
       "      <td>[Lyca Productions, Red Giant Movies]</td>\n",
       "      <td>[Tamil]</td>\n",
       "      <td>Location-Based</td>\n",
       "    </tr>\n",
       "    <tr>\n",
       "      <th>12938</th>\n",
       "      <td>Harbin</td>\n",
       "      <td>2024</td>\n",
       "      <td>108</td>\n",
       "      <td>Unknown</td>\n",
       "      <td>7.0</td>\n",
       "      <td>175.0</td>\n",
       "      <td>300000.0</td>\n",
       "      <td>15.580789</td>\n",
       "      <td>0.063555</td>\n",
       "      <td>0.027923</td>\n",
       "      <td>[Min-ho Woo]</td>\n",
       "      <td>[Min-Seong Kim, Min-ho Woo]</td>\n",
       "      <td>[Hyun Bin, Lee Dong-wook, Jeon Yeo-been]</td>\n",
       "      <td>[Spy, Action, Biography, Crime, History, Thril...</td>\n",
       "      <td>[South Korea]</td>\n",
       "      <td>[Latvia]</td>\n",
       "      <td>[CJ ENM Co., CJ Entertainment, Film Angels Stu...</td>\n",
       "      <td>[Korean, Japanese]</td>\n",
       "      <td>Location-Based</td>\n",
       "    </tr>\n",
       "    <tr>\n",
       "      <th>13022</th>\n",
       "      <td>Baby John</td>\n",
       "      <td>2024</td>\n",
       "      <td>159</td>\n",
       "      <td>Unknown</td>\n",
       "      <td>6.7</td>\n",
       "      <td>14000.0</td>\n",
       "      <td>850.0</td>\n",
       "      <td>0.141909</td>\n",
       "      <td>0.098604</td>\n",
       "      <td>0.024263</td>\n",
       "      <td>[Kalees]</td>\n",
       "      <td>[Sumit Arora, Kalees]</td>\n",
       "      <td>[Wamiqa Gabbi, Salman Khan, Keerthy Suresh]</td>\n",
       "      <td>[Action, Drama, Thriller]</td>\n",
       "      <td>[India]</td>\n",
       "      <td>Unknown</td>\n",
       "      <td>[A for Apple Productions, Cine1 Studios, Jio S...</td>\n",
       "      <td>[Hindi]</td>\n",
       "      <td>Location-Based</td>\n",
       "    </tr>\n",
       "  </tbody>\n",
       "</table>\n",
       "<p>80 rows × 19 columns</p>\n",
       "</div>"
      ],
      "text/plain": [
       "                                 Title  Year  Duration (in Minutes)  \\\n",
       "460                Ask Me If I'm Happy  2000                    100   \n",
       "1236                            Devdas  2002                    185   \n",
       "1815     The Hero: Love Story of a Spy  2003                    160   \n",
       "2252   Ghost in the Shell 2: Innocence  2004                    100   \n",
       "2632                       Swing Girls  2004                    104   \n",
       "...                                ...   ...                    ...   \n",
       "12496                  MR-9: Do or Die  2023                    106   \n",
       "12759                    Kalki 2898 AD  2024                    180   \n",
       "12850                         Indian 2  2024                    180   \n",
       "12938                           Harbin  2024                    108   \n",
       "13022                        Baby John  2024                    159   \n",
       "\n",
       "             MPA  Rating    Votes  budget (in Millions)  \\\n",
       "460      Unknown     7.1   7900.0                7000.0   \n",
       "1236     Unknown     7.5  48000.0                 500.0   \n",
       "1815   Not Rated     5.5   2700.0                 530.0   \n",
       "2252       PG-13     7.4  41000.0                2000.0   \n",
       "2632     Unknown     7.5   5000.0                 500.0   \n",
       "...          ...     ...      ...                   ...   \n",
       "12496    Unknown     3.5   1300.0                 800.0   \n",
       "12759  Not Rated     7.0  63000.0                6000.0   \n",
       "12850    Unknown     3.9  16000.0                2000.0   \n",
       "12938    Unknown     7.0    175.0              300000.0   \n",
       "13022    Unknown     6.7  14000.0                 850.0   \n",
       "\n",
       "       grossWorldWide (in Millions)  gross_US_Canada (in Millions)  \\\n",
       "460                       44.673150                      18.740126   \n",
       "1236                       5.428774                       2.745382   \n",
       "1815                       5.835846                       0.285394   \n",
       "2252                      10.123315                       1.334074   \n",
       "2632                      18.758613                      11.740712   \n",
       "...                             ...                            ...   \n",
       "12496                      0.109706                       0.049224   \n",
       "12759                    130.000000                      18.289575   \n",
       "12850                      1.883599                       1.200000   \n",
       "12938                     15.580789                       0.063555   \n",
       "13022                      0.141909                       0.098604   \n",
       "\n",
       "       opening_weekend_Gross (in Millions)  \\\n",
       "460                               5.800534   \n",
       "1236                              0.655733   \n",
       "1815                              0.130200   \n",
       "2252                              0.317722   \n",
       "2632                              3.506129   \n",
       "...                                    ...   \n",
       "12496                             0.031000   \n",
       "12759                             5.668275   \n",
       "12850                             1.200000   \n",
       "12938                             0.027923   \n",
       "13022                             0.024263   \n",
       "\n",
       "                                             directors  \\\n",
       "460    [Aldo Baglio, Giacomo Poretti, Giovanni Storti]   \n",
       "1236                           [Sanjay Leela Bhansali]   \n",
       "1815                                     [Anil Sharma]   \n",
       "2252    [Mamoru Oshii, Naoko Kusumi, Mizuho Nishikubo]   \n",
       "2632                                 [Shinobu Yaguchi]   \n",
       "...                                                ...   \n",
       "12496                                     [Asif Akbar]   \n",
       "12759                                     [Nag Ashwin]   \n",
       "12850                                     [S. Shankar]   \n",
       "12938                                     [Min-ho Woo]   \n",
       "13022                                         [Kalees]   \n",
       "\n",
       "                                                 writers  \\\n",
       "460       [Massimo Venier, Aldo Baglio, Giovanni Storti]   \n",
       "1236   [Sarat Chandra Chattopadhyay, Prakash Kapadia,...   \n",
       "1815                                 [Shaktimaan Talwar]   \n",
       "2252                     [Shirow Masamune, Mamoru Oshii]   \n",
       "2632                    [Shinobu Yaguchi, Junko Yaguchi]   \n",
       "...                                                  ...   \n",
       "12496           [Asif Akbar, Nazim Ud Daula, Abdul Aziz]   \n",
       "12759                                       [Nag Ashwin]   \n",
       "12850       [G. Chandrasekhar, Jayamohan, Vamsy Krishna]   \n",
       "12938                        [Min-Seong Kim, Min-ho Woo]   \n",
       "13022                              [Sumit Arora, Kalees]   \n",
       "\n",
       "                                                   stars  \\\n",
       "460      [Aldo Baglio, Giovanni Storti, Giacomo Poretti]   \n",
       "1236   [Shah Rukh Khan, Aishwarya Rai Bachchan, Madhu...   \n",
       "1815   [Sunny Deol, Preity G Zinta, Priyanka Chopra J...   \n",
       "2252             [Akio Ôtsuka, Atsuko Tanaka, Tamio Ôki]   \n",
       "2632          [Juri Ueno, Yûta Hiraoka, Shihori Kanjiya]   \n",
       "...                                                  ...   \n",
       "12496   [Frank Grillo, Michael Jai White, Matt Passmore]   \n",
       "12759          [Prabhas, Amitabh Bachchan, Kamal Haasan]   \n",
       "12850       [Kamal Haasan, Siddharth, Rakul Preet Singh]   \n",
       "12938           [Hyun Bin, Lee Dong-wook, Jeon Yeo-been]   \n",
       "13022        [Wamiqa Gabbi, Salman Khan, Keerthy Suresh]   \n",
       "\n",
       "                                                  genres  \\\n",
       "460                                      [Comedy, Drama]   \n",
       "1236                           [Drama, Musical, Romance]   \n",
       "1815                [Action, Adventure, Drama, Thriller]   \n",
       "2252   [Adult Animation, Anime, Artificial Intelligen...   \n",
       "2632                              [Comedy, Drama, Music]   \n",
       "...                                                  ...   \n",
       "12496                          [Action, Drama, Thriller]   \n",
       "12759  [Action Epic, Desert Adventure, Dystopian Sci-...   \n",
       "12850                          [Action, Drama, Thriller]   \n",
       "12938  [Spy, Action, Biography, Crime, History, Thril...   \n",
       "13022                          [Action, Drama, Thriller]   \n",
       "\n",
       "                  countries_origin  \\\n",
       "460                        [Italy]   \n",
       "1236                       [India]   \n",
       "1815                       [India]   \n",
       "2252                       [Japan]   \n",
       "2632                       [Japan]   \n",
       "...                            ...   \n",
       "12496  [United States, Bangladesh]   \n",
       "12759                      [India]   \n",
       "12850                      [India]   \n",
       "12938                [South Korea]   \n",
       "13022                      [India]   \n",
       "\n",
       "                                     filming_locations  \\\n",
       "460                        [Cremona, Lombardia, Italy]   \n",
       "1236                       [Bikaner, Rajasthan, India]   \n",
       "1815                                          [Canada]   \n",
       "2252                                           Unknown   \n",
       "2632                                 [Yamagata, Japan]   \n",
       "...                                                ...   \n",
       "12496                              [Dhaka, Bangladesh]   \n",
       "12759  [Ramoji Film City, Hyderabad, Telangana, India]   \n",
       "12850                                 [Andhra Pradesh]   \n",
       "12938                                         [Latvia]   \n",
       "13022                                          Unknown   \n",
       "\n",
       "                                    production_companies  \\\n",
       "460                     [Agidi, Kubla Khan, Medusa Film]   \n",
       "1236        [Red Chillies Entertainment, Mega Bollywood]   \n",
       "1815                           [Time Films, Time Movies]   \n",
       "2252   [Bandai Visual Company, Buena Vista Home Enter...   \n",
       "2632   [Altamira Pictures Inc., DENTSU Music And Ente...   \n",
       "...                                                  ...   \n",
       "12496  [Jaaz Multimedia, Al Bravo Films, Avail Entert...   \n",
       "12759                                [Vyjayanthi Movies]   \n",
       "12850               [Lyca Productions, Red Giant Movies]   \n",
       "12938  [CJ ENM Co., CJ Entertainment, Film Angels Stu...   \n",
       "13022  [A for Apple Productions, Cine1 Studios, Jio S...   \n",
       "\n",
       "                            Languages filming_location_category  \n",
       "460                         [Italian]            Location-Based  \n",
       "1236                          [Hindi]            Location-Based  \n",
       "1815                          [Hindi]            Location-Based  \n",
       "2252   [Japanese, Cantonese, English]              Studio-Based  \n",
       "2632                       [Japanese]            Location-Based  \n",
       "...                               ...                       ...  \n",
       "12496              [English, Bengali]            Location-Based  \n",
       "12759                        [Telugu]            Location-Based  \n",
       "12850                         [Tamil]            Location-Based  \n",
       "12938              [Korean, Japanese]            Location-Based  \n",
       "13022                         [Hindi]            Location-Based  \n",
       "\n",
       "[80 rows x 19 columns]"
      ]
     },
     "execution_count": 186,
     "metadata": {},
     "output_type": "execute_result"
    }
   ],
   "source": [
    "df[df['budget (in Millions)'] > 447]"
   ]
  },
  {
   "cell_type": "markdown",
   "id": "f03a9698-c84a-4017-b818-57a106396e0b",
   "metadata": {},
   "source": [
    "* All the Budget values in the above output are wrong as highest budget for any movie is 447 million dollars for the movie 'Star Wars: The Force Awakens'"
   ]
  },
  {
   "cell_type": "code",
   "execution_count": 187,
   "id": "04790923-0741-46ab-949b-3044640fec5e",
   "metadata": {},
   "outputs": [
    {
     "data": {
      "text/html": [
       "<div>\n",
       "<style scoped>\n",
       "    .dataframe tbody tr th:only-of-type {\n",
       "        vertical-align: middle;\n",
       "    }\n",
       "\n",
       "    .dataframe tbody tr th {\n",
       "        vertical-align: top;\n",
       "    }\n",
       "\n",
       "    .dataframe thead th {\n",
       "        text-align: right;\n",
       "    }\n",
       "</style>\n",
       "<table border=\"1\" class=\"dataframe\">\n",
       "  <thead>\n",
       "    <tr style=\"text-align: right;\">\n",
       "      <th></th>\n",
       "      <th>Title</th>\n",
       "      <th>Year</th>\n",
       "      <th>Duration (in Minutes)</th>\n",
       "      <th>MPA</th>\n",
       "      <th>Rating</th>\n",
       "      <th>Votes</th>\n",
       "      <th>budget (in Millions)</th>\n",
       "      <th>grossWorldWide (in Millions)</th>\n",
       "      <th>gross_US_Canada (in Millions)</th>\n",
       "      <th>opening_weekend_Gross (in Millions)</th>\n",
       "      <th>directors</th>\n",
       "      <th>writers</th>\n",
       "      <th>stars</th>\n",
       "      <th>genres</th>\n",
       "      <th>countries_origin</th>\n",
       "      <th>filming_locations</th>\n",
       "      <th>production_companies</th>\n",
       "      <th>Languages</th>\n",
       "      <th>filming_location_category</th>\n",
       "    </tr>\n",
       "  </thead>\n",
       "  <tbody>\n",
       "    <tr>\n",
       "      <th>7890</th>\n",
       "      <td>Star Wars: Episode VII - The Force Awakens</td>\n",
       "      <td>2015</td>\n",
       "      <td>138</td>\n",
       "      <td>PG-13</td>\n",
       "      <td>7.8</td>\n",
       "      <td>990000.0</td>\n",
       "      <td>245.0</td>\n",
       "      <td>2071.310218</td>\n",
       "      <td>936.662225</td>\n",
       "      <td>247.966675</td>\n",
       "      <td>[J.J. Abrams]</td>\n",
       "      <td>[Lawrence Kasdan, J.J. Abrams, Michael Arndt]</td>\n",
       "      <td>[Daisy Ridley, John Boyega, Oscar Isaac]</td>\n",
       "      <td>[Action Epic, Adventure Epic, Globetrotting Ad...</td>\n",
       "      <td>[United States, United Kingdom]</td>\n",
       "      <td>[Skellig Michael, County Kerry, Ireland]</td>\n",
       "      <td>[Lucasfilm, Bad Robot]</td>\n",
       "      <td>[English]</td>\n",
       "      <td>Location-Based</td>\n",
       "    </tr>\n",
       "  </tbody>\n",
       "</table>\n",
       "</div>"
      ],
      "text/plain": [
       "                                           Title  Year  Duration (in Minutes)  \\\n",
       "7890  Star Wars: Episode VII - The Force Awakens  2015                    138   \n",
       "\n",
       "        MPA  Rating     Votes  budget (in Millions)  \\\n",
       "7890  PG-13     7.8  990000.0                 245.0   \n",
       "\n",
       "      grossWorldWide (in Millions)  gross_US_Canada (in Millions)  \\\n",
       "7890                   2071.310218                     936.662225   \n",
       "\n",
       "      opening_weekend_Gross (in Millions)      directors  \\\n",
       "7890                           247.966675  [J.J. Abrams]   \n",
       "\n",
       "                                            writers  \\\n",
       "7890  [Lawrence Kasdan, J.J. Abrams, Michael Arndt]   \n",
       "\n",
       "                                         stars  \\\n",
       "7890  [Daisy Ridley, John Boyega, Oscar Isaac]   \n",
       "\n",
       "                                                 genres  \\\n",
       "7890  [Action Epic, Adventure Epic, Globetrotting Ad...   \n",
       "\n",
       "                     countries_origin  \\\n",
       "7890  [United States, United Kingdom]   \n",
       "\n",
       "                             filming_locations    production_companies  \\\n",
       "7890  [Skellig Michael, County Kerry, Ireland]  [Lucasfilm, Bad Robot]   \n",
       "\n",
       "      Languages filming_location_category  \n",
       "7890  [English]            Location-Based  "
      ]
     },
     "execution_count": 187,
     "metadata": {},
     "output_type": "execute_result"
    }
   ],
   "source": [
    "df[df['Title'] == 'Star Wars: Episode VII - The Force Awakens']"
   ]
  },
  {
   "cell_type": "markdown",
   "id": "eb680d16-445b-4923-b8fe-1439402ab4b2",
   "metadata": {},
   "source": [
    "*  From the above results, we can say that budget column contains many inaccurate values.\n",
    "* Since more than 50% values are missing in budget column and also it contains many inaccurate values. Dropping it seems a good choice."
   ]
  },
  {
   "cell_type": "code",
   "execution_count": 188,
   "id": "dcb221be-66a8-4bae-82b7-99680d1fef57",
   "metadata": {},
   "outputs": [],
   "source": [
    "df.drop(columns = ['budget (in Millions)'], inplace = True)"
   ]
  },
  {
   "cell_type": "markdown",
   "id": "567dae05-f173-4693-b38e-f8b46068e562",
   "metadata": {},
   "source": [
    "# Outlier detection in gross_US_Canada (in Millions) column"
   ]
  },
  {
   "cell_type": "code",
   "execution_count": 189,
   "id": "5df1a21d-c2f6-4d04-adb8-4879fa03125b",
   "metadata": {},
   "outputs": [
    {
     "data": {
      "text/plain": [
       "<Axes: xlabel='gross_US_Canada (in Millions)', ylabel='Density'>"
      ]
     },
     "execution_count": 189,
     "metadata": {},
     "output_type": "execute_result"
    },
    {
     "data": {
      "image/png": "[encoded data removed]",
      "text/plain": [
       "<Figure size 2000x500 with 1 Axes>"
      ]
     },
     "metadata": {},
     "output_type": "display_data"
    }
   ],
   "source": [
    "plt.figure(figsize = (20, 5))\n",
    "sns.kdeplot(df['gross_US_Canada (in Millions)'])"
   ]
  },
  {
   "cell_type": "code",
   "execution_count": 190,
   "id": "04f3362a-8690-44b2-9b0b-a055cabe7e12",
   "metadata": {},
   "outputs": [
    {
     "name": "stdout",
     "output_type": "stream",
     "text": [
      "Percentage of outliers in gross_US_Canada (in Millions) column - 9.995483968086708\n"
     ]
    }
   ],
   "source": [
    "# Calculating percentage of outliers in gross_US_Canada (in Millions) column\n",
    "q1 = df['gross_US_Canada (in Millions)'].quantile(0.25)\n",
    "q3 = df['gross_US_Canada (in Millions)'].quantile(0.75)\n",
    "\n",
    "iqr = q3 - q1\n",
    "\n",
    "lower_bound = q1 - 1.5*iqr\n",
    "upper_bound = q3 + 1.5*iqr\n",
    "\n",
    "gross_US_Canada_outliers = df[(df['gross_US_Canada (in Millions)'] < lower_bound) | (df['gross_US_Canada (in Millions)'] > upper_bound)]\n",
    "\n",
    "print(\"Percentage of outliers in gross_US_Canada (in Millions) column -\", ((len(gross_US_Canada_outliers) / len(df)) * 100))"
   ]
  },
  {
   "cell_type": "code",
   "execution_count": 191,
   "id": "ab31d0fa-1812-419e-b223-2f950d4ee9de",
   "metadata": {},
   "outputs": [
    {
     "data": {
      "text/html": [
       "<div>\n",
       "<style scoped>\n",
       "    .dataframe tbody tr th:only-of-type {\n",
       "        vertical-align: middle;\n",
       "    }\n",
       "\n",
       "    .dataframe tbody tr th {\n",
       "        vertical-align: top;\n",
       "    }\n",
       "\n",
       "    .dataframe thead th {\n",
       "        text-align: right;\n",
       "    }\n",
       "</style>\n",
       "<table border=\"1\" class=\"dataframe\">\n",
       "  <thead>\n",
       "    <tr style=\"text-align: right;\">\n",
       "      <th></th>\n",
       "      <th>Title</th>\n",
       "      <th>Year</th>\n",
       "      <th>Duration (in Minutes)</th>\n",
       "      <th>MPA</th>\n",
       "      <th>Rating</th>\n",
       "      <th>Votes</th>\n",
       "      <th>grossWorldWide (in Millions)</th>\n",
       "      <th>gross_US_Canada (in Millions)</th>\n",
       "      <th>opening_weekend_Gross (in Millions)</th>\n",
       "      <th>directors</th>\n",
       "      <th>writers</th>\n",
       "      <th>stars</th>\n",
       "      <th>genres</th>\n",
       "      <th>countries_origin</th>\n",
       "      <th>filming_locations</th>\n",
       "      <th>production_companies</th>\n",
       "      <th>Languages</th>\n",
       "      <th>filming_location_category</th>\n",
       "    </tr>\n",
       "  </thead>\n",
       "  <tbody>\n",
       "    <tr>\n",
       "      <th>7890</th>\n",
       "      <td>Star Wars: Episode VII - The Force Awakens</td>\n",
       "      <td>2015</td>\n",
       "      <td>138</td>\n",
       "      <td>PG-13</td>\n",
       "      <td>7.8</td>\n",
       "      <td>990000.0</td>\n",
       "      <td>2071.310218</td>\n",
       "      <td>936.662225</td>\n",
       "      <td>247.966675</td>\n",
       "      <td>[J.J. Abrams]</td>\n",
       "      <td>[Lawrence Kasdan, J.J. Abrams, Michael Arndt]</td>\n",
       "      <td>[Daisy Ridley, John Boyega, Oscar Isaac]</td>\n",
       "      <td>[Action Epic, Adventure Epic, Globetrotting Ad...</td>\n",
       "      <td>[United States, United Kingdom]</td>\n",
       "      <td>[Skellig Michael, County Kerry, Ireland]</td>\n",
       "      <td>[Lucasfilm, Bad Robot]</td>\n",
       "      <td>[English]</td>\n",
       "      <td>Location-Based</td>\n",
       "    </tr>\n",
       "  </tbody>\n",
       "</table>\n",
       "</div>"
      ],
      "text/plain": [
       "                                           Title  Year  Duration (in Minutes)  \\\n",
       "7890  Star Wars: Episode VII - The Force Awakens  2015                    138   \n",
       "\n",
       "        MPA  Rating     Votes  grossWorldWide (in Millions)  \\\n",
       "7890  PG-13     7.8  990000.0                   2071.310218   \n",
       "\n",
       "      gross_US_Canada (in Millions)  opening_weekend_Gross (in Millions)  \\\n",
       "7890                     936.662225                           247.966675   \n",
       "\n",
       "          directors                                        writers  \\\n",
       "7890  [J.J. Abrams]  [Lawrence Kasdan, J.J. Abrams, Michael Arndt]   \n",
       "\n",
       "                                         stars  \\\n",
       "7890  [Daisy Ridley, John Boyega, Oscar Isaac]   \n",
       "\n",
       "                                                 genres  \\\n",
       "7890  [Action Epic, Adventure Epic, Globetrotting Ad...   \n",
       "\n",
       "                     countries_origin  \\\n",
       "7890  [United States, United Kingdom]   \n",
       "\n",
       "                             filming_locations    production_companies  \\\n",
       "7890  [Skellig Michael, County Kerry, Ireland]  [Lucasfilm, Bad Robot]   \n",
       "\n",
       "      Languages filming_location_category  \n",
       "7890  [English]            Location-Based  "
      ]
     },
     "execution_count": 191,
     "metadata": {},
     "output_type": "execute_result"
    }
   ],
   "source": [
    "df[df['gross_US_Canada (in Millions)'] == df['gross_US_Canada (in Millions)'].max()]"
   ]
  },
  {
   "cell_type": "code",
   "execution_count": 192,
   "id": "1a03c574-94e4-43cb-9921-323865c667ee",
   "metadata": {},
   "outputs": [
    {
     "data": {
      "text/html": [
       "<div>\n",
       "<style scoped>\n",
       "    .dataframe tbody tr th:only-of-type {\n",
       "        vertical-align: middle;\n",
       "    }\n",
       "\n",
       "    .dataframe tbody tr th {\n",
       "        vertical-align: top;\n",
       "    }\n",
       "\n",
       "    .dataframe thead th {\n",
       "        text-align: right;\n",
       "    }\n",
       "</style>\n",
       "<table border=\"1\" class=\"dataframe\">\n",
       "  <thead>\n",
       "    <tr style=\"text-align: right;\">\n",
       "      <th></th>\n",
       "      <th>Title</th>\n",
       "      <th>Year</th>\n",
       "      <th>Duration (in Minutes)</th>\n",
       "      <th>MPA</th>\n",
       "      <th>Rating</th>\n",
       "      <th>Votes</th>\n",
       "      <th>grossWorldWide (in Millions)</th>\n",
       "      <th>gross_US_Canada (in Millions)</th>\n",
       "      <th>opening_weekend_Gross (in Millions)</th>\n",
       "      <th>directors</th>\n",
       "      <th>writers</th>\n",
       "      <th>stars</th>\n",
       "      <th>genres</th>\n",
       "      <th>countries_origin</th>\n",
       "      <th>filming_locations</th>\n",
       "      <th>production_companies</th>\n",
       "      <th>Languages</th>\n",
       "      <th>filming_location_category</th>\n",
       "    </tr>\n",
       "  </thead>\n",
       "  <tbody>\n",
       "    <tr>\n",
       "      <th>4792</th>\n",
       "      <td>Avatar</td>\n",
       "      <td>2009</td>\n",
       "      <td>162</td>\n",
       "      <td>PG-13</td>\n",
       "      <td>7.9</td>\n",
       "      <td>1400000.0</td>\n",
       "      <td>2923.706026</td>\n",
       "      <td>785.221649</td>\n",
       "      <td>77.025481</td>\n",
       "      <td>[James Cameron]</td>\n",
       "      <td>[James Cameron]</td>\n",
       "      <td>[Sam Worthington, Zoe Saldana, Sigourney Weaver]</td>\n",
       "      <td>[Adventure Epic, Fantasy Epic, Sci-Fi Epic, Ac...</td>\n",
       "      <td>[United States, United Kingdom]</td>\n",
       "      <td>[Kaua'i, Hawaii, USA]</td>\n",
       "      <td>[Twentieth Century Fox, Dune Entertainment, Li...</td>\n",
       "      <td>[English, Spanish]</td>\n",
       "      <td>Location-Based</td>\n",
       "    </tr>\n",
       "  </tbody>\n",
       "</table>\n",
       "</div>"
      ],
      "text/plain": [
       "       Title  Year  Duration (in Minutes)    MPA  Rating      Votes  \\\n",
       "4792  Avatar  2009                    162  PG-13     7.9  1400000.0   \n",
       "\n",
       "      grossWorldWide (in Millions)  gross_US_Canada (in Millions)  \\\n",
       "4792                   2923.706026                     785.221649   \n",
       "\n",
       "      opening_weekend_Gross (in Millions)        directors          writers  \\\n",
       "4792                            77.025481  [James Cameron]  [James Cameron]   \n",
       "\n",
       "                                                 stars  \\\n",
       "4792  [Sam Worthington, Zoe Saldana, Sigourney Weaver]   \n",
       "\n",
       "                                                 genres  \\\n",
       "4792  [Adventure Epic, Fantasy Epic, Sci-Fi Epic, Ac...   \n",
       "\n",
       "                     countries_origin      filming_locations  \\\n",
       "4792  [United States, United Kingdom]  [Kaua'i, Hawaii, USA]   \n",
       "\n",
       "                                   production_companies           Languages  \\\n",
       "4792  [Twentieth Century Fox, Dune Entertainment, Li...  [English, Spanish]   \n",
       "\n",
       "     filming_location_category  \n",
       "4792            Location-Based  "
      ]
     },
     "execution_count": 192,
     "metadata": {},
     "output_type": "execute_result"
    }
   ],
   "source": [
    "df[df['Title'] == 'Avatar']"
   ]
  },
  {
   "cell_type": "markdown",
   "id": "f5a6d3e9-2968-489f-8360-88cc3d54056f",
   "metadata": {},
   "source": [
    "* The outliers in 'gross_US_Canada (in Millions)' seem to carry actual information"
   ]
  },
  {
   "cell_type": "markdown",
   "id": "f78a04d4-5501-4172-9cad-a348a1d4aca8",
   "metadata": {},
   "source": [
    "# Outlier detection in grossWorldWide (in Millions) column"
   ]
  },
  {
   "cell_type": "code",
   "execution_count": 193,
   "id": "29d9209e-5589-4a98-9b66-09550cf86ff9",
   "metadata": {},
   "outputs": [
    {
     "data": {
      "text/plain": [
       "<Axes: xlabel='grossWorldWide (in Millions)', ylabel='Density'>"
      ]
     },
     "execution_count": 193,
     "metadata": {},
     "output_type": "execute_result"
    },
    {
     "data": {
      "image/png": "[encoded data removed]",
      "text/plain": [
       "<Figure size 2000x500 with 1 Axes>"
      ]
     },
     "metadata": {},
     "output_type": "display_data"
    }
   ],
   "source": [
    "plt.figure(figsize = (20, 5))\n",
    "sns.kdeplot(df['grossWorldWide (in Millions)'])"
   ]
  },
  {
   "cell_type": "code",
   "execution_count": 194,
   "id": "1c99937f-16d5-4c4b-933a-ce2bfd4ea86e",
   "metadata": {},
   "outputs": [
    {
     "name": "stdout",
     "output_type": "stream",
     "text": [
      "Percentage of outliers in grossWorldWide (in Millions) column - 9.129911184705705\n"
     ]
    }
   ],
   "source": [
    "# Calculating percentage of outliers in grossWorldWide (in Millions) column\n",
    "q1 = df['grossWorldWide (in Millions)'].quantile(0.25)\n",
    "q3 = df['grossWorldWide (in Millions)'].quantile(0.75)\n",
    "\n",
    "iqr = q3 - q1\n",
    "\n",
    "lower_bound = q1 - 1.5*iqr\n",
    "upper_bound = q3 + 1.5*iqr\n",
    "\n",
    "grossWorldWide_outliers = df[(df['grossWorldWide (in Millions)'] < lower_bound) | (df['grossWorldWide (in Millions)'] > upper_bound)]\n",
    "\n",
    "print(\"Percentage of outliers in grossWorldWide (in Millions) column -\", ((len(grossWorldWide_outliers) / len(df)) * 100))"
   ]
  },
  {
   "cell_type": "code",
   "execution_count": 195,
   "id": "38bba8b5-41c5-43da-8b38-ed3cb43de71e",
   "metadata": {},
   "outputs": [
    {
     "data": {
      "text/html": [
       "<div>\n",
       "<style scoped>\n",
       "    .dataframe tbody tr th:only-of-type {\n",
       "        vertical-align: middle;\n",
       "    }\n",
       "\n",
       "    .dataframe tbody tr th {\n",
       "        vertical-align: top;\n",
       "    }\n",
       "\n",
       "    .dataframe thead th {\n",
       "        text-align: right;\n",
       "    }\n",
       "</style>\n",
       "<table border=\"1\" class=\"dataframe\">\n",
       "  <thead>\n",
       "    <tr style=\"text-align: right;\">\n",
       "      <th></th>\n",
       "      <th>Title</th>\n",
       "      <th>grossWorldWide (in Millions)</th>\n",
       "    </tr>\n",
       "  </thead>\n",
       "  <tbody>\n",
       "    <tr>\n",
       "      <th>9470</th>\n",
       "      <td>Christopher Robin</td>\n",
       "      <td>197.744825</td>\n",
       "    </tr>\n",
       "    <tr>\n",
       "      <th>3201</th>\n",
       "      <td>The Omen</td>\n",
       "      <td>119.975084</td>\n",
       "    </tr>\n",
       "    <tr>\n",
       "      <th>11556</th>\n",
       "      <td>Avatar: The Way of Water</td>\n",
       "      <td>2320.250281</td>\n",
       "    </tr>\n",
       "    <tr>\n",
       "      <th>10208</th>\n",
       "      <td>The Bravest</td>\n",
       "      <td>245.179562</td>\n",
       "    </tr>\n",
       "    <tr>\n",
       "      <th>4822</th>\n",
       "      <td>The Princess and the Frog</td>\n",
       "      <td>267.056816</td>\n",
       "    </tr>\n",
       "    <tr>\n",
       "      <th>1090</th>\n",
       "      <td>Stuart Little 2</td>\n",
       "      <td>169.956806</td>\n",
       "    </tr>\n",
       "    <tr>\n",
       "      <th>2656</th>\n",
       "      <td>The Longest Yard</td>\n",
       "      <td>191.466556</td>\n",
       "    </tr>\n",
       "    <tr>\n",
       "      <th>4201</th>\n",
       "      <td>Quantum of Solace</td>\n",
       "      <td>589.593688</td>\n",
       "    </tr>\n",
       "    <tr>\n",
       "      <th>2671</th>\n",
       "      <td>March of the Penguins</td>\n",
       "      <td>127.392693</td>\n",
       "    </tr>\n",
       "    <tr>\n",
       "      <th>9450</th>\n",
       "      <td>Spider-Man: Into the Spider-Verse</td>\n",
       "      <td>393.602435</td>\n",
       "    </tr>\n",
       "  </tbody>\n",
       "</table>\n",
       "</div>"
      ],
      "text/plain": [
       "                                   Title  grossWorldWide (in Millions)\n",
       "9470                   Christopher Robin                    197.744825\n",
       "3201                            The Omen                    119.975084\n",
       "11556           Avatar: The Way of Water                   2320.250281\n",
       "10208                        The Bravest                    245.179562\n",
       "4822           The Princess and the Frog                    267.056816\n",
       "1090                     Stuart Little 2                    169.956806\n",
       "2656                    The Longest Yard                    191.466556\n",
       "4201                   Quantum of Solace                    589.593688\n",
       "2671               March of the Penguins                    127.392693\n",
       "9450   Spider-Man: Into the Spider-Verse                    393.602435"
      ]
     },
     "execution_count": 195,
     "metadata": {},
     "output_type": "execute_result"
    }
   ],
   "source": [
    "grossWorldWide_outliers[['Title', 'grossWorldWide (in Millions)']].sample(10)"
   ]
  },
  {
   "cell_type": "code",
   "execution_count": 196,
   "id": "1ba4a8e6-5a3a-437b-b7bf-a2a21aa030c8",
   "metadata": {},
   "outputs": [
    {
     "data": {
      "text/html": [
       "<div>\n",
       "<style scoped>\n",
       "    .dataframe tbody tr th:only-of-type {\n",
       "        vertical-align: middle;\n",
       "    }\n",
       "\n",
       "    .dataframe tbody tr th {\n",
       "        vertical-align: top;\n",
       "    }\n",
       "\n",
       "    .dataframe thead th {\n",
       "        text-align: right;\n",
       "    }\n",
       "</style>\n",
       "<table border=\"1\" class=\"dataframe\">\n",
       "  <thead>\n",
       "    <tr style=\"text-align: right;\">\n",
       "      <th></th>\n",
       "      <th>Title</th>\n",
       "      <th>Year</th>\n",
       "      <th>Duration (in Minutes)</th>\n",
       "      <th>MPA</th>\n",
       "      <th>Rating</th>\n",
       "      <th>Votes</th>\n",
       "      <th>grossWorldWide (in Millions)</th>\n",
       "      <th>gross_US_Canada (in Millions)</th>\n",
       "      <th>opening_weekend_Gross (in Millions)</th>\n",
       "      <th>directors</th>\n",
       "      <th>writers</th>\n",
       "      <th>stars</th>\n",
       "      <th>genres</th>\n",
       "      <th>countries_origin</th>\n",
       "      <th>filming_locations</th>\n",
       "      <th>production_companies</th>\n",
       "      <th>Languages</th>\n",
       "      <th>filming_location_category</th>\n",
       "    </tr>\n",
       "  </thead>\n",
       "  <tbody>\n",
       "    <tr>\n",
       "      <th>4792</th>\n",
       "      <td>Avatar</td>\n",
       "      <td>2009</td>\n",
       "      <td>162</td>\n",
       "      <td>PG-13</td>\n",
       "      <td>7.9</td>\n",
       "      <td>1400000.0</td>\n",
       "      <td>2923.706026</td>\n",
       "      <td>785.221649</td>\n",
       "      <td>77.025481</td>\n",
       "      <td>[James Cameron]</td>\n",
       "      <td>[James Cameron]</td>\n",
       "      <td>[Sam Worthington, Zoe Saldana, Sigourney Weaver]</td>\n",
       "      <td>[Adventure Epic, Fantasy Epic, Sci-Fi Epic, Ac...</td>\n",
       "      <td>[United States, United Kingdom]</td>\n",
       "      <td>[Kaua'i, Hawaii, USA]</td>\n",
       "      <td>[Twentieth Century Fox, Dune Entertainment, Li...</td>\n",
       "      <td>[English, Spanish]</td>\n",
       "      <td>Location-Based</td>\n",
       "    </tr>\n",
       "  </tbody>\n",
       "</table>\n",
       "</div>"
      ],
      "text/plain": [
       "       Title  Year  Duration (in Minutes)    MPA  Rating      Votes  \\\n",
       "4792  Avatar  2009                    162  PG-13     7.9  1400000.0   \n",
       "\n",
       "      grossWorldWide (in Millions)  gross_US_Canada (in Millions)  \\\n",
       "4792                   2923.706026                     785.221649   \n",
       "\n",
       "      opening_weekend_Gross (in Millions)        directors          writers  \\\n",
       "4792                            77.025481  [James Cameron]  [James Cameron]   \n",
       "\n",
       "                                                 stars  \\\n",
       "4792  [Sam Worthington, Zoe Saldana, Sigourney Weaver]   \n",
       "\n",
       "                                                 genres  \\\n",
       "4792  [Adventure Epic, Fantasy Epic, Sci-Fi Epic, Ac...   \n",
       "\n",
       "                     countries_origin      filming_locations  \\\n",
       "4792  [United States, United Kingdom]  [Kaua'i, Hawaii, USA]   \n",
       "\n",
       "                                   production_companies           Languages  \\\n",
       "4792  [Twentieth Century Fox, Dune Entertainment, Li...  [English, Spanish]   \n",
       "\n",
       "     filming_location_category  \n",
       "4792            Location-Based  "
      ]
     },
     "execution_count": 196,
     "metadata": {},
     "output_type": "execute_result"
    }
   ],
   "source": [
    "df[df['grossWorldWide (in Millions)'] == df['grossWorldWide (in Millions)'].max()]"
   ]
  },
  {
   "cell_type": "markdown",
   "id": "d7348d99-e81f-4ae8-b66d-bcb132cf8957",
   "metadata": {},
   "source": [
    "* After cross checking some values, outliers in grossWorldWide (in Millions) column seem to contain actual information"
   ]
  },
  {
   "cell_type": "markdown",
   "id": "13bfa2fb-e05f-4f38-a7aa-bf1fc0c2df37",
   "metadata": {},
   "source": [
    "# Outlier detection in opening_weekend_Gross (in Millions) column"
   ]
  },
  {
   "cell_type": "code",
   "execution_count": 197,
   "id": "f7f92df0-4f77-4390-9f4f-ac0ea41fa2af",
   "metadata": {},
   "outputs": [
    {
     "data": {
      "text/plain": [
       "<Axes: xlabel='opening_weekend_Gross (in Millions)', ylabel='Density'>"
      ]
     },
     "execution_count": 197,
     "metadata": {},
     "output_type": "execute_result"
    },
    {
     "data": {
      "image/png": "[encoded data removed]",
      "text/plain": [
       "<Figure size 2000x500 with 1 Axes>"
      ]
     },
     "metadata": {},
     "output_type": "display_data"
    }
   ],
   "source": [
    "plt.figure(figsize = (20, 5))\n",
    "sns.kdeplot(df['opening_weekend_Gross (in Millions)'])"
   ]
  },
  {
   "cell_type": "code",
   "execution_count": 198,
   "id": "f1286a2a-78aa-4626-8521-c792d38e46a3",
   "metadata": {},
   "outputs": [
    {
     "name": "stdout",
     "output_type": "stream",
     "text": [
      "Percentage of outliers in opening_weekend_Gross (in Millions) column - 9.604094535601385\n"
     ]
    }
   ],
   "source": [
    "# Calculating percentage of outliers in grossWorldWide (in Millions) column\n",
    "q1 = df['opening_weekend_Gross (in Millions)'].quantile(0.25)\n",
    "q3 = df['opening_weekend_Gross (in Millions)'].quantile(0.75)\n",
    "\n",
    "iqr = q3 - q1\n",
    "\n",
    "lower_bound = q1 - 1.5*iqr\n",
    "upper_bound = q3 + 1.5*iqr\n",
    "\n",
    "opening_weekend_Gross_outliers = df[(df['opening_weekend_Gross (in Millions)'] < lower_bound) | (df['opening_weekend_Gross (in Millions)'] > upper_bound)]\n",
    "\n",
    "print(\"Percentage of outliers in opening_weekend_Gross (in Millions) column -\", ((len(opening_weekend_Gross_outliers) / len(df)) * 100))"
   ]
  },
  {
   "cell_type": "code",
   "execution_count": 199,
   "id": "d8629e6d-b35d-44f0-a210-68187a47a27c",
   "metadata": {},
   "outputs": [
    {
     "data": {
      "text/html": [
       "<div>\n",
       "<style scoped>\n",
       "    .dataframe tbody tr th:only-of-type {\n",
       "        vertical-align: middle;\n",
       "    }\n",
       "\n",
       "    .dataframe tbody tr th {\n",
       "        vertical-align: top;\n",
       "    }\n",
       "\n",
       "    .dataframe thead th {\n",
       "        text-align: right;\n",
       "    }\n",
       "</style>\n",
       "<table border=\"1\" class=\"dataframe\">\n",
       "  <thead>\n",
       "    <tr style=\"text-align: right;\">\n",
       "      <th></th>\n",
       "      <th>Title</th>\n",
       "      <th>opening_weekend_Gross (in Millions)</th>\n",
       "    </tr>\n",
       "  </thead>\n",
       "  <tbody>\n",
       "    <tr>\n",
       "      <th>1600</th>\n",
       "      <td>The Recruit</td>\n",
       "      <td>16.302063</td>\n",
       "    </tr>\n",
       "    <tr>\n",
       "      <th>12166</th>\n",
       "      <td>Elemental</td>\n",
       "      <td>29.602429</td>\n",
       "    </tr>\n",
       "    <tr>\n",
       "      <th>1059</th>\n",
       "      <td>Scooby-Doo</td>\n",
       "      <td>54.155312</td>\n",
       "    </tr>\n",
       "    <tr>\n",
       "      <th>3645</th>\n",
       "      <td>Transformers</td>\n",
       "      <td>70.502384</td>\n",
       "    </tr>\n",
       "    <tr>\n",
       "      <th>8407</th>\n",
       "      <td>Trolls</td>\n",
       "      <td>46.581142</td>\n",
       "    </tr>\n",
       "    <tr>\n",
       "      <th>3197</th>\n",
       "      <td>Invincible</td>\n",
       "      <td>17.031122</td>\n",
       "    </tr>\n",
       "    <tr>\n",
       "      <th>4264</th>\n",
       "      <td>Righteous Kill</td>\n",
       "      <td>16.288361</td>\n",
       "    </tr>\n",
       "    <tr>\n",
       "      <th>2661</th>\n",
       "      <td>The Pacifier</td>\n",
       "      <td>30.552694</td>\n",
       "    </tr>\n",
       "    <tr>\n",
       "      <th>5868</th>\n",
       "      <td>Just Go with It</td>\n",
       "      <td>30.514732</td>\n",
       "    </tr>\n",
       "    <tr>\n",
       "      <th>5353</th>\n",
       "      <td>Tron: Legacy</td>\n",
       "      <td>44.026211</td>\n",
       "    </tr>\n",
       "  </tbody>\n",
       "</table>\n",
       "</div>"
      ],
      "text/plain": [
       "                 Title  opening_weekend_Gross (in Millions)\n",
       "1600       The Recruit                            16.302063\n",
       "12166        Elemental                            29.602429\n",
       "1059        Scooby-Doo                            54.155312\n",
       "3645      Transformers                            70.502384\n",
       "8407            Trolls                            46.581142\n",
       "3197        Invincible                            17.031122\n",
       "4264    Righteous Kill                            16.288361\n",
       "2661      The Pacifier                            30.552694\n",
       "5868   Just Go with It                            30.514732\n",
       "5353      Tron: Legacy                            44.026211"
      ]
     },
     "execution_count": 199,
     "metadata": {},
     "output_type": "execute_result"
    }
   ],
   "source": [
    "opening_weekend_Gross_outliers[['Title', 'opening_weekend_Gross (in Millions)']].sample(10)"
   ]
  },
  {
   "cell_type": "code",
   "execution_count": 200,
   "id": "83d9f3a1-60a0-4b4f-a190-b5ad12661d8c",
   "metadata": {},
   "outputs": [
    {
     "data": {
      "text/html": [
       "<div>\n",
       "<style scoped>\n",
       "    .dataframe tbody tr th:only-of-type {\n",
       "        vertical-align: middle;\n",
       "    }\n",
       "\n",
       "    .dataframe tbody tr th {\n",
       "        vertical-align: top;\n",
       "    }\n",
       "\n",
       "    .dataframe thead th {\n",
       "        text-align: right;\n",
       "    }\n",
       "</style>\n",
       "<table border=\"1\" class=\"dataframe\">\n",
       "  <thead>\n",
       "    <tr style=\"text-align: right;\">\n",
       "      <th></th>\n",
       "      <th>Title</th>\n",
       "      <th>Year</th>\n",
       "      <th>Duration (in Minutes)</th>\n",
       "      <th>MPA</th>\n",
       "      <th>Rating</th>\n",
       "      <th>Votes</th>\n",
       "      <th>grossWorldWide (in Millions)</th>\n",
       "      <th>gross_US_Canada (in Millions)</th>\n",
       "      <th>opening_weekend_Gross (in Millions)</th>\n",
       "      <th>directors</th>\n",
       "      <th>writers</th>\n",
       "      <th>stars</th>\n",
       "      <th>genres</th>\n",
       "      <th>countries_origin</th>\n",
       "      <th>filming_locations</th>\n",
       "      <th>production_companies</th>\n",
       "      <th>Languages</th>\n",
       "      <th>filming_location_category</th>\n",
       "    </tr>\n",
       "  </thead>\n",
       "  <tbody>\n",
       "    <tr>\n",
       "      <th>9923</th>\n",
       "      <td>Avengers: Endgame</td>\n",
       "      <td>2019</td>\n",
       "      <td>181</td>\n",
       "      <td>PG-13</td>\n",
       "      <td>8.4</td>\n",
       "      <td>1300000.0</td>\n",
       "      <td>2799.4391</td>\n",
       "      <td>858.373</td>\n",
       "      <td>357.115007</td>\n",
       "      <td>[Anthony Russo, Joe Russo]</td>\n",
       "      <td>[Christopher Markus, Stephen McFeely, Stan Lee]</td>\n",
       "      <td>[Robert Downey Jr., Chris Evans, Mark Ruffalo]</td>\n",
       "      <td>[Space Sci-Fi, Superhero, Time Travel, Tragedy...</td>\n",
       "      <td>[United States]</td>\n",
       "      <td>[Durham Cathedral, The College, Durham, County...</td>\n",
       "      <td>[Marvel Studios]</td>\n",
       "      <td>[English, Japanese, Xhosa, German]</td>\n",
       "      <td>Location-Based</td>\n",
       "    </tr>\n",
       "  </tbody>\n",
       "</table>\n",
       "</div>"
      ],
      "text/plain": [
       "                  Title  Year  Duration (in Minutes)    MPA  Rating  \\\n",
       "9923  Avengers: Endgame  2019                    181  PG-13     8.4   \n",
       "\n",
       "          Votes  grossWorldWide (in Millions)  gross_US_Canada (in Millions)  \\\n",
       "9923  1300000.0                     2799.4391                        858.373   \n",
       "\n",
       "      opening_weekend_Gross (in Millions)                   directors  \\\n",
       "9923                           357.115007  [Anthony Russo, Joe Russo]   \n",
       "\n",
       "                                              writers  \\\n",
       "9923  [Christopher Markus, Stephen McFeely, Stan Lee]   \n",
       "\n",
       "                                               stars  \\\n",
       "9923  [Robert Downey Jr., Chris Evans, Mark Ruffalo]   \n",
       "\n",
       "                                                 genres countries_origin  \\\n",
       "9923  [Space Sci-Fi, Superhero, Time Travel, Tragedy...  [United States]   \n",
       "\n",
       "                                      filming_locations production_companies  \\\n",
       "9923  [Durham Cathedral, The College, Durham, County...     [Marvel Studios]   \n",
       "\n",
       "                               Languages filming_location_category  \n",
       "9923  [English, Japanese, Xhosa, German]            Location-Based  "
      ]
     },
     "execution_count": 200,
     "metadata": {},
     "output_type": "execute_result"
    }
   ],
   "source": [
    "df[df['opening_weekend_Gross (in Millions)'] == df['opening_weekend_Gross (in Millions)'].max()]\n",
    "# Note :- We are seeing only maximum values and not minimum values for all the columns as many small independent films contain the minimum values."
   ]
  },
  {
   "cell_type": "markdown",
   "id": "f2f6bf50-2058-4e48-aeae-58691de2a79d",
   "metadata": {},
   "source": [
    "* After cross checking some values, outliers in grossWorldWide (in Millions) column seem to contain actual information"
   ]
  },
  {
   "cell_type": "markdown",
   "id": "2d0262c8-4bc5-4646-a844-c4cf28c65937",
   "metadata": {},
   "source": [
    "# Outlier detection in Duration (in Minutes) column"
   ]
  },
  {
   "cell_type": "code",
   "execution_count": 201,
   "id": "0a53a434-50ff-4c6d-ae13-eb707a7f510a",
   "metadata": {},
   "outputs": [
    {
     "data": {
      "text/plain": [
       "<Axes: xlabel='Duration (in Minutes)', ylabel='Density'>"
      ]
     },
     "execution_count": 201,
     "metadata": {},
     "output_type": "execute_result"
    },
    {
     "data": {
      "image/png": "[encoded data removed]",
      "text/plain": [
       "<Figure size 2000x500 with 1 Axes>"
      ]
     },
     "metadata": {},
     "output_type": "display_data"
    }
   ],
   "source": [
    "plt.figure(figsize = (20, 5))\n",
    "sns.kdeplot(df['Duration (in Minutes)'])"
   ]
  },
  {
   "cell_type": "code",
   "execution_count": 202,
   "id": "5efbdbb2-e0c6-4f8e-9e58-b8c6e2a496cd",
   "metadata": {},
   "outputs": [
    {
     "name": "stdout",
     "output_type": "stream",
     "text": [
      "Percentage of outliers in Duration (in Minutes) column - 4.154749360228812\n"
     ]
    }
   ],
   "source": [
    "# Calculating percentage of outliers in Duration (in Minutes) column\n",
    "q1 = df['Duration (in Minutes)'].quantile(0.25)\n",
    "q3 = df['Duration (in Minutes)'].quantile(0.75)\n",
    "\n",
    "iqr = q3 - q1\n",
    "\n",
    "lower_bound = q1 - 1.5*iqr\n",
    "upper_bound = q3 + 1.5*iqr\n",
    "\n",
    "Duration_outliers = df[(df['Duration (in Minutes)'] < lower_bound) | (df['Duration (in Minutes)'] > upper_bound)]\n",
    "\n",
    "print(\"Percentage of outliers in Duration (in Minutes) column -\", ((len(Duration_outliers) / len(df)) * 100))"
   ]
  },
  {
   "cell_type": "code",
   "execution_count": 203,
   "id": "ed7661c8-a924-4c0d-a2b5-933b660567bb",
   "metadata": {},
   "outputs": [
    {
     "data": {
      "text/html": [
       "<div>\n",
       "<style scoped>\n",
       "    .dataframe tbody tr th:only-of-type {\n",
       "        vertical-align: middle;\n",
       "    }\n",
       "\n",
       "    .dataframe tbody tr th {\n",
       "        vertical-align: top;\n",
       "    }\n",
       "\n",
       "    .dataframe thead th {\n",
       "        text-align: right;\n",
       "    }\n",
       "</style>\n",
       "<table border=\"1\" class=\"dataframe\">\n",
       "  <thead>\n",
       "    <tr style=\"text-align: right;\">\n",
       "      <th></th>\n",
       "      <th>Title</th>\n",
       "      <th>Duration (in Minutes)</th>\n",
       "    </tr>\n",
       "  </thead>\n",
       "  <tbody>\n",
       "    <tr>\n",
       "      <th>4972</th>\n",
       "      <td>A Prophet</td>\n",
       "      <td>155</td>\n",
       "    </tr>\n",
       "    <tr>\n",
       "      <th>1081</th>\n",
       "      <td>Gangs of New York</td>\n",
       "      <td>167</td>\n",
       "    </tr>\n",
       "    <tr>\n",
       "      <th>3816</th>\n",
       "      <td>Lust, Caution</td>\n",
       "      <td>157</td>\n",
       "    </tr>\n",
       "    <tr>\n",
       "      <th>9854</th>\n",
       "      <td>National Theatre Live: Macbeth</td>\n",
       "      <td>210</td>\n",
       "    </tr>\n",
       "    <tr>\n",
       "      <th>8912</th>\n",
       "      <td>Transformers: The Last Knight</td>\n",
       "      <td>154</td>\n",
       "    </tr>\n",
       "    <tr>\n",
       "      <th>416</th>\n",
       "      <td>One Piece: The Movie</td>\n",
       "      <td>51</td>\n",
       "    </tr>\n",
       "    <tr>\n",
       "      <th>11469</th>\n",
       "      <td>Zack Snyder's Justice League</td>\n",
       "      <td>242</td>\n",
       "    </tr>\n",
       "    <tr>\n",
       "      <th>11556</th>\n",
       "      <td>Avatar: The Way of Water</td>\n",
       "      <td>192</td>\n",
       "    </tr>\n",
       "    <tr>\n",
       "      <th>11634</th>\n",
       "      <td>Brahmastra Part One: Shiva</td>\n",
       "      <td>167</td>\n",
       "    </tr>\n",
       "    <tr>\n",
       "      <th>11283</th>\n",
       "      <td>Ennio</td>\n",
       "      <td>150</td>\n",
       "    </tr>\n",
       "  </tbody>\n",
       "</table>\n",
       "</div>"
      ],
      "text/plain": [
       "                                Title  Duration (in Minutes)\n",
       "4972                        A Prophet                    155\n",
       "1081                Gangs of New York                    167\n",
       "3816                    Lust, Caution                    157\n",
       "9854   National Theatre Live: Macbeth                    210\n",
       "8912    Transformers: The Last Knight                    154\n",
       "416              One Piece: The Movie                     51\n",
       "11469    Zack Snyder's Justice League                    242\n",
       "11556        Avatar: The Way of Water                    192\n",
       "11634      Brahmastra Part One: Shiva                    167\n",
       "11283                           Ennio                    150"
      ]
     },
     "execution_count": 203,
     "metadata": {},
     "output_type": "execute_result"
    }
   ],
   "source": [
    "Duration_outliers[['Title', 'Duration (in Minutes)']].sample(10)"
   ]
  },
  {
   "cell_type": "code",
   "execution_count": 204,
   "id": "2f89560e-0efa-4e3c-870f-5f7985990c51",
   "metadata": {},
   "outputs": [
    {
     "data": {
      "text/html": [
       "<div>\n",
       "<style scoped>\n",
       "    .dataframe tbody tr th:only-of-type {\n",
       "        vertical-align: middle;\n",
       "    }\n",
       "\n",
       "    .dataframe tbody tr th {\n",
       "        vertical-align: top;\n",
       "    }\n",
       "\n",
       "    .dataframe thead th {\n",
       "        text-align: right;\n",
       "    }\n",
       "</style>\n",
       "<table border=\"1\" class=\"dataframe\">\n",
       "  <thead>\n",
       "    <tr style=\"text-align: right;\">\n",
       "      <th></th>\n",
       "      <th>Title</th>\n",
       "      <th>Year</th>\n",
       "      <th>Duration (in Minutes)</th>\n",
       "      <th>MPA</th>\n",
       "      <th>Rating</th>\n",
       "      <th>Votes</th>\n",
       "      <th>grossWorldWide (in Millions)</th>\n",
       "      <th>gross_US_Canada (in Millions)</th>\n",
       "      <th>opening_weekend_Gross (in Millions)</th>\n",
       "      <th>directors</th>\n",
       "      <th>writers</th>\n",
       "      <th>stars</th>\n",
       "      <th>genres</th>\n",
       "      <th>countries_origin</th>\n",
       "      <th>filming_locations</th>\n",
       "      <th>production_companies</th>\n",
       "      <th>Languages</th>\n",
       "      <th>filming_location_category</th>\n",
       "    </tr>\n",
       "  </thead>\n",
       "  <tbody>\n",
       "    <tr>\n",
       "      <th>1763</th>\n",
       "      <td>The Cremaster Cycle</td>\n",
       "      <td>2003</td>\n",
       "      <td>398</td>\n",
       "      <td>Not Rated</td>\n",
       "      <td>7.0</td>\n",
       "      <td>307.0</td>\n",
       "      <td>0.673268</td>\n",
       "      <td>0.665861</td>\n",
       "      <td>0.010785</td>\n",
       "      <td>[Matthew Barney]</td>\n",
       "      <td>[Matthew Barney]</td>\n",
       "      <td>[Matthew Barney]</td>\n",
       "      <td>[Drama, Fantasy, Horror, Musical]</td>\n",
       "      <td>[United States]</td>\n",
       "      <td>Unknown</td>\n",
       "      <td>Unknown</td>\n",
       "      <td>[English, Hungarian]</td>\n",
       "      <td>Location-Based</td>\n",
       "    </tr>\n",
       "  </tbody>\n",
       "</table>\n",
       "</div>"
      ],
      "text/plain": [
       "                    Title  Year  Duration (in Minutes)        MPA  Rating  \\\n",
       "1763  The Cremaster Cycle  2003                    398  Not Rated     7.0   \n",
       "\n",
       "      Votes  grossWorldWide (in Millions)  gross_US_Canada (in Millions)  \\\n",
       "1763  307.0                      0.673268                       0.665861   \n",
       "\n",
       "      opening_weekend_Gross (in Millions)         directors           writers  \\\n",
       "1763                             0.010785  [Matthew Barney]  [Matthew Barney]   \n",
       "\n",
       "                 stars                             genres countries_origin  \\\n",
       "1763  [Matthew Barney]  [Drama, Fantasy, Horror, Musical]  [United States]   \n",
       "\n",
       "     filming_locations production_companies             Languages  \\\n",
       "1763           Unknown              Unknown  [English, Hungarian]   \n",
       "\n",
       "     filming_location_category  \n",
       "1763            Location-Based  "
      ]
     },
     "execution_count": 204,
     "metadata": {},
     "output_type": "execute_result"
    }
   ],
   "source": [
    "df[df['Duration (in Minutes)'] == df['Duration (in Minutes)'].max()]"
   ]
  },
  {
   "cell_type": "markdown",
   "id": "dd17e3ac-0212-4513-b1b9-3f679427a5f8",
   "metadata": {},
   "source": [
    "* After cross checking some values, outliers in Duration (in Minutes) column seem to contain actual information"
   ]
  },
  {
   "cell_type": "code",
   "execution_count": 206,
   "id": "c7de8848-6fb2-495a-8199-1ebb0730658f",
   "metadata": {},
   "outputs": [],
   "source": [
    "# Exporting the cleaned dataset\n",
    "# df.to_csv(\"movies_cleaned.csv\")"
   ]
  },
  {
   "cell_type": "code",
   "execution_count": null,
   "id": "594872d3-d34d-4491-9ac6-7e8d4514e92c",
   "metadata": {},
   "outputs": [],
   "source": []
  }
 ],
 "metadata": {
  "kernelspec": {
   "display_name": "Python 3 (ipykernel)",
   "language": "python",
   "name": "python3"
  },
  "language_info": {
   "codemirror_mode": {
    "name": "ipython",
    "version": 3
   },
   "file_extension": ".py",
   "mimetype": "text/x-python",
   "name": "python",
   "nbconvert_exporter": "python",
   "pygments_lexer": "ipython3",
   "version": "3.12.7"
  }
 },
 "nbformat": 4,
 "nbformat_minor": 5
}
